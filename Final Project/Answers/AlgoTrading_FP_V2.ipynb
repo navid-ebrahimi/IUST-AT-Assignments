{
  "nbformat": 4,
  "nbformat_minor": 0,
  "metadata": {
    "colab": {
      "provenance": []
    },
    "kernelspec": {
      "name": "python3",
      "display_name": "Python 3"
    },
    "language_info": {
      "name": "python"
    }
  },
  "cells": [
    {
      "cell_type": "markdown",
      "source": [
        "# **Part 1**"
      ],
      "metadata": {
        "id": "TkPphqmKojN3"
      }
    },
    {
      "cell_type": "markdown",
      "source": [
        "## Import Libraries"
      ],
      "metadata": {
        "id": "Q1lTvu8IksVR"
      }
    },
    {
      "cell_type": "code",
      "source": [
        "import pandas as pd\n",
        "import numpy as np\n",
        "from scipy.optimize import minimize # the minimize method to find the optimum weights for the portfolio\n",
        "import yfinance as yf"
      ],
      "metadata": {
        "id": "WjXdCfPlpCVJ"
      },
      "execution_count": null,
      "outputs": []
    },
    {
      "cell_type": "markdown",
      "source": [
        "## Fetch Crypto Data"
      ],
      "metadata": {
        "id": "lapO56polbPy"
      }
    },
    {
      "cell_type": "code",
      "source": [
        "# Step 1: Get Historical Data for Cryptocurrencies\n",
        "# Choose four cryptocurrencies of your choice\n",
        "tickers = ['BTC-USD', 'ETH-USD', 'XRP-USD', 'LTC-USD']"
      ],
      "metadata": {
        "id": "9xmyJT_spEiv"
      },
      "execution_count": null,
      "outputs": []
    },
    {
      "cell_type": "code",
      "source": [
        "# Define the time frame\n",
        "start_date = '2022-11-01'\n",
        "end_date = '2023-11-01'"
      ],
      "metadata": {
        "id": "jqKEt9cKpGfO"
      },
      "execution_count": null,
      "outputs": []
    },
    {
      "cell_type": "code",
      "source": [
        "# Download historical data\n",
        "data = yf.download(tickers, start=start_date, end=end_date)['Adj Close']\n",
        "data, type(data)"
      ],
      "metadata": {
        "colab": {
          "base_uri": "https://localhost:8080/"
        },
        "id": "nQC2cx7SpIzC",
        "outputId": "2cd441b3-6811-449b-fbf3-c4243dbd83ff"
      },
      "execution_count": null,
      "outputs": [
        {
          "output_type": "stream",
          "name": "stderr",
          "text": [
            "[*********************100%%**********************]  4 of 4 completed\n"
          ]
        },
        {
          "output_type": "execute_result",
          "data": {
            "text/plain": [
              "(Ticker           BTC-USD      ETH-USD    LTC-USD   XRP-USD\n",
              " Date                                                      \n",
              " 2022-11-01  20485.273438  1579.704590  55.127190  0.464577\n",
              " 2022-11-02  20159.503906  1519.711792  60.558468  0.450874\n",
              " 2022-11-03  20209.988281  1531.541748  61.921314  0.455135\n",
              " 2022-11-04  21147.230469  1645.093384  67.596596  0.504404\n",
              " 2022-11-05  21282.691406  1627.968018  69.721199  0.493330\n",
              " ...                  ...          ...        ...       ...\n",
              " 2023-10-27  33909.800781  1780.045288  67.055794  0.546107\n",
              " 2023-10-28  34089.574219  1776.618164  67.782776  0.545391\n",
              " 2023-10-29  34538.480469  1795.546021  68.800842  0.556394\n",
              " 2023-10-30  34502.363281  1810.088623  69.250839  0.578944\n",
              " 2023-10-31  34667.781250  1816.458984  68.949562  0.600282\n",
              " \n",
              " [365 rows x 4 columns],\n",
              " pandas.core.frame.DataFrame)"
            ]
          },
          "metadata": {},
          "execution_count": 314
        }
      ]
    },
    {
      "cell_type": "markdown",
      "source": [
        "## Define Initial Cap and Random Weights"
      ],
      "metadata": {
        "id": "Bd2NqBbXlfTu"
      }
    },
    {
      "cell_type": "code",
      "source": [
        "# Step 2: Define Initial Capital and Coefficients\n",
        "initial_capital = 1000\n",
        "coefficients = np.array([0.4, 0.18, 0.27, 0.15])  # Sum of coefficients must be equal to 1"
      ],
      "metadata": {
        "id": "XvI_V_35qLjq"
      },
      "execution_count": null,
      "outputs": []
    },
    {
      "cell_type": "code",
      "source": [
        "assert round(sum(coefficients)) == 1, \"The sum of coefficients must be equal to one.\"\n",
        "assert all(value > 0 for value in coefficients), \"All values are greater than 0.\""
      ],
      "metadata": {
        "id": "uUKN6rMJl8Rk"
      },
      "execution_count": null,
      "outputs": []
    },
    {
      "cell_type": "markdown",
      "source": [
        "## The Buy and Hold Strategy Implementation"
      ],
      "metadata": {
        "id": "Ekss32r8lzqx"
      }
    },
    {
      "cell_type": "code",
      "execution_count": null,
      "metadata": {
        "id": "ljiLH28ti1OH"
      },
      "outputs": [],
      "source": [
        "def buy_and_hold_strategy_backtest(asset_returns, initial_cap=1000):\n",
        "  account_balance = initial_cap\n",
        "  cumulative_return = (1 + asset_returns).cumprod()\n",
        "  account_balance *= cumulative_return\n",
        "\n",
        "  return account_balance"
      ]
    },
    {
      "cell_type": "code",
      "source": [
        "# Step 2: Calculate Daily Returns\n",
        "close_data = data.copy()\n",
        "data = data.pct_change().dropna()\n",
        "data"
      ],
      "metadata": {
        "colab": {
          "base_uri": "https://localhost:8080/",
          "height": 455
        },
        "id": "srinzXAUuAdT",
        "outputId": "f74725d9-705d-4794-ceca-a4ead7bc12d6"
      },
      "execution_count": null,
      "outputs": [
        {
          "output_type": "execute_result",
          "data": {
            "text/plain": [
              "Ticker       BTC-USD   ETH-USD   LTC-USD   XRP-USD\n",
              "Date                                              \n",
              "2022-11-02 -0.015903 -0.037977  0.098523 -0.029496\n",
              "2022-11-03  0.002504  0.007784  0.022505  0.009451\n",
              "2022-11-04  0.046375  0.074142  0.091653  0.108251\n",
              "2022-11-05  0.006406 -0.010410  0.031431 -0.021955\n",
              "2022-11-06 -0.016737 -0.034235 -0.023453 -0.045933\n",
              "...              ...       ...       ...       ...\n",
              "2023-10-27 -0.007227 -0.013300 -0.026122 -0.013683\n",
              "2023-10-28  0.005302 -0.001925  0.010841 -0.001311\n",
              "2023-10-29  0.013168  0.010654  0.015020  0.020174\n",
              "2023-10-30 -0.001046  0.008099  0.006541  0.040529\n",
              "2023-10-31  0.004794  0.003519 -0.004351  0.036857\n",
              "\n",
              "[364 rows x 4 columns]"
            ],
            "text/html": [
              "\n",
              "  <div id=\"df-90cfab51-906a-4835-b672-b33d2a45b49a\" class=\"colab-df-container\">\n",
              "    <div>\n",
              "<style scoped>\n",
              "    .dataframe tbody tr th:only-of-type {\n",
              "        vertical-align: middle;\n",
              "    }\n",
              "\n",
              "    .dataframe tbody tr th {\n",
              "        vertical-align: top;\n",
              "    }\n",
              "\n",
              "    .dataframe thead th {\n",
              "        text-align: right;\n",
              "    }\n",
              "</style>\n",
              "<table border=\"1\" class=\"dataframe\">\n",
              "  <thead>\n",
              "    <tr style=\"text-align: right;\">\n",
              "      <th>Ticker</th>\n",
              "      <th>BTC-USD</th>\n",
              "      <th>ETH-USD</th>\n",
              "      <th>LTC-USD</th>\n",
              "      <th>XRP-USD</th>\n",
              "    </tr>\n",
              "    <tr>\n",
              "      <th>Date</th>\n",
              "      <th></th>\n",
              "      <th></th>\n",
              "      <th></th>\n",
              "      <th></th>\n",
              "    </tr>\n",
              "  </thead>\n",
              "  <tbody>\n",
              "    <tr>\n",
              "      <th>2022-11-02</th>\n",
              "      <td>-0.015903</td>\n",
              "      <td>-0.037977</td>\n",
              "      <td>0.098523</td>\n",
              "      <td>-0.029496</td>\n",
              "    </tr>\n",
              "    <tr>\n",
              "      <th>2022-11-03</th>\n",
              "      <td>0.002504</td>\n",
              "      <td>0.007784</td>\n",
              "      <td>0.022505</td>\n",
              "      <td>0.009451</td>\n",
              "    </tr>\n",
              "    <tr>\n",
              "      <th>2022-11-04</th>\n",
              "      <td>0.046375</td>\n",
              "      <td>0.074142</td>\n",
              "      <td>0.091653</td>\n",
              "      <td>0.108251</td>\n",
              "    </tr>\n",
              "    <tr>\n",
              "      <th>2022-11-05</th>\n",
              "      <td>0.006406</td>\n",
              "      <td>-0.010410</td>\n",
              "      <td>0.031431</td>\n",
              "      <td>-0.021955</td>\n",
              "    </tr>\n",
              "    <tr>\n",
              "      <th>2022-11-06</th>\n",
              "      <td>-0.016737</td>\n",
              "      <td>-0.034235</td>\n",
              "      <td>-0.023453</td>\n",
              "      <td>-0.045933</td>\n",
              "    </tr>\n",
              "    <tr>\n",
              "      <th>...</th>\n",
              "      <td>...</td>\n",
              "      <td>...</td>\n",
              "      <td>...</td>\n",
              "      <td>...</td>\n",
              "    </tr>\n",
              "    <tr>\n",
              "      <th>2023-10-27</th>\n",
              "      <td>-0.007227</td>\n",
              "      <td>-0.013300</td>\n",
              "      <td>-0.026122</td>\n",
              "      <td>-0.013683</td>\n",
              "    </tr>\n",
              "    <tr>\n",
              "      <th>2023-10-28</th>\n",
              "      <td>0.005302</td>\n",
              "      <td>-0.001925</td>\n",
              "      <td>0.010841</td>\n",
              "      <td>-0.001311</td>\n",
              "    </tr>\n",
              "    <tr>\n",
              "      <th>2023-10-29</th>\n",
              "      <td>0.013168</td>\n",
              "      <td>0.010654</td>\n",
              "      <td>0.015020</td>\n",
              "      <td>0.020174</td>\n",
              "    </tr>\n",
              "    <tr>\n",
              "      <th>2023-10-30</th>\n",
              "      <td>-0.001046</td>\n",
              "      <td>0.008099</td>\n",
              "      <td>0.006541</td>\n",
              "      <td>0.040529</td>\n",
              "    </tr>\n",
              "    <tr>\n",
              "      <th>2023-10-31</th>\n",
              "      <td>0.004794</td>\n",
              "      <td>0.003519</td>\n",
              "      <td>-0.004351</td>\n",
              "      <td>0.036857</td>\n",
              "    </tr>\n",
              "  </tbody>\n",
              "</table>\n",
              "<p>364 rows × 4 columns</p>\n",
              "</div>\n",
              "    <div class=\"colab-df-buttons\">\n",
              "\n",
              "  <div class=\"colab-df-container\">\n",
              "    <button class=\"colab-df-convert\" onclick=\"convertToInteractive('df-90cfab51-906a-4835-b672-b33d2a45b49a')\"\n",
              "            title=\"Convert this dataframe to an interactive table.\"\n",
              "            style=\"display:none;\">\n",
              "\n",
              "  <svg xmlns=\"http://www.w3.org/2000/svg\" height=\"24px\" viewBox=\"0 -960 960 960\">\n",
              "    <path d=\"M120-120v-720h720v720H120Zm60-500h600v-160H180v160Zm220 220h160v-160H400v160Zm0 220h160v-160H400v160ZM180-400h160v-160H180v160Zm440 0h160v-160H620v160ZM180-180h160v-160H180v160Zm440 0h160v-160H620v160Z\"/>\n",
              "  </svg>\n",
              "    </button>\n",
              "\n",
              "  <style>\n",
              "    .colab-df-container {\n",
              "      display:flex;\n",
              "      gap: 12px;\n",
              "    }\n",
              "\n",
              "    .colab-df-convert {\n",
              "      background-color: #E8F0FE;\n",
              "      border: none;\n",
              "      border-radius: 50%;\n",
              "      cursor: pointer;\n",
              "      display: none;\n",
              "      fill: #1967D2;\n",
              "      height: 32px;\n",
              "      padding: 0 0 0 0;\n",
              "      width: 32px;\n",
              "    }\n",
              "\n",
              "    .colab-df-convert:hover {\n",
              "      background-color: #E2EBFA;\n",
              "      box-shadow: 0px 1px 2px rgba(60, 64, 67, 0.3), 0px 1px 3px 1px rgba(60, 64, 67, 0.15);\n",
              "      fill: #174EA6;\n",
              "    }\n",
              "\n",
              "    .colab-df-buttons div {\n",
              "      margin-bottom: 4px;\n",
              "    }\n",
              "\n",
              "    [theme=dark] .colab-df-convert {\n",
              "      background-color: #3B4455;\n",
              "      fill: #D2E3FC;\n",
              "    }\n",
              "\n",
              "    [theme=dark] .colab-df-convert:hover {\n",
              "      background-color: #434B5C;\n",
              "      box-shadow: 0px 1px 3px 1px rgba(0, 0, 0, 0.15);\n",
              "      filter: drop-shadow(0px 1px 2px rgba(0, 0, 0, 0.3));\n",
              "      fill: #FFFFFF;\n",
              "    }\n",
              "  </style>\n",
              "\n",
              "    <script>\n",
              "      const buttonEl =\n",
              "        document.querySelector('#df-90cfab51-906a-4835-b672-b33d2a45b49a button.colab-df-convert');\n",
              "      buttonEl.style.display =\n",
              "        google.colab.kernel.accessAllowed ? 'block' : 'none';\n",
              "\n",
              "      async function convertToInteractive(key) {\n",
              "        const element = document.querySelector('#df-90cfab51-906a-4835-b672-b33d2a45b49a');\n",
              "        const dataTable =\n",
              "          await google.colab.kernel.invokeFunction('convertToInteractive',\n",
              "                                                    [key], {});\n",
              "        if (!dataTable) return;\n",
              "\n",
              "        const docLinkHtml = 'Like what you see? Visit the ' +\n",
              "          '<a target=\"_blank\" href=https://colab.research.google.com/notebooks/data_table.ipynb>data table notebook</a>'\n",
              "          + ' to learn more about interactive tables.';\n",
              "        element.innerHTML = '';\n",
              "        dataTable['output_type'] = 'display_data';\n",
              "        await google.colab.output.renderOutput(dataTable, element);\n",
              "        const docLink = document.createElement('div');\n",
              "        docLink.innerHTML = docLinkHtml;\n",
              "        element.appendChild(docLink);\n",
              "      }\n",
              "    </script>\n",
              "  </div>\n",
              "\n",
              "\n",
              "<div id=\"df-97e2d709-a369-41d0-a2f3-27f5dd2a78aa\">\n",
              "  <button class=\"colab-df-quickchart\" onclick=\"quickchart('df-97e2d709-a369-41d0-a2f3-27f5dd2a78aa')\"\n",
              "            title=\"Suggest charts\"\n",
              "            style=\"display:none;\">\n",
              "\n",
              "<svg xmlns=\"http://www.w3.org/2000/svg\" height=\"24px\"viewBox=\"0 0 24 24\"\n",
              "     width=\"24px\">\n",
              "    <g>\n",
              "        <path d=\"M19 3H5c-1.1 0-2 .9-2 2v14c0 1.1.9 2 2 2h14c1.1 0 2-.9 2-2V5c0-1.1-.9-2-2-2zM9 17H7v-7h2v7zm4 0h-2V7h2v10zm4 0h-2v-4h2v4z\"/>\n",
              "    </g>\n",
              "</svg>\n",
              "  </button>\n",
              "\n",
              "<style>\n",
              "  .colab-df-quickchart {\n",
              "      --bg-color: #E8F0FE;\n",
              "      --fill-color: #1967D2;\n",
              "      --hover-bg-color: #E2EBFA;\n",
              "      --hover-fill-color: #174EA6;\n",
              "      --disabled-fill-color: #AAA;\n",
              "      --disabled-bg-color: #DDD;\n",
              "  }\n",
              "\n",
              "  [theme=dark] .colab-df-quickchart {\n",
              "      --bg-color: #3B4455;\n",
              "      --fill-color: #D2E3FC;\n",
              "      --hover-bg-color: #434B5C;\n",
              "      --hover-fill-color: #FFFFFF;\n",
              "      --disabled-bg-color: #3B4455;\n",
              "      --disabled-fill-color: #666;\n",
              "  }\n",
              "\n",
              "  .colab-df-quickchart {\n",
              "    background-color: var(--bg-color);\n",
              "    border: none;\n",
              "    border-radius: 50%;\n",
              "    cursor: pointer;\n",
              "    display: none;\n",
              "    fill: var(--fill-color);\n",
              "    height: 32px;\n",
              "    padding: 0;\n",
              "    width: 32px;\n",
              "  }\n",
              "\n",
              "  .colab-df-quickchart:hover {\n",
              "    background-color: var(--hover-bg-color);\n",
              "    box-shadow: 0 1px 2px rgba(60, 64, 67, 0.3), 0 1px 3px 1px rgba(60, 64, 67, 0.15);\n",
              "    fill: var(--button-hover-fill-color);\n",
              "  }\n",
              "\n",
              "  .colab-df-quickchart-complete:disabled,\n",
              "  .colab-df-quickchart-complete:disabled:hover {\n",
              "    background-color: var(--disabled-bg-color);\n",
              "    fill: var(--disabled-fill-color);\n",
              "    box-shadow: none;\n",
              "  }\n",
              "\n",
              "  .colab-df-spinner {\n",
              "    border: 2px solid var(--fill-color);\n",
              "    border-color: transparent;\n",
              "    border-bottom-color: var(--fill-color);\n",
              "    animation:\n",
              "      spin 1s steps(1) infinite;\n",
              "  }\n",
              "\n",
              "  @keyframes spin {\n",
              "    0% {\n",
              "      border-color: transparent;\n",
              "      border-bottom-color: var(--fill-color);\n",
              "      border-left-color: var(--fill-color);\n",
              "    }\n",
              "    20% {\n",
              "      border-color: transparent;\n",
              "      border-left-color: var(--fill-color);\n",
              "      border-top-color: var(--fill-color);\n",
              "    }\n",
              "    30% {\n",
              "      border-color: transparent;\n",
              "      border-left-color: var(--fill-color);\n",
              "      border-top-color: var(--fill-color);\n",
              "      border-right-color: var(--fill-color);\n",
              "    }\n",
              "    40% {\n",
              "      border-color: transparent;\n",
              "      border-right-color: var(--fill-color);\n",
              "      border-top-color: var(--fill-color);\n",
              "    }\n",
              "    60% {\n",
              "      border-color: transparent;\n",
              "      border-right-color: var(--fill-color);\n",
              "    }\n",
              "    80% {\n",
              "      border-color: transparent;\n",
              "      border-right-color: var(--fill-color);\n",
              "      border-bottom-color: var(--fill-color);\n",
              "    }\n",
              "    90% {\n",
              "      border-color: transparent;\n",
              "      border-bottom-color: var(--fill-color);\n",
              "    }\n",
              "  }\n",
              "</style>\n",
              "\n",
              "  <script>\n",
              "    async function quickchart(key) {\n",
              "      const quickchartButtonEl =\n",
              "        document.querySelector('#' + key + ' button');\n",
              "      quickchartButtonEl.disabled = true;  // To prevent multiple clicks.\n",
              "      quickchartButtonEl.classList.add('colab-df-spinner');\n",
              "      try {\n",
              "        const charts = await google.colab.kernel.invokeFunction(\n",
              "            'suggestCharts', [key], {});\n",
              "      } catch (error) {\n",
              "        console.error('Error during call to suggestCharts:', error);\n",
              "      }\n",
              "      quickchartButtonEl.classList.remove('colab-df-spinner');\n",
              "      quickchartButtonEl.classList.add('colab-df-quickchart-complete');\n",
              "    }\n",
              "    (() => {\n",
              "      let quickchartButtonEl =\n",
              "        document.querySelector('#df-97e2d709-a369-41d0-a2f3-27f5dd2a78aa button');\n",
              "      quickchartButtonEl.style.display =\n",
              "        google.colab.kernel.accessAllowed ? 'block' : 'none';\n",
              "    })();\n",
              "  </script>\n",
              "</div>\n",
              "    </div>\n",
              "  </div>\n"
            ]
          },
          "metadata": {},
          "execution_count": 318
        }
      ]
    },
    {
      "cell_type": "code",
      "source": [
        "close_data"
      ],
      "metadata": {
        "colab": {
          "base_uri": "https://localhost:8080/",
          "height": 455
        },
        "id": "rYL1Q_WoyhOn",
        "outputId": "d7edd8cd-862b-4218-9be8-7786be81cb91"
      },
      "execution_count": null,
      "outputs": [
        {
          "output_type": "execute_result",
          "data": {
            "text/plain": [
              "Ticker           BTC-USD      ETH-USD    LTC-USD   XRP-USD\n",
              "Date                                                      \n",
              "2022-11-01  20485.273438  1579.704590  55.127190  0.464577\n",
              "2022-11-02  20159.503906  1519.711792  60.558468  0.450874\n",
              "2022-11-03  20209.988281  1531.541748  61.921314  0.455135\n",
              "2022-11-04  21147.230469  1645.093384  67.596596  0.504404\n",
              "2022-11-05  21282.691406  1627.968018  69.721199  0.493330\n",
              "...                  ...          ...        ...       ...\n",
              "2023-10-27  33909.800781  1780.045288  67.055794  0.546107\n",
              "2023-10-28  34089.574219  1776.618164  67.782776  0.545391\n",
              "2023-10-29  34538.480469  1795.546021  68.800842  0.556394\n",
              "2023-10-30  34502.363281  1810.088623  69.250839  0.578944\n",
              "2023-10-31  34667.781250  1816.458984  68.949562  0.600282\n",
              "\n",
              "[365 rows x 4 columns]"
            ],
            "text/html": [
              "\n",
              "  <div id=\"df-65175a1f-aa57-4bc9-b1d0-d06e0c097b56\" class=\"colab-df-container\">\n",
              "    <div>\n",
              "<style scoped>\n",
              "    .dataframe tbody tr th:only-of-type {\n",
              "        vertical-align: middle;\n",
              "    }\n",
              "\n",
              "    .dataframe tbody tr th {\n",
              "        vertical-align: top;\n",
              "    }\n",
              "\n",
              "    .dataframe thead th {\n",
              "        text-align: right;\n",
              "    }\n",
              "</style>\n",
              "<table border=\"1\" class=\"dataframe\">\n",
              "  <thead>\n",
              "    <tr style=\"text-align: right;\">\n",
              "      <th>Ticker</th>\n",
              "      <th>BTC-USD</th>\n",
              "      <th>ETH-USD</th>\n",
              "      <th>LTC-USD</th>\n",
              "      <th>XRP-USD</th>\n",
              "    </tr>\n",
              "    <tr>\n",
              "      <th>Date</th>\n",
              "      <th></th>\n",
              "      <th></th>\n",
              "      <th></th>\n",
              "      <th></th>\n",
              "    </tr>\n",
              "  </thead>\n",
              "  <tbody>\n",
              "    <tr>\n",
              "      <th>2022-11-01</th>\n",
              "      <td>20485.273438</td>\n",
              "      <td>1579.704590</td>\n",
              "      <td>55.127190</td>\n",
              "      <td>0.464577</td>\n",
              "    </tr>\n",
              "    <tr>\n",
              "      <th>2022-11-02</th>\n",
              "      <td>20159.503906</td>\n",
              "      <td>1519.711792</td>\n",
              "      <td>60.558468</td>\n",
              "      <td>0.450874</td>\n",
              "    </tr>\n",
              "    <tr>\n",
              "      <th>2022-11-03</th>\n",
              "      <td>20209.988281</td>\n",
              "      <td>1531.541748</td>\n",
              "      <td>61.921314</td>\n",
              "      <td>0.455135</td>\n",
              "    </tr>\n",
              "    <tr>\n",
              "      <th>2022-11-04</th>\n",
              "      <td>21147.230469</td>\n",
              "      <td>1645.093384</td>\n",
              "      <td>67.596596</td>\n",
              "      <td>0.504404</td>\n",
              "    </tr>\n",
              "    <tr>\n",
              "      <th>2022-11-05</th>\n",
              "      <td>21282.691406</td>\n",
              "      <td>1627.968018</td>\n",
              "      <td>69.721199</td>\n",
              "      <td>0.493330</td>\n",
              "    </tr>\n",
              "    <tr>\n",
              "      <th>...</th>\n",
              "      <td>...</td>\n",
              "      <td>...</td>\n",
              "      <td>...</td>\n",
              "      <td>...</td>\n",
              "    </tr>\n",
              "    <tr>\n",
              "      <th>2023-10-27</th>\n",
              "      <td>33909.800781</td>\n",
              "      <td>1780.045288</td>\n",
              "      <td>67.055794</td>\n",
              "      <td>0.546107</td>\n",
              "    </tr>\n",
              "    <tr>\n",
              "      <th>2023-10-28</th>\n",
              "      <td>34089.574219</td>\n",
              "      <td>1776.618164</td>\n",
              "      <td>67.782776</td>\n",
              "      <td>0.545391</td>\n",
              "    </tr>\n",
              "    <tr>\n",
              "      <th>2023-10-29</th>\n",
              "      <td>34538.480469</td>\n",
              "      <td>1795.546021</td>\n",
              "      <td>68.800842</td>\n",
              "      <td>0.556394</td>\n",
              "    </tr>\n",
              "    <tr>\n",
              "      <th>2023-10-30</th>\n",
              "      <td>34502.363281</td>\n",
              "      <td>1810.088623</td>\n",
              "      <td>69.250839</td>\n",
              "      <td>0.578944</td>\n",
              "    </tr>\n",
              "    <tr>\n",
              "      <th>2023-10-31</th>\n",
              "      <td>34667.781250</td>\n",
              "      <td>1816.458984</td>\n",
              "      <td>68.949562</td>\n",
              "      <td>0.600282</td>\n",
              "    </tr>\n",
              "  </tbody>\n",
              "</table>\n",
              "<p>365 rows × 4 columns</p>\n",
              "</div>\n",
              "    <div class=\"colab-df-buttons\">\n",
              "\n",
              "  <div class=\"colab-df-container\">\n",
              "    <button class=\"colab-df-convert\" onclick=\"convertToInteractive('df-65175a1f-aa57-4bc9-b1d0-d06e0c097b56')\"\n",
              "            title=\"Convert this dataframe to an interactive table.\"\n",
              "            style=\"display:none;\">\n",
              "\n",
              "  <svg xmlns=\"http://www.w3.org/2000/svg\" height=\"24px\" viewBox=\"0 -960 960 960\">\n",
              "    <path d=\"M120-120v-720h720v720H120Zm60-500h600v-160H180v160Zm220 220h160v-160H400v160Zm0 220h160v-160H400v160ZM180-400h160v-160H180v160Zm440 0h160v-160H620v160ZM180-180h160v-160H180v160Zm440 0h160v-160H620v160Z\"/>\n",
              "  </svg>\n",
              "    </button>\n",
              "\n",
              "  <style>\n",
              "    .colab-df-container {\n",
              "      display:flex;\n",
              "      gap: 12px;\n",
              "    }\n",
              "\n",
              "    .colab-df-convert {\n",
              "      background-color: #E8F0FE;\n",
              "      border: none;\n",
              "      border-radius: 50%;\n",
              "      cursor: pointer;\n",
              "      display: none;\n",
              "      fill: #1967D2;\n",
              "      height: 32px;\n",
              "      padding: 0 0 0 0;\n",
              "      width: 32px;\n",
              "    }\n",
              "\n",
              "    .colab-df-convert:hover {\n",
              "      background-color: #E2EBFA;\n",
              "      box-shadow: 0px 1px 2px rgba(60, 64, 67, 0.3), 0px 1px 3px 1px rgba(60, 64, 67, 0.15);\n",
              "      fill: #174EA6;\n",
              "    }\n",
              "\n",
              "    .colab-df-buttons div {\n",
              "      margin-bottom: 4px;\n",
              "    }\n",
              "\n",
              "    [theme=dark] .colab-df-convert {\n",
              "      background-color: #3B4455;\n",
              "      fill: #D2E3FC;\n",
              "    }\n",
              "\n",
              "    [theme=dark] .colab-df-convert:hover {\n",
              "      background-color: #434B5C;\n",
              "      box-shadow: 0px 1px 3px 1px rgba(0, 0, 0, 0.15);\n",
              "      filter: drop-shadow(0px 1px 2px rgba(0, 0, 0, 0.3));\n",
              "      fill: #FFFFFF;\n",
              "    }\n",
              "  </style>\n",
              "\n",
              "    <script>\n",
              "      const buttonEl =\n",
              "        document.querySelector('#df-65175a1f-aa57-4bc9-b1d0-d06e0c097b56 button.colab-df-convert');\n",
              "      buttonEl.style.display =\n",
              "        google.colab.kernel.accessAllowed ? 'block' : 'none';\n",
              "\n",
              "      async function convertToInteractive(key) {\n",
              "        const element = document.querySelector('#df-65175a1f-aa57-4bc9-b1d0-d06e0c097b56');\n",
              "        const dataTable =\n",
              "          await google.colab.kernel.invokeFunction('convertToInteractive',\n",
              "                                                    [key], {});\n",
              "        if (!dataTable) return;\n",
              "\n",
              "        const docLinkHtml = 'Like what you see? Visit the ' +\n",
              "          '<a target=\"_blank\" href=https://colab.research.google.com/notebooks/data_table.ipynb>data table notebook</a>'\n",
              "          + ' to learn more about interactive tables.';\n",
              "        element.innerHTML = '';\n",
              "        dataTable['output_type'] = 'display_data';\n",
              "        await google.colab.output.renderOutput(dataTable, element);\n",
              "        const docLink = document.createElement('div');\n",
              "        docLink.innerHTML = docLinkHtml;\n",
              "        element.appendChild(docLink);\n",
              "      }\n",
              "    </script>\n",
              "  </div>\n",
              "\n",
              "\n",
              "<div id=\"df-722c0125-402f-4a2d-afc6-6b3fdc717888\">\n",
              "  <button class=\"colab-df-quickchart\" onclick=\"quickchart('df-722c0125-402f-4a2d-afc6-6b3fdc717888')\"\n",
              "            title=\"Suggest charts\"\n",
              "            style=\"display:none;\">\n",
              "\n",
              "<svg xmlns=\"http://www.w3.org/2000/svg\" height=\"24px\"viewBox=\"0 0 24 24\"\n",
              "     width=\"24px\">\n",
              "    <g>\n",
              "        <path d=\"M19 3H5c-1.1 0-2 .9-2 2v14c0 1.1.9 2 2 2h14c1.1 0 2-.9 2-2V5c0-1.1-.9-2-2-2zM9 17H7v-7h2v7zm4 0h-2V7h2v10zm4 0h-2v-4h2v4z\"/>\n",
              "    </g>\n",
              "</svg>\n",
              "  </button>\n",
              "\n",
              "<style>\n",
              "  .colab-df-quickchart {\n",
              "      --bg-color: #E8F0FE;\n",
              "      --fill-color: #1967D2;\n",
              "      --hover-bg-color: #E2EBFA;\n",
              "      --hover-fill-color: #174EA6;\n",
              "      --disabled-fill-color: #AAA;\n",
              "      --disabled-bg-color: #DDD;\n",
              "  }\n",
              "\n",
              "  [theme=dark] .colab-df-quickchart {\n",
              "      --bg-color: #3B4455;\n",
              "      --fill-color: #D2E3FC;\n",
              "      --hover-bg-color: #434B5C;\n",
              "      --hover-fill-color: #FFFFFF;\n",
              "      --disabled-bg-color: #3B4455;\n",
              "      --disabled-fill-color: #666;\n",
              "  }\n",
              "\n",
              "  .colab-df-quickchart {\n",
              "    background-color: var(--bg-color);\n",
              "    border: none;\n",
              "    border-radius: 50%;\n",
              "    cursor: pointer;\n",
              "    display: none;\n",
              "    fill: var(--fill-color);\n",
              "    height: 32px;\n",
              "    padding: 0;\n",
              "    width: 32px;\n",
              "  }\n",
              "\n",
              "  .colab-df-quickchart:hover {\n",
              "    background-color: var(--hover-bg-color);\n",
              "    box-shadow: 0 1px 2px rgba(60, 64, 67, 0.3), 0 1px 3px 1px rgba(60, 64, 67, 0.15);\n",
              "    fill: var(--button-hover-fill-color);\n",
              "  }\n",
              "\n",
              "  .colab-df-quickchart-complete:disabled,\n",
              "  .colab-df-quickchart-complete:disabled:hover {\n",
              "    background-color: var(--disabled-bg-color);\n",
              "    fill: var(--disabled-fill-color);\n",
              "    box-shadow: none;\n",
              "  }\n",
              "\n",
              "  .colab-df-spinner {\n",
              "    border: 2px solid var(--fill-color);\n",
              "    border-color: transparent;\n",
              "    border-bottom-color: var(--fill-color);\n",
              "    animation:\n",
              "      spin 1s steps(1) infinite;\n",
              "  }\n",
              "\n",
              "  @keyframes spin {\n",
              "    0% {\n",
              "      border-color: transparent;\n",
              "      border-bottom-color: var(--fill-color);\n",
              "      border-left-color: var(--fill-color);\n",
              "    }\n",
              "    20% {\n",
              "      border-color: transparent;\n",
              "      border-left-color: var(--fill-color);\n",
              "      border-top-color: var(--fill-color);\n",
              "    }\n",
              "    30% {\n",
              "      border-color: transparent;\n",
              "      border-left-color: var(--fill-color);\n",
              "      border-top-color: var(--fill-color);\n",
              "      border-right-color: var(--fill-color);\n",
              "    }\n",
              "    40% {\n",
              "      border-color: transparent;\n",
              "      border-right-color: var(--fill-color);\n",
              "      border-top-color: var(--fill-color);\n",
              "    }\n",
              "    60% {\n",
              "      border-color: transparent;\n",
              "      border-right-color: var(--fill-color);\n",
              "    }\n",
              "    80% {\n",
              "      border-color: transparent;\n",
              "      border-right-color: var(--fill-color);\n",
              "      border-bottom-color: var(--fill-color);\n",
              "    }\n",
              "    90% {\n",
              "      border-color: transparent;\n",
              "      border-bottom-color: var(--fill-color);\n",
              "    }\n",
              "  }\n",
              "</style>\n",
              "\n",
              "  <script>\n",
              "    async function quickchart(key) {\n",
              "      const quickchartButtonEl =\n",
              "        document.querySelector('#' + key + ' button');\n",
              "      quickchartButtonEl.disabled = true;  // To prevent multiple clicks.\n",
              "      quickchartButtonEl.classList.add('colab-df-spinner');\n",
              "      try {\n",
              "        const charts = await google.colab.kernel.invokeFunction(\n",
              "            'suggestCharts', [key], {});\n",
              "      } catch (error) {\n",
              "        console.error('Error during call to suggestCharts:', error);\n",
              "      }\n",
              "      quickchartButtonEl.classList.remove('colab-df-spinner');\n",
              "      quickchartButtonEl.classList.add('colab-df-quickchart-complete');\n",
              "    }\n",
              "    (() => {\n",
              "      let quickchartButtonEl =\n",
              "        document.querySelector('#df-722c0125-402f-4a2d-afc6-6b3fdc717888 button');\n",
              "      quickchartButtonEl.style.display =\n",
              "        google.colab.kernel.accessAllowed ? 'block' : 'none';\n",
              "    })();\n",
              "  </script>\n",
              "</div>\n",
              "    </div>\n",
              "  </div>\n"
            ]
          },
          "metadata": {},
          "execution_count": 319
        }
      ]
    },
    {
      "cell_type": "markdown",
      "source": [
        "## Sharpe Ratio Impelementation"
      ],
      "metadata": {
        "id": "guhL4HKRmJAH"
      }
    },
    {
      "cell_type": "code",
      "source": [
        "def Sharpe_ratio(backtest_results):\n",
        "  temp_df = pd.DataFrame(index=backtest_results.index)\n",
        "  temp_df['Balances'] = backtest_results['Balances']\n",
        "  returns = temp_df['Balances'].pct_change().dropna()\n",
        "  risk_free_rate = (1.02 ** (1 / 360)) - 1\n",
        "  return (returns.mean() - risk_free_rate) / returns.std()"
      ],
      "metadata": {
        "id": "QRapGaiLxADF"
      },
      "execution_count": null,
      "outputs": []
    },
    {
      "cell_type": "markdown",
      "source": [
        "## Sharpe Ratio Objective Function"
      ],
      "metadata": {
        "id": "QzktkT8MvfCN"
      }
    },
    {
      "cell_type": "code",
      "source": [
        "# Step 3: Define Objective Function\n",
        "def Sharpe_ratio_objective(weights, cryptos):\n",
        "    crypto_capitals = [weight * initial_capital for weight in weights]\n",
        "\n",
        "    crypto1_bh = buy_and_hold_strategy_backtest(cryptos[cryptos.columns[0]], crypto_capitals[0])\n",
        "    crypto2_bh = buy_and_hold_strategy_backtest(cryptos[cryptos.columns[1]], crypto_capitals[1])\n",
        "    crypto3_bh = buy_and_hold_strategy_backtest(cryptos[cryptos.columns[2]], crypto_capitals[2])\n",
        "    crypto4_bh = buy_and_hold_strategy_backtest(cryptos[cryptos.columns[3]], crypto_capitals[3])\n",
        "\n",
        "    backtest_balances = crypto1_bh + crypto2_bh + crypto3_bh + crypto4_bh\n",
        "    backtest_balances = backtest_balances.to_frame()\n",
        "    backtest_balances.columns = ['Balances']\n",
        "    return -Sharpe_ratio(backtest_balances)  # We minimize the negative Sharpe ratio to maximize the Sharpe ratio\n"
      ],
      "metadata": {
        "id": "1iZJz2bhqQFo"
      },
      "execution_count": null,
      "outputs": []
    },
    {
      "cell_type": "markdown",
      "source": [
        "Sharpe Ratio for Buy and Hold with Initial Weights"
      ],
      "metadata": {
        "id": "OtahawzkmiWM"
      }
    },
    {
      "cell_type": "code",
      "source": [
        "init_sr = -1 * Sharpe_ratio_objective(coefficients, data)\n",
        "init_sr"
      ],
      "metadata": {
        "colab": {
          "base_uri": "https://localhost:8080/"
        },
        "id": "yy_AW64x4I4_",
        "outputId": "256e798f-eaaa-4fbd-fd34-90ef6b1f7bf6"
      },
      "execution_count": null,
      "outputs": [
        {
          "output_type": "execute_result",
          "data": {
            "text/plain": [
              "0.04502073952504293"
            ]
          },
          "metadata": {},
          "execution_count": 322
        }
      ]
    },
    {
      "cell_type": "markdown",
      "source": [
        "## Find Optimum Weights for Maximizing the Sharpe Ratio"
      ],
      "metadata": {
        "id": "s-S6YjeHmyDY"
      }
    },
    {
      "cell_type": "code",
      "source": [
        "# Step 5: Define Constraints\n",
        "n = len(coefficients)\n",
        "constraints = [{'type': 'eq', 'fun': lambda x: np.sum(x) - 1}]\n",
        "for i in range(n):\n",
        "    constraints.append({'type': 'ineq', 'fun': lambda x,i=i: x[i] - 1e-10})\n"
      ],
      "metadata": {
        "id": "yfjeOyL4xrXw"
      },
      "execution_count": null,
      "outputs": []
    },
    {
      "cell_type": "code",
      "source": [
        "bounds = [(0, None)] * n"
      ],
      "metadata": {
        "id": "St4cHdykNb-i"
      },
      "execution_count": null,
      "outputs": []
    },
    {
      "cell_type": "code",
      "source": [
        "# Step 6: Optimize Portfolio for Sharpe Ratio\n",
        "result = minimize(Sharpe_ratio_objective, coefficients, args=(data,), method='SLSQP', constraints=constraints, bounds=bounds)\n",
        "optimal_weights_sharpe = result.x"
      ],
      "metadata": {
        "id": "6Yv2gQuEx82l"
      },
      "execution_count": null,
      "outputs": []
    },
    {
      "cell_type": "code",
      "source": [
        "np.set_printoptions(precision=15)\n",
        "optimal_weights_sharpe"
      ],
      "metadata": {
        "colab": {
          "base_uri": "https://localhost:8080/"
        },
        "id": "p9nS1s31y0CG",
        "outputId": "23a04599-26bf-4466-b251-ad1dafdb3a1d"
      },
      "execution_count": null,
      "outputs": [
        {
          "output_type": "execute_result",
          "data": {
            "text/plain": [
              "array([9.999999996999998e-01, 9.999964875259670e-11,\n",
              "       1.000003370041358e-10, 1.000002580742176e-10])"
            ]
          },
          "metadata": {},
          "execution_count": 326
        }
      ]
    },
    {
      "cell_type": "code",
      "source": [
        "assert round(sum(optimal_weights_sharpe)) == 1, \"The sum of coefficients must be equal to one.\"\n",
        "assert all(value > 0 for value in optimal_weights_sharpe), \"All values are greater than 0.\""
      ],
      "metadata": {
        "id": "-h67hrx3zRPu"
      },
      "execution_count": null,
      "outputs": []
    },
    {
      "cell_type": "markdown",
      "source": [
        "Calculate Sharpe Ratio for Buy and Hold with optimum weights\n",
        "\n"
      ],
      "metadata": {
        "id": "7f2jyE0Jm4Wl"
      }
    },
    {
      "cell_type": "code",
      "source": [
        "optimum_sr = -1 * Sharpe_ratio_objective(optimal_weights_sharpe, data)\n",
        "optimum_sr"
      ],
      "metadata": {
        "colab": {
          "base_uri": "https://localhost:8080/"
        },
        "id": "aG8Z4dN5m_wu",
        "outputId": "c9d628f2-67de-4e61-ab23-4ca47b602ef5"
      },
      "execution_count": null,
      "outputs": [
        {
          "output_type": "execute_result",
          "data": {
            "text/plain": [
              "0.07061678668857137"
            ]
          },
          "metadata": {},
          "execution_count": 328
        }
      ]
    },
    {
      "cell_type": "markdown",
      "source": [
        "## Sortino Ratio Implementation"
      ],
      "metadata": {
        "id": "fatUH0yt9jMq"
      }
    },
    {
      "cell_type": "code",
      "source": [
        "def downside_deviation(backtest_results):\n",
        "    temp_df = pd.DataFrame(index=backtest_results.index)\n",
        "    temp_df['Balances'] = backtest_results['Balances']\n",
        "    returns = temp_df['Balances'].pct_change().dropna()\n",
        "    downside_returns = returns[returns < 0]\n",
        "    return downside_returns.std()\n",
        "\n",
        "def Sortino_ratio(backtest_results):\n",
        "    temp_df = pd.DataFrame(index=backtest_results.index)\n",
        "    temp_df['Balances'] = backtest_results['Balances']\n",
        "    returns = temp_df['Balances'].pct_change().dropna()\n",
        "    risk_free_rate = (1.02 ** (1 / 360)) - 1\n",
        "    return (returns.mean() - risk_free_rate) / downside_deviation(backtest_results)\n"
      ],
      "metadata": {
        "id": "7agjc7S58Dhu"
      },
      "execution_count": null,
      "outputs": []
    },
    {
      "cell_type": "markdown",
      "source": [
        "## Sortino Ratio Objective Function"
      ],
      "metadata": {
        "id": "7IGQc9OHvrU6"
      }
    },
    {
      "cell_type": "code",
      "source": [
        "def Sortino_ratio_objective(weights, cryptos):\n",
        "    crypto_capitals = [weight * initial_capital for weight in weights]\n",
        "\n",
        "    crypto1_bh = buy_and_hold_strategy_backtest(cryptos[cryptos.columns[0]], crypto_capitals[0])\n",
        "    crypto2_bh = buy_and_hold_strategy_backtest(cryptos[cryptos.columns[1]], crypto_capitals[1])\n",
        "    crypto3_bh = buy_and_hold_strategy_backtest(cryptos[cryptos.columns[2]], crypto_capitals[2])\n",
        "    crypto4_bh = buy_and_hold_strategy_backtest(cryptos[cryptos.columns[3]], crypto_capitals[3])\n",
        "\n",
        "    backtest_balances = crypto1_bh + crypto2_bh + crypto3_bh + crypto4_bh\n",
        "    backtest_balances = backtest_balances.to_frame()\n",
        "    backtest_balances.columns = ['Balances']\n",
        "    return -Sortino_ratio(backtest_balances)  # We minimize the negative Sortino ratio to maximize the Sortino ratio\n"
      ],
      "metadata": {
        "id": "c_HhtSwB93ui"
      },
      "execution_count": null,
      "outputs": []
    },
    {
      "cell_type": "markdown",
      "source": [
        "Sortino Ratio for Buy and Hold with initial weights"
      ],
      "metadata": {
        "id": "Zai1wQlDnUzz"
      }
    },
    {
      "cell_type": "code",
      "source": [
        "init_sortino = -1 * Sortino_ratio_objective(coefficients, data)\n",
        "init_sortino"
      ],
      "metadata": {
        "colab": {
          "base_uri": "https://localhost:8080/"
        },
        "id": "TRNcTHq795ef",
        "outputId": "7e267cf4-c683-4c1c-e558-9839c08c9f0b"
      },
      "execution_count": null,
      "outputs": [
        {
          "output_type": "execute_result",
          "data": {
            "text/plain": [
              "0.06155679890556221"
            ]
          },
          "metadata": {},
          "execution_count": 331
        }
      ]
    },
    {
      "cell_type": "markdown",
      "source": [
        "## Find Optimum Weights for Maximizing the Sortino Ratio"
      ],
      "metadata": {
        "id": "F-bvsT_Snesu"
      }
    },
    {
      "cell_type": "code",
      "source": [
        "# Step 5: Define Constraints\n",
        "n = len(coefficients)\n",
        "constraints = [{'type': 'eq', 'fun': lambda x: np.sum(x) - 1}]\n",
        "for i in range(n):\n",
        "    constraints.append({'type': 'ineq', 'fun': lambda x,i=i: x[i] - 1e-10})"
      ],
      "metadata": {
        "id": "wYFz4fq3GoRv"
      },
      "execution_count": null,
      "outputs": []
    },
    {
      "cell_type": "code",
      "source": [
        "result = minimize(Sortino_ratio_objective, coefficients, args=(data,), method='SLSQP', constraints=constraints, bounds=bounds)\n",
        "optimal_weights_sortino = result.x\n",
        "optimal_weights_sortino"
      ],
      "metadata": {
        "colab": {
          "base_uri": "https://localhost:8080/"
        },
        "id": "Ax7ggHmVGMOM",
        "outputId": "746bb038-7846-4ed6-e3c0-f79448ed75fe"
      },
      "execution_count": null,
      "outputs": [
        {
          "output_type": "execute_result",
          "data": {
            "text/plain": [
              "array([9.999999996999994e-01, 1.000002199103012e-10,\n",
              "       1.000007264495562e-10, 9.999971684049314e-11])"
            ]
          },
          "metadata": {},
          "execution_count": 333
        }
      ]
    },
    {
      "cell_type": "code",
      "source": [
        "assert round(sum(optimal_weights_sortino)) == 1, \"The sum of coefficients must be equal to one.\"\n",
        "assert all(value > 0 for value in optimal_weights_sortino), \"All values are greater than 0.\""
      ],
      "metadata": {
        "id": "hJrzNYEekTLM"
      },
      "execution_count": null,
      "outputs": []
    },
    {
      "cell_type": "markdown",
      "source": [
        "Calculate Sortino Ratio for Buy and Hold with optimum weights\n"
      ],
      "metadata": {
        "id": "kHS2HmspnkMt"
      }
    },
    {
      "cell_type": "code",
      "source": [
        "optimum_sortino = -1 * Sortino_ratio_objective(optimal_weights_sortino, data)\n",
        "optimum_sortino"
      ],
      "metadata": {
        "colab": {
          "base_uri": "https://localhost:8080/"
        },
        "id": "bdXR-H_MnoWg",
        "outputId": "d516f995-e179-4fb2-c9e2-f3db5f7db19d"
      },
      "execution_count": null,
      "outputs": [
        {
          "output_type": "execute_result",
          "data": {
            "text/plain": [
              "0.10083459939218704"
            ]
          },
          "metadata": {},
          "execution_count": 335
        }
      ]
    },
    {
      "cell_type": "markdown",
      "source": [
        "## Net Profit Implementation"
      ],
      "metadata": {
        "id": "nf5Zl2XEDcbl"
      }
    },
    {
      "cell_type": "code",
      "source": [
        "def compute_net_profit(initial_investment, final_portfolio_value):\n",
        "    net_profit = final_portfolio_value - initial_investment\n",
        "    return net_profit\n"
      ],
      "metadata": {
        "id": "NZUGq0Ks990W"
      },
      "execution_count": null,
      "outputs": []
    },
    {
      "cell_type": "code",
      "source": [
        "def net_profit_objective(weights, cryptos):\n",
        "    crypto_capitals = [weight * initial_capital for weight in weights]\n",
        "\n",
        "    crypto1_bh = buy_and_hold_strategy_backtest(cryptos[cryptos.columns[0]], crypto_capitals[0])\n",
        "    crypto2_bh = buy_and_hold_strategy_backtest(cryptos[cryptos.columns[1]], crypto_capitals[1])\n",
        "    crypto3_bh = buy_and_hold_strategy_backtest(cryptos[cryptos.columns[2]], crypto_capitals[2])\n",
        "    crypto4_bh = buy_and_hold_strategy_backtest(cryptos[cryptos.columns[3]], crypto_capitals[3])\n",
        "\n",
        "    backtest_balances = crypto1_bh + crypto2_bh + crypto3_bh + crypto4_bh\n",
        "    final_portfolio_value = crypto1_bh[-1] + crypto2_bh[-1] + crypto3_bh[-1] + crypto4_bh[-1]\n",
        "\n",
        "    backtest_balances = backtest_balances.to_frame()\n",
        "    backtest_balances.columns = ['Balances']\n",
        "    return -compute_net_profit(initial_capital, final_portfolio_value)"
      ],
      "metadata": {
        "id": "ysRcU7gWFxJQ"
      },
      "execution_count": null,
      "outputs": []
    },
    {
      "cell_type": "markdown",
      "source": [
        "Net Profit for Buy and Hold with initial weights"
      ],
      "metadata": {
        "id": "oCk3RXTPoBE4"
      }
    },
    {
      "cell_type": "code",
      "source": [
        "init_net = -1 * net_profit_objective(coefficients, data)\n",
        "init_net"
      ],
      "metadata": {
        "colab": {
          "base_uri": "https://localhost:8080/"
        },
        "id": "wM8J2gU6Deic",
        "outputId": "7b873ecb-539d-4d2b-9ca7-7bb34af51ad8"
      },
      "execution_count": null,
      "outputs": [
        {
          "output_type": "execute_result",
          "data": {
            "text/plain": [
              "415.422261975481"
            ]
          },
          "metadata": {},
          "execution_count": 338
        }
      ]
    },
    {
      "cell_type": "markdown",
      "source": [
        "## Find Optimum Weights for Maximizing the Net Profit"
      ],
      "metadata": {
        "id": "sPJcIELWoLtq"
      }
    },
    {
      "cell_type": "code",
      "source": [
        "n = len(coefficients)\n",
        "constraints = [{'type': 'eq', 'fun': lambda x: np.sum(x) - 1}]\n",
        "for i in range(n):\n",
        "    constraints.append({'type': 'ineq', 'fun': lambda x,i=i: x[i] - 1e-10})"
      ],
      "metadata": {
        "id": "W8tYFekQEZq6"
      },
      "execution_count": null,
      "outputs": []
    },
    {
      "cell_type": "code",
      "source": [
        "result = minimize(net_profit_objective, coefficients, args=(data,), method='SLSQP', constraints=constraints, bounds=bounds)\n",
        "optimal_weights_netProfit = result.x\n",
        "optimal_weights_netProfit"
      ],
      "metadata": {
        "colab": {
          "base_uri": "https://localhost:8080/"
        },
        "id": "rbF4tOVoIQQT",
        "outputId": "583c7abd-da73-4d57-d80c-507843d64023"
      },
      "execution_count": null,
      "outputs": [
        {
          "output_type": "execute_result",
          "data": {
            "text/plain": [
              "array([9.999999993446324e-01, 3.172978546572836e-10,\n",
              "       1.893683543308100e-10, 1.487014122947272e-10])"
            ]
          },
          "metadata": {},
          "execution_count": 340
        }
      ]
    },
    {
      "cell_type": "code",
      "source": [
        "assert round(sum(optimal_weights_netProfit)) == 1, \"The sum of coefficients must be equal to one.\"\n",
        "assert all(value > 0 for value in optimal_weights_netProfit), \"All values are greater than 0.\""
      ],
      "metadata": {
        "id": "4CVKTgO5ISsr"
      },
      "execution_count": null,
      "outputs": []
    },
    {
      "cell_type": "markdown",
      "source": [
        "Calculate Net Profit for Buy and Hold with optimum weights\n"
      ],
      "metadata": {
        "id": "EGNagtcWoRGJ"
      }
    },
    {
      "cell_type": "code",
      "source": [
        "optimum_net = -1 * net_profit_objective(optimal_weights_netProfit, data)\n",
        "optimum_net"
      ],
      "metadata": {
        "colab": {
          "base_uri": "https://localhost:8080/"
        },
        "id": "9Jvq6SbvkkJ0",
        "outputId": "239c48b1-48be-4fd0-c084-187e70576c37"
      },
      "execution_count": null,
      "outputs": [
        {
          "output_type": "execute_result",
          "data": {
            "text/plain": [
              "692.3269952589274"
            ]
          },
          "metadata": {},
          "execution_count": 342
        }
      ]
    },
    {
      "cell_type": "markdown",
      "source": [
        "# **Part 2**"
      ],
      "metadata": {
        "id": "pc4zy5LDonGv"
      }
    },
    {
      "cell_type": "code",
      "source": [
        "# Define the time frame\n",
        "start_date = '2023-11-02'\n",
        "end_date = '2023-12-02'"
      ],
      "metadata": {
        "id": "vznmajj6oghZ"
      },
      "execution_count": null,
      "outputs": []
    },
    {
      "cell_type": "code",
      "source": [
        "# Step1: Download historical data\n",
        "test_data = yf.download(tickers, start=start_date, end=end_date)['Adj Close']\n",
        "test_data, type(test_data)"
      ],
      "metadata": {
        "colab": {
          "base_uri": "https://localhost:8080/"
        },
        "id": "K_tZ2cxsozsY",
        "outputId": "4cc380fc-1071-45d8-bde2-5a732e11772b"
      },
      "execution_count": null,
      "outputs": [
        {
          "output_type": "stream",
          "name": "stderr",
          "text": [
            "[*********************100%%**********************]  4 of 4 completed\n"
          ]
        },
        {
          "output_type": "execute_result",
          "data": {
            "text/plain": [
              "(Ticker           BTC-USD      ETH-USD    LTC-USD   XRP-USD\n",
              " Date                                                      \n",
              " 2023-11-02  34938.242188  1800.620972  69.394196  0.606439\n",
              " 2023-11-03  34732.324219  1832.795166  69.491142  0.613002\n",
              " 2023-11-04  35082.195312  1857.698608  70.472099  0.616184\n",
              " 2023-11-05  35049.355469  1894.157715  71.662651  0.661147\n",
              " 2023-11-06  35037.371094  1899.837402  74.482864  0.715517\n",
              " 2023-11-07  35443.562500  1888.124268  73.564384  0.686402\n",
              " 2023-11-08  35655.277344  1889.322388  73.179939  0.688076\n",
              " 2023-11-09  36693.125000  2120.561035  73.752213  0.667475\n",
              " 2023-11-10  37313.968750  2078.289795  73.305000  0.660575\n",
              " 2023-11-11  37138.050781  2052.713867  75.174309  0.662735\n",
              " 2023-11-12  37054.519531  2045.187012  74.891273  0.661536\n",
              " 2023-11-13  36502.355469  2055.265381  71.491547  0.671524\n",
              " 2023-11-14  35537.640625  1979.052612  70.635262  0.629673\n",
              " 2023-11-15  37880.582031  2060.408447  74.080322  0.649648\n",
              " 2023-11-16  36154.769531  1960.881592  71.179054  0.612168\n",
              " 2023-11-17  36596.683594  1961.280762  70.182335  0.613717\n",
              " 2023-11-18  36585.703125  1963.285034  69.893806  0.611189\n",
              " 2023-11-19  37386.546875  2013.204468  70.640312  0.627499\n",
              " 2023-11-20  37476.957031  2022.239136  69.517738  0.612842\n",
              " 2023-11-21  35813.812500  1937.066772  66.457382  0.580462\n",
              " 2023-11-22  37432.339844  2064.425293  68.705589  0.611899\n",
              " 2023-11-23  37289.621094  2062.210693  69.512451  0.620242\n",
              " 2023-11-24  37720.281250  2081.152100  70.735954  0.621881\n",
              " 2023-11-25  37796.792969  2084.413086  71.833366  0.623444\n",
              " 2023-11-26  37479.121094  2063.286133  70.058990  0.616819\n",
              " 2023-11-27  37254.167969  2027.417358  69.242332  0.604153\n",
              " 2023-11-28  37831.085938  2049.338135  69.737251  0.611422\n",
              " 2023-11-29  37858.492188  2029.929199  69.989349  0.609358\n",
              " 2023-11-30  37712.746094  2052.556152  69.445580  0.606358\n",
              " 2023-12-01  38688.750000  2087.139893  71.544968  0.612915,\n",
              " pandas.core.frame.DataFrame)"
            ]
          },
          "metadata": {},
          "execution_count": 344
        }
      ]
    },
    {
      "cell_type": "code",
      "source": [
        "# Step 2: Calculate Daily Returns\n",
        "test_close_data = test_data.copy()\n",
        "test_data = test_data.pct_change().dropna()\n",
        "test_data"
      ],
      "metadata": {
        "colab": {
          "base_uri": "https://localhost:8080/",
          "height": 990
        },
        "id": "cKcEBt7lo3_s",
        "outputId": "3acf853c-51bb-443c-f6ae-0e84c21128cc"
      },
      "execution_count": null,
      "outputs": [
        {
          "output_type": "execute_result",
          "data": {
            "text/plain": [
              "Ticker       BTC-USD   ETH-USD   LTC-USD   XRP-USD\n",
              "Date                                              \n",
              "2023-11-03 -0.005894  0.017868  0.001397  0.010822\n",
              "2023-11-04  0.010073  0.013588  0.014116  0.005191\n",
              "2023-11-05 -0.000936  0.019626  0.016894  0.072970\n",
              "2023-11-06 -0.000342  0.002999  0.039354  0.082236\n",
              "2023-11-07  0.011593 -0.006165 -0.012331 -0.040691\n",
              "2023-11-08  0.005973  0.000635 -0.005226  0.002439\n",
              "2023-11-09  0.029108  0.122392  0.007820 -0.029940\n",
              "2023-11-10  0.016920 -0.019934 -0.006064 -0.010337\n",
              "2023-11-11 -0.004715 -0.012306  0.025500  0.003270\n",
              "2023-11-12 -0.002249 -0.003667 -0.003765 -0.001809\n",
              "2023-11-13 -0.014901  0.004928 -0.045396  0.015098\n",
              "2023-11-14 -0.026429 -0.037082 -0.011977 -0.062322\n",
              "2023-11-15  0.065928  0.041108  0.048773  0.031723\n",
              "2023-11-16 -0.045559 -0.048304 -0.039164 -0.057693\n",
              "2023-11-17  0.012223  0.000204 -0.014003  0.002530\n",
              "2023-11-18 -0.000300  0.001022 -0.004111 -0.004119\n",
              "2023-11-19  0.021890  0.025426  0.010681  0.026686\n",
              "2023-11-20  0.002418  0.004488 -0.015891 -0.023358\n",
              "2023-11-21 -0.044378 -0.042118 -0.044023 -0.052836\n",
              "2023-11-22  0.045193  0.065748  0.033829  0.054159\n",
              "2023-11-23 -0.003813 -0.001073  0.011744  0.013635\n",
              "2023-11-24  0.011549  0.009185  0.017601  0.002643\n",
              "2023-11-25  0.002028  0.001567  0.015514  0.002513\n",
              "2023-11-26 -0.008405 -0.010136 -0.024701 -0.010626\n",
              "2023-11-27 -0.006002 -0.017384 -0.011657 -0.020534\n",
              "2023-11-28  0.015486  0.010812  0.007148  0.012032\n",
              "2023-11-29  0.000724 -0.009471  0.003615 -0.003376\n",
              "2023-11-30 -0.003850  0.011147 -0.007769 -0.004923\n",
              "2023-12-01  0.025880  0.016849  0.030231  0.010814"
            ],
            "text/html": [
              "\n",
              "  <div id=\"df-9948e72a-3b2f-4e11-a824-fdf2426858d2\" class=\"colab-df-container\">\n",
              "    <div>\n",
              "<style scoped>\n",
              "    .dataframe tbody tr th:only-of-type {\n",
              "        vertical-align: middle;\n",
              "    }\n",
              "\n",
              "    .dataframe tbody tr th {\n",
              "        vertical-align: top;\n",
              "    }\n",
              "\n",
              "    .dataframe thead th {\n",
              "        text-align: right;\n",
              "    }\n",
              "</style>\n",
              "<table border=\"1\" class=\"dataframe\">\n",
              "  <thead>\n",
              "    <tr style=\"text-align: right;\">\n",
              "      <th>Ticker</th>\n",
              "      <th>BTC-USD</th>\n",
              "      <th>ETH-USD</th>\n",
              "      <th>LTC-USD</th>\n",
              "      <th>XRP-USD</th>\n",
              "    </tr>\n",
              "    <tr>\n",
              "      <th>Date</th>\n",
              "      <th></th>\n",
              "      <th></th>\n",
              "      <th></th>\n",
              "      <th></th>\n",
              "    </tr>\n",
              "  </thead>\n",
              "  <tbody>\n",
              "    <tr>\n",
              "      <th>2023-11-03</th>\n",
              "      <td>-0.005894</td>\n",
              "      <td>0.017868</td>\n",
              "      <td>0.001397</td>\n",
              "      <td>0.010822</td>\n",
              "    </tr>\n",
              "    <tr>\n",
              "      <th>2023-11-04</th>\n",
              "      <td>0.010073</td>\n",
              "      <td>0.013588</td>\n",
              "      <td>0.014116</td>\n",
              "      <td>0.005191</td>\n",
              "    </tr>\n",
              "    <tr>\n",
              "      <th>2023-11-05</th>\n",
              "      <td>-0.000936</td>\n",
              "      <td>0.019626</td>\n",
              "      <td>0.016894</td>\n",
              "      <td>0.072970</td>\n",
              "    </tr>\n",
              "    <tr>\n",
              "      <th>2023-11-06</th>\n",
              "      <td>-0.000342</td>\n",
              "      <td>0.002999</td>\n",
              "      <td>0.039354</td>\n",
              "      <td>0.082236</td>\n",
              "    </tr>\n",
              "    <tr>\n",
              "      <th>2023-11-07</th>\n",
              "      <td>0.011593</td>\n",
              "      <td>-0.006165</td>\n",
              "      <td>-0.012331</td>\n",
              "      <td>-0.040691</td>\n",
              "    </tr>\n",
              "    <tr>\n",
              "      <th>2023-11-08</th>\n",
              "      <td>0.005973</td>\n",
              "      <td>0.000635</td>\n",
              "      <td>-0.005226</td>\n",
              "      <td>0.002439</td>\n",
              "    </tr>\n",
              "    <tr>\n",
              "      <th>2023-11-09</th>\n",
              "      <td>0.029108</td>\n",
              "      <td>0.122392</td>\n",
              "      <td>0.007820</td>\n",
              "      <td>-0.029940</td>\n",
              "    </tr>\n",
              "    <tr>\n",
              "      <th>2023-11-10</th>\n",
              "      <td>0.016920</td>\n",
              "      <td>-0.019934</td>\n",
              "      <td>-0.006064</td>\n",
              "      <td>-0.010337</td>\n",
              "    </tr>\n",
              "    <tr>\n",
              "      <th>2023-11-11</th>\n",
              "      <td>-0.004715</td>\n",
              "      <td>-0.012306</td>\n",
              "      <td>0.025500</td>\n",
              "      <td>0.003270</td>\n",
              "    </tr>\n",
              "    <tr>\n",
              "      <th>2023-11-12</th>\n",
              "      <td>-0.002249</td>\n",
              "      <td>-0.003667</td>\n",
              "      <td>-0.003765</td>\n",
              "      <td>-0.001809</td>\n",
              "    </tr>\n",
              "    <tr>\n",
              "      <th>2023-11-13</th>\n",
              "      <td>-0.014901</td>\n",
              "      <td>0.004928</td>\n",
              "      <td>-0.045396</td>\n",
              "      <td>0.015098</td>\n",
              "    </tr>\n",
              "    <tr>\n",
              "      <th>2023-11-14</th>\n",
              "      <td>-0.026429</td>\n",
              "      <td>-0.037082</td>\n",
              "      <td>-0.011977</td>\n",
              "      <td>-0.062322</td>\n",
              "    </tr>\n",
              "    <tr>\n",
              "      <th>2023-11-15</th>\n",
              "      <td>0.065928</td>\n",
              "      <td>0.041108</td>\n",
              "      <td>0.048773</td>\n",
              "      <td>0.031723</td>\n",
              "    </tr>\n",
              "    <tr>\n",
              "      <th>2023-11-16</th>\n",
              "      <td>-0.045559</td>\n",
              "      <td>-0.048304</td>\n",
              "      <td>-0.039164</td>\n",
              "      <td>-0.057693</td>\n",
              "    </tr>\n",
              "    <tr>\n",
              "      <th>2023-11-17</th>\n",
              "      <td>0.012223</td>\n",
              "      <td>0.000204</td>\n",
              "      <td>-0.014003</td>\n",
              "      <td>0.002530</td>\n",
              "    </tr>\n",
              "    <tr>\n",
              "      <th>2023-11-18</th>\n",
              "      <td>-0.000300</td>\n",
              "      <td>0.001022</td>\n",
              "      <td>-0.004111</td>\n",
              "      <td>-0.004119</td>\n",
              "    </tr>\n",
              "    <tr>\n",
              "      <th>2023-11-19</th>\n",
              "      <td>0.021890</td>\n",
              "      <td>0.025426</td>\n",
              "      <td>0.010681</td>\n",
              "      <td>0.026686</td>\n",
              "    </tr>\n",
              "    <tr>\n",
              "      <th>2023-11-20</th>\n",
              "      <td>0.002418</td>\n",
              "      <td>0.004488</td>\n",
              "      <td>-0.015891</td>\n",
              "      <td>-0.023358</td>\n",
              "    </tr>\n",
              "    <tr>\n",
              "      <th>2023-11-21</th>\n",
              "      <td>-0.044378</td>\n",
              "      <td>-0.042118</td>\n",
              "      <td>-0.044023</td>\n",
              "      <td>-0.052836</td>\n",
              "    </tr>\n",
              "    <tr>\n",
              "      <th>2023-11-22</th>\n",
              "      <td>0.045193</td>\n",
              "      <td>0.065748</td>\n",
              "      <td>0.033829</td>\n",
              "      <td>0.054159</td>\n",
              "    </tr>\n",
              "    <tr>\n",
              "      <th>2023-11-23</th>\n",
              "      <td>-0.003813</td>\n",
              "      <td>-0.001073</td>\n",
              "      <td>0.011744</td>\n",
              "      <td>0.013635</td>\n",
              "    </tr>\n",
              "    <tr>\n",
              "      <th>2023-11-24</th>\n",
              "      <td>0.011549</td>\n",
              "      <td>0.009185</td>\n",
              "      <td>0.017601</td>\n",
              "      <td>0.002643</td>\n",
              "    </tr>\n",
              "    <tr>\n",
              "      <th>2023-11-25</th>\n",
              "      <td>0.002028</td>\n",
              "      <td>0.001567</td>\n",
              "      <td>0.015514</td>\n",
              "      <td>0.002513</td>\n",
              "    </tr>\n",
              "    <tr>\n",
              "      <th>2023-11-26</th>\n",
              "      <td>-0.008405</td>\n",
              "      <td>-0.010136</td>\n",
              "      <td>-0.024701</td>\n",
              "      <td>-0.010626</td>\n",
              "    </tr>\n",
              "    <tr>\n",
              "      <th>2023-11-27</th>\n",
              "      <td>-0.006002</td>\n",
              "      <td>-0.017384</td>\n",
              "      <td>-0.011657</td>\n",
              "      <td>-0.020534</td>\n",
              "    </tr>\n",
              "    <tr>\n",
              "      <th>2023-11-28</th>\n",
              "      <td>0.015486</td>\n",
              "      <td>0.010812</td>\n",
              "      <td>0.007148</td>\n",
              "      <td>0.012032</td>\n",
              "    </tr>\n",
              "    <tr>\n",
              "      <th>2023-11-29</th>\n",
              "      <td>0.000724</td>\n",
              "      <td>-0.009471</td>\n",
              "      <td>0.003615</td>\n",
              "      <td>-0.003376</td>\n",
              "    </tr>\n",
              "    <tr>\n",
              "      <th>2023-11-30</th>\n",
              "      <td>-0.003850</td>\n",
              "      <td>0.011147</td>\n",
              "      <td>-0.007769</td>\n",
              "      <td>-0.004923</td>\n",
              "    </tr>\n",
              "    <tr>\n",
              "      <th>2023-12-01</th>\n",
              "      <td>0.025880</td>\n",
              "      <td>0.016849</td>\n",
              "      <td>0.030231</td>\n",
              "      <td>0.010814</td>\n",
              "    </tr>\n",
              "  </tbody>\n",
              "</table>\n",
              "</div>\n",
              "    <div class=\"colab-df-buttons\">\n",
              "\n",
              "  <div class=\"colab-df-container\">\n",
              "    <button class=\"colab-df-convert\" onclick=\"convertToInteractive('df-9948e72a-3b2f-4e11-a824-fdf2426858d2')\"\n",
              "            title=\"Convert this dataframe to an interactive table.\"\n",
              "            style=\"display:none;\">\n",
              "\n",
              "  <svg xmlns=\"http://www.w3.org/2000/svg\" height=\"24px\" viewBox=\"0 -960 960 960\">\n",
              "    <path d=\"M120-120v-720h720v720H120Zm60-500h600v-160H180v160Zm220 220h160v-160H400v160Zm0 220h160v-160H400v160ZM180-400h160v-160H180v160Zm440 0h160v-160H620v160ZM180-180h160v-160H180v160Zm440 0h160v-160H620v160Z\"/>\n",
              "  </svg>\n",
              "    </button>\n",
              "\n",
              "  <style>\n",
              "    .colab-df-container {\n",
              "      display:flex;\n",
              "      gap: 12px;\n",
              "    }\n",
              "\n",
              "    .colab-df-convert {\n",
              "      background-color: #E8F0FE;\n",
              "      border: none;\n",
              "      border-radius: 50%;\n",
              "      cursor: pointer;\n",
              "      display: none;\n",
              "      fill: #1967D2;\n",
              "      height: 32px;\n",
              "      padding: 0 0 0 0;\n",
              "      width: 32px;\n",
              "    }\n",
              "\n",
              "    .colab-df-convert:hover {\n",
              "      background-color: #E2EBFA;\n",
              "      box-shadow: 0px 1px 2px rgba(60, 64, 67, 0.3), 0px 1px 3px 1px rgba(60, 64, 67, 0.15);\n",
              "      fill: #174EA6;\n",
              "    }\n",
              "\n",
              "    .colab-df-buttons div {\n",
              "      margin-bottom: 4px;\n",
              "    }\n",
              "\n",
              "    [theme=dark] .colab-df-convert {\n",
              "      background-color: #3B4455;\n",
              "      fill: #D2E3FC;\n",
              "    }\n",
              "\n",
              "    [theme=dark] .colab-df-convert:hover {\n",
              "      background-color: #434B5C;\n",
              "      box-shadow: 0px 1px 3px 1px rgba(0, 0, 0, 0.15);\n",
              "      filter: drop-shadow(0px 1px 2px rgba(0, 0, 0, 0.3));\n",
              "      fill: #FFFFFF;\n",
              "    }\n",
              "  </style>\n",
              "\n",
              "    <script>\n",
              "      const buttonEl =\n",
              "        document.querySelector('#df-9948e72a-3b2f-4e11-a824-fdf2426858d2 button.colab-df-convert');\n",
              "      buttonEl.style.display =\n",
              "        google.colab.kernel.accessAllowed ? 'block' : 'none';\n",
              "\n",
              "      async function convertToInteractive(key) {\n",
              "        const element = document.querySelector('#df-9948e72a-3b2f-4e11-a824-fdf2426858d2');\n",
              "        const dataTable =\n",
              "          await google.colab.kernel.invokeFunction('convertToInteractive',\n",
              "                                                    [key], {});\n",
              "        if (!dataTable) return;\n",
              "\n",
              "        const docLinkHtml = 'Like what you see? Visit the ' +\n",
              "          '<a target=\"_blank\" href=https://colab.research.google.com/notebooks/data_table.ipynb>data table notebook</a>'\n",
              "          + ' to learn more about interactive tables.';\n",
              "        element.innerHTML = '';\n",
              "        dataTable['output_type'] = 'display_data';\n",
              "        await google.colab.output.renderOutput(dataTable, element);\n",
              "        const docLink = document.createElement('div');\n",
              "        docLink.innerHTML = docLinkHtml;\n",
              "        element.appendChild(docLink);\n",
              "      }\n",
              "    </script>\n",
              "  </div>\n",
              "\n",
              "\n",
              "<div id=\"df-53a8c3db-1ef0-4519-bbaa-533cc438d2ed\">\n",
              "  <button class=\"colab-df-quickchart\" onclick=\"quickchart('df-53a8c3db-1ef0-4519-bbaa-533cc438d2ed')\"\n",
              "            title=\"Suggest charts\"\n",
              "            style=\"display:none;\">\n",
              "\n",
              "<svg xmlns=\"http://www.w3.org/2000/svg\" height=\"24px\"viewBox=\"0 0 24 24\"\n",
              "     width=\"24px\">\n",
              "    <g>\n",
              "        <path d=\"M19 3H5c-1.1 0-2 .9-2 2v14c0 1.1.9 2 2 2h14c1.1 0 2-.9 2-2V5c0-1.1-.9-2-2-2zM9 17H7v-7h2v7zm4 0h-2V7h2v10zm4 0h-2v-4h2v4z\"/>\n",
              "    </g>\n",
              "</svg>\n",
              "  </button>\n",
              "\n",
              "<style>\n",
              "  .colab-df-quickchart {\n",
              "      --bg-color: #E8F0FE;\n",
              "      --fill-color: #1967D2;\n",
              "      --hover-bg-color: #E2EBFA;\n",
              "      --hover-fill-color: #174EA6;\n",
              "      --disabled-fill-color: #AAA;\n",
              "      --disabled-bg-color: #DDD;\n",
              "  }\n",
              "\n",
              "  [theme=dark] .colab-df-quickchart {\n",
              "      --bg-color: #3B4455;\n",
              "      --fill-color: #D2E3FC;\n",
              "      --hover-bg-color: #434B5C;\n",
              "      --hover-fill-color: #FFFFFF;\n",
              "      --disabled-bg-color: #3B4455;\n",
              "      --disabled-fill-color: #666;\n",
              "  }\n",
              "\n",
              "  .colab-df-quickchart {\n",
              "    background-color: var(--bg-color);\n",
              "    border: none;\n",
              "    border-radius: 50%;\n",
              "    cursor: pointer;\n",
              "    display: none;\n",
              "    fill: var(--fill-color);\n",
              "    height: 32px;\n",
              "    padding: 0;\n",
              "    width: 32px;\n",
              "  }\n",
              "\n",
              "  .colab-df-quickchart:hover {\n",
              "    background-color: var(--hover-bg-color);\n",
              "    box-shadow: 0 1px 2px rgba(60, 64, 67, 0.3), 0 1px 3px 1px rgba(60, 64, 67, 0.15);\n",
              "    fill: var(--button-hover-fill-color);\n",
              "  }\n",
              "\n",
              "  .colab-df-quickchart-complete:disabled,\n",
              "  .colab-df-quickchart-complete:disabled:hover {\n",
              "    background-color: var(--disabled-bg-color);\n",
              "    fill: var(--disabled-fill-color);\n",
              "    box-shadow: none;\n",
              "  }\n",
              "\n",
              "  .colab-df-spinner {\n",
              "    border: 2px solid var(--fill-color);\n",
              "    border-color: transparent;\n",
              "    border-bottom-color: var(--fill-color);\n",
              "    animation:\n",
              "      spin 1s steps(1) infinite;\n",
              "  }\n",
              "\n",
              "  @keyframes spin {\n",
              "    0% {\n",
              "      border-color: transparent;\n",
              "      border-bottom-color: var(--fill-color);\n",
              "      border-left-color: var(--fill-color);\n",
              "    }\n",
              "    20% {\n",
              "      border-color: transparent;\n",
              "      border-left-color: var(--fill-color);\n",
              "      border-top-color: var(--fill-color);\n",
              "    }\n",
              "    30% {\n",
              "      border-color: transparent;\n",
              "      border-left-color: var(--fill-color);\n",
              "      border-top-color: var(--fill-color);\n",
              "      border-right-color: var(--fill-color);\n",
              "    }\n",
              "    40% {\n",
              "      border-color: transparent;\n",
              "      border-right-color: var(--fill-color);\n",
              "      border-top-color: var(--fill-color);\n",
              "    }\n",
              "    60% {\n",
              "      border-color: transparent;\n",
              "      border-right-color: var(--fill-color);\n",
              "    }\n",
              "    80% {\n",
              "      border-color: transparent;\n",
              "      border-right-color: var(--fill-color);\n",
              "      border-bottom-color: var(--fill-color);\n",
              "    }\n",
              "    90% {\n",
              "      border-color: transparent;\n",
              "      border-bottom-color: var(--fill-color);\n",
              "    }\n",
              "  }\n",
              "</style>\n",
              "\n",
              "  <script>\n",
              "    async function quickchart(key) {\n",
              "      const quickchartButtonEl =\n",
              "        document.querySelector('#' + key + ' button');\n",
              "      quickchartButtonEl.disabled = true;  // To prevent multiple clicks.\n",
              "      quickchartButtonEl.classList.add('colab-df-spinner');\n",
              "      try {\n",
              "        const charts = await google.colab.kernel.invokeFunction(\n",
              "            'suggestCharts', [key], {});\n",
              "      } catch (error) {\n",
              "        console.error('Error during call to suggestCharts:', error);\n",
              "      }\n",
              "      quickchartButtonEl.classList.remove('colab-df-spinner');\n",
              "      quickchartButtonEl.classList.add('colab-df-quickchart-complete');\n",
              "    }\n",
              "    (() => {\n",
              "      let quickchartButtonEl =\n",
              "        document.querySelector('#df-53a8c3db-1ef0-4519-bbaa-533cc438d2ed button');\n",
              "      quickchartButtonEl.style.display =\n",
              "        google.colab.kernel.accessAllowed ? 'block' : 'none';\n",
              "    })();\n",
              "  </script>\n",
              "</div>\n",
              "    </div>\n",
              "  </div>\n"
            ]
          },
          "metadata": {},
          "execution_count": 345
        }
      ]
    },
    {
      "cell_type": "markdown",
      "source": [
        "## Sharpe Ratio Calculation on Buy and Hold with data from 2023-11-02 till 2023-12-02"
      ],
      "metadata": {
        "id": "3IND7AnPsdj5"
      }
    },
    {
      "cell_type": "markdown",
      "source": [
        "Calculate Sharpe Ratio for Buy and Hold with initial Weights\n"
      ],
      "metadata": {
        "id": "Apjg-nrVpV98"
      }
    },
    {
      "cell_type": "code",
      "source": [
        "init_sr = -1 * Sharpe_ratio_objective(coefficients, test_data)\n",
        "init_sr"
      ],
      "metadata": {
        "colab": {
          "base_uri": "https://localhost:8080/"
        },
        "id": "U0Rs65I4pOwW",
        "outputId": "dad3917d-9533-4db5-a077-e89bc7b7451a"
      },
      "execution_count": null,
      "outputs": [
        {
          "output_type": "execute_result",
          "data": {
            "text/plain": [
              "0.1285905855559773"
            ]
          },
          "metadata": {},
          "execution_count": 346
        }
      ]
    },
    {
      "cell_type": "markdown",
      "source": [
        "Calculate Sharpe Ratio for Buy and Hold with optimum Weights from 2022-11-01 till 2023-11-01\n"
      ],
      "metadata": {
        "id": "LPxRQBlvsQwO"
      }
    },
    {
      "cell_type": "code",
      "source": [
        "optimum_sr = -1 * Sharpe_ratio_objective(optimal_weights_sharpe, test_data)\n",
        "optimum_sr"
      ],
      "metadata": {
        "colab": {
          "base_uri": "https://localhost:8080/"
        },
        "id": "-o3L-RTzsXNj",
        "outputId": "3985c9d3-3cee-4c97-adc1-92c7fa1e181b"
      },
      "execution_count": null,
      "outputs": [
        {
          "output_type": "execute_result",
          "data": {
            "text/plain": [
              "0.17728326095656688"
            ]
          },
          "metadata": {},
          "execution_count": 347
        }
      ]
    },
    {
      "cell_type": "markdown",
      "source": [
        "## Sortino Ratio Calculation on Buy and Hold with data from 2023-11-02 till 2023-12-02"
      ],
      "metadata": {
        "id": "6FJNyQx0slPJ"
      }
    },
    {
      "cell_type": "markdown",
      "source": [
        "Calculate Sortino Ratio for Buy and Hold with initial Weights"
      ],
      "metadata": {
        "id": "Vl64uPl3sn4F"
      }
    },
    {
      "cell_type": "code",
      "source": [
        "init_sortino = -1 * Sortino_ratio_objective(coefficients, test_data)\n",
        "init_sortino"
      ],
      "metadata": {
        "colab": {
          "base_uri": "https://localhost:8080/"
        },
        "id": "IXnrFqmPsbpA",
        "outputId": "1969cc04-12ac-4433-b245-cf88961bdbaa"
      },
      "execution_count": null,
      "outputs": [
        {
          "output_type": "execute_result",
          "data": {
            "text/plain": [
              "0.1781280722317655"
            ]
          },
          "metadata": {},
          "execution_count": 348
        }
      ]
    },
    {
      "cell_type": "markdown",
      "source": [
        "Calculate Sortino Ratio for Buy and Hold with optimum weights from 2022-11-01 till 2023-11-01"
      ],
      "metadata": {
        "id": "p6Fp4Ij9s1U9"
      }
    },
    {
      "cell_type": "code",
      "source": [
        "optimum_sortino = -1 * Sortino_ratio_objective(optimal_weights_sortino, test_data)\n",
        "optimum_sortino"
      ],
      "metadata": {
        "colab": {
          "base_uri": "https://localhost:8080/"
        },
        "id": "ecSTk4G7svou",
        "outputId": "1afeaf7f-6b3a-4fc2-824e-4cf4ef56ad97"
      },
      "execution_count": null,
      "outputs": [
        {
          "output_type": "execute_result",
          "data": {
            "text/plain": [
              "0.2517768331859311"
            ]
          },
          "metadata": {},
          "execution_count": 349
        }
      ]
    },
    {
      "cell_type": "markdown",
      "source": [
        "## Net Profit Calculation on Buy and Hold with data from 2023-11-02 till 2023-12-02\n",
        "\n",
        "\n"
      ],
      "metadata": {
        "id": "foWVAy-7s7Vj"
      }
    },
    {
      "cell_type": "markdown",
      "source": [
        "Calculate Net Profit for Buy and Hold with initial Weights"
      ],
      "metadata": {
        "id": "h7osNBTts_ex"
      }
    },
    {
      "cell_type": "code",
      "source": [
        "init_net = -1 * net_profit_objective(coefficients, test_data)\n",
        "init_net"
      ],
      "metadata": {
        "colab": {
          "base_uri": "https://localhost:8080/"
        },
        "id": "BweTUfjBs25u",
        "outputId": "1d6b889f-ea39-4500-cdd7-cec342ed0ade"
      },
      "execution_count": null,
      "outputs": [
        {
          "output_type": "execute_result",
          "data": {
            "text/plain": [
              "81.55078648430435"
            ]
          },
          "metadata": {},
          "execution_count": 350
        }
      ]
    },
    {
      "cell_type": "markdown",
      "source": [
        "Calculate Net Profit for Buy and Hold with optimum weights from 2022-11-01 till 2023-11-01"
      ],
      "metadata": {
        "id": "ICtX2vbItOlj"
      }
    },
    {
      "cell_type": "code",
      "source": [
        "optimum_net = -1 * net_profit_objective(optimal_weights_netProfit, test_data)\n",
        "optimum_net"
      ],
      "metadata": {
        "colab": {
          "base_uri": "https://localhost:8080/"
        },
        "id": "IveNbiXgtEgI",
        "outputId": "b3871fed-8280-4a0d-9015-6c08dface3f3"
      },
      "execution_count": null,
      "outputs": [
        {
          "output_type": "execute_result",
          "data": {
            "text/plain": [
              "107.34678041153438"
            ]
          },
          "metadata": {},
          "execution_count": 351
        }
      ]
    },
    {
      "cell_type": "markdown",
      "source": [
        "## Find Optimum Weights for Maximizing the Sharpe Ratio on Test Data"
      ],
      "metadata": {
        "id": "a9BrEgbktxbS"
      }
    },
    {
      "cell_type": "code",
      "source": [
        "# Step 6: Optimize Portfolio for Sharpe Ratio\n",
        "result = minimize(Sharpe_ratio_objective, coefficients, args=(test_data,), method='SLSQP', constraints=constraints, bounds=bounds)\n",
        "optimal_weights_sharpe = result.x"
      ],
      "metadata": {
        "id": "XZyF7AkvtV91"
      },
      "execution_count": null,
      "outputs": []
    },
    {
      "cell_type": "code",
      "source": [
        "optimal_weights_sharpe"
      ],
      "metadata": {
        "colab": {
          "base_uri": "https://localhost:8080/"
        },
        "id": "UYs1Vpiht6xr",
        "outputId": "8af01045-e59d-489e-fe1c-d44ec97797fe"
      },
      "execution_count": null,
      "outputs": [
        {
          "output_type": "execute_result",
          "data": {
            "text/plain": [
              "array([8.154934652358800e-01, 1.845065345641201e-01,\n",
              "       1.000001203805417e-10, 1.000000097919201e-10])"
            ]
          },
          "metadata": {},
          "execution_count": 353
        }
      ]
    },
    {
      "cell_type": "code",
      "source": [
        "assert round(sum(optimal_weights_sharpe)) == 1, \"The sum of coefficients must be equal to one.\"\n",
        "assert all(value > 0 for value in optimal_weights_sharpe), \"All values are greater than 0.\""
      ],
      "metadata": {
        "id": "Rsn40WrEt7tA"
      },
      "execution_count": null,
      "outputs": []
    },
    {
      "cell_type": "markdown",
      "source": [
        "Calculate Sharpe Ratio for Buy and Hold with optimum weights from 2023-11-02 till 2023-12-02"
      ],
      "metadata": {
        "id": "kUX7XmbCwOD0"
      }
    },
    {
      "cell_type": "code",
      "source": [
        "optimum_sr = -1 * Sharpe_ratio_objective(optimal_weights_sharpe, test_data)\n",
        "optimum_sr"
      ],
      "metadata": {
        "colab": {
          "base_uri": "https://localhost:8080/"
        },
        "id": "qd5Zuv0it8nl",
        "outputId": "281e9e84-064e-4e84-ec68-5bf88a43415a"
      },
      "execution_count": null,
      "outputs": [
        {
          "output_type": "execute_result",
          "data": {
            "text/plain": [
              "0.17989591604262797"
            ]
          },
          "metadata": {},
          "execution_count": 355
        }
      ]
    },
    {
      "cell_type": "markdown",
      "source": [
        "## Find Optimum Weights for Maximizing the Sortino Ratio on Test Data"
      ],
      "metadata": {
        "id": "e1qRGQwkuKqe"
      }
    },
    {
      "cell_type": "code",
      "source": [
        "result = minimize(Sortino_ratio_objective, coefficients, args=(test_data,), method='SLSQP', constraints=constraints, bounds=bounds)\n",
        "optimal_weights_sortino = result.x\n",
        "optimal_weights_sortino"
      ],
      "metadata": {
        "colab": {
          "base_uri": "https://localhost:8080/"
        },
        "id": "rDRBa6Xyt_g0",
        "outputId": "d692effa-0283-444a-a159-3c2a69ddec33"
      },
      "execution_count": null,
      "outputs": [
        {
          "output_type": "execute_result",
          "data": {
            "text/plain": [
              "array([9.999892580658809e-11, 9.999999997000011e-01,\n",
              "       9.999998745735539e-11, 1.000000724588057e-10])"
            ]
          },
          "metadata": {},
          "execution_count": 356
        }
      ]
    },
    {
      "cell_type": "code",
      "source": [
        "assert round(sum(optimal_weights_sortino)) == 1, \"The sum of coefficients must be equal to one.\"\n",
        "assert all(value > 0 for value in optimal_weights_sortino), \"All values are greater than 0.\""
      ],
      "metadata": {
        "id": "F15ZL7SBuMnx"
      },
      "execution_count": null,
      "outputs": []
    },
    {
      "cell_type": "markdown",
      "source": [
        "Calculate Sortino Ratio for Buy and Hold with optimum weights from 2023-11-02 till 2023-12-02"
      ],
      "metadata": {
        "id": "vWW7H_SIwf01"
      }
    },
    {
      "cell_type": "code",
      "source": [
        "optimum_sortino = -1 * Sortino_ratio_objective(optimal_weights_sortino, test_data)\n",
        "optimum_sortino"
      ],
      "metadata": {
        "colab": {
          "base_uri": "https://localhost:8080/"
        },
        "id": "8W9ohVQVuN9E",
        "outputId": "156df9d8-2950-4213-c6c2-5f1af3fa2632"
      },
      "execution_count": null,
      "outputs": [
        {
          "output_type": "execute_result",
          "data": {
            "text/plain": [
              "0.31220518881769305"
            ]
          },
          "metadata": {},
          "execution_count": 358
        }
      ]
    },
    {
      "cell_type": "markdown",
      "source": [
        "## Find Optimum Weights for Maximizing the Net Profit on Test Data"
      ],
      "metadata": {
        "id": "9wI9BTowuaTo"
      }
    },
    {
      "cell_type": "code",
      "source": [
        "result = minimize(net_profit_objective, coefficients, args=(test_data,), method='SLSQP', constraints=constraints, bounds=bounds)\n",
        "optimal_weights_netProfit = result.x\n",
        "optimal_weights_netProfit"
      ],
      "metadata": {
        "colab": {
          "base_uri": "https://localhost:8080/"
        },
        "id": "ROFuV2TPug-f",
        "outputId": "d76443ad-6d46-4b50-fdd1-30c6bd6419ed"
      },
      "execution_count": null,
      "outputs": [
        {
          "output_type": "execute_result",
          "data": {
            "text/plain": [
              "array([1.067818611311111e-10, 9.999999997171569e-01,\n",
              "       9.011741353148750e-11, 8.594394640404346e-11])"
            ]
          },
          "metadata": {},
          "execution_count": 359
        }
      ]
    },
    {
      "cell_type": "code",
      "source": [
        "assert round(sum(optimal_weights_netProfit)) == 1, \"The sum of coefficients must be equal to one.\"\n",
        "assert all(value > 0 for value in optimal_weights_netProfit), \"All values are greater than 0.\""
      ],
      "metadata": {
        "id": "bpNulxYMumHc"
      },
      "execution_count": null,
      "outputs": []
    },
    {
      "cell_type": "markdown",
      "source": [
        "Calculate Net Profit for Buy and Hold with optimum weights from 2023-11-02 till 2023-12-02"
      ],
      "metadata": {
        "id": "Z8Rb2075wlkW"
      }
    },
    {
      "cell_type": "code",
      "source": [
        "optimum_net = -1 * net_profit_objective(optimal_weights_netProfit, test_data)\n",
        "optimum_net"
      ],
      "metadata": {
        "colab": {
          "base_uri": "https://localhost:8080/"
        },
        "id": "zR-U959OuRug",
        "outputId": "5096ab39-c800-4bdd-e9f9-cc8c9bb2121b"
      },
      "execution_count": null,
      "outputs": [
        {
          "output_type": "execute_result",
          "data": {
            "text/plain": [
              "159.12228356278865"
            ]
          },
          "metadata": {},
          "execution_count": 361
        }
      ]
    }
  ]
}