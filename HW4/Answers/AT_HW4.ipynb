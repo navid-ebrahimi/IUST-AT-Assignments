{
  "nbformat": 4,
  "nbformat_minor": 0,
  "metadata": {
    "colab": {
      "provenance": []
    },
    "kernelspec": {
      "name": "python3",
      "display_name": "Python 3"
    },
    "language_info": {
      "name": "python"
    }
  },
  "cells": [
    {
      "cell_type": "code",
      "execution_count": 6,
      "metadata": {
        "id": "KFYsBtF6QP1S",
        "colab": {
          "base_uri": "https://localhost:8080/"
        },
        "outputId": "3fb59999-d2c5-4057-ea51-cd843bd5cac1"
      },
      "outputs": [
        {
          "output_type": "stream",
          "name": "stdout",
          "text": [
            "Requirement already satisfied: arch in /usr/local/lib/python3.10/dist-packages (6.2.0)\n",
            "Requirement already satisfied: numpy>=1.19 in /usr/local/lib/python3.10/dist-packages (from arch) (1.23.5)\n",
            "Requirement already satisfied: scipy>=1.5 in /usr/local/lib/python3.10/dist-packages (from arch) (1.11.4)\n",
            "Requirement already satisfied: pandas>=1.1 in /usr/local/lib/python3.10/dist-packages (from arch) (1.5.3)\n",
            "Requirement already satisfied: statsmodels>=0.12 in /usr/local/lib/python3.10/dist-packages (from arch) (0.14.1)\n",
            "Requirement already satisfied: python-dateutil>=2.8.1 in /usr/local/lib/python3.10/dist-packages (from pandas>=1.1->arch) (2.8.2)\n",
            "Requirement already satisfied: pytz>=2020.1 in /usr/local/lib/python3.10/dist-packages (from pandas>=1.1->arch) (2023.3.post1)\n",
            "Requirement already satisfied: patsy>=0.5.4 in /usr/local/lib/python3.10/dist-packages (from statsmodels>=0.12->arch) (0.5.4)\n",
            "Requirement already satisfied: packaging>=21.3 in /usr/local/lib/python3.10/dist-packages (from statsmodels>=0.12->arch) (23.2)\n",
            "Requirement already satisfied: six in /usr/local/lib/python3.10/dist-packages (from patsy>=0.5.4->statsmodels>=0.12->arch) (1.16.0)\n"
          ]
        }
      ],
      "source": [
        "!pip install arch"
      ]
    },
    {
      "cell_type": "code",
      "source": [
        "import yfinance as yf\n",
        "from datetime import datetime, timedelta, timezone\n",
        "import matplotlib.pyplot as plt\n",
        "from statsmodels.graphics.tsaplots import plot_acf, plot_pacf\n",
        "from statsmodels.tsa.stattools import adfuller\n",
        "from statsmodels.tsa.arima.model import ARIMA\n",
        "import numpy as np\n",
        "import seaborn as sns\n",
        "from tqdm import tqdm\n",
        "import pandas as pd\n",
        "from statsmodels.tools.sm_exceptions import ValueWarning, HessianInversionWarning, ConvergenceWarning\n",
        "import warnings\n",
        "from time import time\n",
        "from sklearn.metrics import mean_squared_error\n",
        "from arch import arch_model\n",
        "import csv\n",
        "\n",
        "\n",
        "warnings.filterwarnings('ignore', category=ValueWarning)\n",
        "warnings.filterwarnings('ignore', category=HessianInversionWarning)\n",
        "warnings.filterwarnings('ignore', category=ConvergenceWarning)\n",
        "warnings.filterwarnings('ignore', category=UserWarning)"
      ],
      "metadata": {
        "id": "qxKcv08An1ih"
      },
      "execution_count": 7,
      "outputs": []
    },
    {
      "cell_type": "markdown",
      "source": [
        "# **Get Datas**"
      ],
      "metadata": {
        "id": "z-LGdFvn1zOD"
      }
    },
    {
      "cell_type": "code",
      "source": [
        "cryptos = ['BTC-USD', 'ETH-USD']\n",
        "\n",
        "start_date = datetime(2021,7,1, tzinfo=timezone.utc)\n",
        "end_date = datetime(2023,12,1, tzinfo=timezone.utc)\n",
        "\n",
        "train_start_date = datetime(2021,7,1, tzinfo=timezone.utc)\n",
        "train_end_date = datetime(2023,7,1, tzinfo=timezone.utc)\n",
        "\n",
        "test_start_date = datetime(2023,7,1, tzinfo=timezone.utc)\n",
        "test_end_date = datetime(2023,12,1, tzinfo=timezone.utc)"
      ],
      "metadata": {
        "id": "VLteJxUL119Q"
      },
      "execution_count": 37,
      "outputs": []
    },
    {
      "cell_type": "code",
      "source": [
        "prices = {}\n",
        "returns = {}\n",
        "\n",
        "for crypto in cryptos:\n",
        "    ticker = yf.Ticker(crypto)\n",
        "    prices_1d = ticker.history(start=start_date, end=end_date, interval='1d').Close\n",
        "    returns_1d = prices_1d.pct_change().dropna()\n",
        "\n",
        "    if crypto not in prices:\n",
        "        prices[crypto] = []\n",
        "        returns[crypto] = []\n",
        "\n",
        "    prices[crypto].append(prices_1d)\n",
        "    returns[crypto].append(returns_1d)\n"
      ],
      "metadata": {
        "id": "cL-tjOJQ2qrm"
      },
      "execution_count": 38,
      "outputs": []
    },
    {
      "cell_type": "code",
      "source": [
        "train_data_price = []\n",
        "test_data_price = []\n",
        "\n",
        "train_data_return = []\n",
        "test_data_return = []\n",
        "\n",
        "data_price = []\n",
        "\n",
        "for i, crypto in enumerate(cryptos):\n",
        "  data_price.append(returns[crypto][0].loc[start_date:end_date])\n",
        "\n",
        "  train_data_price.append(returns[crypto][0].loc[train_start_date:train_end_date]) # train_data[0] => BTC, train_data[1] => ETH\n",
        "  test_data_price.append(returns[crypto][0].loc[test_start_date + timedelta(days=1):test_end_date]) # test_data[0] => BTC, test_data[1] => ETH\n",
        "\n",
        "  train_data_return.append(returns[crypto][0].loc[train_start_date:train_end_date]) # train_data[0] => BTC, train_data[1] => ETH\n",
        "  test_data_return.append(returns[crypto][0].loc[test_start_date + timedelta(days=1):test_end_date]) # test_data[0] => BTC, test_data[1] => ETH"
      ],
      "metadata": {
        "id": "1LaZ1u7KIJ3t"
      },
      "execution_count": 39,
      "outputs": []
    },
    {
      "cell_type": "markdown",
      "source": [
        "# **Train Model with Brute Force**"
      ],
      "metadata": {
        "id": "VtNN-0oz5etF"
      }
    },
    {
      "cell_type": "code",
      "source": [
        "windows = {}\n",
        "test_size = len(train_data_price[0])\n",
        "residuals = []\n",
        "\n",
        "def best_arima_model(i, j):\n",
        "  train_data_R = data_price[i][j:j+test_size]\n",
        "  windows[f'{cryptos[i]}, {j}'] = []\n",
        "  best_p = 0\n",
        "  best_q = 0\n",
        "  best_aic = 99999999\n",
        "  best_model = None\n",
        "  for p in range(1,6):\n",
        "    for q in range(1,6):\n",
        "      try:\n",
        "          model = ARIMA(train_data_R, order=(p,0,q))\n",
        "          model_fit = model.fit()\n",
        "          if best_aic > model_fit.aic:\n",
        "            best_p = p\n",
        "            best_q = q\n",
        "            best_model = model_fit\n",
        "            best_aic = model_fit.aic\n",
        "\n",
        "      except:\n",
        "          pass\n",
        "\n",
        "  residual = best_model.resid\n",
        "  residuals.append(residual)\n",
        "  return best_p, best_q, residual"
      ],
      "metadata": {
        "id": "35ac-3Cy5iXf"
      },
      "execution_count": 11,
      "outputs": []
    },
    {
      "cell_type": "markdown",
      "source": [
        "# **Arch Model**"
      ],
      "metadata": {
        "id": "Pomb8HmlBkOB"
      }
    },
    {
      "cell_type": "code",
      "source": [
        "from arch import arch_model\n",
        "\n",
        "signals_all = []\n",
        "means = []\n",
        "\n",
        "for i in range(len(train_data_price)):\n",
        "  means.append([])\n",
        "  for j in range(len(test_data_price[0])):\n",
        "    p_val, q_val, residual = best_arima_model(i, j)\n",
        "    model = arch_model(residual, vol='Garch', p=p_val, q=q_val)\n",
        "    arch_model_fit = model.fit()\n",
        "    arch_model_forecast = arch_model_fit.forecast(horizon=1)\n",
        "    arch_mean = arch_model_forecast.mean\n",
        "    means[i].append(arch_mean.iloc[-1])\n"
      ],
      "metadata": {
        "colab": {
          "base_uri": "https://localhost:8080/"
        },
        "id": "6uMymSLaBrBh",
        "outputId": "cc21b68a-424e-4c3b-f1a3-fd4b027e408d"
      },
      "execution_count": 12,
      "outputs": [
        {
          "metadata": {
            "tags": null
          },
          "name": "stderr",
          "output_type": "stream",
          "text": [
            "/usr/local/lib/python3.10/dist-packages/arch/univariate/base.py:310: DataScaleWarning: y is poorly scaled, which may affect convergence of the optimizer when\n",
            "estimating the model parameters. The scale of y is 0.0009663. Parameter\n",
            "estimation work better when this value is between 1 and 1000. The recommended\n",
            "rescaling is 100 * y.\n",
            "\n",
            "This warning can be disabled by either rescaling y before initializing the\n",
            "model or by setting rescale=False.\n",
            "\n",
            "  warnings.warn(\n"
          ]
        },
        {
          "metadata": {
            "tags": null
          },
          "name": "stdout",
          "output_type": "stream",
          "text": [
            "Iteration:      1,   Func. Count:      6,   Neg. LLF: 29580319.074010603\n",
            "Iteration:      2,   Func. Count:     17,   Neg. LLF: 614.577245600678\n",
            "Iteration:      3,   Func. Count:     25,   Neg. LLF: -1145.7167282179737\n",
            "Iteration:      4,   Func. Count:     32,   Neg. LLF: -1197.3031990744548\n",
            "Iteration:      5,   Func. Count:     38,   Neg. LLF: -1200.8402431340346\n",
            "Iteration:      6,   Func. Count:     45,   Neg. LLF: -1201.514931371932\n",
            "Iteration:      7,   Func. Count:     51,   Neg. LLF: -1201.6051007324597\n",
            "Iteration:      8,   Func. Count:     56,   Neg. LLF: -1201.6051198245914\n",
            "Iteration:      9,   Func. Count:     60,   Neg. LLF: -1201.605119824701\n",
            "Optimization terminated successfully    (Exit mode 0)\n",
            "            Current function value: -1201.6051198245914\n",
            "            Iterations: 9\n",
            "            Function evaluations: 60\n",
            "            Gradient evaluations: 9\n"
          ]
        },
        {
          "metadata": {
            "tags": null
          },
          "name": "stderr",
          "output_type": "stream",
          "text": [
            "/usr/local/lib/python3.10/dist-packages/arch/univariate/base.py:310: DataScaleWarning: y is poorly scaled, which may affect convergence of the optimizer when\n",
            "estimating the model parameters. The scale of y is 0.0009661. Parameter\n",
            "estimation work better when this value is between 1 and 1000. The recommended\n",
            "rescaling is 100 * y.\n",
            "\n",
            "This warning can be disabled by either rescaling y before initializing the\n",
            "model or by setting rescale=False.\n",
            "\n",
            "  warnings.warn(\n"
          ]
        },
        {
          "metadata": {
            "tags": null
          },
          "name": "stdout",
          "output_type": "stream",
          "text": [
            "Iteration:      1,   Func. Count:      6,   Neg. LLF: 28459189.4910026\n",
            "Iteration:      2,   Func. Count:     17,   Neg. LLF: -572.6579665513901\n",
            "Iteration:      3,   Func. Count:     25,   Neg. LLF: -1145.4291002679834\n",
            "Iteration:      4,   Func. Count:     32,   Neg. LLF: -1197.9182168846917\n",
            "Iteration:      5,   Func. Count:     38,   Neg. LLF: -1200.0565587200042\n",
            "Iteration:      6,   Func. Count:     45,   Neg. LLF: -1202.4082115872943\n",
            "Iteration:      7,   Func. Count:     50,   Neg. LLF: -1202.4084486607453\n",
            "Iteration:      8,   Func. Count:     55,   Neg. LLF: -1202.4084636126554\n",
            "Iteration:      9,   Func. Count:     59,   Neg. LLF: -1202.4084636127636\n",
            "Optimization terminated successfully    (Exit mode 0)\n",
            "            Current function value: -1202.4084636126554\n",
            "            Iterations: 9\n",
            "            Function evaluations: 59\n",
            "            Gradient evaluations: 9\n"
          ]
        },
        {
          "metadata": {
            "tags": null
          },
          "name": "stderr",
          "output_type": "stream",
          "text": [
            "/usr/local/lib/python3.10/dist-packages/arch/univariate/base.py:310: DataScaleWarning: y is poorly scaled, which may affect convergence of the optimizer when\n",
            "estimating the model parameters. The scale of y is 0.0009624. Parameter\n",
            "estimation work better when this value is between 1 and 1000. The recommended\n",
            "rescaling is 100 * y.\n",
            "\n",
            "This warning can be disabled by either rescaling y before initializing the\n",
            "model or by setting rescale=False.\n",
            "\n",
            "  warnings.warn(\n"
          ]
        },
        {
          "metadata": {
            "tags": null
          },
          "name": "stdout",
          "output_type": "stream",
          "text": [
            "Iteration:      1,   Func. Count:      6,   Neg. LLF: 253435798.3247407\n",
            "Iteration:      2,   Func. Count:     17,   Neg. LLF: 490.3242802209989\n",
            "Iteration:      3,   Func. Count:     25,   Neg. LLF: -1147.9668891999872\n",
            "Iteration:      4,   Func. Count:     32,   Neg. LLF: -1198.4074157269897\n",
            "Iteration:      5,   Func. Count:     38,   Neg. LLF: -1180.2175900593006\n",
            "Iteration:      6,   Func. Count:     45,   Neg. LLF: -1203.1173954219369\n",
            "Iteration:      7,   Func. Count:     51,   Neg. LLF: -1203.1214888081508\n",
            "Iteration:      8,   Func. Count:     56,   Neg. LLF: -1203.1214956261106\n",
            "Iteration:      9,   Func. Count:     60,   Neg. LLF: -1203.121495626117\n",
            "Optimization terminated successfully    (Exit mode 0)\n",
            "            Current function value: -1203.1214956261106\n",
            "            Iterations: 9\n",
            "            Function evaluations: 60\n",
            "            Gradient evaluations: 9\n"
          ]
        },
        {
          "metadata": {
            "tags": null
          },
          "name": "stderr",
          "output_type": "stream",
          "text": [
            "/usr/local/lib/python3.10/dist-packages/arch/univariate/base.py:310: DataScaleWarning: y is poorly scaled, which may affect convergence of the optimizer when\n",
            "estimating the model parameters. The scale of y is 0.000951. Parameter\n",
            "estimation work better when this value is between 1 and 1000. The recommended\n",
            "rescaling is 100 * y.\n",
            "\n",
            "This warning can be disabled by either rescaling y before initializing the\n",
            "model or by setting rescale=False.\n",
            "\n",
            "  warnings.warn(\n"
          ]
        },
        {
          "metadata": {
            "tags": null
          },
          "name": "stdout",
          "output_type": "stream",
          "text": [
            "Iteration:      1,   Func. Count:      6,   Neg. LLF: 370216090.6304934\n",
            "Iteration:      2,   Func. Count:     17,   Neg. LLF: 537.8398602674876\n",
            "Iteration:      3,   Func. Count:     25,   Neg. LLF: -1149.848253074198\n",
            "Iteration:      4,   Func. Count:     32,   Neg. LLF: -1201.9511095798512\n",
            "Iteration:      5,   Func. Count:     38,   Neg. LLF: -1182.9247324174207\n",
            "Iteration:      6,   Func. Count:     45,   Neg. LLF: -1206.9196344673178\n",
            "Iteration:      7,   Func. Count:     50,   Neg. LLF: -1206.9212512512756\n",
            "Iteration:      8,   Func. Count:     55,   Neg. LLF: -1206.9212534507367\n",
            "Iteration:      9,   Func. Count:     59,   Neg. LLF: -1206.9212534508647\n",
            "Optimization terminated successfully    (Exit mode 0)\n",
            "            Current function value: -1206.9212534507367\n",
            "            Iterations: 9\n",
            "            Function evaluations: 59\n",
            "            Gradient evaluations: 9\n"
          ]
        },
        {
          "metadata": {
            "tags": null
          },
          "name": "stderr",
          "output_type": "stream",
          "text": [
            "/usr/local/lib/python3.10/dist-packages/arch/univariate/base.py:310: DataScaleWarning: y is poorly scaled, which may affect convergence of the optimizer when\n",
            "estimating the model parameters. The scale of y is 0.0009511. Parameter\n",
            "estimation work better when this value is between 1 and 1000. The recommended\n",
            "rescaling is 100 * y.\n",
            "\n",
            "This warning can be disabled by either rescaling y before initializing the\n",
            "model or by setting rescale=False.\n",
            "\n",
            "  warnings.warn(\n"
          ]
        },
        {
          "metadata": {
            "tags": null
          },
          "name": "stdout",
          "output_type": "stream",
          "text": [
            "Iteration:      1,   Func. Count:      6,   Neg. LLF: 26577415.540666346\n",
            "Iteration:      2,   Func. Count:     17,   Neg. LLF: 667.777646198109\n",
            "Iteration:      3,   Func. Count:     25,   Neg. LLF: -1150.0649130383765\n",
            "Iteration:      4,   Func. Count:     32,   Neg. LLF: -1202.0695102818984\n",
            "Iteration:      5,   Func. Count:     38,   Neg. LLF: -1193.7403613877734\n",
            "Iteration:      6,   Func. Count:     46,   Neg. LLF: -1206.9543286973903\n",
            "Iteration:      7,   Func. Count:     51,   Neg. LLF: -1206.9543694893393\n",
            "Iteration:      8,   Func. Count:     56,   Neg. LLF: -1206.9543709990153\n",
            "Iteration:      9,   Func. Count:     60,   Neg. LLF: -1206.9543709990207\n",
            "Optimization terminated successfully    (Exit mode 0)\n",
            "            Current function value: -1206.9543709990153\n",
            "            Iterations: 9\n",
            "            Function evaluations: 60\n",
            "            Gradient evaluations: 9\n"
          ]
        },
        {
          "metadata": {
            "tags": null
          },
          "name": "stderr",
          "output_type": "stream",
          "text": [
            "/usr/local/lib/python3.10/dist-packages/arch/univariate/base.py:310: DataScaleWarning: y is poorly scaled, which may affect convergence of the optimizer when\n",
            "estimating the model parameters. The scale of y is 0.0009507. Parameter\n",
            "estimation work better when this value is between 1 and 1000. The recommended\n",
            "rescaling is 100 * y.\n",
            "\n",
            "This warning can be disabled by either rescaling y before initializing the\n",
            "model or by setting rescale=False.\n",
            "\n",
            "  warnings.warn(\n"
          ]
        },
        {
          "metadata": {
            "tags": null
          },
          "name": "stdout",
          "output_type": "stream",
          "text": [
            "Iteration:      1,   Func. Count:      6,   Neg. LLF: 28776131.247369528\n",
            "Iteration:      2,   Func. Count:     17,   Neg. LLF: 448.5097846834992\n",
            "Iteration:      3,   Func. Count:     25,   Neg. LLF: -1150.2630310469222\n",
            "Iteration:      4,   Func. Count:     32,   Neg. LLF: -1202.1899085921584\n",
            "Iteration:      5,   Func. Count:     38,   Neg. LLF: -1184.9560169912986\n",
            "Iteration:      6,   Func. Count:     45,   Neg. LLF: -1207.1077306247182\n",
            "Iteration:      7,   Func. Count:     51,   Neg. LLF: -1207.1119129848435\n",
            "Iteration:      8,   Func. Count:     56,   Neg. LLF: -1207.1119148757616\n",
            "Iteration:      9,   Func. Count:     60,   Neg. LLF: -1207.1119148757657\n",
            "Optimization terminated successfully    (Exit mode 0)\n",
            "            Current function value: -1207.1119148757616\n",
            "            Iterations: 9\n",
            "            Function evaluations: 60\n",
            "            Gradient evaluations: 9\n"
          ]
        },
        {
          "metadata": {
            "tags": null
          },
          "name": "stderr",
          "output_type": "stream",
          "text": [
            "/usr/local/lib/python3.10/dist-packages/arch/univariate/base.py:310: DataScaleWarning: y is poorly scaled, which may affect convergence of the optimizer when\n",
            "estimating the model parameters. The scale of y is 0.0009511. Parameter\n",
            "estimation work better when this value is between 1 and 1000. The recommended\n",
            "rescaling is 100 * y.\n",
            "\n",
            "This warning can be disabled by either rescaling y before initializing the\n",
            "model or by setting rescale=False.\n",
            "\n",
            "  warnings.warn(\n"
          ]
        },
        {
          "metadata": {
            "tags": null
          },
          "name": "stdout",
          "output_type": "stream",
          "text": [
            "Iteration:      1,   Func. Count:      6,   Neg. LLF: 357928863.4885316\n",
            "Iteration:      2,   Func. Count:     17,   Neg. LLF: -724.5157940222201\n",
            "Iteration:      3,   Func. Count:     25,   Neg. LLF: -1144.6207310924315\n",
            "Iteration:      4,   Func. Count:     32,   Neg. LLF: -1201.873347533826\n",
            "Iteration:      5,   Func. Count:     38,   Neg. LLF: -1183.1868552746325\n",
            "Iteration:      6,   Func. Count:     45,   Neg. LLF: -1207.2608911041511\n",
            "Iteration:      7,   Func. Count:     50,   Neg. LLF: -1207.261049825443\n",
            "Iteration:      8,   Func. Count:     54,   Neg. LLF: -1207.261049825574\n",
            "Optimization terminated successfully    (Exit mode 0)\n",
            "            Current function value: -1207.261049825443\n",
            "            Iterations: 8\n",
            "            Function evaluations: 54\n",
            "            Gradient evaluations: 8\n"
          ]
        },
        {
          "metadata": {
            "tags": null
          },
          "name": "stderr",
          "output_type": "stream",
          "text": [
            "/usr/local/lib/python3.10/dist-packages/arch/univariate/base.py:310: DataScaleWarning: y is poorly scaled, which may affect convergence of the optimizer when\n",
            "estimating the model parameters. The scale of y is 0.0009511. Parameter\n",
            "estimation work better when this value is between 1 and 1000. The recommended\n",
            "rescaling is 100 * y.\n",
            "\n",
            "This warning can be disabled by either rescaling y before initializing the\n",
            "model or by setting rescale=False.\n",
            "\n",
            "  warnings.warn(\n"
          ]
        },
        {
          "metadata": {
            "tags": null
          },
          "name": "stdout",
          "output_type": "stream",
          "text": [
            "Iteration:      1,   Func. Count:      6,   Neg. LLF: 26066932.602510676\n",
            "Iteration:      2,   Func. Count:     17,   Neg. LLF: -766.3030523097171\n",
            "Iteration:      3,   Func. Count:     25,   Neg. LLF: -1145.7233483442615\n",
            "Iteration:      4,   Func. Count:     31,   Neg. LLF: -730.1542197732906\n",
            "Iteration:      5,   Func. Count:     39,   Neg. LLF: -1202.9725046176254\n",
            "Iteration:      6,   Func. Count:     45,   Neg. LLF: -1207.5035284842006\n",
            "Iteration:      7,   Func. Count:     51,   Neg. LLF: -1207.9086486192386\n",
            "Iteration:      8,   Func. Count:     56,   Neg. LLF: -1207.90871425954\n",
            "Iteration:      9,   Func. Count:     61,   Neg. LLF: -1207.9087163209174\n",
            "Iteration:     10,   Func. Count:     65,   Neg. LLF: -1207.9087163209197\n",
            "Optimization terminated successfully    (Exit mode 0)\n",
            "            Current function value: -1207.9087163209174\n",
            "            Iterations: 10\n",
            "            Function evaluations: 65\n",
            "            Gradient evaluations: 10\n"
          ]
        },
        {
          "output_type": "stream",
          "name": "stderr",
          "text": [
            "/usr/local/lib/python3.10/dist-packages/arch/univariate/base.py:310: DataScaleWarning: y is poorly scaled, which may affect convergence of the optimizer when\n",
            "estimating the model parameters. The scale of y is 0.0009457. Parameter\n",
            "estimation work better when this value is between 1 and 1000. The recommended\n",
            "rescaling is 100 * y.\n",
            "\n",
            "This warning can be disabled by either rescaling y before initializing the\n",
            "model or by setting rescale=False.\n",
            "\n",
            "  warnings.warn(\n"
          ]
        },
        {
          "output_type": "stream",
          "name": "stdout",
          "text": [
            "Iteration:      1,   Func. Count:      6,   Neg. LLF: 25593365.057446513\n",
            "Iteration:      2,   Func. Count:     17,   Neg. LLF: -754.3446311362495\n",
            "Iteration:      3,   Func. Count:     25,   Neg. LLF: -1148.3299149264103\n",
            "Iteration:      4,   Func. Count:     31,   Neg. LLF: 208.60250608526312\n",
            "Iteration:      5,   Func. Count:     38,   Neg. LLF: -1204.8401062833063\n",
            "Iteration:      6,   Func. Count:     44,   Neg. LLF: -1209.315934055307\n",
            "Iteration:      7,   Func. Count:     50,   Neg. LLF: -1209.6338737105334\n",
            "Iteration:      8,   Func. Count:     55,   Neg. LLF: -1209.6339391931365\n",
            "Iteration:      9,   Func. Count:     59,   Neg. LLF: -1209.6339391932318\n",
            "Optimization terminated successfully    (Exit mode 0)\n",
            "            Current function value: -1209.6339391931365\n",
            "            Iterations: 9\n",
            "            Function evaluations: 59\n",
            "            Gradient evaluations: 9\n"
          ]
        },
        {
          "output_type": "stream",
          "name": "stderr",
          "text": [
            "/usr/local/lib/python3.10/dist-packages/arch/univariate/base.py:310: DataScaleWarning: y is poorly scaled, which may affect convergence of the optimizer when\n",
            "estimating the model parameters. The scale of y is 0.0009457. Parameter\n",
            "estimation work better when this value is between 1 and 1000. The recommended\n",
            "rescaling is 100 * y.\n",
            "\n",
            "This warning can be disabled by either rescaling y before initializing the\n",
            "model or by setting rescale=False.\n",
            "\n",
            "  warnings.warn(\n"
          ]
        },
        {
          "output_type": "stream",
          "name": "stdout",
          "text": [
            "Iteration:      1,   Func. Count:      6,   Neg. LLF: 24664769.857089747\n",
            "Iteration:      2,   Func. Count:     17,   Neg. LLF: -725.4925233924603\n",
            "Iteration:      3,   Func. Count:     25,   Neg. LLF: -1146.735005929279\n",
            "Iteration:      4,   Func. Count:     31,   Neg. LLF: 1536415.5430887083\n",
            "Iteration:      5,   Func. Count:     38,   Neg. LLF: -1198.9962407403755\n",
            "Iteration:      6,   Func. Count:     44,   Neg. LLF: -1202.7949883245644\n",
            "Iteration:      7,   Func. Count:     51,   Neg. LLF: -1209.8499300206672\n",
            "Iteration:      8,   Func. Count:     57,   Neg. LLF: -1210.115389765171\n",
            "Iteration:      9,   Func. Count:     62,   Neg. LLF: -1210.1155181306144\n",
            "Iteration:     10,   Func. Count:     67,   Neg. LLF: -1210.1155219191537\n",
            "Iteration:     11,   Func. Count:     71,   Neg. LLF: -1210.1155219191692\n",
            "Optimization terminated successfully    (Exit mode 0)\n",
            "            Current function value: -1210.1155219191537\n",
            "            Iterations: 11\n",
            "            Function evaluations: 71\n",
            "            Gradient evaluations: 11\n"
          ]
        },
        {
          "output_type": "stream",
          "name": "stderr",
          "text": [
            "/usr/local/lib/python3.10/dist-packages/arch/univariate/base.py:310: DataScaleWarning: y is poorly scaled, which may affect convergence of the optimizer when\n",
            "estimating the model parameters. The scale of y is 0.0009423. Parameter\n",
            "estimation work better when this value is between 1 and 1000. The recommended\n",
            "rescaling is 100 * y.\n",
            "\n",
            "This warning can be disabled by either rescaling y before initializing the\n",
            "model or by setting rescale=False.\n",
            "\n",
            "  warnings.warn(\n"
          ]
        },
        {
          "output_type": "stream",
          "name": "stdout",
          "text": [
            "Iteration:      1,   Func. Count:      6,   Neg. LLF: 38950133.58464246\n",
            "Iteration:      2,   Func. Count:     17,   Neg. LLF: -798.4858044188572\n",
            "Iteration:      3,   Func. Count:     25,   Neg. LLF: -1149.4782463154804\n",
            "Iteration:      4,   Func. Count:     31,   Neg. LLF: -1165.1050465577664\n",
            "Iteration:      5,   Func. Count:     38,   Neg. LLF: -1206.8650804020513\n",
            "Iteration:      6,   Func. Count:     44,   Neg. LLF: -1210.6746129827222\n",
            "Iteration:      7,   Func. Count:     50,   Neg. LLF: -1211.136133912923\n",
            "Iteration:      8,   Func. Count:     55,   Neg. LLF: -1211.1361502123536\n",
            "Iteration:      9,   Func. Count:     59,   Neg. LLF: -1211.1361502121272\n",
            "Optimization terminated successfully    (Exit mode 0)\n",
            "            Current function value: -1211.1361502123536\n",
            "            Iterations: 9\n",
            "            Function evaluations: 59\n",
            "            Gradient evaluations: 9\n"
          ]
        },
        {
          "output_type": "stream",
          "name": "stderr",
          "text": [
            "/usr/local/lib/python3.10/dist-packages/arch/univariate/base.py:310: DataScaleWarning: y is poorly scaled, which may affect convergence of the optimizer when\n",
            "estimating the model parameters. The scale of y is 0.0009307. Parameter\n",
            "estimation work better when this value is between 1 and 1000. The recommended\n",
            "rescaling is 100 * y.\n",
            "\n",
            "This warning can be disabled by either rescaling y before initializing the\n",
            "model or by setting rescale=False.\n",
            "\n",
            "  warnings.warn(\n"
          ]
        },
        {
          "output_type": "stream",
          "name": "stdout",
          "text": [
            "Iteration:      1,   Func. Count:      9,   Neg. LLF: 221924613.58460292\n",
            "Iteration:      2,   Func. Count:     23,   Neg. LLF: 1373960.4862145374\n",
            "Iteration:      3,   Func. Count:     32,   Neg. LLF: -971.1043185254109\n",
            "Iteration:      4,   Func. Count:     43,   Neg. LLF: -1074.0014960616013\n",
            "Iteration:      5,   Func. Count:     52,   Neg. LLF: -1211.4383356284252\n",
            "Iteration:      6,   Func. Count:     61,   Neg. LLF: -1216.0732755301854\n",
            "Iteration:      7,   Func. Count:     69,   Neg. LLF: -1133.6817865234468\n",
            "Iteration:      8,   Func. Count:     78,   Neg. LLF: -1203.8189270806934\n",
            "Iteration:      9,   Func. Count:     88,   Neg. LLF: -1214.127150077705\n",
            "Iteration:     10,   Func. Count:     97,   Neg. LLF: -1217.2844780961527\n",
            "Iteration:     11,   Func. Count:    105,   Neg. LLF: -1217.2900616391748\n",
            "Iteration:     12,   Func. Count:    113,   Neg. LLF: -1217.2361907481998\n",
            "Iteration:     13,   Func. Count:    122,   Neg. LLF: -1217.2935817558023\n",
            "Iteration:     14,   Func. Count:    130,   Neg. LLF: -1217.2938549479552\n",
            "Iteration:     15,   Func. Count:    138,   Neg. LLF: -1217.293905379611\n",
            "Iteration:     16,   Func. Count:    146,   Neg. LLF: -1217.293908306954\n",
            "Iteration:     17,   Func. Count:    153,   Neg. LLF: -1217.2939083070853\n",
            "Optimization terminated successfully    (Exit mode 0)\n",
            "            Current function value: -1217.293908306954\n",
            "            Iterations: 17\n",
            "            Function evaluations: 153\n",
            "            Gradient evaluations: 17\n"
          ]
        },
        {
          "output_type": "stream",
          "name": "stderr",
          "text": [
            "/usr/local/lib/python3.10/dist-packages/arch/univariate/base.py:310: DataScaleWarning: y is poorly scaled, which may affect convergence of the optimizer when\n",
            "estimating the model parameters. The scale of y is 0.0009365. Parameter\n",
            "estimation work better when this value is between 1 and 1000. The recommended\n",
            "rescaling is 100 * y.\n",
            "\n",
            "This warning can be disabled by either rescaling y before initializing the\n",
            "model or by setting rescale=False.\n",
            "\n",
            "  warnings.warn(\n"
          ]
        },
        {
          "output_type": "stream",
          "name": "stdout",
          "text": [
            "Iteration:      1,   Func. Count:      6,   Neg. LLF: 43034264.21343059\n",
            "Iteration:      2,   Func. Count:     17,   Neg. LLF: -783.7146717924667\n",
            "Iteration:      3,   Func. Count:     25,   Neg. LLF: -1152.9749016480187\n",
            "Iteration:      4,   Func. Count:     31,   Neg. LLF: -999.5915439094019\n",
            "Iteration:      5,   Func. Count:     38,   Neg. LLF: -1209.4585074520785\n",
            "Iteration:      6,   Func. Count:     44,   Neg. LLF: -1213.3837590581747\n",
            "Iteration:      7,   Func. Count:     50,   Neg. LLF: -1213.4957042095457\n",
            "Iteration:      8,   Func. Count:     55,   Neg. LLF: -1213.4957392259294\n",
            "Iteration:      9,   Func. Count:     59,   Neg. LLF: -1213.4957392260992\n",
            "Optimization terminated successfully    (Exit mode 0)\n",
            "            Current function value: -1213.4957392259294\n",
            "            Iterations: 9\n",
            "            Function evaluations: 59\n",
            "            Gradient evaluations: 9\n"
          ]
        },
        {
          "output_type": "stream",
          "name": "stderr",
          "text": [
            "/usr/local/lib/python3.10/dist-packages/arch/univariate/base.py:310: DataScaleWarning: y is poorly scaled, which may affect convergence of the optimizer when\n",
            "estimating the model parameters. The scale of y is 0.0009387. Parameter\n",
            "estimation work better when this value is between 1 and 1000. The recommended\n",
            "rescaling is 100 * y.\n",
            "\n",
            "This warning can be disabled by either rescaling y before initializing the\n",
            "model or by setting rescale=False.\n",
            "\n",
            "  warnings.warn(\n"
          ]
        },
        {
          "output_type": "stream",
          "name": "stdout",
          "text": [
            "Iteration:      1,   Func. Count:      6,   Neg. LLF: 29975781.020620007\n",
            "Iteration:      2,   Func. Count:     17,   Neg. LLF: -854.983429086151\n",
            "Iteration:      3,   Func. Count:     25,   Neg. LLF: -1152.028752486524\n",
            "Iteration:      4,   Func. Count:     31,   Neg. LLF: -1207.4537511942676\n",
            "Iteration:      5,   Func. Count:     38,   Neg. LLF: -1207.8857094831549\n",
            "Iteration:      6,   Func. Count:     44,   Neg. LLF: -1212.8196422249628\n",
            "Iteration:      7,   Func. Count:     50,   Neg. LLF: -1212.9166319390765\n",
            "Iteration:      8,   Func. Count:     55,   Neg. LLF: -1212.9169755444323\n",
            "Iteration:      9,   Func. Count:     59,   Neg. LLF: -1212.9169755445814\n",
            "Optimization terminated successfully    (Exit mode 0)\n",
            "            Current function value: -1212.9169755444323\n",
            "            Iterations: 9\n",
            "            Function evaluations: 59\n",
            "            Gradient evaluations: 9\n"
          ]
        },
        {
          "output_type": "stream",
          "name": "stderr",
          "text": [
            "/usr/local/lib/python3.10/dist-packages/arch/univariate/base.py:310: DataScaleWarning: y is poorly scaled, which may affect convergence of the optimizer when\n",
            "estimating the model parameters. The scale of y is 0.0009344. Parameter\n",
            "estimation work better when this value is between 1 and 1000. The recommended\n",
            "rescaling is 100 * y.\n",
            "\n",
            "This warning can be disabled by either rescaling y before initializing the\n",
            "model or by setting rescale=False.\n",
            "\n",
            "  warnings.warn(\n"
          ]
        },
        {
          "output_type": "stream",
          "name": "stdout",
          "text": [
            "Iteration:      1,   Func. Count:      6,   Neg. LLF: 35903001.59955434\n",
            "Iteration:      2,   Func. Count:     17,   Neg. LLF: -722.1312128042957\n",
            "Iteration:      3,   Func. Count:     25,   Neg. LLF: -1155.0356023014772\n",
            "Iteration:      4,   Func. Count:     31,   Neg. LLF: 221829.8577210722\n",
            "Iteration:      5,   Func. Count:     38,   Neg. LLF: -1198.2008799500468\n",
            "Iteration:      6,   Func. Count:     44,   Neg. LLF: -1209.6237078042316\n",
            "Iteration:      7,   Func. Count:     50,   Neg. LLF: -1214.096883968582\n",
            "Iteration:      8,   Func. Count:     56,   Neg. LLF: -1214.298780144462\n",
            "Iteration:      9,   Func. Count:     61,   Neg. LLF: -1214.298865892953\n",
            "Iteration:     10,   Func. Count:     66,   Neg. LLF: -1214.298871416785\n",
            "Iteration:     11,   Func. Count:     70,   Neg. LLF: -1214.2988714168005\n",
            "Optimization terminated successfully    (Exit mode 0)\n",
            "            Current function value: -1214.298871416785\n",
            "            Iterations: 11\n",
            "            Function evaluations: 70\n",
            "            Gradient evaluations: 11\n"
          ]
        },
        {
          "output_type": "stream",
          "name": "stderr",
          "text": [
            "/usr/local/lib/python3.10/dist-packages/arch/univariate/base.py:310: DataScaleWarning: y is poorly scaled, which may affect convergence of the optimizer when\n",
            "estimating the model parameters. The scale of y is 0.0009334. Parameter\n",
            "estimation work better when this value is between 1 and 1000. The recommended\n",
            "rescaling is 100 * y.\n",
            "\n",
            "This warning can be disabled by either rescaling y before initializing the\n",
            "model or by setting rescale=False.\n",
            "\n",
            "  warnings.warn(\n"
          ]
        },
        {
          "output_type": "stream",
          "name": "stdout",
          "text": [
            "Iteration:      1,   Func. Count:      6,   Neg. LLF: 40734373.050208725\n",
            "Iteration:      2,   Func. Count:     17,   Neg. LLF: -750.5746909155281\n",
            "Iteration:      3,   Func. Count:     25,   Neg. LLF: -1156.6704475045956\n",
            "Iteration:      4,   Func. Count:     31,   Neg. LLF: -396.96100437614547\n",
            "Iteration:      5,   Func. Count:     39,   Neg. LLF: -1210.900551280156\n",
            "Iteration:      6,   Func. Count:     45,   Neg. LLF: -1214.7272227676658\n",
            "Iteration:      7,   Func. Count:     51,   Neg. LLF: -1214.7409136470174\n",
            "Iteration:      8,   Func. Count:     56,   Neg. LLF: -1214.7409323064855\n",
            "Iteration:      9,   Func. Count:     60,   Neg. LLF: -1214.740932306634\n",
            "Optimization terminated successfully    (Exit mode 0)\n",
            "            Current function value: -1214.7409323064855\n",
            "            Iterations: 9\n",
            "            Function evaluations: 60\n",
            "            Gradient evaluations: 9\n"
          ]
        },
        {
          "output_type": "stream",
          "name": "stderr",
          "text": [
            "/usr/local/lib/python3.10/dist-packages/arch/univariate/base.py:310: DataScaleWarning: y is poorly scaled, which may affect convergence of the optimizer when\n",
            "estimating the model parameters. The scale of y is 0.0009318. Parameter\n",
            "estimation work better when this value is between 1 and 1000. The recommended\n",
            "rescaling is 100 * y.\n",
            "\n",
            "This warning can be disabled by either rescaling y before initializing the\n",
            "model or by setting rescale=False.\n",
            "\n",
            "  warnings.warn(\n"
          ]
        },
        {
          "output_type": "stream",
          "name": "stdout",
          "text": [
            "Iteration:      1,   Func. Count:      6,   Neg. LLF: 43561727.51756314\n",
            "Iteration:      2,   Func. Count:     17,   Neg. LLF: -780.6853516545193\n",
            "Iteration:      3,   Func. Count:     25,   Neg. LLF: -1156.3559611851158\n",
            "Iteration:      4,   Func. Count:     31,   Neg. LLF: -1164.950251440598\n",
            "Iteration:      5,   Func. Count:     38,   Neg. LLF: -1211.7614691519468\n",
            "Iteration:      6,   Func. Count:     44,   Neg. LLF: -1215.5222137968062\n",
            "Iteration:      7,   Func. Count:     50,   Neg. LLF: -1215.5414840550266\n",
            "Iteration:      8,   Func. Count:     55,   Neg. LLF: -1215.5414944671302\n",
            "Iteration:      9,   Func. Count:     59,   Neg. LLF: -1215.5414944670456\n",
            "Optimization terminated successfully    (Exit mode 0)\n",
            "            Current function value: -1215.5414944671302\n",
            "            Iterations: 9\n",
            "            Function evaluations: 59\n",
            "            Gradient evaluations: 9\n"
          ]
        },
        {
          "output_type": "stream",
          "name": "stderr",
          "text": [
            "/usr/local/lib/python3.10/dist-packages/arch/univariate/base.py:310: DataScaleWarning: y is poorly scaled, which may affect convergence of the optimizer when\n",
            "estimating the model parameters. The scale of y is 0.0009316. Parameter\n",
            "estimation work better when this value is between 1 and 1000. The recommended\n",
            "rescaling is 100 * y.\n",
            "\n",
            "This warning can be disabled by either rescaling y before initializing the\n",
            "model or by setting rescale=False.\n",
            "\n",
            "  warnings.warn(\n"
          ]
        },
        {
          "output_type": "stream",
          "name": "stdout",
          "text": [
            "Iteration:      1,   Func. Count:      6,   Neg. LLF: 29318997.523296826\n",
            "Iteration:      2,   Func. Count:     17,   Neg. LLF: -757.2130211266384\n",
            "Iteration:      3,   Func. Count:     25,   Neg. LLF: -1156.7851739403702\n",
            "Iteration:      4,   Func. Count:     31,   Neg. LLF: -1123.0166559466631\n",
            "Iteration:      5,   Func. Count:     38,   Neg. LLF: -1211.763965891209\n",
            "Iteration:      6,   Func. Count:     44,   Neg. LLF: -1215.6392195002027\n",
            "Iteration:      7,   Func. Count:     50,   Neg. LLF: -1215.6451987612943\n",
            "Iteration:      8,   Func. Count:     55,   Neg. LLF: -1215.645217867912\n",
            "Iteration:      9,   Func. Count:     59,   Neg. LLF: -1215.6452178679497\n",
            "Optimization terminated successfully    (Exit mode 0)\n",
            "            Current function value: -1215.645217867912\n",
            "            Iterations: 9\n",
            "            Function evaluations: 59\n",
            "            Gradient evaluations: 9\n"
          ]
        },
        {
          "output_type": "stream",
          "name": "stderr",
          "text": [
            "/usr/local/lib/python3.10/dist-packages/arch/univariate/base.py:310: DataScaleWarning: y is poorly scaled, which may affect convergence of the optimizer when\n",
            "estimating the model parameters. The scale of y is 0.0009316. Parameter\n",
            "estimation work better when this value is between 1 and 1000. The recommended\n",
            "rescaling is 100 * y.\n",
            "\n",
            "This warning can be disabled by either rescaling y before initializing the\n",
            "model or by setting rescale=False.\n",
            "\n",
            "  warnings.warn(\n"
          ]
        },
        {
          "output_type": "stream",
          "name": "stdout",
          "text": [
            "Iteration:      1,   Func. Count:      6,   Neg. LLF: 28150342.85215299\n",
            "Iteration:      2,   Func. Count:     17,   Neg. LLF: -785.7844808196464\n",
            "Iteration:      3,   Func. Count:     25,   Neg. LLF: -1155.064085670459\n",
            "Iteration:      4,   Func. Count:     31,   Neg. LLF: -1211.7459120606045\n",
            "Iteration:      5,   Func. Count:     37,   Neg. LLF: -1159.2568768620135\n",
            "Iteration:      6,   Func. Count:     44,   Neg. LLF: -1215.7909693581578\n",
            "Iteration:      7,   Func. Count:     49,   Neg. LLF: -1215.7918678409874\n",
            "Iteration:      8,   Func. Count:     54,   Neg. LLF: -1215.7918974290296\n",
            "Iteration:      9,   Func. Count:     58,   Neg. LLF: -1215.7918974290767\n",
            "Optimization terminated successfully    (Exit mode 0)\n",
            "            Current function value: -1215.7918974290296\n",
            "            Iterations: 9\n",
            "            Function evaluations: 58\n",
            "            Gradient evaluations: 9\n"
          ]
        },
        {
          "output_type": "stream",
          "name": "stderr",
          "text": [
            "/usr/local/lib/python3.10/dist-packages/arch/univariate/base.py:310: DataScaleWarning: y is poorly scaled, which may affect convergence of the optimizer when\n",
            "estimating the model parameters. The scale of y is 0.0009315. Parameter\n",
            "estimation work better when this value is between 1 and 1000. The recommended\n",
            "rescaling is 100 * y.\n",
            "\n",
            "This warning can be disabled by either rescaling y before initializing the\n",
            "model or by setting rescale=False.\n",
            "\n",
            "  warnings.warn(\n"
          ]
        },
        {
          "output_type": "stream",
          "name": "stdout",
          "text": [
            "Iteration:      1,   Func. Count:      6,   Neg. LLF: 32526656.63977429\n",
            "Iteration:      2,   Func. Count:     17,   Neg. LLF: -798.0859374992347\n",
            "Iteration:      3,   Func. Count:     25,   Neg. LLF: -1155.8217454249275\n",
            "Iteration:      4,   Func. Count:     31,   Neg. LLF: -1205.2467214075446\n",
            "Iteration:      5,   Func. Count:     38,   Neg. LLF: -1211.4085289865054\n",
            "Iteration:      6,   Func. Count:     44,   Neg. LLF: -1216.1851056861692\n",
            "Iteration:      7,   Func. Count:     49,   Neg. LLF: -1216.18522740943\n",
            "Iteration:      8,   Func. Count:     54,   Neg. LLF: -1216.185265003676\n",
            "Iteration:      9,   Func. Count:     59,   Neg. LLF: -1216.185265345489\n",
            "Optimization terminated successfully    (Exit mode 0)\n",
            "            Current function value: -1216.185265345489\n",
            "            Iterations: 9\n",
            "            Function evaluations: 59\n",
            "            Gradient evaluations: 9\n"
          ]
        },
        {
          "output_type": "stream",
          "name": "stderr",
          "text": [
            "/usr/local/lib/python3.10/dist-packages/arch/univariate/base.py:310: DataScaleWarning: y is poorly scaled, which may affect convergence of the optimizer when\n",
            "estimating the model parameters. The scale of y is 0.0009283. Parameter\n",
            "estimation work better when this value is between 1 and 1000. The recommended\n",
            "rescaling is 100 * y.\n",
            "\n",
            "This warning can be disabled by either rescaling y before initializing the\n",
            "model or by setting rescale=False.\n",
            "\n",
            "  warnings.warn(\n"
          ]
        },
        {
          "output_type": "stream",
          "name": "stdout",
          "text": [
            "Iteration:      1,   Func. Count:      6,   Neg. LLF: 29315769.625699237\n",
            "Iteration:      2,   Func. Count:     17,   Neg. LLF: -794.6292165571014\n",
            "Iteration:      3,   Func. Count:     25,   Neg. LLF: -1157.242924443368\n",
            "Iteration:      4,   Func. Count:     31,   Neg. LLF: -1205.1858984352643\n",
            "Iteration:      5,   Func. Count:     38,   Neg. LLF: -1212.8556683634781\n",
            "Iteration:      6,   Func. Count:     44,   Neg. LLF: -1217.4697325032596\n",
            "Iteration:      7,   Func. Count:     49,   Neg. LLF: -1217.4699389325547\n",
            "Iteration:      8,   Func. Count:     54,   Neg. LLF: -1217.4699649631286\n",
            "Iteration:      9,   Func. Count:     59,   Neg. LLF: -1217.4699647505518\n",
            "Optimization terminated successfully    (Exit mode 0)\n",
            "            Current function value: -1217.469965115712\n",
            "            Iterations: 9\n",
            "            Function evaluations: 60\n",
            "            Gradient evaluations: 9\n"
          ]
        },
        {
          "output_type": "stream",
          "name": "stderr",
          "text": [
            "/usr/local/lib/python3.10/dist-packages/arch/univariate/base.py:310: DataScaleWarning: y is poorly scaled, which may affect convergence of the optimizer when\n",
            "estimating the model parameters. The scale of y is 0.0009282. Parameter\n",
            "estimation work better when this value is between 1 and 1000. The recommended\n",
            "rescaling is 100 * y.\n",
            "\n",
            "This warning can be disabled by either rescaling y before initializing the\n",
            "model or by setting rescale=False.\n",
            "\n",
            "  warnings.warn(\n"
          ]
        },
        {
          "output_type": "stream",
          "name": "stdout",
          "text": [
            "Iteration:      1,   Func. Count:      6,   Neg. LLF: 27484427.32824425\n",
            "Iteration:      2,   Func. Count:     17,   Neg. LLF: -745.5235376993912\n",
            "Iteration:      3,   Func. Count:     25,   Neg. LLF: -1160.0174446639408\n",
            "Iteration:      4,   Func. Count:     31,   Neg. LLF: -1208.6031856826921\n",
            "Iteration:      5,   Func. Count:     38,   Neg. LLF: -1213.2290339711822\n",
            "Iteration:      6,   Func. Count:     44,   Neg. LLF: -1217.8649544586656\n",
            "Iteration:      7,   Func. Count:     49,   Neg. LLF: -1217.867419370831\n",
            "Iteration:      8,   Func. Count:     54,   Neg. LLF: -1217.867693569738\n",
            "Iteration:      9,   Func. Count:     59,   Neg. LLF: -1217.86769497678\n",
            "Iteration:     10,   Func. Count:     63,   Neg. LLF: -1217.8676949768105\n",
            "Optimization terminated successfully    (Exit mode 0)\n",
            "            Current function value: -1217.86769497678\n",
            "            Iterations: 10\n",
            "            Function evaluations: 63\n",
            "            Gradient evaluations: 10\n"
          ]
        },
        {
          "output_type": "stream",
          "name": "stderr",
          "text": [
            "/usr/local/lib/python3.10/dist-packages/arch/univariate/base.py:310: DataScaleWarning: y is poorly scaled, which may affect convergence of the optimizer when\n",
            "estimating the model parameters. The scale of y is 0.0009249. Parameter\n",
            "estimation work better when this value is between 1 and 1000. The recommended\n",
            "rescaling is 100 * y.\n",
            "\n",
            "This warning can be disabled by either rescaling y before initializing the\n",
            "model or by setting rescale=False.\n",
            "\n",
            "  warnings.warn(\n"
          ]
        },
        {
          "output_type": "stream",
          "name": "stdout",
          "text": [
            "Iteration:      1,   Func. Count:      6,   Neg. LLF: 28364506.220275976\n",
            "Iteration:      2,   Func. Count:     17,   Neg. LLF: -777.7361209640526\n",
            "Iteration:      3,   Func. Count:     25,   Neg. LLF: -1159.0524798427093\n",
            "Iteration:      4,   Func. Count:     31,   Neg. LLF: -1199.8903719027257\n",
            "Iteration:      5,   Func. Count:     38,   Neg. LLF: -1214.7604896434327\n",
            "Iteration:      6,   Func. Count:     44,   Neg. LLF: -1219.4539483032345\n",
            "Iteration:      7,   Func. Count:     49,   Neg. LLF: -1219.4590681788886\n",
            "Iteration:      8,   Func. Count:     54,   Neg. LLF: -1219.4594789926234\n",
            "Iteration:      9,   Func. Count:     59,   Neg. LLF: -1219.4594803302982\n",
            "Iteration:     10,   Func. Count:     63,   Neg. LLF: -1219.4594803303048\n",
            "Optimization terminated successfully    (Exit mode 0)\n",
            "            Current function value: -1219.4594803302982\n",
            "            Iterations: 10\n",
            "            Function evaluations: 63\n",
            "            Gradient evaluations: 10\n"
          ]
        },
        {
          "output_type": "stream",
          "name": "stderr",
          "text": [
            "/usr/local/lib/python3.10/dist-packages/arch/univariate/base.py:310: DataScaleWarning: y is poorly scaled, which may affect convergence of the optimizer when\n",
            "estimating the model parameters. The scale of y is 0.0009264. Parameter\n",
            "estimation work better when this value is between 1 and 1000. The recommended\n",
            "rescaling is 100 * y.\n",
            "\n",
            "This warning can be disabled by either rescaling y before initializing the\n",
            "model or by setting rescale=False.\n",
            "\n",
            "  warnings.warn(\n"
          ]
        },
        {
          "output_type": "stream",
          "name": "stdout",
          "text": [
            "Iteration:      1,   Func. Count:      6,   Neg. LLF: 30298292.806002803\n",
            "Iteration:      2,   Func. Count:     17,   Neg. LLF: -742.9780630005598\n",
            "Iteration:      3,   Func. Count:     25,   Neg. LLF: -1163.2521835281834\n",
            "Iteration:      4,   Func. Count:     31,   Neg. LLF: -1206.3875401702262\n",
            "Iteration:      5,   Func. Count:     38,   Neg. LLF: -1214.1079812143316\n",
            "Iteration:      6,   Func. Count:     44,   Neg. LLF: -1218.6703369808415\n",
            "Iteration:      7,   Func. Count:     49,   Neg. LLF: -1218.680188785142\n",
            "Iteration:      8,   Func. Count:     54,   Neg. LLF: -1218.6835663574286\n",
            "Iteration:      9,   Func. Count:     59,   Neg. LLF: -1218.683660500316\n",
            "Iteration:     10,   Func. Count:     64,   Neg. LLF: -1218.6836639252842\n",
            "Iteration:     11,   Func. Count:     68,   Neg. LLF: -1218.6836639253484\n",
            "Optimization terminated successfully    (Exit mode 0)\n",
            "            Current function value: -1218.6836639252842\n",
            "            Iterations: 11\n",
            "            Function evaluations: 68\n",
            "            Gradient evaluations: 11\n"
          ]
        },
        {
          "output_type": "stream",
          "name": "stderr",
          "text": [
            "/usr/local/lib/python3.10/dist-packages/arch/univariate/base.py:310: DataScaleWarning: y is poorly scaled, which may affect convergence of the optimizer when\n",
            "estimating the model parameters. The scale of y is 0.0009264. Parameter\n",
            "estimation work better when this value is between 1 and 1000. The recommended\n",
            "rescaling is 100 * y.\n",
            "\n",
            "This warning can be disabled by either rescaling y before initializing the\n",
            "model or by setting rescale=False.\n",
            "\n",
            "  warnings.warn(\n"
          ]
        },
        {
          "output_type": "stream",
          "name": "stdout",
          "text": [
            "Iteration:      1,   Func. Count:      6,   Neg. LLF: 29243138.443582293\n",
            "Iteration:      2,   Func. Count:     17,   Neg. LLF: -761.143129349046\n",
            "Iteration:      3,   Func. Count:     25,   Neg. LLF: -1157.849323708955\n",
            "Iteration:      4,   Func. Count:     31,   Neg. LLF: -1203.4946629002902\n",
            "Iteration:      5,   Func. Count:     38,   Neg. LLF: -1213.8722769970748\n",
            "Iteration:      6,   Func. Count:     44,   Neg. LLF: -1218.6752660828852\n",
            "Iteration:      7,   Func. Count:     49,   Neg. LLF: -1218.6777463271778\n",
            "Iteration:      8,   Func. Count:     54,   Neg. LLF: -1218.6778369845015\n",
            "Iteration:      9,   Func. Count:     59,   Neg. LLF: -1218.6778372149497\n",
            "Optimization terminated successfully    (Exit mode 0)\n",
            "            Current function value: -1218.6778372149497\n",
            "            Iterations: 9\n",
            "            Function evaluations: 59\n",
            "            Gradient evaluations: 9\n"
          ]
        },
        {
          "output_type": "stream",
          "name": "stderr",
          "text": [
            "/usr/local/lib/python3.10/dist-packages/arch/univariate/base.py:310: DataScaleWarning: y is poorly scaled, which may affect convergence of the optimizer when\n",
            "estimating the model parameters. The scale of y is 0.0009261. Parameter\n",
            "estimation work better when this value is between 1 and 1000. The recommended\n",
            "rescaling is 100 * y.\n",
            "\n",
            "This warning can be disabled by either rescaling y before initializing the\n",
            "model or by setting rescale=False.\n",
            "\n",
            "  warnings.warn(\n"
          ]
        },
        {
          "output_type": "stream",
          "name": "stdout",
          "text": [
            "Iteration:      1,   Func. Count:      6,   Neg. LLF: 26700237.713466655\n",
            "Iteration:      2,   Func. Count:     17,   Neg. LLF: -750.5912645124273\n",
            "Iteration:      3,   Func. Count:     25,   Neg. LLF: -1157.5547115434651\n",
            "Iteration:      4,   Func. Count:     31,   Neg. LLF: -1199.9340052340012\n",
            "Iteration:      5,   Func. Count:     38,   Neg. LLF: -1214.2402324245404\n",
            "Iteration:      6,   Func. Count:     44,   Neg. LLF: -1218.871640065611\n",
            "Iteration:      7,   Func. Count:     49,   Neg. LLF: -1218.8764365356874\n",
            "Iteration:      8,   Func. Count:     54,   Neg. LLF: -1218.8765742548358\n",
            "Iteration:      9,   Func. Count:     59,   Neg. LLF: -1218.8765762356406\n",
            "Iteration:     10,   Func. Count:     63,   Neg. LLF: -1218.8765762356948\n",
            "Optimization terminated successfully    (Exit mode 0)\n",
            "            Current function value: -1218.8765762356406\n",
            "            Iterations: 10\n",
            "            Function evaluations: 63\n",
            "            Gradient evaluations: 10\n"
          ]
        },
        {
          "output_type": "stream",
          "name": "stderr",
          "text": [
            "/usr/local/lib/python3.10/dist-packages/arch/univariate/base.py:310: DataScaleWarning: y is poorly scaled, which may affect convergence of the optimizer when\n",
            "estimating the model parameters. The scale of y is 0.000926. Parameter\n",
            "estimation work better when this value is between 1 and 1000. The recommended\n",
            "rescaling is 100 * y.\n",
            "\n",
            "This warning can be disabled by either rescaling y before initializing the\n",
            "model or by setting rescale=False.\n",
            "\n",
            "  warnings.warn(\n"
          ]
        },
        {
          "output_type": "stream",
          "name": "stdout",
          "text": [
            "Iteration:      1,   Func. Count:      6,   Neg. LLF: 26556919.89749473\n",
            "Iteration:      2,   Func. Count:     17,   Neg. LLF: -745.5602671558447\n",
            "Iteration:      3,   Func. Count:     26,   Neg. LLF: -1159.3791294322082\n",
            "Iteration:      4,   Func. Count:     32,   Neg. LLF: -1215.5445843059151\n",
            "Iteration:      5,   Func. Count:     38,   Neg. LLF: -1211.4041292223524\n",
            "Iteration:      6,   Func. Count:     45,   Neg. LLF: -1219.6896574563718\n",
            "Iteration:      7,   Func. Count:     50,   Neg. LLF: -1219.704649865717\n",
            "Iteration:      8,   Func. Count:     55,   Neg. LLF: -1219.7059972752245\n",
            "Iteration:      9,   Func. Count:     60,   Neg. LLF: -1219.7060097687004\n",
            "Iteration:     10,   Func. Count:     64,   Neg. LLF: -1219.7060097687165\n",
            "Optimization terminated successfully    (Exit mode 0)\n",
            "            Current function value: -1219.7060097687004\n",
            "            Iterations: 10\n",
            "            Function evaluations: 64\n",
            "            Gradient evaluations: 10\n"
          ]
        },
        {
          "output_type": "stream",
          "name": "stderr",
          "text": [
            "/usr/local/lib/python3.10/dist-packages/arch/univariate/base.py:310: DataScaleWarning: y is poorly scaled, which may affect convergence of the optimizer when\n",
            "estimating the model parameters. The scale of y is 0.0009198. Parameter\n",
            "estimation work better when this value is between 1 and 1000. The recommended\n",
            "rescaling is 100 * y.\n",
            "\n",
            "This warning can be disabled by either rescaling y before initializing the\n",
            "model or by setting rescale=False.\n",
            "\n",
            "  warnings.warn(\n"
          ]
        },
        {
          "output_type": "stream",
          "name": "stdout",
          "text": [
            "Iteration:      1,   Func. Count:      6,   Neg. LLF: 27613748.863305315\n",
            "Iteration:      2,   Func. Count:     17,   Neg. LLF: -750.6349683179426\n",
            "Iteration:      3,   Func. Count:     26,   Neg. LLF: -1159.9754817806092\n",
            "Iteration:      4,   Func. Count:     32,   Neg. LLF: -1217.493968430401\n",
            "Iteration:      5,   Func. Count:     38,   Neg. LLF: -1215.0652710147829\n",
            "Iteration:      6,   Func. Count:     45,   Neg. LLF: -1222.254224006777\n",
            "Iteration:      7,   Func. Count:     50,   Neg. LLF: -1222.2827131134786\n",
            "Iteration:      8,   Func. Count:     55,   Neg. LLF: -1222.284916462751\n",
            "Iteration:      9,   Func. Count:     60,   Neg. LLF: -1222.2851033109553\n",
            "Iteration:     10,   Func. Count:     65,   Neg. LLF: -1222.285103686166\n",
            "Optimization terminated successfully    (Exit mode 0)\n",
            "            Current function value: -1222.285103686166\n",
            "            Iterations: 10\n",
            "            Function evaluations: 65\n",
            "            Gradient evaluations: 10\n"
          ]
        },
        {
          "output_type": "stream",
          "name": "stderr",
          "text": [
            "/usr/local/lib/python3.10/dist-packages/arch/univariate/base.py:310: DataScaleWarning: y is poorly scaled, which may affect convergence of the optimizer when\n",
            "estimating the model parameters. The scale of y is 0.0009189. Parameter\n",
            "estimation work better when this value is between 1 and 1000. The recommended\n",
            "rescaling is 100 * y.\n",
            "\n",
            "This warning can be disabled by either rescaling y before initializing the\n",
            "model or by setting rescale=False.\n",
            "\n",
            "  warnings.warn(\n"
          ]
        },
        {
          "output_type": "stream",
          "name": "stdout",
          "text": [
            "Iteration:      1,   Func. Count:      6,   Neg. LLF: 27020520.347506195\n",
            "Iteration:      2,   Func. Count:     17,   Neg. LLF: -750.3300422383948\n",
            "Iteration:      3,   Func. Count:     26,   Neg. LLF: -1159.6938397330998\n",
            "Iteration:      4,   Func. Count:     32,   Neg. LLF: -1217.5619430842767\n",
            "Iteration:      5,   Func. Count:     38,   Neg. LLF: -1215.8959421885197\n",
            "Iteration:      6,   Func. Count:     45,   Neg. LLF: -1222.7987601754223\n",
            "Iteration:      7,   Func. Count:     50,   Neg. LLF: -1222.8585394245831\n",
            "Iteration:      8,   Func. Count:     55,   Neg. LLF: -1222.861073531954\n",
            "Iteration:      9,   Func. Count:     60,   Neg. LLF: -1222.8614935173869\n",
            "Iteration:     10,   Func. Count:     65,   Neg. LLF: -1222.8614952207072\n",
            "Iteration:     11,   Func. Count:     69,   Neg. LLF: -1222.8614952207336\n",
            "Optimization terminated successfully    (Exit mode 0)\n",
            "            Current function value: -1222.8614952207072\n",
            "            Iterations: 11\n",
            "            Function evaluations: 69\n",
            "            Gradient evaluations: 11\n"
          ]
        },
        {
          "output_type": "stream",
          "name": "stderr",
          "text": [
            "/usr/local/lib/python3.10/dist-packages/arch/univariate/base.py:310: DataScaleWarning: y is poorly scaled, which may affect convergence of the optimizer when\n",
            "estimating the model parameters. The scale of y is 0.0009187. Parameter\n",
            "estimation work better when this value is between 1 and 1000. The recommended\n",
            "rescaling is 100 * y.\n",
            "\n",
            "This warning can be disabled by either rescaling y before initializing the\n",
            "model or by setting rescale=False.\n",
            "\n",
            "  warnings.warn(\n"
          ]
        },
        {
          "output_type": "stream",
          "name": "stdout",
          "text": [
            "Iteration:      1,   Func. Count:      6,   Neg. LLF: 28492824.984383903\n",
            "Iteration:      2,   Func. Count:     17,   Neg. LLF: -747.1921269163558\n",
            "Iteration:      3,   Func. Count:     26,   Neg. LLF: -1157.41089542263\n",
            "Iteration:      4,   Func. Count:     32,   Neg. LLF: -1217.045578879286\n",
            "Iteration:      5,   Func. Count:     38,   Neg. LLF: -1215.9031160116724\n",
            "Iteration:      6,   Func. Count:     44,   Neg. LLF: -1223.2316892771576\n",
            "Iteration:      7,   Func. Count:     50,   Neg. LLF: -1223.3822237113197\n",
            "Iteration:      8,   Func. Count:     55,   Neg. LLF: -1223.3866195609075\n",
            "Iteration:      9,   Func. Count:     60,   Neg. LLF: -1223.3866910965585\n",
            "Iteration:     10,   Func. Count:     64,   Neg. LLF: -1223.3866910966753\n",
            "Optimization terminated successfully    (Exit mode 0)\n",
            "            Current function value: -1223.3866910965585\n",
            "            Iterations: 10\n",
            "            Function evaluations: 64\n",
            "            Gradient evaluations: 10\n"
          ]
        },
        {
          "output_type": "stream",
          "name": "stderr",
          "text": [
            "/usr/local/lib/python3.10/dist-packages/arch/univariate/base.py:310: DataScaleWarning: y is poorly scaled, which may affect convergence of the optimizer when\n",
            "estimating the model parameters. The scale of y is 0.0009182. Parameter\n",
            "estimation work better when this value is between 1 and 1000. The recommended\n",
            "rescaling is 100 * y.\n",
            "\n",
            "This warning can be disabled by either rescaling y before initializing the\n",
            "model or by setting rescale=False.\n",
            "\n",
            "  warnings.warn(\n"
          ]
        },
        {
          "output_type": "stream",
          "name": "stdout",
          "text": [
            "Iteration:      1,   Func. Count:      6,   Neg. LLF: 27746929.324199483\n",
            "Iteration:      2,   Func. Count:     17,   Neg. LLF: -748.6901588462554\n",
            "Iteration:      3,   Func. Count:     26,   Neg. LLF: -1157.3840568288192\n",
            "Iteration:      4,   Func. Count:     32,   Neg. LLF: -1216.8968198822704\n",
            "Iteration:      5,   Func. Count:     39,   Neg. LLF: -1216.5956848695118\n",
            "Iteration:      6,   Func. Count:     45,   Neg. LLF: -1223.8279796330307\n",
            "Iteration:      7,   Func. Count:     50,   Neg. LLF: -1223.8474091705655\n",
            "Iteration:      8,   Func. Count:     55,   Neg. LLF: -1223.8477621279744\n",
            "Iteration:      9,   Func. Count:     60,   Neg. LLF: -1223.847790659775\n",
            "Iteration:     10,   Func. Count:     64,   Neg. LLF: -1223.847790659815\n",
            "Optimization terminated successfully    (Exit mode 0)\n",
            "            Current function value: -1223.847790659775\n",
            "            Iterations: 10\n",
            "            Function evaluations: 64\n",
            "            Gradient evaluations: 10\n"
          ]
        },
        {
          "output_type": "stream",
          "name": "stderr",
          "text": [
            "/usr/local/lib/python3.10/dist-packages/arch/univariate/base.py:310: DataScaleWarning: y is poorly scaled, which may affect convergence of the optimizer when\n",
            "estimating the model parameters. The scale of y is 0.0009168. Parameter\n",
            "estimation work better when this value is between 1 and 1000. The recommended\n",
            "rescaling is 100 * y.\n",
            "\n",
            "This warning can be disabled by either rescaling y before initializing the\n",
            "model or by setting rescale=False.\n",
            "\n",
            "  warnings.warn(\n"
          ]
        },
        {
          "output_type": "stream",
          "name": "stdout",
          "text": [
            "Iteration:      1,   Func. Count:      6,   Neg. LLF: 26880907.726064514\n",
            "Iteration:      2,   Func. Count:     17,   Neg. LLF: -747.4271997648409\n",
            "Iteration:      3,   Func. Count:     26,   Neg. LLF: -1159.8876153719116\n",
            "Iteration:      4,   Func. Count:     32,   Neg. LLF: -1217.6034947119497\n",
            "Iteration:      5,   Func. Count:     39,   Neg. LLF: -1217.8760491461978\n",
            "Iteration:      6,   Func. Count:     46,   Neg. LLF: -1224.2092650242332\n",
            "Iteration:      7,   Func. Count:     51,   Neg. LLF: -1224.2299542259689\n",
            "Iteration:      8,   Func. Count:     56,   Neg. LLF: -1224.2304321266333\n",
            "Iteration:      9,   Func. Count:     61,   Neg. LLF: -1224.230474666043\n",
            "Iteration:     10,   Func. Count:     66,   Neg. LLF: -1224.2304757761221\n",
            "Iteration:     11,   Func. Count:     70,   Neg. LLF: -1224.230475776093\n",
            "Optimization terminated successfully    (Exit mode 0)\n",
            "            Current function value: -1224.2304757761221\n",
            "            Iterations: 11\n",
            "            Function evaluations: 70\n",
            "            Gradient evaluations: 11\n"
          ]
        },
        {
          "output_type": "stream",
          "name": "stderr",
          "text": [
            "/usr/local/lib/python3.10/dist-packages/arch/univariate/base.py:310: DataScaleWarning: y is poorly scaled, which may affect convergence of the optimizer when\n",
            "estimating the model parameters. The scale of y is 0.0009171. Parameter\n",
            "estimation work better when this value is between 1 and 1000. The recommended\n",
            "rescaling is 100 * y.\n",
            "\n",
            "This warning can be disabled by either rescaling y before initializing the\n",
            "model or by setting rescale=False.\n",
            "\n",
            "  warnings.warn(\n"
          ]
        },
        {
          "output_type": "stream",
          "name": "stdout",
          "text": [
            "Iteration:      1,   Func. Count:      6,   Neg. LLF: 27190541.253383216\n",
            "Iteration:      2,   Func. Count:     17,   Neg. LLF: -747.8101431207276\n",
            "Iteration:      3,   Func. Count:     26,   Neg. LLF: -1159.7162047901738\n",
            "Iteration:      4,   Func. Count:     32,   Neg. LLF: -1217.1899179929424\n",
            "Iteration:      5,   Func. Count:     39,   Neg. LLF: -1217.8477970776269\n",
            "Iteration:      6,   Func. Count:     46,   Neg. LLF: -1224.1153655843625\n",
            "Iteration:      7,   Func. Count:     51,   Neg. LLF: -1224.1384442755523\n",
            "Iteration:      8,   Func. Count:     56,   Neg. LLF: -1224.1387253703174\n",
            "Iteration:      9,   Func. Count:     61,   Neg. LLF: -1224.1387428772236\n",
            "Iteration:     10,   Func. Count:     66,   Neg. LLF: -1224.1387439990976\n",
            "Iteration:     11,   Func. Count:     70,   Neg. LLF: -1224.138743999109\n",
            "Optimization terminated successfully    (Exit mode 0)\n",
            "            Current function value: -1224.1387439990976\n",
            "            Iterations: 11\n",
            "            Function evaluations: 70\n",
            "            Gradient evaluations: 11\n"
          ]
        },
        {
          "output_type": "stream",
          "name": "stderr",
          "text": [
            "/usr/local/lib/python3.10/dist-packages/arch/univariate/base.py:310: DataScaleWarning: y is poorly scaled, which may affect convergence of the optimizer when\n",
            "estimating the model parameters. The scale of y is 0.0008953. Parameter\n",
            "estimation work better when this value is between 1 and 1000. The recommended\n",
            "rescaling is 100 * y.\n",
            "\n",
            "This warning can be disabled by either rescaling y before initializing the\n",
            "model or by setting rescale=False.\n",
            "\n",
            "  warnings.warn(\n"
          ]
        },
        {
          "output_type": "stream",
          "name": "stdout",
          "text": [
            "Iteration:      1,   Func. Count:     12,   Neg. LLF: 33763064.045478806\n",
            "Iteration:      2,   Func. Count:     29,   Neg. LLF: -1044.8723841770038\n",
            "Iteration:      3,   Func. Count:     41,   Neg. LLF: -997.725416103684\n",
            "Iteration:      4,   Func. Count:     54,   Neg. LLF: -1159.1168200610389\n",
            "Iteration:      5,   Func. Count:     67,   Neg. LLF: -1221.3561320394924\n",
            "Iteration:      6,   Func. Count:     79,   Neg. LLF: -1060.353880370646\n",
            "Iteration:      7,   Func. Count:     92,   Neg. LLF: 221751.44650923728\n",
            "Iteration:      8,   Func. Count:    109,   Neg. LLF: 134790.81381440815\n",
            "Iteration:      9,   Func. Count:    121,   Neg. LLF: -1214.668724013513\n",
            "Iteration:     10,   Func. Count:    134,   Neg. LLF: -1153.895620285572\n",
            "Iteration:     11,   Func. Count:    147,   Neg. LLF: -1217.7541134859293\n",
            "Iteration:     12,   Func. Count:    159,   Neg. LLF: -1196.7532603578065\n",
            "Iteration:     13,   Func. Count:    172,   Neg. LLF: -1226.599023401225\n",
            "Iteration:     14,   Func. Count:    184,   Neg. LLF: -1229.4403589347917\n",
            "Iteration:     15,   Func. Count:    196,   Neg. LLF: -1230.4584125251083\n",
            "Iteration:     16,   Func. Count:    208,   Neg. LLF: -1230.6707370043177\n",
            "Iteration:     17,   Func. Count:    220,   Neg. LLF: -1231.0165827651235\n",
            "Iteration:     18,   Func. Count:    232,   Neg. LLF: -1231.4604112684676\n",
            "Iteration:     19,   Func. Count:    243,   Neg. LLF: -1231.460583895133\n",
            "Iteration:     20,   Func. Count:    255,   Neg. LLF: -1231.4639973570097\n",
            "Iteration:     21,   Func. Count:    266,   Neg. LLF: -1231.464174792877\n",
            "Iteration:     22,   Func. Count:    277,   Neg. LLF: -1231.464175189677\n",
            "Optimization terminated successfully    (Exit mode 0)\n",
            "            Current function value: -1231.464175189677\n",
            "            Iterations: 23\n",
            "            Function evaluations: 277\n",
            "            Gradient evaluations: 22\n"
          ]
        },
        {
          "output_type": "stream",
          "name": "stderr",
          "text": [
            "/usr/local/lib/python3.10/dist-packages/arch/univariate/base.py:310: DataScaleWarning: y is poorly scaled, which may affect convergence of the optimizer when\n",
            "estimating the model parameters. The scale of y is 0.0009163. Parameter\n",
            "estimation work better when this value is between 1 and 1000. The recommended\n",
            "rescaling is 100 * y.\n",
            "\n",
            "This warning can be disabled by either rescaling y before initializing the\n",
            "model or by setting rescale=False.\n",
            "\n",
            "  warnings.warn(\n"
          ]
        },
        {
          "output_type": "stream",
          "name": "stdout",
          "text": [
            "Iteration:      1,   Func. Count:      6,   Neg. LLF: 27324916.491423864\n",
            "Iteration:      2,   Func. Count:     17,   Neg. LLF: 1682761.9563559396\n",
            "Iteration:      3,   Func. Count:     23,   Neg. LLF: -1198.582694963598\n",
            "Iteration:      4,   Func. Count:     30,   Neg. LLF: 834241948.3930521\n",
            "Iteration:      5,   Func. Count:     41,   Neg. LLF: 725.04460869318\n",
            "Iteration:      6,   Func. Count:     49,   Neg. LLF: -1032.252666490502\n",
            "Iteration:      7,   Func. Count:     56,   Neg. LLF: -1184.2189183740888\n",
            "Iteration:      8,   Func. Count:     62,   Neg. LLF: -1218.9118693321395\n",
            "Iteration:      9,   Func. Count:     68,   Neg. LLF: -1215.64837712037\n",
            "Iteration:     10,   Func. Count:     75,   Neg. LLF: -1225.2611666682378\n",
            "Iteration:     11,   Func. Count:     81,   Neg. LLF: -1225.2695086854483\n",
            "Iteration:     12,   Func. Count:     85,   Neg. LLF: -1225.2695086851968\n",
            "Optimization terminated successfully    (Exit mode 0)\n",
            "            Current function value: -1225.2695086854483\n",
            "            Iterations: 13\n",
            "            Function evaluations: 85\n",
            "            Gradient evaluations: 12\n"
          ]
        },
        {
          "output_type": "stream",
          "name": "stderr",
          "text": [
            "/usr/local/lib/python3.10/dist-packages/arch/univariate/base.py:310: DataScaleWarning: y is poorly scaled, which may affect convergence of the optimizer when\n",
            "estimating the model parameters. The scale of y is 0.0009121. Parameter\n",
            "estimation work better when this value is between 1 and 1000. The recommended\n",
            "rescaling is 100 * y.\n",
            "\n",
            "This warning can be disabled by either rescaling y before initializing the\n",
            "model or by setting rescale=False.\n",
            "\n",
            "  warnings.warn(\n"
          ]
        },
        {
          "output_type": "stream",
          "name": "stdout",
          "text": [
            "Iteration:      1,   Func. Count:      6,   Neg. LLF: 26795945.142567676\n",
            "Iteration:      2,   Func. Count:     17,   Neg. LLF: 1145772.9865099315\n",
            "Iteration:      3,   Func. Count:     23,   Neg. LLF: -869.1560962829491\n",
            "Iteration:      4,   Func. Count:     31,   Neg. LLF: -1196.9446529425106\n",
            "Iteration:      5,   Func. Count:     37,   Neg. LLF: -574.1224283285945\n",
            "Iteration:      6,   Func. Count:     45,   Neg. LLF: -1176.1853913993384\n",
            "Iteration:      7,   Func. Count:     51,   Neg. LLF: -1219.5702648306235\n",
            "Iteration:      8,   Func. Count:     57,   Neg. LLF: -1212.8628721329012\n",
            "Iteration:      9,   Func. Count:     63,   Neg. LLF: -1227.128483327803\n",
            "Iteration:     10,   Func. Count:     68,   Neg. LLF: -1227.135955536865\n",
            "Iteration:     11,   Func. Count:     73,   Neg. LLF: -1227.1361058253103\n",
            "Iteration:     12,   Func. Count:     78,   Neg. LLF: -1227.136111741699\n",
            "Iteration:     13,   Func. Count:     82,   Neg. LLF: -1227.1361117417382\n",
            "Optimization terminated successfully    (Exit mode 0)\n",
            "            Current function value: -1227.136111741699\n",
            "            Iterations: 13\n",
            "            Function evaluations: 82\n",
            "            Gradient evaluations: 13\n"
          ]
        },
        {
          "output_type": "stream",
          "name": "stderr",
          "text": [
            "/usr/local/lib/python3.10/dist-packages/arch/univariate/base.py:310: DataScaleWarning: y is poorly scaled, which may affect convergence of the optimizer when\n",
            "estimating the model parameters. The scale of y is 0.000912. Parameter\n",
            "estimation work better when this value is between 1 and 1000. The recommended\n",
            "rescaling is 100 * y.\n",
            "\n",
            "This warning can be disabled by either rescaling y before initializing the\n",
            "model or by setting rescale=False.\n",
            "\n",
            "  warnings.warn(\n"
          ]
        },
        {
          "output_type": "stream",
          "name": "stdout",
          "text": [
            "Iteration:      1,   Func. Count:      6,   Neg. LLF: 27176713.115560487\n",
            "Iteration:      2,   Func. Count:     17,   Neg. LLF: 16331.666262854576\n",
            "Iteration:      3,   Func. Count:     23,   Neg. LLF: -1195.8467795659121\n",
            "Iteration:      4,   Func. Count:     30,   Neg. LLF: -1179.9268748412853\n",
            "Iteration:      5,   Func. Count:     36,   Neg. LLF: -1166.5073025292115\n",
            "Iteration:      6,   Func. Count:     42,   Neg. LLF: -1092.1317167024067\n",
            "Iteration:      7,   Func. Count:     49,   Neg. LLF: -1216.7825942730758\n",
            "Iteration:      8,   Func. Count:     55,   Neg. LLF: -1161.583083743076\n",
            "Iteration:      9,   Func. Count:     62,   Neg. LLF: -1227.4211899498657\n",
            "Iteration:     10,   Func. Count:     68,   Neg. LLF: -1227.5907035199002\n",
            "Iteration:     11,   Func. Count:     73,   Neg. LLF: -1227.5907153986736\n",
            "Iteration:     12,   Func. Count:     77,   Neg. LLF: -1227.5907153986977\n",
            "Optimization terminated successfully    (Exit mode 0)\n",
            "            Current function value: -1227.5907153986736\n",
            "            Iterations: 12\n",
            "            Function evaluations: 77\n",
            "            Gradient evaluations: 12\n"
          ]
        },
        {
          "output_type": "stream",
          "name": "stderr",
          "text": [
            "/usr/local/lib/python3.10/dist-packages/arch/univariate/base.py:310: DataScaleWarning: y is poorly scaled, which may affect convergence of the optimizer when\n",
            "estimating the model parameters. The scale of y is 0.0009094. Parameter\n",
            "estimation work better when this value is between 1 and 1000. The recommended\n",
            "rescaling is 100 * y.\n",
            "\n",
            "This warning can be disabled by either rescaling y before initializing the\n",
            "model or by setting rescale=False.\n",
            "\n",
            "  warnings.warn(\n"
          ]
        },
        {
          "output_type": "stream",
          "name": "stdout",
          "text": [
            "Iteration:      1,   Func. Count:      6,   Neg. LLF: 27764142.308138724\n",
            "Iteration:      2,   Func. Count:     17,   Neg. LLF: 973338.8223197921\n",
            "Iteration:      3,   Func. Count:     23,   Neg. LLF: -1196.1501833638708\n",
            "Iteration:      4,   Func. Count:     30,   Neg. LLF: 249871248.08060777\n",
            "Iteration:      5,   Func. Count:     41,   Neg. LLF: 621.2398519786796\n",
            "Iteration:      6,   Func. Count:     49,   Neg. LLF: 26280.268330378993\n",
            "Iteration:      7,   Func. Count:     60,   Neg. LLF: -1190.935493002201\n",
            "Iteration:      8,   Func. Count:     66,   Neg. LLF: -1221.8231398644925\n",
            "Iteration:      9,   Func. Count:     72,   Neg. LLF: -1197.4439766047622\n",
            "Iteration:     10,   Func. Count:     78,   Neg. LLF: -1228.8647894639735\n",
            "Iteration:     11,   Func. Count:     83,   Neg. LLF: -1228.8664902188725\n",
            "Iteration:     12,   Func. Count:     88,   Neg. LLF: -1228.8667299379879\n",
            "Iteration:     13,   Func. Count:     93,   Neg. LLF: -1228.8667416587941\n",
            "Iteration:     14,   Func. Count:     97,   Neg. LLF: -1228.8667416588123\n",
            "Optimization terminated successfully    (Exit mode 0)\n",
            "            Current function value: -1228.8667416587941\n",
            "            Iterations: 16\n",
            "            Function evaluations: 97\n",
            "            Gradient evaluations: 14\n"
          ]
        },
        {
          "output_type": "stream",
          "name": "stderr",
          "text": [
            "/usr/local/lib/python3.10/dist-packages/arch/univariate/base.py:310: DataScaleWarning: y is poorly scaled, which may affect convergence of the optimizer when\n",
            "estimating the model parameters. The scale of y is 0.0009103. Parameter\n",
            "estimation work better when this value is between 1 and 1000. The recommended\n",
            "rescaling is 100 * y.\n",
            "\n",
            "This warning can be disabled by either rescaling y before initializing the\n",
            "model or by setting rescale=False.\n",
            "\n",
            "  warnings.warn(\n"
          ]
        },
        {
          "output_type": "stream",
          "name": "stdout",
          "text": [
            "Iteration:      1,   Func. Count:      6,   Neg. LLF: 27877852.405240294\n",
            "Iteration:      2,   Func. Count:     17,   Neg. LLF: 828373.457224258\n",
            "Iteration:      3,   Func. Count:     23,   Neg. LLF: -1200.7987477408076\n",
            "Iteration:      4,   Func. Count:     30,   Neg. LLF: 12485822.004877489\n",
            "Iteration:      5,   Func. Count:     41,   Neg. LLF: 126448.01712044311\n",
            "Optimization terminated successfully    (Exit mode 0)\n",
            "            Current function value: -1227.2219472965837\n",
            "            Iterations: 7\n",
            "            Function evaluations: 47\n",
            "            Gradient evaluations: 5\n"
          ]
        },
        {
          "output_type": "stream",
          "name": "stderr",
          "text": [
            "/usr/local/lib/python3.10/dist-packages/arch/univariate/base.py:310: DataScaleWarning: y is poorly scaled, which may affect convergence of the optimizer when\n",
            "estimating the model parameters. The scale of y is 0.0009103. Parameter\n",
            "estimation work better when this value is between 1 and 1000. The recommended\n",
            "rescaling is 100 * y.\n",
            "\n",
            "This warning can be disabled by either rescaling y before initializing the\n",
            "model or by setting rescale=False.\n",
            "\n",
            "  warnings.warn(\n"
          ]
        },
        {
          "output_type": "stream",
          "name": "stdout",
          "text": [
            "Iteration:      1,   Func. Count:      6,   Neg. LLF: 271761152.6938566\n",
            "Iteration:      2,   Func. Count:     17,   Neg. LLF: 6719.704210453846\n",
            "Iteration:      3,   Func. Count:     23,   Neg. LLF: -1197.2507161743047\n",
            "Iteration:      4,   Func. Count:     30,   Neg. LLF: 2472.2958627061867\n",
            "Iteration:      5,   Func. Count:     39,   Neg. LLF: -1198.66518147731\n",
            "Iteration:      6,   Func. Count:     47,   Neg. LLF: -1199.2478558914045\n",
            "Iteration:      7,   Func. Count:     54,   Neg. LLF: -998.5542684836196\n",
            "Iteration:      8,   Func. Count:     62,   Neg. LLF: 107828.72053971046\n",
            "Iteration:      9,   Func. Count:     73,   Neg. LLF: -766.1891323639721\n",
            "Iteration:     10,   Func. Count:     82,   Neg. LLF: -1185.1653231307414\n",
            "Iteration:     11,   Func. Count:     88,   Neg. LLF: -1218.0569868514083\n",
            "Iteration:     12,   Func. Count:     94,   Neg. LLF: -1225.641522282407\n",
            "Iteration:     13,   Func. Count:    101,   Neg. LLF: -1228.3931428815831\n",
            "Iteration:     14,   Func. Count:    106,   Neg. LLF: -1228.4315092549268\n",
            "Iteration:     15,   Func. Count:    111,   Neg. LLF: -1228.4318339881543\n",
            "Iteration:     16,   Func. Count:    116,   Neg. LLF: -1228.4318404164437\n",
            "Iteration:     17,   Func. Count:    120,   Neg. LLF: -1228.4318404165706\n",
            "Optimization terminated successfully    (Exit mode 0)\n",
            "            Current function value: -1228.4318404164437\n",
            "            Iterations: 18\n",
            "            Function evaluations: 120\n",
            "            Gradient evaluations: 17\n"
          ]
        },
        {
          "output_type": "stream",
          "name": "stderr",
          "text": [
            "/usr/local/lib/python3.10/dist-packages/arch/univariate/base.py:310: DataScaleWarning: y is poorly scaled, which may affect convergence of the optimizer when\n",
            "estimating the model parameters. The scale of y is 0.0009103. Parameter\n",
            "estimation work better when this value is between 1 and 1000. The recommended\n",
            "rescaling is 100 * y.\n",
            "\n",
            "This warning can be disabled by either rescaling y before initializing the\n",
            "model or by setting rescale=False.\n",
            "\n",
            "  warnings.warn(\n"
          ]
        },
        {
          "output_type": "stream",
          "name": "stdout",
          "text": [
            "Iteration:      1,   Func. Count:      6,   Neg. LLF: 248406079.15019107\n",
            "Iteration:      2,   Func. Count:     17,   Neg. LLF: 7697882.593767745\n",
            "Iteration:      3,   Func. Count:     23,   Neg. LLF: -1196.6224398823065\n",
            "Iteration:      4,   Func. Count:     30,   Neg. LLF: -1146.0625579146085\n",
            "Iteration:      5,   Func. Count:     37,   Neg. LLF: -1184.8765768527915\n",
            "Iteration:      6,   Func. Count:     43,   Neg. LLF: -1221.9505070327125\n",
            "Iteration:      7,   Func. Count:     49,   Neg. LLF: -958.7653396297937\n",
            "Iteration:      8,   Func. Count:     56,   Neg. LLF: -1184.7763978105368\n",
            "Iteration:      9,   Func. Count:     63,   Neg. LLF: -1228.164349343655\n",
            "Iteration:     10,   Func. Count:     69,   Neg. LLF: -1228.5963189427353\n",
            "Iteration:     11,   Func. Count:     74,   Neg. LLF: -1228.5963194579963\n",
            "Optimization terminated successfully    (Exit mode 0)\n",
            "            Current function value: -1228.5963194579963\n",
            "            Iterations: 11\n",
            "            Function evaluations: 74\n",
            "            Gradient evaluations: 11\n"
          ]
        },
        {
          "output_type": "stream",
          "name": "stderr",
          "text": [
            "/usr/local/lib/python3.10/dist-packages/arch/univariate/base.py:310: DataScaleWarning: y is poorly scaled, which may affect convergence of the optimizer when\n",
            "estimating the model parameters. The scale of y is 0.0009095. Parameter\n",
            "estimation work better when this value is between 1 and 1000. The recommended\n",
            "rescaling is 100 * y.\n",
            "\n",
            "This warning can be disabled by either rescaling y before initializing the\n",
            "model or by setting rescale=False.\n",
            "\n",
            "  warnings.warn(\n"
          ]
        },
        {
          "output_type": "stream",
          "name": "stdout",
          "text": [
            "Iteration:      1,   Func. Count:      6,   Neg. LLF: 242770125.48838073\n",
            "Iteration:      2,   Func. Count:     17,   Neg. LLF: 761949.2328759292\n",
            "Iteration:      3,   Func. Count:     23,   Neg. LLF: -1161.9519220811367\n",
            "Iteration:      4,   Func. Count:     30,   Neg. LLF: -872.2908365257553\n",
            "Iteration:      5,   Func. Count:     38,   Neg. LLF: 62849.15214276753\n",
            "Iteration:      6,   Func. Count:     49,   Neg. LLF: -1194.7477923566967\n",
            "Iteration:      7,   Func. Count:     57,   Neg. LLF: -349.70984750911646\n",
            "Iteration:      8,   Func. Count:     65,   Neg. LLF: -1142.4736990628287\n",
            "Iteration:      9,   Func. Count:     71,   Neg. LLF: -1220.2371149355267\n",
            "Iteration:     10,   Func. Count:     77,   Neg. LLF: -1221.6591680422302\n",
            "Iteration:     11,   Func. Count:     83,   Neg. LLF: -859.351276339027\n",
            "Iteration:     12,   Func. Count:     89,   Neg. LLF: -1198.519439717726\n",
            "Iteration:     13,   Func. Count:     96,   Neg. LLF: -1229.1308824392136\n",
            "Iteration:     14,   Func. Count:    102,   Neg. LLF: -1229.140388319528\n",
            "Iteration:     15,   Func. Count:    106,   Neg. LLF: -1229.1403883194075\n",
            "Optimization terminated successfully    (Exit mode 0)\n",
            "            Current function value: -1229.140388319528\n",
            "            Iterations: 16\n",
            "            Function evaluations: 106\n",
            "            Gradient evaluations: 15\n"
          ]
        },
        {
          "output_type": "stream",
          "name": "stderr",
          "text": [
            "/usr/local/lib/python3.10/dist-packages/arch/univariate/base.py:310: DataScaleWarning: y is poorly scaled, which may affect convergence of the optimizer when\n",
            "estimating the model parameters. The scale of y is 0.0009081. Parameter\n",
            "estimation work better when this value is between 1 and 1000. The recommended\n",
            "rescaling is 100 * y.\n",
            "\n",
            "This warning can be disabled by either rescaling y before initializing the\n",
            "model or by setting rescale=False.\n",
            "\n",
            "  warnings.warn(\n"
          ]
        },
        {
          "output_type": "stream",
          "name": "stdout",
          "text": [
            "Iteration:      1,   Func. Count:      6,   Neg. LLF: 246180856.19867066\n",
            "Iteration:      2,   Func. Count:     17,   Neg. LLF: 7793118.067275209\n",
            "Iteration:      3,   Func. Count:     23,   Neg. LLF: -1191.2437764747433\n",
            "Iteration:      4,   Func. Count:     30,   Neg. LLF: 4933131.200986911\n",
            "Iteration:      5,   Func. Count:     40,   Neg. LLF: -1228.604420399704\n",
            "Optimization terminated successfully    (Exit mode 0)\n",
            "            Current function value: -1228.604419763808\n",
            "            Iterations: 9\n",
            "            Function evaluations: 40\n",
            "            Gradient evaluations: 5\n"
          ]
        },
        {
          "output_type": "stream",
          "name": "stderr",
          "text": [
            "/usr/local/lib/python3.10/dist-packages/arch/univariate/base.py:310: DataScaleWarning: y is poorly scaled, which may affect convergence of the optimizer when\n",
            "estimating the model parameters. The scale of y is 0.0009065. Parameter\n",
            "estimation work better when this value is between 1 and 1000. The recommended\n",
            "rescaling is 100 * y.\n",
            "\n",
            "This warning can be disabled by either rescaling y before initializing the\n",
            "model or by setting rescale=False.\n",
            "\n",
            "  warnings.warn(\n"
          ]
        },
        {
          "output_type": "stream",
          "name": "stdout",
          "text": [
            "Iteration:      1,   Func. Count:      6,   Neg. LLF: 241447798.27154028\n",
            "Iteration:      2,   Func. Count:     17,   Neg. LLF: 7794461.952097236\n",
            "Iteration:      3,   Func. Count:     23,   Neg. LLF: -930.8503860981875\n",
            "Iteration:      4,   Func. Count:     31,   Neg. LLF: 2208238.661019749\n",
            "Iteration:      5,   Func. Count:     42,   Neg. LLF: 740.520542484935\n",
            "Iteration:      6,   Func. Count:     52,   Neg. LLF: 65905.0575546878\n",
            "Iteration:      7,   Func. Count:     58,   Neg. LLF: -1216.5507075700061\n",
            "Iteration:      8,   Func. Count:     65,   Neg. LLF: -1199.5698836250058\n",
            "Iteration:      9,   Func. Count:     72,   Neg. LLF: -1202.4528125396187\n",
            "Iteration:     10,   Func. Count:     79,   Neg. LLF: -1104.9885160110948\n",
            "Iteration:     11,   Func. Count:     86,   Neg. LLF: 2473.8917381353817\n",
            "Iteration:     12,   Func. Count:     93,   Neg. LLF: -1230.6968853342355\n",
            "Iteration:     13,   Func. Count:     98,   Neg. LLF: -1230.6970997513956\n",
            "Iteration:     14,   Func. Count:    102,   Neg. LLF: -1230.6970997514022\n",
            "Optimization terminated successfully    (Exit mode 0)\n",
            "            Current function value: -1230.6970997513956\n",
            "            Iterations: 16\n",
            "            Function evaluations: 102\n",
            "            Gradient evaluations: 14\n"
          ]
        },
        {
          "output_type": "stream",
          "name": "stderr",
          "text": [
            "/usr/local/lib/python3.10/dist-packages/arch/univariate/base.py:310: DataScaleWarning: y is poorly scaled, which may affect convergence of the optimizer when\n",
            "estimating the model parameters. The scale of y is 0.000906. Parameter\n",
            "estimation work better when this value is between 1 and 1000. The recommended\n",
            "rescaling is 100 * y.\n",
            "\n",
            "This warning can be disabled by either rescaling y before initializing the\n",
            "model or by setting rescale=False.\n",
            "\n",
            "  warnings.warn(\n"
          ]
        },
        {
          "output_type": "stream",
          "name": "stdout",
          "text": [
            "Iteration:      1,   Func. Count:      6,   Neg. LLF: 232478283.41822755\n",
            "Iteration:      2,   Func. Count:     17,   Neg. LLF: -717.1222462629603\n",
            "Iteration:      3,   Func. Count:     23,   Neg. LLF: 2131401274.603314\n",
            "Iteration:      4,   Func. Count:     34,   Neg. LLF: 592.9548146555892\n",
            "Iteration:      5,   Func. Count:     42,   Neg. LLF: -1194.0513165851612\n",
            "Iteration:      6,   Func. Count:     48,   Neg. LLF: -1223.5499838940218\n",
            "Iteration:      7,   Func. Count:     55,   Neg. LLF: -1205.424049624927\n",
            "Iteration:      8,   Func. Count:     61,   Neg. LLF: -1230.8416805249453\n",
            "Iteration:      9,   Func. Count:     67,   Neg. LLF: -1230.8566113935005\n",
            "Iteration:     10,   Func. Count:     73,   Neg. LLF: -1230.8673194031437\n",
            "Iteration:     11,   Func. Count:     78,   Neg. LLF: -1230.8673263947082\n",
            "Iteration:     12,   Func. Count:     82,   Neg. LLF: -1230.8673263947494\n",
            "Optimization terminated successfully    (Exit mode 0)\n",
            "            Current function value: -1230.8673263947082\n",
            "            Iterations: 13\n",
            "            Function evaluations: 82\n",
            "            Gradient evaluations: 12\n"
          ]
        },
        {
          "output_type": "stream",
          "name": "stderr",
          "text": [
            "/usr/local/lib/python3.10/dist-packages/arch/univariate/base.py:310: DataScaleWarning: y is poorly scaled, which may affect convergence of the optimizer when\n",
            "estimating the model parameters. The scale of y is 0.0009063. Parameter\n",
            "estimation work better when this value is between 1 and 1000. The recommended\n",
            "rescaling is 100 * y.\n",
            "\n",
            "This warning can be disabled by either rescaling y before initializing the\n",
            "model or by setting rescale=False.\n",
            "\n",
            "  warnings.warn(\n"
          ]
        },
        {
          "output_type": "stream",
          "name": "stdout",
          "text": [
            "Iteration:      1,   Func. Count:      6,   Neg. LLF: 219776815.45231432\n",
            "Iteration:      2,   Func. Count:     17,   Neg. LLF: 7780281.891572325\n",
            "Iteration:      3,   Func. Count:     23,   Neg. LLF: -1181.2176821631574\n",
            "Iteration:      4,   Func. Count:     30,   Neg. LLF: -521.0040514940378\n",
            "Iteration:      5,   Func. Count:     38,   Neg. LLF: -1152.107592753985\n",
            "Iteration:      6,   Func. Count:     46,   Neg. LLF: -1093.804318905104\n",
            "Iteration:      7,   Func. Count:     54,   Neg. LLF: -928.4528128046295\n",
            "Iteration:      8,   Func. Count:     62,   Neg. LLF: -1216.9385265518454\n",
            "Iteration:      9,   Func. Count:     68,   Neg. LLF: -1226.931685406526\n",
            "Iteration:     10,   Func. Count:     75,   Neg. LLF: -1184.528770033105\n",
            "Iteration:     11,   Func. Count:     82,   Neg. LLF: -1223.3553839261644\n",
            "Iteration:     12,   Func. Count:     89,   Neg. LLF: -1230.8500651886611\n",
            "Iteration:     13,   Func. Count:     95,   Neg. LLF: -1230.8596328208564\n",
            "Iteration:     14,   Func. Count:     99,   Neg. LLF: -1230.8596328209633\n",
            "Optimization terminated successfully    (Exit mode 0)\n",
            "            Current function value: -1230.8596328208564\n",
            "            Iterations: 14\n",
            "            Function evaluations: 99\n",
            "            Gradient evaluations: 14\n"
          ]
        },
        {
          "output_type": "stream",
          "name": "stderr",
          "text": [
            "/usr/local/lib/python3.10/dist-packages/arch/univariate/base.py:310: DataScaleWarning: y is poorly scaled, which may affect convergence of the optimizer when\n",
            "estimating the model parameters. The scale of y is 0.0009068. Parameter\n",
            "estimation work better when this value is between 1 and 1000. The recommended\n",
            "rescaling is 100 * y.\n",
            "\n",
            "This warning can be disabled by either rescaling y before initializing the\n",
            "model or by setting rescale=False.\n",
            "\n",
            "  warnings.warn(\n"
          ]
        },
        {
          "output_type": "stream",
          "name": "stdout",
          "text": [
            "Iteration:      1,   Func. Count:      6,   Neg. LLF: 207263821.29718715\n",
            "Iteration:      2,   Func. Count:     17,   Neg. LLF: 2044.6296693985362\n",
            "Iteration:      3,   Func. Count:     23,   Neg. LLF: -973.6514572367857\n",
            "Iteration:      4,   Func. Count:     31,   Neg. LLF: -1191.71399480949\n",
            "Iteration:      5,   Func. Count:     37,   Neg. LLF: 75437.24324808743\n",
            "Iteration:      6,   Func. Count:     45,   Neg. LLF: -1227.916843669997\n",
            "Iteration:      7,   Func. Count:     51,   Neg. LLF: -1229.248190053178\n",
            "Iteration:      8,   Func. Count:     57,   Neg. LLF: -1230.8679509390831\n",
            "Iteration:      9,   Func. Count:     62,   Neg. LLF: -1230.86857910373\n",
            "Iteration:     10,   Func. Count:     67,   Neg. LLF: -1230.868652193397\n",
            "Iteration:     11,   Func. Count:     71,   Neg. LLF: -1230.8686521935067\n",
            "Optimization terminated successfully    (Exit mode 0)\n",
            "            Current function value: -1230.868652193397\n",
            "            Iterations: 11\n",
            "            Function evaluations: 71\n",
            "            Gradient evaluations: 11\n"
          ]
        },
        {
          "output_type": "stream",
          "name": "stderr",
          "text": [
            "/usr/local/lib/python3.10/dist-packages/arch/univariate/base.py:310: DataScaleWarning: y is poorly scaled, which may affect convergence of the optimizer when\n",
            "estimating the model parameters. The scale of y is 0.000915. Parameter\n",
            "estimation work better when this value is between 1 and 1000. The recommended\n",
            "rescaling is 100 * y.\n",
            "\n",
            "This warning can be disabled by either rescaling y before initializing the\n",
            "model or by setting rescale=False.\n",
            "\n",
            "  warnings.warn(\n"
          ]
        },
        {
          "output_type": "stream",
          "name": "stdout",
          "text": [
            "Iteration:      1,   Func. Count:      6,   Neg. LLF: 209557479.90879598\n",
            "Iteration:      2,   Func. Count:     17,   Neg. LLF: 18226.94578425419\n",
            "Iteration:      3,   Func. Count:     23,   Neg. LLF: -1173.1448283330374\n",
            "Iteration:      4,   Func. Count:     29,   Neg. LLF: -1011.0711004175995\n",
            "Iteration:      5,   Func. Count:     36,   Neg. LLF: -1209.5904661356285\n",
            "Iteration:      6,   Func. Count:     43,   Neg. LLF: -1174.1374862808498\n",
            "Iteration:      7,   Func. Count:     49,   Neg. LLF: -1220.3432362967399\n",
            "Iteration:      8,   Func. Count:     55,   Neg. LLF: 895.8303630423663\n",
            "Iteration:      9,   Func. Count:     62,   Neg. LLF: -1187.3182832915418\n",
            "Iteration:     10,   Func. Count:     69,   Neg. LLF: -1227.086186231193\n",
            "Iteration:     11,   Func. Count:     75,   Neg. LLF: -1227.1282688267113\n",
            "Iteration:     12,   Func. Count:     80,   Neg. LLF: -1227.1282712886796\n",
            "Iteration:     13,   Func. Count:     84,   Neg. LLF: -1227.1282712886405\n",
            "Optimization terminated successfully    (Exit mode 0)\n",
            "            Current function value: -1227.1282712886796\n",
            "            Iterations: 13\n",
            "            Function evaluations: 84\n",
            "            Gradient evaluations: 13\n"
          ]
        },
        {
          "output_type": "stream",
          "name": "stderr",
          "text": [
            "/usr/local/lib/python3.10/dist-packages/arch/univariate/base.py:310: DataScaleWarning: y is poorly scaled, which may affect convergence of the optimizer when\n",
            "estimating the model parameters. The scale of y is 0.0009159. Parameter\n",
            "estimation work better when this value is between 1 and 1000. The recommended\n",
            "rescaling is 100 * y.\n",
            "\n",
            "This warning can be disabled by either rescaling y before initializing the\n",
            "model or by setting rescale=False.\n",
            "\n",
            "  warnings.warn(\n"
          ]
        },
        {
          "output_type": "stream",
          "name": "stdout",
          "text": [
            "Iteration:      1,   Func. Count:      6,   Neg. LLF: 207368313.0520765\n",
            "Iteration:      2,   Func. Count:     17,   Neg. LLF: -774.7651650342673\n",
            "Iteration:      3,   Func. Count:     23,   Neg. LLF: -1166.1441270839148\n",
            "Iteration:      4,   Func. Count:     29,   Neg. LLF: -1166.193372821242\n",
            "Iteration:      5,   Func. Count:     35,   Neg. LLF: -975.0063630859688\n",
            "Iteration:      6,   Func. Count:     43,   Neg. LLF: 43285.25398120402\n",
            "Iteration:      7,   Func. Count:     54,   Neg. LLF: 12666.515153503951\n",
            "Iteration:      8,   Func. Count:     61,   Neg. LLF: -1225.5733495159916\n",
            "Iteration:      9,   Func. Count:     68,   Neg. LLF: -1012.8809304743585\n",
            "Iteration:     10,   Func. Count:     75,   Neg. LLF: -1179.1241322012283\n",
            "Iteration:     11,   Func. Count:     82,   Neg. LLF: 1764.7145095496176\n",
            "Iteration:     12,   Func. Count:     89,   Neg. LLF: -1227.3246967871028\n",
            "Iteration:     13,   Func. Count:     94,   Neg. LLF: -1227.3247260300786\n",
            "Iteration:     14,   Func. Count:     98,   Neg. LLF: -1227.3247260300648\n",
            "Optimization terminated successfully    (Exit mode 0)\n",
            "            Current function value: -1227.3247260300786\n",
            "            Iterations: 15\n",
            "            Function evaluations: 98\n",
            "            Gradient evaluations: 14\n"
          ]
        },
        {
          "output_type": "stream",
          "name": "stderr",
          "text": [
            "/usr/local/lib/python3.10/dist-packages/arch/univariate/base.py:310: DataScaleWarning: y is poorly scaled, which may affect convergence of the optimizer when\n",
            "estimating the model parameters. The scale of y is 0.0009152. Parameter\n",
            "estimation work better when this value is between 1 and 1000. The recommended\n",
            "rescaling is 100 * y.\n",
            "\n",
            "This warning can be disabled by either rescaling y before initializing the\n",
            "model or by setting rescale=False.\n",
            "\n",
            "  warnings.warn(\n"
          ]
        },
        {
          "output_type": "stream",
          "name": "stdout",
          "text": [
            "Iteration:      1,   Func. Count:      6,   Neg. LLF: 172799525.80140042\n",
            "Iteration:      2,   Func. Count:     17,   Neg. LLF: -1175.6269021616545\n",
            "Iteration:      3,   Func. Count:     23,   Neg. LLF: -1164.9735090568693\n",
            "Iteration:      4,   Func. Count:     29,   Neg. LLF: 2287189.777440736\n",
            "Iteration:      5,   Func. Count:     40,   Neg. LLF: 724.072367813167\n",
            "Iteration:      6,   Func. Count:     49,   Neg. LLF: -1197.3961062796423\n",
            "Iteration:      7,   Func. Count:     56,   Neg. LLF: -1219.493060179088\n",
            "Iteration:      8,   Func. Count:     62,   Neg. LLF: -1179.9014843873983\n",
            "Iteration:      9,   Func. Count:     69,   Neg. LLF: -1228.1961815577843\n",
            "Iteration:     10,   Func. Count:     74,   Neg. LLF: -1228.1961854162942\n",
            "Iteration:     11,   Func. Count:     78,   Neg. LLF: -1228.1961854162544\n",
            "Optimization terminated successfully    (Exit mode 0)\n",
            "            Current function value: -1228.1961854162942\n",
            "            Iterations: 12\n",
            "            Function evaluations: 78\n",
            "            Gradient evaluations: 11\n"
          ]
        },
        {
          "output_type": "stream",
          "name": "stderr",
          "text": [
            "/usr/local/lib/python3.10/dist-packages/arch/univariate/base.py:310: DataScaleWarning: y is poorly scaled, which may affect convergence of the optimizer when\n",
            "estimating the model parameters. The scale of y is 0.0009141. Parameter\n",
            "estimation work better when this value is between 1 and 1000. The recommended\n",
            "rescaling is 100 * y.\n",
            "\n",
            "This warning can be disabled by either rescaling y before initializing the\n",
            "model or by setting rescale=False.\n",
            "\n",
            "  warnings.warn(\n"
          ]
        },
        {
          "output_type": "stream",
          "name": "stdout",
          "text": [
            "Iteration:      1,   Func. Count:      6,   Neg. LLF: 107692402.13700078\n",
            "Iteration:      2,   Func. Count:     17,   Neg. LLF: 959368.0936423171\n",
            "Iteration:      3,   Func. Count:     23,   Neg. LLF: -1152.5638803228844\n",
            "Iteration:      4,   Func. Count:     30,   Neg. LLF: -1138.3094016101404\n",
            "Iteration:      5,   Func. Count:     37,   Neg. LLF: -1144.5822814940302\n",
            "Iteration:      6,   Func. Count:     45,   Neg. LLF: -1074.3214775062022\n",
            "Iteration:      7,   Func. Count:     53,   Neg. LLF: -1220.3575822376731\n",
            "Iteration:      8,   Func. Count:     59,   Neg. LLF: -1224.3004062333212\n",
            "Iteration:      9,   Func. Count:     65,   Neg. LLF: -1215.6108719967488\n",
            "Iteration:     10,   Func. Count:     71,   Neg. LLF: -1219.3121184641614\n",
            "Iteration:     11,   Func. Count:     78,   Neg. LLF: -1229.764456512697\n",
            "Iteration:     12,   Func. Count:     83,   Neg. LLF: -1229.7713319756433\n",
            "Iteration:     13,   Func. Count:     88,   Neg. LLF: -1229.771333991168\n",
            "Iteration:     14,   Func. Count:     92,   Neg. LLF: -1229.7713339910645\n",
            "Optimization terminated successfully    (Exit mode 0)\n",
            "            Current function value: -1229.771333991168\n",
            "            Iterations: 14\n",
            "            Function evaluations: 92\n",
            "            Gradient evaluations: 14\n"
          ]
        },
        {
          "output_type": "stream",
          "name": "stderr",
          "text": [
            "/usr/local/lib/python3.10/dist-packages/arch/univariate/base.py:310: DataScaleWarning: y is poorly scaled, which may affect convergence of the optimizer when\n",
            "estimating the model parameters. The scale of y is 0.0008955. Parameter\n",
            "estimation work better when this value is between 1 and 1000. The recommended\n",
            "rescaling is 100 * y.\n",
            "\n",
            "This warning can be disabled by either rescaling y before initializing the\n",
            "model or by setting rescale=False.\n",
            "\n",
            "  warnings.warn(\n"
          ]
        },
        {
          "output_type": "stream",
          "name": "stdout",
          "text": [
            "Iteration:      1,   Func. Count:      6,   Neg. LLF: 183843109.1317551\n",
            "Iteration:      2,   Func. Count:     17,   Neg. LLF: 597701.0847180274\n",
            "Iteration:      3,   Func. Count:     23,   Neg. LLF: -1199.3915556235029\n",
            "Iteration:      4,   Func. Count:     29,   Neg. LLF: -1197.5030484690346\n",
            "Iteration:      5,   Func. Count:     36,   Neg. LLF: 743510649.0911381\n",
            "Iteration:      6,   Func. Count:     47,   Neg. LLF: 768.4534415904702\n",
            "Iteration:      7,   Func. Count:     57,   Neg. LLF: -966.9106216608295\n",
            "Iteration:      8,   Func. Count:     66,   Neg. LLF: 16135074.1084789\n",
            "Iteration:      9,   Func. Count:     77,   Neg. LLF: 720.3599904092946\n",
            "Iteration:     10,   Func. Count:     85,   Neg. LLF: 1094.2034567076532\n",
            "Iteration:     11,   Func. Count:     94,   Neg. LLF: -1190.319234392332\n",
            "Iteration:     12,   Func. Count:    100,   Neg. LLF: -1226.1834969104486\n",
            "Iteration:     13,   Func. Count:    107,   Neg. LLF: -1184.9598577316606\n",
            "Iteration:     14,   Func. Count:    114,   Neg. LLF: -1234.4942157667765\n",
            "Iteration:     15,   Func. Count:    119,   Neg. LLF: -1234.4943588797746\n",
            "Iteration:     16,   Func. Count:    123,   Neg. LLF: -1234.4943588798671\n",
            "Optimization terminated successfully    (Exit mode 0)\n",
            "            Current function value: -1234.4943588797746\n",
            "            Iterations: 18\n",
            "            Function evaluations: 123\n",
            "            Gradient evaluations: 16\n"
          ]
        },
        {
          "output_type": "stream",
          "name": "stderr",
          "text": [
            "/usr/local/lib/python3.10/dist-packages/arch/univariate/base.py:310: DataScaleWarning: y is poorly scaled, which may affect convergence of the optimizer when\n",
            "estimating the model parameters. The scale of y is 0.0008928. Parameter\n",
            "estimation work better when this value is between 1 and 1000. The recommended\n",
            "rescaling is 100 * y.\n",
            "\n",
            "This warning can be disabled by either rescaling y before initializing the\n",
            "model or by setting rescale=False.\n",
            "\n",
            "  warnings.warn(\n"
          ]
        },
        {
          "output_type": "stream",
          "name": "stdout",
          "text": [
            "Iteration:      1,   Func. Count:      6,   Neg. LLF: 202557868.31111005\n",
            "Iteration:      2,   Func. Count:     17,   Neg. LLF: -980.9153024864853\n",
            "Iteration:      3,   Func. Count:     23,   Neg. LLF: -1200.5729108698156\n",
            "Iteration:      4,   Func. Count:     29,   Neg. LLF: -822.7875238100427\n",
            "Iteration:      5,   Func. Count:     37,   Neg. LLF: 6930562.868386183\n",
            "Iteration:      6,   Func. Count:     48,   Neg. LLF: -1197.6619555595266\n",
            "Iteration:      7,   Func. Count:     54,   Neg. LLF: 17091.46088419436\n",
            "Iteration:      8,   Func. Count:     62,   Neg. LLF: -1222.0074207217365\n",
            "Iteration:      9,   Func. Count:     69,   Neg. LLF: -1210.3799762970875\n",
            "Iteration:     10,   Func. Count:     76,   Neg. LLF: -1235.0752819399681\n",
            "Iteration:     11,   Func. Count:     83,   Neg. LLF: -1235.6574082423977\n",
            "Iteration:     12,   Func. Count:     88,   Neg. LLF: -1235.6574157406199\n",
            "Iteration:     13,   Func. Count:     92,   Neg. LLF: -1235.657415740621\n",
            "Optimization terminated successfully    (Exit mode 0)\n",
            "            Current function value: -1235.6574157406199\n",
            "            Iterations: 14\n",
            "            Function evaluations: 92\n",
            "            Gradient evaluations: 13\n"
          ]
        },
        {
          "output_type": "stream",
          "name": "stderr",
          "text": [
            "/usr/local/lib/python3.10/dist-packages/arch/univariate/base.py:310: DataScaleWarning: y is poorly scaled, which may affect convergence of the optimizer when\n",
            "estimating the model parameters. The scale of y is 0.0008911. Parameter\n",
            "estimation work better when this value is between 1 and 1000. The recommended\n",
            "rescaling is 100 * y.\n",
            "\n",
            "This warning can be disabled by either rescaling y before initializing the\n",
            "model or by setting rescale=False.\n",
            "\n",
            "  warnings.warn(\n"
          ]
        },
        {
          "output_type": "stream",
          "name": "stdout",
          "text": [
            "Iteration:      1,   Func. Count:      6,   Neg. LLF: 199411971.4366023\n",
            "Iteration:      2,   Func. Count:     17,   Neg. LLF: -1113.3044932803364\n",
            "Iteration:      3,   Func. Count:     23,   Neg. LLF: -1199.069881710346\n",
            "Iteration:      4,   Func. Count:     30,   Neg. LLF: -881.3584462154497\n",
            "Iteration:      5,   Func. Count:     38,   Neg. LLF: -1227.9503881345488\n",
            "Iteration:      6,   Func. Count:     44,   Neg. LLF: -1226.13069811459\n",
            "Iteration:      7,   Func. Count:     51,   Neg. LLF: -1184.7032523339806\n",
            "Iteration:      8,   Func. Count:     58,   Neg. LLF: -1124.1927640236086\n",
            "Iteration:      9,   Func. Count:     65,   Neg. LLF: -1236.4408418436356\n",
            "Iteration:     10,   Func. Count:     70,   Neg. LLF: -1236.440868859134\n",
            "Iteration:     11,   Func. Count:     74,   Neg. LLF: -1236.4408688591398\n",
            "Optimization terminated successfully    (Exit mode 0)\n",
            "            Current function value: -1236.440868859134\n",
            "            Iterations: 11\n",
            "            Function evaluations: 74\n",
            "            Gradient evaluations: 11\n"
          ]
        },
        {
          "output_type": "stream",
          "name": "stderr",
          "text": [
            "/usr/local/lib/python3.10/dist-packages/arch/univariate/base.py:310: DataScaleWarning: y is poorly scaled, which may affect convergence of the optimizer when\n",
            "estimating the model parameters. The scale of y is 0.0008911. Parameter\n",
            "estimation work better when this value is between 1 and 1000. The recommended\n",
            "rescaling is 100 * y.\n",
            "\n",
            "This warning can be disabled by either rescaling y before initializing the\n",
            "model or by setting rescale=False.\n",
            "\n",
            "  warnings.warn(\n"
          ]
        },
        {
          "output_type": "stream",
          "name": "stdout",
          "text": [
            "Iteration:      1,   Func. Count:      6,   Neg. LLF: 181639899.8496118\n",
            "Iteration:      2,   Func. Count:     17,   Neg. LLF: -1101.9720642460843\n",
            "Iteration:      3,   Func. Count:     23,   Neg. LLF: 268847.7326001585\n",
            "Iteration:      4,   Func. Count:     34,   Neg. LLF: -804.9299559169037\n",
            "Iteration:      5,   Func. Count:     42,   Neg. LLF: -1198.7132773662158\n",
            "Iteration:      6,   Func. Count:     48,   Neg. LLF: -1230.643314719031\n",
            "Iteration:      7,   Func. Count:     54,   Neg. LLF: -1006.0096555585017\n",
            "Iteration:      8,   Func. Count:     61,   Neg. LLF: -1236.3237442757004\n",
            "Iteration:      9,   Func. Count:     66,   Neg. LLF: -1236.3240229756184\n",
            "Iteration:     10,   Func. Count:     71,   Neg. LLF: -1236.3240246129685\n",
            "Iteration:     11,   Func. Count:     75,   Neg. LLF: -1236.324024612972\n",
            "Optimization terminated successfully    (Exit mode 0)\n",
            "            Current function value: -1236.3240246129685\n",
            "            Iterations: 12\n",
            "            Function evaluations: 75\n",
            "            Gradient evaluations: 11\n"
          ]
        },
        {
          "output_type": "stream",
          "name": "stderr",
          "text": [
            "/usr/local/lib/python3.10/dist-packages/arch/univariate/base.py:310: DataScaleWarning: y is poorly scaled, which may affect convergence of the optimizer when\n",
            "estimating the model parameters. The scale of y is 0.000891. Parameter\n",
            "estimation work better when this value is between 1 and 1000. The recommended\n",
            "rescaling is 100 * y.\n",
            "\n",
            "This warning can be disabled by either rescaling y before initializing the\n",
            "model or by setting rescale=False.\n",
            "\n",
            "  warnings.warn(\n"
          ]
        },
        {
          "output_type": "stream",
          "name": "stdout",
          "text": [
            "Iteration:      1,   Func. Count:      6,   Neg. LLF: 179790438.31615093\n",
            "Iteration:      2,   Func. Count:     17,   Neg. LLF: 651308.9574642596\n",
            "Iteration:      3,   Func. Count:     23,   Neg. LLF: -1195.5430422491777\n",
            "Iteration:      4,   Func. Count:     29,   Neg. LLF: -1100.8316324001962\n",
            "Iteration:      5,   Func. Count:     37,   Neg. LLF: -1228.3888949735406\n",
            "Iteration:      6,   Func. Count:     43,   Neg. LLF: -1217.7272666607973\n",
            "Iteration:      7,   Func. Count:     49,   Neg. LLF: -1230.2951917583564\n",
            "Iteration:      8,   Func. Count:     55,   Neg. LLF: -1219.1437799022979\n",
            "Iteration:      9,   Func. Count:     61,   Neg. LLF: -1219.669113016732\n",
            "Iteration:     10,   Func. Count:     68,   Neg. LLF: -1236.1881476518886\n",
            "Iteration:     11,   Func. Count:     74,   Neg. LLF: -1236.2875781463454\n",
            "Iteration:     12,   Func. Count:     78,   Neg. LLF: -1236.287578146534\n",
            "Optimization terminated successfully    (Exit mode 0)\n",
            "            Current function value: -1236.2875781463454\n",
            "            Iterations: 12\n",
            "            Function evaluations: 78\n",
            "            Gradient evaluations: 12\n"
          ]
        },
        {
          "output_type": "stream",
          "name": "stderr",
          "text": [
            "/usr/local/lib/python3.10/dist-packages/arch/univariate/base.py:310: DataScaleWarning: y is poorly scaled, which may affect convergence of the optimizer when\n",
            "estimating the model parameters. The scale of y is 0.000891. Parameter\n",
            "estimation work better when this value is between 1 and 1000. The recommended\n",
            "rescaling is 100 * y.\n",
            "\n",
            "This warning can be disabled by either rescaling y before initializing the\n",
            "model or by setting rescale=False.\n",
            "\n",
            "  warnings.warn(\n"
          ]
        },
        {
          "output_type": "stream",
          "name": "stdout",
          "text": [
            "Iteration:      1,   Func. Count:      6,   Neg. LLF: 157980586.26083487\n",
            "Iteration:      2,   Func. Count:     17,   Neg. LLF: -984.7038073195172\n",
            "Iteration:      3,   Func. Count:     23,   Neg. LLF: -1189.0049115346199\n",
            "Iteration:      4,   Func. Count:     29,   Neg. LLF: 2220948.167215856\n",
            "Iteration:      5,   Func. Count:     40,   Neg. LLF: -814.3403481059834\n",
            "Iteration:      6,   Func. Count:     48,   Neg. LLF: -1193.485300346502\n",
            "Iteration:      7,   Func. Count:     54,   Neg. LLF: -1211.1700978717695\n",
            "Iteration:      8,   Func. Count:     62,   Neg. LLF: -1218.319283219454\n",
            "Iteration:      9,   Func. Count:     69,   Neg. LLF: -1236.325185699942\n",
            "Iteration:     10,   Func. Count:     74,   Neg. LLF: -1236.3272219685741\n",
            "Iteration:     11,   Func. Count:     79,   Neg. LLF: -1236.3272350814404\n",
            "Iteration:     12,   Func. Count:     83,   Neg. LLF: -1236.3272350813481\n",
            "Optimization terminated successfully    (Exit mode 0)\n",
            "            Current function value: -1236.3272350814404\n",
            "            Iterations: 13\n",
            "            Function evaluations: 83\n",
            "            Gradient evaluations: 12\n"
          ]
        },
        {
          "output_type": "stream",
          "name": "stderr",
          "text": [
            "/usr/local/lib/python3.10/dist-packages/arch/univariate/base.py:310: DataScaleWarning: y is poorly scaled, which may affect convergence of the optimizer when\n",
            "estimating the model parameters. The scale of y is 0.0008909. Parameter\n",
            "estimation work better when this value is between 1 and 1000. The recommended\n",
            "rescaling is 100 * y.\n",
            "\n",
            "This warning can be disabled by either rescaling y before initializing the\n",
            "model or by setting rescale=False.\n",
            "\n",
            "  warnings.warn(\n"
          ]
        },
        {
          "output_type": "stream",
          "name": "stdout",
          "text": [
            "Iteration:      1,   Func. Count:      6,   Neg. LLF: 130286009.17253709\n",
            "Iteration:      2,   Func. Count:     17,   Neg. LLF: -692.4694854945413\n",
            "Iteration:      3,   Func. Count:     23,   Neg. LLF: -1184.4517469933182\n",
            "Iteration:      4,   Func. Count:     29,   Neg. LLF: -1184.7297333056727\n",
            "Iteration:      5,   Func. Count:     36,   Neg. LLF: 652214.1135089601\n",
            "Iteration:      6,   Func. Count:     47,   Neg. LLF: -894.6783281266864\n",
            "Iteration:      7,   Func. Count:     55,   Neg. LLF: -1190.6129751806975\n",
            "Iteration:      8,   Func. Count:     61,   Neg. LLF: -1191.5387642870462\n",
            "Iteration:      9,   Func. Count:     69,   Neg. LLF: -1229.4947124171526\n",
            "Iteration:     10,   Func. Count:     76,   Neg. LLF: -1236.4770870733253\n",
            "Iteration:     11,   Func. Count:     81,   Neg. LLF: -1236.477177560837\n",
            "Iteration:     12,   Func. Count:     86,   Neg. LLF: -1236.4771786925762\n",
            "Iteration:     13,   Func. Count:     90,   Neg. LLF: -1236.4771786925753\n",
            "Optimization terminated successfully    (Exit mode 0)\n",
            "            Current function value: -1236.4771786925762\n",
            "            Iterations: 14\n",
            "            Function evaluations: 90\n",
            "            Gradient evaluations: 13\n"
          ]
        },
        {
          "output_type": "stream",
          "name": "stderr",
          "text": [
            "/usr/local/lib/python3.10/dist-packages/arch/univariate/base.py:310: DataScaleWarning: y is poorly scaled, which may affect convergence of the optimizer when\n",
            "estimating the model parameters. The scale of y is 0.0008904. Parameter\n",
            "estimation work better when this value is between 1 and 1000. The recommended\n",
            "rescaling is 100 * y.\n",
            "\n",
            "This warning can be disabled by either rescaling y before initializing the\n",
            "model or by setting rescale=False.\n",
            "\n",
            "  warnings.warn(\n"
          ]
        },
        {
          "output_type": "stream",
          "name": "stdout",
          "text": [
            "Iteration:      1,   Func. Count:      6,   Neg. LLF: 125202607.51501392\n",
            "Iteration:      2,   Func. Count:     17,   Neg. LLF: 373.6368112366163\n",
            "Iteration:      3,   Func. Count:     23,   Neg. LLF: -1178.6317421532108\n",
            "Iteration:      4,   Func. Count:     29,   Neg. LLF: -1160.2066551644052\n",
            "Iteration:      5,   Func. Count:     36,   Neg. LLF: -1155.4051135833058\n",
            "Iteration:      6,   Func. Count:     43,   Neg. LLF: -1178.6754333868457\n",
            "Iteration:      7,   Func. Count:     49,   Neg. LLF: 14944084.457431043\n",
            "Iteration:      8,   Func. Count:     60,   Neg. LLF: -765.8562708184386\n",
            "Iteration:      9,   Func. Count:     68,   Neg. LLF: -1189.6804025280949\n",
            "Iteration:     10,   Func. Count:     74,   Neg. LLF: 986.4773107904\n",
            "Iteration:     11,   Func. Count:     82,   Neg. LLF: -1224.851918469341\n",
            "Iteration:     12,   Func. Count:     88,   Neg. LLF: -1231.8559753637078\n",
            "Iteration:     13,   Func. Count:     94,   Neg. LLF: -1236.8554632759508\n",
            "Iteration:     14,   Func. Count:     99,   Neg. LLF: -1236.8558395695477\n",
            "Iteration:     15,   Func. Count:    104,   Neg. LLF: -1236.8558555541558\n",
            "Iteration:     16,   Func. Count:    108,   Neg. LLF: -1236.8558555543136\n",
            "Optimization terminated successfully    (Exit mode 0)\n",
            "            Current function value: -1236.8558555541558\n",
            "            Iterations: 17\n",
            "            Function evaluations: 108\n",
            "            Gradient evaluations: 16\n"
          ]
        },
        {
          "output_type": "stream",
          "name": "stderr",
          "text": [
            "/usr/local/lib/python3.10/dist-packages/arch/univariate/base.py:310: DataScaleWarning: y is poorly scaled, which may affect convergence of the optimizer when\n",
            "estimating the model parameters. The scale of y is 0.0008969. Parameter\n",
            "estimation work better when this value is between 1 and 1000. The recommended\n",
            "rescaling is 100 * y.\n",
            "\n",
            "This warning can be disabled by either rescaling y before initializing the\n",
            "model or by setting rescale=False.\n",
            "\n",
            "  warnings.warn(\n"
          ]
        },
        {
          "output_type": "stream",
          "name": "stdout",
          "text": [
            "Iteration:      1,   Func. Count:      6,   Neg. LLF: 144906495.89111248\n",
            "Iteration:      2,   Func. Count:     17,   Neg. LLF: 316.6120157513023\n",
            "Iteration:      3,   Func. Count:     23,   Neg. LLF: -1169.0459007420122\n",
            "Iteration:      4,   Func. Count:     29,   Neg. LLF: -1010.1554252191389\n",
            "Iteration:      5,   Func. Count:     37,   Neg. LLF: -1218.31318158616\n",
            "Iteration:      6,   Func. Count:     43,   Neg. LLF: -1153.1617466210262\n",
            "Iteration:      7,   Func. Count:     49,   Neg. LLF: -1227.0806543163337\n",
            "Iteration:      8,   Func. Count:     55,   Neg. LLF: -1195.6261624299113\n",
            "Iteration:      9,   Func. Count:     62,   Neg. LLF: -1179.0529682819902\n",
            "Iteration:     10,   Func. Count:     68,   Neg. LLF: -1233.1255429479174\n",
            "Iteration:     11,   Func. Count:     73,   Neg. LLF: -1233.1261503815072\n",
            "Iteration:     12,   Func. Count:     78,   Neg. LLF: -1233.126170772929\n",
            "Iteration:     13,   Func. Count:     82,   Neg. LLF: -1233.126170772847\n",
            "Optimization terminated successfully    (Exit mode 0)\n",
            "            Current function value: -1233.126170772929\n",
            "            Iterations: 13\n",
            "            Function evaluations: 82\n",
            "            Gradient evaluations: 13\n"
          ]
        },
        {
          "output_type": "stream",
          "name": "stderr",
          "text": [
            "/usr/local/lib/python3.10/dist-packages/arch/univariate/base.py:310: DataScaleWarning: y is poorly scaled, which may affect convergence of the optimizer when\n",
            "estimating the model parameters. The scale of y is 0.0008974. Parameter\n",
            "estimation work better when this value is between 1 and 1000. The recommended\n",
            "rescaling is 100 * y.\n",
            "\n",
            "This warning can be disabled by either rescaling y before initializing the\n",
            "model or by setting rescale=False.\n",
            "\n",
            "  warnings.warn(\n"
          ]
        },
        {
          "output_type": "stream",
          "name": "stdout",
          "text": [
            "Iteration:      1,   Func. Count:      6,   Neg. LLF: 23719997.873908274\n",
            "Iteration:      2,   Func. Count:     16,   Neg. LLF: -1231.9659408680711\n",
            "Optimization terminated successfully    (Exit mode 0)\n",
            "            Current function value: -1231.9659413823365\n",
            "            Iterations: 6\n",
            "            Function evaluations: 16\n",
            "            Gradient evaluations: 2\n"
          ]
        },
        {
          "output_type": "stream",
          "name": "stderr",
          "text": [
            "/usr/local/lib/python3.10/dist-packages/arch/univariate/base.py:310: DataScaleWarning: y is poorly scaled, which may affect convergence of the optimizer when\n",
            "estimating the model parameters. The scale of y is 0.0009013. Parameter\n",
            "estimation work better when this value is between 1 and 1000. The recommended\n",
            "rescaling is 100 * y.\n",
            "\n",
            "This warning can be disabled by either rescaling y before initializing the\n",
            "model or by setting rescale=False.\n",
            "\n",
            "  warnings.warn(\n"
          ]
        },
        {
          "output_type": "stream",
          "name": "stdout",
          "text": [
            "Iteration:      1,   Func. Count:      6,   Neg. LLF: 23384073.140146144\n",
            "Iteration:      2,   Func. Count:     16,   Neg. LLF: -1231.2269224341308\n",
            "Optimization terminated successfully    (Exit mode 0)\n",
            "            Current function value: -1231.226923016774\n",
            "            Iterations: 6\n",
            "            Function evaluations: 16\n",
            "            Gradient evaluations: 2\n"
          ]
        },
        {
          "output_type": "stream",
          "name": "stderr",
          "text": [
            "/usr/local/lib/python3.10/dist-packages/arch/univariate/base.py:310: DataScaleWarning: y is poorly scaled, which may affect convergence of the optimizer when\n",
            "estimating the model parameters. The scale of y is 0.0009013. Parameter\n",
            "estimation work better when this value is between 1 and 1000. The recommended\n",
            "rescaling is 100 * y.\n",
            "\n",
            "This warning can be disabled by either rescaling y before initializing the\n",
            "model or by setting rescale=False.\n",
            "\n",
            "  warnings.warn(\n"
          ]
        },
        {
          "output_type": "stream",
          "name": "stdout",
          "text": [
            "Iteration:      1,   Func. Count:      6,   Neg. LLF: 73397140.67939922\n",
            "Iteration:      2,   Func. Count:     17,   Neg. LLF: 10.928481373752618\n",
            "Iteration:      3,   Func. Count:     23,   Neg. LLF: -1148.824724323379\n",
            "Iteration:      4,   Func. Count:     29,   Neg. LLF: -1148.8324259028916\n",
            "Iteration:      5,   Func. Count:     35,   Neg. LLF: -1148.836168221157\n",
            "Iteration:      6,   Func. Count:     41,   Neg. LLF: -1148.838010307552\n",
            "Iteration:      7,   Func. Count:     47,   Neg. LLF: 171515.32370016907\n",
            "Iteration:      8,   Func. Count:     58,   Neg. LLF: -724.8753936188477\n",
            "Iteration:      9,   Func. Count:     67,   Neg. LLF: -1169.8839574820831\n",
            "Iteration:     10,   Func. Count:     73,   Neg. LLF: -1226.9474261937103\n",
            "Iteration:     11,   Func. Count:     79,   Neg. LLF: -1227.321832533022\n",
            "Iteration:     12,   Func. Count:     86,   Neg. LLF: -1234.0857141220804\n",
            "Iteration:     13,   Func. Count:     91,   Neg. LLF: -1234.1048313958647\n",
            "Iteration:     14,   Func. Count:     96,   Neg. LLF: -1234.1077475957304\n",
            "Iteration:     15,   Func. Count:    101,   Neg. LLF: -1234.1078135507196\n",
            "Iteration:     16,   Func. Count:    106,   Neg. LLF: -1234.1078156235922\n",
            "Iteration:     17,   Func. Count:    110,   Neg. LLF: -1234.1078156235933\n",
            "Optimization terminated successfully    (Exit mode 0)\n",
            "            Current function value: -1234.1078156235922\n",
            "            Iterations: 18\n",
            "            Function evaluations: 110\n",
            "            Gradient evaluations: 17\n"
          ]
        },
        {
          "output_type": "stream",
          "name": "stderr",
          "text": [
            "/usr/local/lib/python3.10/dist-packages/arch/univariate/base.py:310: DataScaleWarning: y is poorly scaled, which may affect convergence of the optimizer when\n",
            "estimating the model parameters. The scale of y is 0.0008975. Parameter\n",
            "estimation work better when this value is between 1 and 1000. The recommended\n",
            "rescaling is 100 * y.\n",
            "\n",
            "This warning can be disabled by either rescaling y before initializing the\n",
            "model or by setting rescale=False.\n",
            "\n",
            "  warnings.warn(\n"
          ]
        },
        {
          "output_type": "stream",
          "name": "stdout",
          "text": [
            "Iteration:      1,   Func. Count:      6,   Neg. LLF: 53203296.78714003\n",
            "Iteration:      2,   Func. Count:     17,   Neg. LLF: -1185.8101026651598\n",
            "Iteration:      3,   Func. Count:     23,   Neg. LLF: -1172.8501446554374\n",
            "Iteration:      4,   Func. Count:     29,   Neg. LLF: -1104.5381343854096\n",
            "Iteration:      5,   Func. Count:     36,   Neg. LLF: -1126.7093690511263\n",
            "Iteration:      6,   Func. Count:     42,   Neg. LLF: -1219.1188610119734\n",
            "Iteration:      7,   Func. Count:     48,   Neg. LLF: 8830.123459729271\n",
            "Iteration:      8,   Func. Count:     54,   Neg. LLF: -1226.6267518294926\n",
            "Iteration:      9,   Func. Count:     60,   Neg. LLF: -1155.4912743045356\n",
            "Iteration:     10,   Func. Count:     66,   Neg. LLF: -1234.934165226962\n",
            "Iteration:     11,   Func. Count:     71,   Neg. LLF: -1234.9057997342416\n",
            "Iteration:     12,   Func. Count:     77,   Neg. LLF: -1234.9373969543017\n",
            "Iteration:     13,   Func. Count:     82,   Neg. LLF: -1234.9379757666852\n",
            "Iteration:     14,   Func. Count:     87,   Neg. LLF: -1234.9379750034575\n",
            "Optimization terminated successfully    (Exit mode 0)\n",
            "            Current function value: -1234.937975850585\n",
            "            Iterations: 14\n",
            "            Function evaluations: 89\n",
            "            Gradient evaluations: 14\n"
          ]
        },
        {
          "output_type": "stream",
          "name": "stderr",
          "text": [
            "/usr/local/lib/python3.10/dist-packages/arch/univariate/base.py:310: DataScaleWarning: y is poorly scaled, which may affect convergence of the optimizer when\n",
            "estimating the model parameters. The scale of y is 0.0008975. Parameter\n",
            "estimation work better when this value is between 1 and 1000. The recommended\n",
            "rescaling is 100 * y.\n",
            "\n",
            "This warning can be disabled by either rescaling y before initializing the\n",
            "model or by setting rescale=False.\n",
            "\n",
            "  warnings.warn(\n"
          ]
        },
        {
          "output_type": "stream",
          "name": "stdout",
          "text": [
            "Iteration:      1,   Func. Count:      6,   Neg. LLF: 87736828.4164902\n",
            "Iteration:      2,   Func. Count:     16,   Neg. LLF: -1235.6014109785242\n",
            "Optimization terminated successfully    (Exit mode 0)\n",
            "            Current function value: -1235.6014110764402\n",
            "            Iterations: 6\n",
            "            Function evaluations: 16\n",
            "            Gradient evaluations: 2\n"
          ]
        },
        {
          "output_type": "stream",
          "name": "stderr",
          "text": [
            "/usr/local/lib/python3.10/dist-packages/arch/univariate/base.py:310: DataScaleWarning: y is poorly scaled, which may affect convergence of the optimizer when\n",
            "estimating the model parameters. The scale of y is 0.0008739. Parameter\n",
            "estimation work better when this value is between 1 and 1000. The recommended\n",
            "rescaling is 100 * y.\n",
            "\n",
            "This warning can be disabled by either rescaling y before initializing the\n",
            "model or by setting rescale=False.\n",
            "\n",
            "  warnings.warn(\n"
          ]
        },
        {
          "output_type": "stream",
          "name": "stdout",
          "text": [
            "Iteration:      1,   Func. Count:      6,   Neg. LLF: 201924660.43875617\n",
            "Iteration:      2,   Func. Count:     17,   Neg. LLF: -1224.9251320600922\n",
            "Iteration:      3,   Func. Count:     23,   Neg. LLF: -1241.8593631049066\n",
            "Optimization terminated successfully    (Exit mode 0)\n",
            "            Current function value: -1241.8593636700048\n",
            "            Iterations: 7\n",
            "            Function evaluations: 23\n",
            "            Gradient evaluations: 3\n"
          ]
        },
        {
          "output_type": "stream",
          "name": "stderr",
          "text": [
            "/usr/local/lib/python3.10/dist-packages/arch/univariate/base.py:310: DataScaleWarning: y is poorly scaled, which may affect convergence of the optimizer when\n",
            "estimating the model parameters. The scale of y is 0.000874. Parameter\n",
            "estimation work better when this value is between 1 and 1000. The recommended\n",
            "rescaling is 100 * y.\n",
            "\n",
            "This warning can be disabled by either rescaling y before initializing the\n",
            "model or by setting rescale=False.\n",
            "\n",
            "  warnings.warn(\n"
          ]
        },
        {
          "output_type": "stream",
          "name": "stdout",
          "text": [
            "Iteration:      1,   Func. Count:      6,   Neg. LLF: 157141465.76590568\n",
            "Iteration:      2,   Func. Count:     17,   Neg. LLF: -467.5167404102339\n",
            "Iteration:      3,   Func. Count:     23,   Neg. LLF: -1063.9692488935732\n",
            "Iteration:      4,   Func. Count:     31,   Neg. LLF: -1239.1567941784776\n",
            "Iteration:      5,   Func. Count:     37,   Neg. LLF: 13812.51584621804\n",
            "Iteration:      6,   Func. Count:     45,   Neg. LLF: -1237.2883385418097\n",
            "Iteration:      7,   Func. Count:     52,   Neg. LLF: -1209.301267299127\n",
            "Iteration:      8,   Func. Count:     59,   Neg. LLF: -1243.5570715087579\n",
            "Iteration:      9,   Func. Count:     64,   Neg. LLF: -1243.5570761662432\n",
            "Iteration:     10,   Func. Count:     68,   Neg. LLF: -1243.5570761662148\n",
            "Optimization terminated successfully    (Exit mode 0)\n",
            "            Current function value: -1243.5570761662432\n",
            "            Iterations: 10\n",
            "            Function evaluations: 68\n",
            "            Gradient evaluations: 10\n"
          ]
        },
        {
          "output_type": "stream",
          "name": "stderr",
          "text": [
            "/usr/local/lib/python3.10/dist-packages/arch/univariate/base.py:310: DataScaleWarning: y is poorly scaled, which may affect convergence of the optimizer when\n",
            "estimating the model parameters. The scale of y is 0.000873. Parameter\n",
            "estimation work better when this value is between 1 and 1000. The recommended\n",
            "rescaling is 100 * y.\n",
            "\n",
            "This warning can be disabled by either rescaling y before initializing the\n",
            "model or by setting rescale=False.\n",
            "\n",
            "  warnings.warn(\n"
          ]
        },
        {
          "output_type": "stream",
          "name": "stdout",
          "text": [
            "Iteration:      1,   Func. Count:      6,   Neg. LLF: 186589236.5096595\n",
            "Iteration:      2,   Func. Count:     17,   Neg. LLF: -1222.0519891178883\n",
            "Iteration:      3,   Func. Count:     24,   Neg. LLF: 24017561687518.535\n",
            "Iteration:      4,   Func. Count:     34,   Neg. LLF: -1242.5255624958456\n",
            "Optimization terminated successfully    (Exit mode 0)\n",
            "            Current function value: -1242.525563038453\n",
            "            Iterations: 8\n",
            "            Function evaluations: 34\n",
            "            Gradient evaluations: 4\n"
          ]
        },
        {
          "output_type": "stream",
          "name": "stderr",
          "text": [
            "/usr/local/lib/python3.10/dist-packages/arch/univariate/base.py:310: DataScaleWarning: y is poorly scaled, which may affect convergence of the optimizer when\n",
            "estimating the model parameters. The scale of y is 0.0008716. Parameter\n",
            "estimation work better when this value is between 1 and 1000. The recommended\n",
            "rescaling is 100 * y.\n",
            "\n",
            "This warning can be disabled by either rescaling y before initializing the\n",
            "model or by setting rescale=False.\n",
            "\n",
            "  warnings.warn(\n"
          ]
        },
        {
          "output_type": "stream",
          "name": "stdout",
          "text": [
            "Iteration:      1,   Func. Count:      6,   Neg. LLF: 203251923.0895152\n",
            "Iteration:      2,   Func. Count:     17,   Neg. LLF: -1143.2858918982697\n",
            "Iteration:      3,   Func. Count:     25,   Neg. LLF: -1221.7621236705443\n",
            "Iteration:      4,   Func. Count:     31,   Neg. LLF: -1220.2716546893803\n",
            "Iteration:      5,   Func. Count:     38,   Neg. LLF: -1204.3769711713787\n",
            "Iteration:      6,   Func. Count:     45,   Neg. LLF: -1238.5048167428959\n",
            "Iteration:      7,   Func. Count:     51,   Neg. LLF: -1244.0929544532194\n",
            "Iteration:      8,   Func. Count:     57,   Neg. LLF: -1244.7026787360487\n",
            "Iteration:      9,   Func. Count:     62,   Neg. LLF: -1244.7027862492646\n",
            "Iteration:     10,   Func. Count:     67,   Neg. LLF: -1244.7027907596241\n",
            "Iteration:     11,   Func. Count:     71,   Neg. LLF: -1244.7027907596216\n",
            "Optimization terminated successfully    (Exit mode 0)\n",
            "            Current function value: -1244.7027907596241\n",
            "            Iterations: 11\n",
            "            Function evaluations: 71\n",
            "            Gradient evaluations: 11\n"
          ]
        },
        {
          "output_type": "stream",
          "name": "stderr",
          "text": [
            "/usr/local/lib/python3.10/dist-packages/arch/univariate/base.py:310: DataScaleWarning: y is poorly scaled, which may affect convergence of the optimizer when\n",
            "estimating the model parameters. The scale of y is 0.0008718. Parameter\n",
            "estimation work better when this value is between 1 and 1000. The recommended\n",
            "rescaling is 100 * y.\n",
            "\n",
            "This warning can be disabled by either rescaling y before initializing the\n",
            "model or by setting rescale=False.\n",
            "\n",
            "  warnings.warn(\n"
          ]
        },
        {
          "output_type": "stream",
          "name": "stdout",
          "text": [
            "Iteration:      1,   Func. Count:      6,   Neg. LLF: 197428665.32390347\n",
            "Iteration:      2,   Func. Count:     17,   Neg. LLF: -1194.6257761996749\n",
            "Iteration:      3,   Func. Count:     23,   Neg. LLF: -1242.8425515582571\n",
            "Optimization terminated successfully    (Exit mode 0)\n",
            "            Current function value: -1242.8425517985713\n",
            "            Iterations: 7\n",
            "            Function evaluations: 23\n",
            "            Gradient evaluations: 3\n"
          ]
        },
        {
          "output_type": "stream",
          "name": "stderr",
          "text": [
            "/usr/local/lib/python3.10/dist-packages/arch/univariate/base.py:310: DataScaleWarning: y is poorly scaled, which may affect convergence of the optimizer when\n",
            "estimating the model parameters. The scale of y is 0.0008718. Parameter\n",
            "estimation work better when this value is between 1 and 1000. The recommended\n",
            "rescaling is 100 * y.\n",
            "\n",
            "This warning can be disabled by either rescaling y before initializing the\n",
            "model or by setting rescale=False.\n",
            "\n",
            "  warnings.warn(\n"
          ]
        },
        {
          "output_type": "stream",
          "name": "stdout",
          "text": [
            "Iteration:      1,   Func. Count:      6,   Neg. LLF: 174305068.34921783\n",
            "Iteration:      2,   Func. Count:     17,   Neg. LLF: 7783665.728663047\n",
            "Iteration:      3,   Func. Count:     23,   Neg. LLF: -907.7038639848594\n",
            "Iteration:      4,   Func. Count:     31,   Neg. LLF: -1228.2645000644156\n",
            "Iteration:      5,   Func. Count:     37,   Neg. LLF: 21785.540764775287\n",
            "Iteration:      6,   Func. Count:     44,   Neg. LLF: -1185.3447205320238\n",
            "Iteration:      7,   Func. Count:     51,   Neg. LLF: -1233.9953772649208\n",
            "Iteration:      8,   Func. Count:     58,   Neg. LLF: -1244.7438619267716\n",
            "Iteration:      9,   Func. Count:     63,   Neg. LLF: -1244.7444617043288\n",
            "Iteration:     10,   Func. Count:     67,   Neg. LLF: -1244.7444617043313\n",
            "Optimization terminated successfully    (Exit mode 0)\n",
            "            Current function value: -1244.7444617043288\n",
            "            Iterations: 10\n",
            "            Function evaluations: 67\n",
            "            Gradient evaluations: 10\n"
          ]
        },
        {
          "output_type": "stream",
          "name": "stderr",
          "text": [
            "/usr/local/lib/python3.10/dist-packages/arch/univariate/base.py:310: DataScaleWarning: y is poorly scaled, which may affect convergence of the optimizer when\n",
            "estimating the model parameters. The scale of y is 0.0008713. Parameter\n",
            "estimation work better when this value is between 1 and 1000. The recommended\n",
            "rescaling is 100 * y.\n",
            "\n",
            "This warning can be disabled by either rescaling y before initializing the\n",
            "model or by setting rescale=False.\n",
            "\n",
            "  warnings.warn(\n"
          ]
        },
        {
          "output_type": "stream",
          "name": "stdout",
          "text": [
            "Iteration:      1,   Func. Count:      6,   Neg. LLF: 105412185.47204797\n",
            "Iteration:      2,   Func. Count:     17,   Neg. LLF: -1164.8411046541264\n",
            "Iteration:      3,   Func. Count:     23,   Neg. LLF: -1231.390888254651\n",
            "Iteration:      4,   Func. Count:     30,   Neg. LLF: -1198.1520331478582\n",
            "Iteration:      5,   Func. Count:     36,   Neg. LLF: 55214.97252731944\n",
            "Iteration:      6,   Func. Count:     44,   Neg. LLF: -1235.2146462083351\n",
            "Iteration:      7,   Func. Count:     50,   Neg. LLF: -1244.7914583598053\n",
            "Iteration:      8,   Func. Count:     56,   Neg. LLF: -1245.161216743646\n",
            "Iteration:      9,   Func. Count:     61,   Neg. LLF: -1245.1614326612457\n",
            "Iteration:     10,   Func. Count:     66,   Neg. LLF: -1245.1614587379497\n",
            "Iteration:     11,   Func. Count:     71,   Neg. LLF: -1245.1614594490202\n",
            "Optimization terminated successfully    (Exit mode 0)\n",
            "            Current function value: -1245.1614594490202\n",
            "            Iterations: 11\n",
            "            Function evaluations: 71\n",
            "            Gradient evaluations: 11\n"
          ]
        },
        {
          "output_type": "stream",
          "name": "stderr",
          "text": [
            "/usr/local/lib/python3.10/dist-packages/arch/univariate/base.py:310: DataScaleWarning: y is poorly scaled, which may affect convergence of the optimizer when\n",
            "estimating the model parameters. The scale of y is 0.0008712. Parameter\n",
            "estimation work better when this value is between 1 and 1000. The recommended\n",
            "rescaling is 100 * y.\n",
            "\n",
            "This warning can be disabled by either rescaling y before initializing the\n",
            "model or by setting rescale=False.\n",
            "\n",
            "  warnings.warn(\n"
          ]
        },
        {
          "output_type": "stream",
          "name": "stdout",
          "text": [
            "Iteration:      1,   Func. Count:      6,   Neg. LLF: 166007959.90926728\n",
            "Iteration:      2,   Func. Count:     17,   Neg. LLF: -1233.085994156337\n",
            "Iteration:      3,   Func. Count:     24,   Neg. LLF: 12064317.16308774\n",
            "Iteration:      4,   Func. Count:     35,   Neg. LLF: 46674871.859951004\n",
            "Iteration:      5,   Func. Count:     42,   Neg. LLF: 906.9554409594111\n",
            "Iteration:      6,   Func. Count:     50,   Neg. LLF: -1131.111639115522\n",
            "Iteration:      7,   Func. Count:     56,   Neg. LLF: -1231.9731848944793\n",
            "Iteration:      8,   Func. Count:     63,   Neg. LLF: -1191.3304073942027\n",
            "Iteration:      9,   Func. Count:     69,   Neg. LLF: -1210.0166956631365\n",
            "Iteration:     10,   Func. Count:     76,   Neg. LLF: 2639.034275736634\n",
            "Iteration:     11,   Func. Count:     82,   Neg. LLF: -1245.0340676277\n",
            "Iteration:     12,   Func. Count:     87,   Neg. LLF: -1245.0354216537025\n",
            "Iteration:     13,   Func. Count:     92,   Neg. LLF: -1245.0354288904468\n",
            "Iteration:     14,   Func. Count:     97,   Neg. LLF: -1245.0354318318878\n",
            "Iteration:     15,   Func. Count:    101,   Neg. LLF: -1245.0354318318737\n",
            "Optimization terminated successfully    (Exit mode 0)\n",
            "            Current function value: -1245.0354318318878\n",
            "            Iterations: 16\n",
            "            Function evaluations: 101\n",
            "            Gradient evaluations: 15\n"
          ]
        },
        {
          "output_type": "stream",
          "name": "stderr",
          "text": [
            "/usr/local/lib/python3.10/dist-packages/arch/univariate/base.py:310: DataScaleWarning: y is poorly scaled, which may affect convergence of the optimizer when\n",
            "estimating the model parameters. The scale of y is 0.0008725. Parameter\n",
            "estimation work better when this value is between 1 and 1000. The recommended\n",
            "rescaling is 100 * y.\n",
            "\n",
            "This warning can be disabled by either rescaling y before initializing the\n",
            "model or by setting rescale=False.\n",
            "\n",
            "  warnings.warn(\n"
          ]
        },
        {
          "output_type": "stream",
          "name": "stdout",
          "text": [
            "Iteration:      1,   Func. Count:      6,   Neg. LLF: 153089967.06271723\n",
            "Iteration:      2,   Func. Count:     17,   Neg. LLF: 17761.25826640067\n",
            "Iteration:      3,   Func. Count:     28,   Neg. LLF: -1193.127150742529\n",
            "Iteration:      4,   Func. Count:     34,   Neg. LLF: -1243.0299013947283\n",
            "Optimization terminated successfully    (Exit mode 0)\n",
            "            Current function value: -1243.0299015737828\n",
            "            Iterations: 8\n",
            "            Function evaluations: 34\n",
            "            Gradient evaluations: 4\n"
          ]
        },
        {
          "output_type": "stream",
          "name": "stderr",
          "text": [
            "/usr/local/lib/python3.10/dist-packages/arch/univariate/base.py:310: DataScaleWarning: y is poorly scaled, which may affect convergence of the optimizer when\n",
            "estimating the model parameters. The scale of y is 0.0008729. Parameter\n",
            "estimation work better when this value is between 1 and 1000. The recommended\n",
            "rescaling is 100 * y.\n",
            "\n",
            "This warning can be disabled by either rescaling y before initializing the\n",
            "model or by setting rescale=False.\n",
            "\n",
            "  warnings.warn(\n"
          ]
        },
        {
          "output_type": "stream",
          "name": "stdout",
          "text": [
            "Iteration:      1,   Func. Count:      6,   Neg. LLF: 107501716.09718034\n",
            "Iteration:      2,   Func. Count:     17,   Neg. LLF: 15520.449472526972\n",
            "Iteration:      3,   Func. Count:     28,   Neg. LLF: 82426.4707023424\n",
            "Iteration:      4,   Func. Count:     34,   Neg. LLF: -969.9070509542776\n",
            "Iteration:      5,   Func. Count:     41,   Neg. LLF: -1146.9191903458996\n",
            "Iteration:      6,   Func. Count:     49,   Neg. LLF: -1202.43444635191\n",
            "Iteration:      7,   Func. Count:     55,   Neg. LLF: -1237.742840898868\n",
            "Iteration:      8,   Func. Count:     61,   Neg. LLF: -511.70714473178435\n",
            "Iteration:      9,   Func. Count:     67,   Neg. LLF: -1209.0846572272703\n",
            "Iteration:     10,   Func. Count:     74,   Neg. LLF: -1181.5913803149326\n",
            "Iteration:     11,   Func. Count:     80,   Neg. LLF: -1245.3577341343344\n",
            "Iteration:     12,   Func. Count:     85,   Neg. LLF: -1245.3593420412158\n",
            "Iteration:     13,   Func. Count:     90,   Neg. LLF: -1245.3594715212128\n",
            "Iteration:     14,   Func. Count:     95,   Neg. LLF: -1245.3595520006334\n",
            "Iteration:     15,   Func. Count:    100,   Neg. LLF: -1245.3595583295184\n",
            "Iteration:     16,   Func. Count:    104,   Neg. LLF: -1245.3595583293663\n",
            "Optimization terminated successfully    (Exit mode 0)\n",
            "            Current function value: -1245.3595583295184\n",
            "            Iterations: 17\n",
            "            Function evaluations: 104\n",
            "            Gradient evaluations: 16\n"
          ]
        },
        {
          "output_type": "stream",
          "name": "stderr",
          "text": [
            "/usr/local/lib/python3.10/dist-packages/arch/univariate/base.py:310: DataScaleWarning: y is poorly scaled, which may affect convergence of the optimizer when\n",
            "estimating the model parameters. The scale of y is 0.000873. Parameter\n",
            "estimation work better when this value is between 1 and 1000. The recommended\n",
            "rescaling is 100 * y.\n",
            "\n",
            "This warning can be disabled by either rescaling y before initializing the\n",
            "model or by setting rescale=False.\n",
            "\n",
            "  warnings.warn(\n"
          ]
        },
        {
          "output_type": "stream",
          "name": "stdout",
          "text": [
            "Iteration:      1,   Func. Count:      6,   Neg. LLF: 35882249.644956775\n",
            "Iteration:      2,   Func. Count:     17,   Neg. LLF: 50036.001352018626\n",
            "Iteration:      3,   Func. Count:     28,   Neg. LLF: 2683.0844952415164\n",
            "Iteration:      4,   Func. Count:     38,   Neg. LLF: 41078.59000573539\n",
            "Iteration:      5,   Func. Count:     49,   Neg. LLF: 472490.0919971395\n",
            "Iteration:      6,   Func. Count:     55,   Neg. LLF: -1149.043271982365\n",
            "Iteration:      7,   Func. Count:     63,   Neg. LLF: -1208.827070606765\n",
            "Iteration:      8,   Func. Count:     69,   Neg. LLF: 3247.653501255548\n",
            "Iteration:      9,   Func. Count:     77,   Neg. LLF: -1215.6214263594468\n",
            "Iteration:     10,   Func. Count:     83,   Neg. LLF: -1234.2846685985296\n",
            "Iteration:     11,   Func. Count:     89,   Neg. LLF: -1245.5503521256107\n",
            "Iteration:     12,   Func. Count:     95,   Neg. LLF: -1246.1318615370308\n",
            "Iteration:     13,   Func. Count:    100,   Neg. LLF: -1246.1381530765434\n",
            "Iteration:     14,   Func. Count:    105,   Neg. LLF: -1246.1386175807108\n",
            "Iteration:     15,   Func. Count:    110,   Neg. LLF: -1246.1386370134987\n",
            "Iteration:     16,   Func. Count:    115,   Neg. LLF: -1246.1386396775706\n",
            "Iteration:     17,   Func. Count:    119,   Neg. LLF: -1246.1386396775479\n",
            "Optimization terminated successfully    (Exit mode 0)\n",
            "            Current function value: -1246.1386396775706\n",
            "            Iterations: 20\n",
            "            Function evaluations: 119\n",
            "            Gradient evaluations: 17\n"
          ]
        },
        {
          "output_type": "stream",
          "name": "stderr",
          "text": [
            "/usr/local/lib/python3.10/dist-packages/arch/univariate/base.py:310: DataScaleWarning: y is poorly scaled, which may affect convergence of the optimizer when\n",
            "estimating the model parameters. The scale of y is 0.0008525. Parameter\n",
            "estimation work better when this value is between 1 and 1000. The recommended\n",
            "rescaling is 100 * y.\n",
            "\n",
            "This warning can be disabled by either rescaling y before initializing the\n",
            "model or by setting rescale=False.\n",
            "\n",
            "  warnings.warn(\n"
          ]
        },
        {
          "output_type": "stream",
          "name": "stdout",
          "text": [
            "Iteration:      1,   Func. Count:     10,   Neg. LLF: 200969282.03948915\n",
            "Iteration:      2,   Func. Count:     25,   Neg. LLF: 30207.728083044592\n",
            "Iteration:      3,   Func. Count:     39,   Neg. LLF: -1244.6414199307762\n",
            "Optimization terminated successfully    (Exit mode 0)\n",
            "            Current function value: -1244.6414201702212\n",
            "            Iterations: 7\n",
            "            Function evaluations: 39\n",
            "            Gradient evaluations: 3\n"
          ]
        },
        {
          "output_type": "stream",
          "name": "stderr",
          "text": [
            "/usr/local/lib/python3.10/dist-packages/arch/univariate/base.py:310: DataScaleWarning: y is poorly scaled, which may affect convergence of the optimizer when\n",
            "estimating the model parameters. The scale of y is 0.0008623. Parameter\n",
            "estimation work better when this value is between 1 and 1000. The recommended\n",
            "rescaling is 100 * y.\n",
            "\n",
            "This warning can be disabled by either rescaling y before initializing the\n",
            "model or by setting rescale=False.\n",
            "\n",
            "  warnings.warn(\n"
          ]
        },
        {
          "output_type": "stream",
          "name": "stdout",
          "text": [
            "Iteration:      1,   Func. Count:      8,   Neg. LLF: 970572877.2445416\n",
            "Iteration:      2,   Func. Count:     21,   Neg. LLF: 267.77387779567\n",
            "Iteration:      3,   Func. Count:     31,   Neg. LLF: -1201.5310319902865\n",
            "Iteration:      4,   Func. Count:     40,   Neg. LLF: -1233.1798835912712\n",
            "Iteration:      5,   Func. Count:     48,   Neg. LLF: -1235.5369193029856\n",
            "Iteration:      6,   Func. Count:     56,   Neg. LLF: -1247.428564978422\n",
            "Iteration:      7,   Func. Count:     64,   Neg. LLF: -1235.4210501843572\n",
            "Iteration:      8,   Func. Count:     72,   Neg. LLF: -1250.0125455995326\n",
            "Iteration:      9,   Func. Count:     80,   Neg. LLF: -1256.329919762832\n",
            "Iteration:     10,   Func. Count:     88,   Neg. LLF: -1256.6192969781807\n",
            "Iteration:     11,   Func. Count:     96,   Neg. LLF: -1256.6686505519438\n",
            "Iteration:     12,   Func. Count:    103,   Neg. LLF: -1256.6694185556314\n",
            "Iteration:     13,   Func. Count:    110,   Neg. LLF: -1256.6694603239032\n",
            "Iteration:     14,   Func. Count:    117,   Neg. LLF: -1256.6694619109273\n",
            "Iteration:     15,   Func. Count:    123,   Neg. LLF: -1256.6694619112552\n",
            "Optimization terminated successfully    (Exit mode 0)\n",
            "            Current function value: -1256.6694619109273\n",
            "            Iterations: 15\n",
            "            Function evaluations: 123\n",
            "            Gradient evaluations: 15\n"
          ]
        },
        {
          "output_type": "stream",
          "name": "stderr",
          "text": [
            "/usr/local/lib/python3.10/dist-packages/arch/univariate/base.py:310: DataScaleWarning: y is poorly scaled, which may affect convergence of the optimizer when\n",
            "estimating the model parameters. The scale of y is 0.0008585. Parameter\n",
            "estimation work better when this value is between 1 and 1000. The recommended\n",
            "rescaling is 100 * y.\n",
            "\n",
            "This warning can be disabled by either rescaling y before initializing the\n",
            "model or by setting rescale=False.\n",
            "\n",
            "  warnings.warn(\n"
          ]
        },
        {
          "output_type": "stream",
          "name": "stdout",
          "text": [
            "Iteration:      1,   Func. Count:      6,   Neg. LLF: 27338907.637220643\n",
            "Iteration:      2,   Func. Count:     17,   Neg. LLF: 53814.40256712784\n",
            "Iteration:      3,   Func. Count:     28,   Neg. LLF: -1232.4298230950048\n",
            "Iteration:      4,   Func. Count:     34,   Neg. LLF: -1249.5817902849144\n",
            "Optimization terminated successfully    (Exit mode 0)\n",
            "            Current function value: -1249.5817909225934\n",
            "            Iterations: 8\n",
            "            Function evaluations: 34\n",
            "            Gradient evaluations: 4\n"
          ]
        },
        {
          "output_type": "stream",
          "name": "stderr",
          "text": [
            "/usr/local/lib/python3.10/dist-packages/arch/univariate/base.py:310: DataScaleWarning: y is poorly scaled, which may affect convergence of the optimizer when\n",
            "estimating the model parameters. The scale of y is 0.0008513. Parameter\n",
            "estimation work better when this value is between 1 and 1000. The recommended\n",
            "rescaling is 100 * y.\n",
            "\n",
            "This warning can be disabled by either rescaling y before initializing the\n",
            "model or by setting rescale=False.\n",
            "\n",
            "  warnings.warn(\n"
          ]
        },
        {
          "output_type": "stream",
          "name": "stdout",
          "text": [
            "Iteration:      1,   Func. Count:      8,   Neg. LLF: 99592783593.34369\n",
            "Iteration:      2,   Func. Count:     21,   Neg. LLF: 634595.8898922524\n",
            "Iteration:      3,   Func. Count:     34,   Neg. LLF: -943.4052000617189\n",
            "Iteration:      4,   Func. Count:     44,   Neg. LLF: -418.98383557385205\n",
            "Iteration:      5,   Func. Count:     55,   Neg. LLF: 1239.0686550852386\n",
            "Iteration:      6,   Func. Count:     66,   Neg. LLF: -1204.4825975401222\n",
            "Iteration:      7,   Func. Count:     75,   Neg. LLF: -1233.0076320407825\n",
            "Iteration:      8,   Func. Count:     83,   Neg. LLF: -1247.629872556607\n",
            "Iteration:      9,   Func. Count:     91,   Neg. LLF: -1250.8666336259346\n",
            "Iteration:     10,   Func. Count:     99,   Neg. LLF: -1241.1399828490976\n",
            "Iteration:     11,   Func. Count:    107,   Neg. LLF: -1259.2327392020452\n",
            "Iteration:     12,   Func. Count:    115,   Neg. LLF: -1257.9581889499611\n",
            "Iteration:     13,   Func. Count:    123,   Neg. LLF: -1257.285972439311\n",
            "Iteration:     14,   Func. Count:    131,   Neg. LLF: -1259.6347889079568\n",
            "Iteration:     15,   Func. Count:    138,   Neg. LLF: -1259.637990708142\n",
            "Iteration:     16,   Func. Count:    145,   Neg. LLF: -1259.6384873268871\n",
            "Iteration:     17,   Func. Count:    152,   Neg. LLF: -1259.6387447626116\n",
            "Iteration:     18,   Func. Count:    159,   Neg. LLF: -1259.6387458245545\n",
            "Iteration:     19,   Func. Count:    165,   Neg. LLF: -1259.6387458246325\n",
            "Optimization terminated successfully    (Exit mode 0)\n",
            "            Current function value: -1259.6387458245545\n",
            "            Iterations: 20\n",
            "            Function evaluations: 165\n",
            "            Gradient evaluations: 19\n"
          ]
        },
        {
          "output_type": "stream",
          "name": "stderr",
          "text": [
            "/usr/local/lib/python3.10/dist-packages/arch/univariate/base.py:310: DataScaleWarning: y is poorly scaled, which may affect convergence of the optimizer when\n",
            "estimating the model parameters. The scale of y is 0.0008588. Parameter\n",
            "estimation work better when this value is between 1 and 1000. The recommended\n",
            "rescaling is 100 * y.\n",
            "\n",
            "This warning can be disabled by either rescaling y before initializing the\n",
            "model or by setting rescale=False.\n",
            "\n",
            "  warnings.warn(\n"
          ]
        },
        {
          "output_type": "stream",
          "name": "stdout",
          "text": [
            "Iteration:      1,   Func. Count:      6,   Neg. LLF: 43289959.71056309\n",
            "Iteration:      2,   Func. Count:     17,   Neg. LLF: 70135.9697641731\n",
            "Iteration:      3,   Func. Count:     23,   Neg. LLF: -1065.75965140361\n",
            "Iteration:      4,   Func. Count:     30,   Neg. LLF: -1015.7033825610296\n",
            "Iteration:      5,   Func. Count:     38,   Neg. LLF: 717519.5104444269\n",
            "Iteration:      6,   Func. Count:     49,   Neg. LLF: 2136.8531595393256\n",
            "Iteration:      7,   Func. Count:     56,   Neg. LLF: -1152.13197141714\n",
            "Iteration:      8,   Func. Count:     62,   Neg. LLF: 59160.35221322872\n",
            "Iteration:      9,   Func. Count:     73,   Neg. LLF: -795.6374944248962\n",
            "Iteration:     10,   Func. Count:     82,   Neg. LLF: -1224.3104656892033\n",
            "Iteration:     11,   Func. Count:     88,   Neg. LLF: -1246.0108476505943\n",
            "Iteration:     12,   Func. Count:     94,   Neg. LLF: -1252.7273653931675\n",
            "Iteration:     13,   Func. Count:    100,   Neg. LLF: -1252.8399714988154\n",
            "Iteration:     14,   Func. Count:    105,   Neg. LLF: -1252.848563294871\n",
            "Iteration:     15,   Func. Count:    110,   Neg. LLF: -1252.8500042025262\n",
            "Iteration:     16,   Func. Count:    115,   Neg. LLF: -1252.8505168297834\n",
            "Iteration:     17,   Func. Count:    120,   Neg. LLF: -1252.8505177676093\n",
            "Optimization terminated successfully    (Exit mode 0)\n",
            "            Current function value: -1252.8505177676093\n",
            "            Iterations: 19\n",
            "            Function evaluations: 120\n",
            "            Gradient evaluations: 17\n"
          ]
        },
        {
          "output_type": "stream",
          "name": "stderr",
          "text": [
            "/usr/local/lib/python3.10/dist-packages/arch/univariate/base.py:310: DataScaleWarning: y is poorly scaled, which may affect convergence of the optimizer when\n",
            "estimating the model parameters. The scale of y is 0.0008527. Parameter\n",
            "estimation work better when this value is between 1 and 1000. The recommended\n",
            "rescaling is 100 * y.\n",
            "\n",
            "This warning can be disabled by either rescaling y before initializing the\n",
            "model or by setting rescale=False.\n",
            "\n",
            "  warnings.warn(\n"
          ]
        },
        {
          "output_type": "stream",
          "name": "stdout",
          "text": [
            "Iteration:      1,   Func. Count:      7,   Neg. LLF: 133934706650.12003\n",
            "Iteration:      2,   Func. Count:     19,   Neg. LLF: 47510187263.075195\n",
            "Iteration:      3,   Func. Count:     31,   Neg. LLF: -1042.451836555723\n",
            "Iteration:      4,   Func. Count:     41,   Neg. LLF: 1810679.571603585\n",
            "Iteration:      5,   Func. Count:     53,   Neg. LLF: 558.2967660016124\n",
            "Iteration:      6,   Func. Count:     63,   Neg. LLF: 4305.641994023655\n",
            "Iteration:      7,   Func. Count:     73,   Neg. LLF: -1200.600341414232\n",
            "Iteration:      8,   Func. Count:     81,   Neg. LLF: -1232.232357418317\n",
            "Iteration:      9,   Func. Count:     88,   Neg. LLF: -1253.3300769275934\n",
            "Iteration:     10,   Func. Count:     95,   Neg. LLF: -1224.6207624896954\n",
            "Iteration:     11,   Func. Count:    103,   Neg. LLF: -1253.8191387745755\n",
            "Iteration:     12,   Func. Count:    110,   Neg. LLF: -1257.6352916407916\n",
            "Iteration:     13,   Func. Count:    116,   Neg. LLF: -1257.683473902192\n",
            "Iteration:     14,   Func. Count:    122,   Neg. LLF: -1257.6881418058947\n",
            "Iteration:     15,   Func. Count:    128,   Neg. LLF: -1257.6907790878483\n",
            "Iteration:     16,   Func. Count:    134,   Neg. LLF: -1257.6910113785539\n",
            "Iteration:     17,   Func. Count:    140,   Neg. LLF: -1257.691022637266\n",
            "Iteration:     18,   Func. Count:    145,   Neg. LLF: -1257.691022637013\n",
            "Optimization terminated successfully    (Exit mode 0)\n",
            "            Current function value: -1257.691022637266\n",
            "            Iterations: 20\n",
            "            Function evaluations: 145\n",
            "            Gradient evaluations: 18\n"
          ]
        },
        {
          "output_type": "stream",
          "name": "stderr",
          "text": [
            "/usr/local/lib/python3.10/dist-packages/arch/univariate/base.py:310: DataScaleWarning: y is poorly scaled, which may affect convergence of the optimizer when\n",
            "estimating the model parameters. The scale of y is 0.0008544. Parameter\n",
            "estimation work better when this value is between 1 and 1000. The recommended\n",
            "rescaling is 100 * y.\n",
            "\n",
            "This warning can be disabled by either rescaling y before initializing the\n",
            "model or by setting rescale=False.\n",
            "\n",
            "  warnings.warn(\n"
          ]
        },
        {
          "output_type": "stream",
          "name": "stdout",
          "text": [
            "Iteration:      1,   Func. Count:      6,   Neg. LLF: 294591162843.70276\n",
            "Iteration:      2,   Func. Count:     18,   Neg. LLF: 855.3671751404564\n",
            "Iteration:      3,   Func. Count:     27,   Neg. LLF: 823.9601870956614\n",
            "Iteration:      4,   Func. Count:     35,   Neg. LLF: -1206.7022511019754\n",
            "Iteration:      5,   Func. Count:     42,   Neg. LLF: -1230.6988199220698\n",
            "Iteration:      6,   Func. Count:     48,   Neg. LLF: -1245.0379764104578\n",
            "Iteration:      7,   Func. Count:     54,   Neg. LLF: -1244.159242370236\n",
            "Iteration:      8,   Func. Count:     60,   Neg. LLF: -1245.1644283240532\n",
            "Iteration:      9,   Func. Count:     66,   Neg. LLF: -1248.5933926210837\n",
            "Iteration:     10,   Func. Count:     72,   Neg. LLF: -1254.2775949726124\n",
            "Iteration:     11,   Func. Count:     77,   Neg. LLF: -1254.287328802296\n",
            "Iteration:     12,   Func. Count:     82,   Neg. LLF: -1254.2932227969889\n",
            "Iteration:     13,   Func. Count:     87,   Neg. LLF: -1254.2990337061133\n",
            "Iteration:     14,   Func. Count:     92,   Neg. LLF: -1254.3000618174917\n",
            "Iteration:     15,   Func. Count:     97,   Neg. LLF: -1254.3003353655204\n",
            "Iteration:     16,   Func. Count:    102,   Neg. LLF: -1254.300407136282\n",
            "Iteration:     17,   Func. Count:    107,   Neg. LLF: -1254.3004223064572\n",
            "Iteration:     18,   Func. Count:    112,   Neg. LLF: -1254.3004226540775\n",
            "Optimization terminated successfully    (Exit mode 0)\n",
            "            Current function value: -1254.3004226540775\n",
            "            Iterations: 19\n",
            "            Function evaluations: 112\n",
            "            Gradient evaluations: 18\n"
          ]
        },
        {
          "output_type": "stream",
          "name": "stderr",
          "text": [
            "/usr/local/lib/python3.10/dist-packages/arch/univariate/base.py:310: DataScaleWarning: y is poorly scaled, which may affect convergence of the optimizer when\n",
            "estimating the model parameters. The scale of y is 0.0008458. Parameter\n",
            "estimation work better when this value is between 1 and 1000. The recommended\n",
            "rescaling is 100 * y.\n",
            "\n",
            "This warning can be disabled by either rescaling y before initializing the\n",
            "model or by setting rescale=False.\n",
            "\n",
            "  warnings.warn(\n"
          ]
        },
        {
          "output_type": "stream",
          "name": "stdout",
          "text": [
            "Iteration:      1,   Func. Count:      8,   Neg. LLF: 67743116238.72579\n",
            "Iteration:      2,   Func. Count:     21,   Neg. LLF: 236.92644020993154\n",
            "Iteration:      3,   Func. Count:     32,   Neg. LLF: -1198.790706599878\n",
            "Iteration:      4,   Func. Count:     41,   Neg. LLF: -1216.0230634066975\n",
            "Iteration:      5,   Func. Count:     49,   Neg. LLF: -1002.6477205365854\n",
            "Iteration:      6,   Func. Count:     58,   Neg. LLF: -1249.6559377143594\n",
            "Iteration:      7,   Func. Count:     66,   Neg. LLF: -1254.0708018397638\n",
            "Iteration:      8,   Func. Count:     74,   Neg. LLF: -1233.5215575509073\n",
            "Iteration:      9,   Func. Count:     82,   Neg. LLF: -1259.9948053464047\n",
            "Iteration:     10,   Func. Count:     90,   Neg. LLF: -1263.1743711655083\n",
            "Iteration:     11,   Func. Count:     97,   Neg. LLF: -1263.3215773863133\n",
            "Iteration:     12,   Func. Count:    104,   Neg. LLF: -1262.683980004279\n",
            "Iteration:     13,   Func. Count:    112,   Neg. LLF: -1263.401789503476\n",
            "Iteration:     14,   Func. Count:    119,   Neg. LLF: -1263.4019920207184\n",
            "Iteration:     15,   Func. Count:    126,   Neg. LLF: -1263.401998426229\n",
            "Iteration:     16,   Func. Count:    133,   Neg. LLF: -1263.4019978691888\n",
            "Optimization terminated successfully    (Exit mode 0)\n",
            "            Current function value: -1263.401998541567\n",
            "            Iterations: 16\n",
            "            Function evaluations: 135\n",
            "            Gradient evaluations: 16\n"
          ]
        },
        {
          "output_type": "stream",
          "name": "stderr",
          "text": [
            "/usr/local/lib/python3.10/dist-packages/arch/univariate/base.py:310: DataScaleWarning: y is poorly scaled, which may affect convergence of the optimizer when\n",
            "estimating the model parameters. The scale of y is 0.0008514. Parameter\n",
            "estimation work better when this value is between 1 and 1000. The recommended\n",
            "rescaling is 100 * y.\n",
            "\n",
            "This warning can be disabled by either rescaling y before initializing the\n",
            "model or by setting rescale=False.\n",
            "\n",
            "  warnings.warn(\n"
          ]
        },
        {
          "output_type": "stream",
          "name": "stdout",
          "text": [
            "Iteration:      1,   Func. Count:      6,   Neg. LLF: 61978368.58566855\n",
            "Iteration:      2,   Func. Count:     18,   Neg. LLF: 8588.217794212747\n",
            "Iteration:      3,   Func. Count:     28,   Neg. LLF: 2600435752.25926\n",
            "Iteration:      4,   Func. Count:     39,   Neg. LLF: 8089.928381746226\n",
            "Iteration:      5,   Func. Count:     48,   Neg. LLF: 7034.478024067517\n",
            "Iteration:      6,   Func. Count:     57,   Neg. LLF: 28351648094.816067\n",
            "Iteration:      7,   Func. Count:     68,   Neg. LLF: 73979.89947227473\n",
            "Optimization terminated successfully    (Exit mode 0)\n",
            "            Current function value: -1255.7366368710705\n",
            "            Iterations: 10\n",
            "            Function evaluations: 75\n",
            "            Gradient evaluations: 7\n"
          ]
        },
        {
          "output_type": "stream",
          "name": "stderr",
          "text": [
            "/usr/local/lib/python3.10/dist-packages/arch/univariate/base.py:310: DataScaleWarning: y is poorly scaled, which may affect convergence of the optimizer when\n",
            "estimating the model parameters. The scale of y is 0.0008406. Parameter\n",
            "estimation work better when this value is between 1 and 1000. The recommended\n",
            "rescaling is 100 * y.\n",
            "\n",
            "This warning can be disabled by either rescaling y before initializing the\n",
            "model or by setting rescale=False.\n",
            "\n",
            "  warnings.warn(\n"
          ]
        },
        {
          "output_type": "stream",
          "name": "stdout",
          "text": [
            "Iteration:      1,   Func. Count:      8,   Neg. LLF: 50910075.43199646\n",
            "Iteration:      2,   Func. Count:     22,   Neg. LLF: 295.8652140283364\n",
            "Iteration:      3,   Func. Count:     33,   Neg. LLF: -699.9904498401538\n",
            "Iteration:      4,   Func. Count:     44,   Neg. LLF: 41.46877240542744\n",
            "Iteration:      5,   Func. Count:     54,   Neg. LLF: -1138.9394325902076\n",
            "Iteration:      6,   Func. Count:     62,   Neg. LLF: -866.5305990535701\n",
            "Iteration:      7,   Func. Count:     71,   Neg. LLF: -1233.0454799969943\n",
            "Iteration:      8,   Func. Count:     80,   Neg. LLF: -1179.4519357234103\n",
            "Iteration:      9,   Func. Count:     88,   Neg. LLF: -1260.3281069054526\n",
            "Iteration:     10,   Func. Count:     96,   Neg. LLF: -1264.823945497964\n",
            "Iteration:     11,   Func. Count:    103,   Neg. LLF: -1264.6513256115109\n",
            "Iteration:     12,   Func. Count:    111,   Neg. LLF: -1264.9661867954812\n",
            "Iteration:     13,   Func. Count:    118,   Neg. LLF: -1264.9743624354585\n",
            "Iteration:     14,   Func. Count:    125,   Neg. LLF: -1264.9745075570336\n",
            "Iteration:     15,   Func. Count:    131,   Neg. LLF: -1264.974507556703\n",
            "Optimization terminated successfully    (Exit mode 0)\n",
            "            Current function value: -1264.9745075570336\n",
            "            Iterations: 15\n",
            "            Function evaluations: 131\n",
            "            Gradient evaluations: 15\n"
          ]
        },
        {
          "output_type": "stream",
          "name": "stderr",
          "text": [
            "/usr/local/lib/python3.10/dist-packages/arch/univariate/base.py:310: DataScaleWarning: y is poorly scaled, which may affect convergence of the optimizer when\n",
            "estimating the model parameters. The scale of y is 0.0008421. Parameter\n",
            "estimation work better when this value is between 1 and 1000. The recommended\n",
            "rescaling is 100 * y.\n",
            "\n",
            "This warning can be disabled by either rescaling y before initializing the\n",
            "model or by setting rescale=False.\n",
            "\n",
            "  warnings.warn(\n"
          ]
        },
        {
          "output_type": "stream",
          "name": "stdout",
          "text": [
            "Iteration:      1,   Func. Count:      8,   Neg. LLF: 14446540500.904217\n",
            "Iteration:      2,   Func. Count:     21,   Neg. LLF: -792.0812945182768\n",
            "Iteration:      3,   Func. Count:     32,   Neg. LLF: -1205.3286332348703\n",
            "Iteration:      4,   Func. Count:     41,   Neg. LLF: -958.9225156019344\n",
            "Iteration:      5,   Func. Count:     50,   Neg. LLF: -1209.0627730690903\n",
            "Iteration:      6,   Func. Count:     58,   Neg. LLF: -1254.4816587946725\n",
            "Iteration:      7,   Func. Count:     66,   Neg. LLF: -1265.7697318543035\n",
            "Iteration:      8,   Func. Count:     74,   Neg. LLF: -1267.1405624782847\n",
            "Iteration:      9,   Func. Count:     82,   Neg. LLF: -1254.9599166724242\n",
            "Iteration:     10,   Func. Count:     90,   Neg. LLF: -1267.3436283780711\n",
            "Iteration:     11,   Func. Count:     98,   Neg. LLF: -1267.4169875812968\n",
            "Iteration:     12,   Func. Count:    105,   Neg. LLF: -1267.4178899564804\n",
            "Iteration:     13,   Func. Count:    112,   Neg. LLF: -1267.4179111872072\n",
            "Iteration:     14,   Func. Count:    119,   Neg. LLF: -1267.4179148105175\n",
            "Iteration:     15,   Func. Count:    125,   Neg. LLF: -1267.4179148107796\n",
            "Optimization terminated successfully    (Exit mode 0)\n",
            "            Current function value: -1267.4179148105175\n",
            "            Iterations: 15\n",
            "            Function evaluations: 125\n",
            "            Gradient evaluations: 15\n"
          ]
        },
        {
          "output_type": "stream",
          "name": "stderr",
          "text": [
            "/usr/local/lib/python3.10/dist-packages/arch/univariate/base.py:310: DataScaleWarning: y is poorly scaled, which may affect convergence of the optimizer when\n",
            "estimating the model parameters. The scale of y is 0.000835. Parameter\n",
            "estimation work better when this value is between 1 and 1000. The recommended\n",
            "rescaling is 100 * y.\n",
            "\n",
            "This warning can be disabled by either rescaling y before initializing the\n",
            "model or by setting rescale=False.\n",
            "\n",
            "  warnings.warn(\n"
          ]
        },
        {
          "output_type": "stream",
          "name": "stdout",
          "text": [
            "Iteration:      1,   Func. Count:     10,   Neg. LLF: 20991196.29945423\n",
            "Iteration:      2,   Func. Count:     24,   Neg. LLF: -1258.1651917781483\n",
            "Optimization terminated successfully    (Exit mode 0)\n",
            "            Current function value: -1258.165192322373\n",
            "            Iterations: 6\n",
            "            Function evaluations: 24\n",
            "            Gradient evaluations: 2\n"
          ]
        },
        {
          "output_type": "stream",
          "name": "stderr",
          "text": [
            "/usr/local/lib/python3.10/dist-packages/arch/univariate/base.py:310: DataScaleWarning: y is poorly scaled, which may affect convergence of the optimizer when\n",
            "estimating the model parameters. The scale of y is 0.000833. Parameter\n",
            "estimation work better when this value is between 1 and 1000. The recommended\n",
            "rescaling is 100 * y.\n",
            "\n",
            "This warning can be disabled by either rescaling y before initializing the\n",
            "model or by setting rescale=False.\n",
            "\n",
            "  warnings.warn(\n"
          ]
        },
        {
          "output_type": "stream",
          "name": "stdout",
          "text": [
            "Iteration:      1,   Func. Count:      8,   Neg. LLF: 38388153.36862907\n",
            "Iteration:      2,   Func. Count:     22,   Neg. LLF: 226.76270344677036\n",
            "Iteration:      3,   Func. Count:     33,   Neg. LLF: 4005532.8337501343\n",
            "Iteration:      4,   Func. Count:     46,   Neg. LLF: 22.05798299606287\n",
            "Iteration:      5,   Func. Count:     57,   Neg. LLF: 1989.7654268139597\n",
            "Iteration:      6,   Func. Count:     68,   Neg. LLF: -1161.5734677560863\n",
            "Iteration:      7,   Func. Count:     76,   Neg. LLF: -1187.836475185064\n",
            "Iteration:      8,   Func. Count:     85,   Neg. LLF: -1035.0858578432644\n",
            "Iteration:      9,   Func. Count:     94,   Neg. LLF: -1247.475021607399\n",
            "Iteration:     10,   Func. Count:    102,   Neg. LLF: -1264.1374544291987\n",
            "Iteration:     11,   Func. Count:    110,   Neg. LLF: -1269.809998275785\n",
            "Iteration:     12,   Func. Count:    117,   Neg. LLF: -1269.8230747989278\n",
            "Iteration:     13,   Func. Count:    124,   Neg. LLF: -1269.8269793093996\n",
            "Iteration:     14,   Func. Count:    131,   Neg. LLF: -1269.8283388508244\n",
            "Iteration:     15,   Func. Count:    138,   Neg. LLF: -1269.8283662252002\n",
            "Iteration:     16,   Func. Count:    145,   Neg. LLF: -1269.828373498406\n",
            "Iteration:     17,   Func. Count:    152,   Neg. LLF: -1269.8283828744525\n",
            "Iteration:     18,   Func. Count:    158,   Neg. LLF: -1269.8283828747637\n",
            "Optimization terminated successfully    (Exit mode 0)\n",
            "            Current function value: -1269.8283828744525\n",
            "            Iterations: 19\n",
            "            Function evaluations: 158\n",
            "            Gradient evaluations: 18\n"
          ]
        },
        {
          "output_type": "stream",
          "name": "stderr",
          "text": [
            "/usr/local/lib/python3.10/dist-packages/arch/univariate/base.py:310: DataScaleWarning: y is poorly scaled, which may affect convergence of the optimizer when\n",
            "estimating the model parameters. The scale of y is 0.0008046. Parameter\n",
            "estimation work better when this value is between 1 and 1000. The recommended\n",
            "rescaling is 100 * y.\n",
            "\n",
            "This warning can be disabled by either rescaling y before initializing the\n",
            "model or by setting rescale=False.\n",
            "\n",
            "  warnings.warn(\n"
          ]
        },
        {
          "output_type": "stream",
          "name": "stdout",
          "text": [
            "Iteration:      1,   Func. Count:      8,   Neg. LLF: 143556004383.1131\n",
            "Iteration:      2,   Func. Count:     21,   Neg. LLF: -722.1613139186461\n",
            "Iteration:      3,   Func. Count:     31,   Neg. LLF: -166.68583573016844\n",
            "Iteration:      4,   Func. Count:     42,   Neg. LLF: 9984.604371002566\n",
            "Iteration:      5,   Func. Count:     53,   Neg. LLF: -1221.4204583865462\n",
            "Iteration:      6,   Func. Count:     62,   Neg. LLF: -1249.22072287076\n",
            "Iteration:      7,   Func. Count:     70,   Neg. LLF: -1260.8718419323345\n",
            "Iteration:      8,   Func. Count:     78,   Neg. LLF: -1264.192711785636\n",
            "Iteration:      9,   Func. Count:     86,   Neg. LLF: -1260.116438664756\n",
            "Iteration:     10,   Func. Count:     94,   Neg. LLF: -1273.5350688275016\n",
            "Iteration:     11,   Func. Count:    102,   Neg. LLF: -1273.8228580576947\n",
            "Iteration:     12,   Func. Count:    110,   Neg. LLF: -1269.7047848583957\n",
            "Iteration:     13,   Func. Count:    118,   Neg. LLF: -1274.3369606049328\n",
            "Iteration:     14,   Func. Count:    125,   Neg. LLF: -1274.345666263856\n",
            "Iteration:     15,   Func. Count:    132,   Neg. LLF: -1274.3471589670435\n",
            "Iteration:     16,   Func. Count:    139,   Neg. LLF: -1274.3472600385599\n",
            "Iteration:     17,   Func. Count:    146,   Neg. LLF: -1274.3472595515943\n",
            "Optimization terminated successfully    (Exit mode 0)\n",
            "            Current function value: -1274.3472601017568\n",
            "            Iterations: 17\n",
            "            Function evaluations: 148\n",
            "            Gradient evaluations: 17\n"
          ]
        },
        {
          "output_type": "stream",
          "name": "stderr",
          "text": [
            "/usr/local/lib/python3.10/dist-packages/arch/univariate/base.py:310: DataScaleWarning: y is poorly scaled, which may affect convergence of the optimizer when\n",
            "estimating the model parameters. The scale of y is 0.0008063. Parameter\n",
            "estimation work better when this value is between 1 and 1000. The recommended\n",
            "rescaling is 100 * y.\n",
            "\n",
            "This warning can be disabled by either rescaling y before initializing the\n",
            "model or by setting rescale=False.\n",
            "\n",
            "  warnings.warn(\n"
          ]
        },
        {
          "output_type": "stream",
          "name": "stdout",
          "text": [
            "Iteration:      1,   Func. Count:      7,   Neg. LLF: 52173579.85660279\n",
            "Iteration:      2,   Func. Count:     19,   Neg. LLF: 33798191262.301468\n",
            "Iteration:      3,   Func. Count:     31,   Neg. LLF: 8614.35096511589\n",
            "Iteration:      4,   Func. Count:     43,   Neg. LLF: 967.2616228270267\n",
            "Iteration:      5,   Func. Count:     53,   Neg. LLF: 464.95224732157374\n",
            "Iteration:      6,   Func. Count:     62,   Neg. LLF: -1221.5745101240846\n",
            "Iteration:      7,   Func. Count:     70,   Neg. LLF: -1243.919781829769\n",
            "Iteration:      8,   Func. Count:     77,   Neg. LLF: -1152.6501799606788\n",
            "Iteration:      9,   Func. Count:     85,   Neg. LLF: -1269.076736038961\n",
            "Iteration:     10,   Func. Count:     92,   Neg. LLF: -1265.6014153439182\n",
            "Iteration:     11,   Func. Count:    100,   Neg. LLF: -1270.3097374425722\n",
            "Iteration:     12,   Func. Count:    107,   Neg. LLF: -1273.063412777794\n",
            "Iteration:     13,   Func. Count:    113,   Neg. LLF: -1273.0638578406017\n",
            "Iteration:     14,   Func. Count:    119,   Neg. LLF: -1273.0639327820336\n",
            "Iteration:     15,   Func. Count:    125,   Neg. LLF: -1273.0639359312668\n",
            "Iteration:     16,   Func. Count:    130,   Neg. LLF: -1273.0639359313038\n",
            "Optimization terminated successfully    (Exit mode 0)\n",
            "            Current function value: -1273.0639359312668\n",
            "            Iterations: 18\n",
            "            Function evaluations: 130\n",
            "            Gradient evaluations: 16\n"
          ]
        },
        {
          "output_type": "stream",
          "name": "stderr",
          "text": [
            "/usr/local/lib/python3.10/dist-packages/arch/univariate/base.py:310: DataScaleWarning: y is poorly scaled, which may affect convergence of the optimizer when\n",
            "estimating the model parameters. The scale of y is 0.0008063. Parameter\n",
            "estimation work better when this value is between 1 and 1000. The recommended\n",
            "rescaling is 100 * y.\n",
            "\n",
            "This warning can be disabled by either rescaling y before initializing the\n",
            "model or by setting rescale=False.\n",
            "\n",
            "  warnings.warn(\n"
          ]
        },
        {
          "output_type": "stream",
          "name": "stdout",
          "text": [
            "Iteration:      1,   Func. Count:      7,   Neg. LLF: 213703376929.6424\n",
            "Iteration:      2,   Func. Count:     19,   Neg. LLF: 522.0818768835962\n",
            "Iteration:      3,   Func. Count:     29,   Neg. LLF: 43882535090.20589\n",
            "Iteration:      4,   Func. Count:     38,   Neg. LLF: -1217.3216797771465\n",
            "Iteration:      5,   Func. Count:     46,   Neg. LLF: -1248.9872202729462\n",
            "Iteration:      6,   Func. Count:     53,   Neg. LLF: -1269.470379449876\n",
            "Iteration:      7,   Func. Count:     61,   Neg. LLF: -1258.3172125521032\n",
            "Iteration:      8,   Func. Count:     69,   Neg. LLF: -1272.3280131014615\n",
            "Iteration:      9,   Func. Count:     77,   Neg. LLF: -1273.9220402898693\n",
            "Iteration:     10,   Func. Count:     83,   Neg. LLF: -1273.9229964350925\n",
            "Iteration:     11,   Func. Count:     89,   Neg. LLF: -1273.9230841501017\n",
            "Iteration:     12,   Func. Count:     95,   Neg. LLF: -1273.9230860590942\n",
            "Iteration:     13,   Func. Count:    100,   Neg. LLF: -1273.9230860590249\n",
            "Optimization terminated successfully    (Exit mode 0)\n",
            "            Current function value: -1273.9230860590942\n",
            "            Iterations: 13\n",
            "            Function evaluations: 100\n",
            "            Gradient evaluations: 13\n"
          ]
        },
        {
          "output_type": "stream",
          "name": "stderr",
          "text": [
            "/usr/local/lib/python3.10/dist-packages/arch/univariate/base.py:310: DataScaleWarning: y is poorly scaled, which may affect convergence of the optimizer when\n",
            "estimating the model parameters. The scale of y is 0.0008033. Parameter\n",
            "estimation work better when this value is between 1 and 1000. The recommended\n",
            "rescaling is 100 * y.\n",
            "\n",
            "This warning can be disabled by either rescaling y before initializing the\n",
            "model or by setting rescale=False.\n",
            "\n",
            "  warnings.warn(\n"
          ]
        },
        {
          "output_type": "stream",
          "name": "stdout",
          "text": [
            "Iteration:      1,   Func. Count:      8,   Neg. LLF: 136356148797.4384\n",
            "Iteration:      2,   Func. Count:     21,   Neg. LLF: 446.1992580346391\n",
            "Iteration:      3,   Func. Count:     31,   Neg. LLF: 1795.3888522846128\n",
            "Iteration:      4,   Func. Count:     43,   Neg. LLF: -1222.8746915104148\n",
            "Iteration:      5,   Func. Count:     52,   Neg. LLF: -1248.9888873908442\n",
            "Iteration:      6,   Func. Count:     60,   Neg. LLF: -1262.7697785261857\n",
            "Iteration:      7,   Func. Count:     68,   Neg. LLF: -1267.287164008948\n",
            "Iteration:      8,   Func. Count:     76,   Neg. LLF: -1263.5304500092248\n",
            "Iteration:      9,   Func. Count:     84,   Neg. LLF: -1274.6952384986644\n",
            "Iteration:     10,   Func. Count:     92,   Neg. LLF: -1274.501818978922\n",
            "Iteration:     11,   Func. Count:    100,   Neg. LLF: -1275.3986210050134\n",
            "Iteration:     12,   Func. Count:    107,   Neg. LLF: -1275.4039099664174\n",
            "Iteration:     13,   Func. Count:    114,   Neg. LLF: -1275.4043917588529\n",
            "Iteration:     14,   Func. Count:    121,   Neg. LLF: -1275.4045680804747\n",
            "Iteration:     15,   Func. Count:    128,   Neg. LLF: -1275.4045691175565\n",
            "Iteration:     16,   Func. Count:    134,   Neg. LLF: -1275.4045691175934\n",
            "Optimization terminated successfully    (Exit mode 0)\n",
            "            Current function value: -1275.4045691175565\n",
            "            Iterations: 16\n",
            "            Function evaluations: 134\n",
            "            Gradient evaluations: 16\n"
          ]
        },
        {
          "output_type": "stream",
          "name": "stderr",
          "text": [
            "/usr/local/lib/python3.10/dist-packages/arch/univariate/base.py:310: DataScaleWarning: y is poorly scaled, which may affect convergence of the optimizer when\n",
            "estimating the model parameters. The scale of y is 0.0007971. Parameter\n",
            "estimation work better when this value is between 1 and 1000. The recommended\n",
            "rescaling is 100 * y.\n",
            "\n",
            "This warning can be disabled by either rescaling y before initializing the\n",
            "model or by setting rescale=False.\n",
            "\n",
            "  warnings.warn(\n"
          ]
        },
        {
          "output_type": "stream",
          "name": "stdout",
          "text": [
            "Iteration:      1,   Func. Count:      7,   Neg. LLF: 137441751.74962366\n",
            "Iteration:      2,   Func. Count:     19,   Neg. LLF: 1816020.2138483003\n",
            "Iteration:      3,   Func. Count:     27,   Neg. LLF: -1095.4197682063896\n",
            "Iteration:      4,   Func. Count:     34,   Neg. LLF: -1233.1315357284288\n",
            "Iteration:      5,   Func. Count:     42,   Neg. LLF: -243.1399038080741\n",
            "Iteration:      6,   Func. Count:     50,   Neg. LLF: 253916884.94807678\n",
            "Iteration:      7,   Func. Count:     58,   Neg. LLF: -1227.685421714278\n",
            "Iteration:      8,   Func. Count:     66,   Neg. LLF: -1019.037229074592\n",
            "Iteration:      9,   Func. Count:     74,   Neg. LLF: -1275.6296898509377\n",
            "Iteration:     10,   Func. Count:     81,   Neg. LLF: -1275.8875653714927\n",
            "Iteration:     11,   Func. Count:     87,   Neg. LLF: -1275.8875712205004\n",
            "Iteration:     12,   Func. Count:     92,   Neg. LLF: -1275.88757122049\n",
            "Optimization terminated successfully    (Exit mode 0)\n",
            "            Current function value: -1275.8875712205004\n",
            "            Iterations: 12\n",
            "            Function evaluations: 92\n",
            "            Gradient evaluations: 12\n"
          ]
        },
        {
          "output_type": "stream",
          "name": "stderr",
          "text": [
            "/usr/local/lib/python3.10/dist-packages/arch/univariate/base.py:310: DataScaleWarning: y is poorly scaled, which may affect convergence of the optimizer when\n",
            "estimating the model parameters. The scale of y is 0.0007971. Parameter\n",
            "estimation work better when this value is between 1 and 1000. The recommended\n",
            "rescaling is 100 * y.\n",
            "\n",
            "This warning can be disabled by either rescaling y before initializing the\n",
            "model or by setting rescale=False.\n",
            "\n",
            "  warnings.warn(\n"
          ]
        },
        {
          "output_type": "stream",
          "name": "stdout",
          "text": [
            "Iteration:      1,   Func. Count:      7,   Neg. LLF: 320376830.2089874\n",
            "Iteration:      2,   Func. Count:     19,   Neg. LLF: 397693.72958096344\n",
            "Iteration:      3,   Func. Count:     26,   Neg. LLF: 7542950.265077237\n",
            "Iteration:      4,   Func. Count:     38,   Neg. LLF: 344422.42223103135\n",
            "Iteration:      5,   Func. Count:     47,   Neg. LLF: -592.0286926487473\n",
            "Iteration:      6,   Func. Count:     56,   Neg. LLF: -1234.5944127891116\n",
            "Iteration:      7,   Func. Count:     63,   Neg. LLF: -1093.0574053199573\n",
            "Iteration:      8,   Func. Count:     71,   Neg. LLF: -1267.4095794238451\n",
            "Iteration:      9,   Func. Count:     78,   Neg. LLF: -1271.9559824610874\n",
            "Iteration:     10,   Func. Count:     85,   Neg. LLF: -1272.7158010404266\n",
            "Iteration:     11,   Func. Count:     92,   Neg. LLF: -1274.3483839387268\n",
            "Iteration:     12,   Func. Count:     98,   Neg. LLF: -1274.3977518622032\n",
            "Iteration:     13,   Func. Count:    104,   Neg. LLF: -1274.3994231765616\n",
            "Iteration:     14,   Func. Count:    110,   Neg. LLF: -1274.3996840395084\n",
            "Iteration:     15,   Func. Count:    116,   Neg. LLF: -1274.3996847007538\n",
            "Optimization terminated successfully    (Exit mode 0)\n",
            "            Current function value: -1274.3996847007538\n",
            "            Iterations: 16\n",
            "            Function evaluations: 116\n",
            "            Gradient evaluations: 15\n"
          ]
        },
        {
          "output_type": "stream",
          "name": "stderr",
          "text": [
            "/usr/local/lib/python3.10/dist-packages/arch/univariate/base.py:310: DataScaleWarning: y is poorly scaled, which may affect convergence of the optimizer when\n",
            "estimating the model parameters. The scale of y is 0.0007962. Parameter\n",
            "estimation work better when this value is between 1 and 1000. The recommended\n",
            "rescaling is 100 * y.\n",
            "\n",
            "This warning can be disabled by either rescaling y before initializing the\n",
            "model or by setting rescale=False.\n",
            "\n",
            "  warnings.warn(\n"
          ]
        },
        {
          "output_type": "stream",
          "name": "stdout",
          "text": [
            "Iteration:      1,   Func. Count:      7,   Neg. LLF: 14487980.554513171\n",
            "Iteration:      2,   Func. Count:     19,   Neg. LLF: 8226.737972617026\n",
            "Iteration:      3,   Func. Count:     30,   Neg. LLF: -1275.0381118964447\n",
            "Optimization terminated successfully    (Exit mode 0)\n",
            "            Current function value: -1275.038112225881\n",
            "            Iterations: 7\n",
            "            Function evaluations: 30\n",
            "            Gradient evaluations: 3\n"
          ]
        },
        {
          "output_type": "stream",
          "name": "stderr",
          "text": [
            "/usr/local/lib/python3.10/dist-packages/arch/univariate/base.py:310: DataScaleWarning: y is poorly scaled, which may affect convergence of the optimizer when\n",
            "estimating the model parameters. The scale of y is 0.0007963. Parameter\n",
            "estimation work better when this value is between 1 and 1000. The recommended\n",
            "rescaling is 100 * y.\n",
            "\n",
            "This warning can be disabled by either rescaling y before initializing the\n",
            "model or by setting rescale=False.\n",
            "\n",
            "  warnings.warn(\n"
          ]
        },
        {
          "output_type": "stream",
          "name": "stdout",
          "text": [
            "Iteration:      1,   Func. Count:      7,   Neg. LLF: 60211667.751715824\n",
            "Iteration:      2,   Func. Count:     19,   Neg. LLF: 164838.29556886884\n",
            "Iteration:      3,   Func. Count:     31,   Neg. LLF: 3469.296589629332\n",
            "Iteration:      4,   Func. Count:     43,   Neg. LLF: 3587.6914241485965\n",
            "Iteration:      5,   Func. Count:     54,   Neg. LLF: -1172.0751618442005\n",
            "Iteration:      6,   Func. Count:     63,   Neg. LLF: 449803.6186276748\n",
            "Iteration:      7,   Func. Count:     70,   Neg. LLF: -1029.8592495935618\n",
            "Iteration:      8,   Func. Count:     78,   Neg. LLF: -1015.5630975553142\n",
            "Iteration:      9,   Func. Count:     86,   Neg. LLF: -1261.2894494281734\n",
            "Iteration:     10,   Func. Count:     93,   Neg. LLF: -1269.018386157417\n",
            "Iteration:     11,   Func. Count:    100,   Neg. LLF: -1276.122043842855\n",
            "Iteration:     12,   Func. Count:    106,   Neg. LLF: -1275.8162174542128\n",
            "Iteration:     13,   Func. Count:    113,   Neg. LLF: -1276.1572475192074\n",
            "Iteration:     14,   Func. Count:    119,   Neg. LLF: -1276.1576124145183\n",
            "Iteration:     15,   Func. Count:    125,   Neg. LLF: -1276.1576718809827\n",
            "Iteration:     16,   Func. Count:    131,   Neg. LLF: -1276.1576726177855\n",
            "Optimization terminated successfully    (Exit mode 0)\n",
            "            Current function value: -1276.1576726177855\n",
            "            Iterations: 19\n",
            "            Function evaluations: 131\n",
            "            Gradient evaluations: 16\n"
          ]
        },
        {
          "output_type": "stream",
          "name": "stderr",
          "text": [
            "/usr/local/lib/python3.10/dist-packages/arch/univariate/base.py:310: DataScaleWarning: y is poorly scaled, which may affect convergence of the optimizer when\n",
            "estimating the model parameters. The scale of y is 0.0007919. Parameter\n",
            "estimation work better when this value is between 1 and 1000. The recommended\n",
            "rescaling is 100 * y.\n",
            "\n",
            "This warning can be disabled by either rescaling y before initializing the\n",
            "model or by setting rescale=False.\n",
            "\n",
            "  warnings.warn(\n"
          ]
        },
        {
          "output_type": "stream",
          "name": "stdout",
          "text": [
            "Iteration:      1,   Func. Count:      8,   Neg. LLF: 1072255338.8682146\n",
            "Iteration:      2,   Func. Count:     21,   Neg. LLF: 216475.88387685432\n",
            "Iteration:      3,   Func. Count:     34,   Neg. LLF: -1058.6480555501876\n",
            "Iteration:      4,   Func. Count:     44,   Neg. LLF: -1233.3457141486751\n",
            "Iteration:      5,   Func. Count:     53,   Neg. LLF: -1259.4946546638657\n",
            "Iteration:      6,   Func. Count:     61,   Neg. LLF: -1268.6890380658872\n",
            "Iteration:      7,   Func. Count:     69,   Neg. LLF: -1272.413106920977\n",
            "Iteration:      8,   Func. Count:     77,   Neg. LLF: -1258.8024119118156\n",
            "Iteration:      9,   Func. Count:     86,   Neg. LLF: -1272.7836013681724\n",
            "Iteration:     10,   Func. Count:     94,   Neg. LLF: -1280.1429626306276\n",
            "Iteration:     11,   Func. Count:    102,   Neg. LLF: -1280.8603219346733\n",
            "Iteration:     12,   Func. Count:    109,   Neg. LLF: -1280.89589791468\n",
            "Iteration:     13,   Func. Count:    116,   Neg. LLF: -1280.8983216241877\n",
            "Iteration:     14,   Func. Count:    123,   Neg. LLF: -1280.8991157062383\n",
            "Iteration:     15,   Func. Count:    130,   Neg. LLF: -1280.8991533314024\n",
            "Iteration:     16,   Func. Count:    136,   Neg. LLF: -1280.8991533315566\n",
            "Optimization terminated successfully    (Exit mode 0)\n",
            "            Current function value: -1280.8991533314024\n",
            "            Iterations: 17\n",
            "            Function evaluations: 136\n",
            "            Gradient evaluations: 16\n"
          ]
        },
        {
          "output_type": "stream",
          "name": "stderr",
          "text": [
            "/usr/local/lib/python3.10/dist-packages/arch/univariate/base.py:310: DataScaleWarning: y is poorly scaled, which may affect convergence of the optimizer when\n",
            "estimating the model parameters. The scale of y is 0.0007834. Parameter\n",
            "estimation work better when this value is between 1 and 1000. The recommended\n",
            "rescaling is 100 * y.\n",
            "\n",
            "This warning can be disabled by either rescaling y before initializing the\n",
            "model or by setting rescale=False.\n",
            "\n",
            "  warnings.warn(\n"
          ]
        },
        {
          "output_type": "stream",
          "name": "stdout",
          "text": [
            "Iteration:      1,   Func. Count:      7,   Neg. LLF: 183655110.97988468\n",
            "Iteration:      2,   Func. Count:     19,   Neg. LLF: 17972.626941948154\n",
            "Iteration:      3,   Func. Count:     31,   Neg. LLF: 39071.48278641829\n",
            "Iteration:      4,   Func. Count:     38,   Neg. LLF: -1276.2810656531797\n",
            "Iteration:      5,   Func. Count:     46,   Neg. LLF: 36759998.90950772\n",
            "Iteration:      6,   Func. Count:     58,   Neg. LLF: 679.8923792246868\n",
            "Iteration:      7,   Func. Count:     67,   Neg. LLF: -1226.8815760571815\n",
            "Iteration:      8,   Func. Count:     74,   Neg. LLF: -1233.4866709655012\n",
            "Iteration:      9,   Func. Count:     82,   Neg. LLF: -1267.3250773529674\n",
            "Iteration:     10,   Func. Count:     89,   Neg. LLF: -1229.0415713463444\n",
            "Iteration:     11,   Func. Count:     96,   Neg. LLF: 5997.400134845635\n",
            "Iteration:     12,   Func. Count:    104,   Neg. LLF: -1274.9132770529004\n",
            "Iteration:     13,   Func. Count:    111,   Neg. LLF: -1281.5695796777131\n",
            "Iteration:     14,   Func. Count:    118,   Neg. LLF: -1281.5980475234776\n",
            "Iteration:     15,   Func. Count:    124,   Neg. LLF: -1281.5980523673502\n",
            "Iteration:     16,   Func. Count:    129,   Neg. LLF: -1281.5980523673834\n",
            "Optimization terminated successfully    (Exit mode 0)\n",
            "            Current function value: -1281.5980523673502\n",
            "            Iterations: 18\n",
            "            Function evaluations: 129\n",
            "            Gradient evaluations: 16\n"
          ]
        },
        {
          "output_type": "stream",
          "name": "stderr",
          "text": [
            "/usr/local/lib/python3.10/dist-packages/arch/univariate/base.py:310: DataScaleWarning: y is poorly scaled, which may affect convergence of the optimizer when\n",
            "estimating the model parameters. The scale of y is 0.0007771. Parameter\n",
            "estimation work better when this value is between 1 and 1000. The recommended\n",
            "rescaling is 100 * y.\n",
            "\n",
            "This warning can be disabled by either rescaling y before initializing the\n",
            "model or by setting rescale=False.\n",
            "\n",
            "  warnings.warn(\n"
          ]
        },
        {
          "output_type": "stream",
          "name": "stdout",
          "text": [
            "Iteration:      1,   Func. Count:      7,   Neg. LLF: 33437416.975534458\n",
            "Iteration:      2,   Func. Count:     18,   Neg. LLF: -1282.262292432927\n",
            "Optimization terminated successfully    (Exit mode 0)\n",
            "            Current function value: -1282.262292747113\n",
            "            Iterations: 6\n",
            "            Function evaluations: 18\n",
            "            Gradient evaluations: 2\n"
          ]
        },
        {
          "output_type": "stream",
          "name": "stderr",
          "text": [
            "/usr/local/lib/python3.10/dist-packages/arch/univariate/base.py:310: DataScaleWarning: y is poorly scaled, which may affect convergence of the optimizer when\n",
            "estimating the model parameters. The scale of y is 0.000777. Parameter\n",
            "estimation work better when this value is between 1 and 1000. The recommended\n",
            "rescaling is 100 * y.\n",
            "\n",
            "This warning can be disabled by either rescaling y before initializing the\n",
            "model or by setting rescale=False.\n",
            "\n",
            "  warnings.warn(\n"
          ]
        },
        {
          "output_type": "stream",
          "name": "stdout",
          "text": [
            "Iteration:      1,   Func. Count:      7,   Neg. LLF: 32132711.235667266\n",
            "Iteration:      2,   Func. Count:     19,   Neg. LLF: 18053.34710203715\n",
            "Iteration:      3,   Func. Count:     30,   Neg. LLF: -1282.4123544817662\n",
            "Optimization terminated successfully    (Exit mode 0)\n",
            "            Current function value: -1282.4123548041007\n",
            "            Iterations: 7\n",
            "            Function evaluations: 30\n",
            "            Gradient evaluations: 3\n"
          ]
        },
        {
          "output_type": "stream",
          "name": "stderr",
          "text": [
            "/usr/local/lib/python3.10/dist-packages/arch/univariate/base.py:310: DataScaleWarning: y is poorly scaled, which may affect convergence of the optimizer when\n",
            "estimating the model parameters. The scale of y is 0.0007771. Parameter\n",
            "estimation work better when this value is between 1 and 1000. The recommended\n",
            "rescaling is 100 * y.\n",
            "\n",
            "This warning can be disabled by either rescaling y before initializing the\n",
            "model or by setting rescale=False.\n",
            "\n",
            "  warnings.warn(\n"
          ]
        },
        {
          "output_type": "stream",
          "name": "stdout",
          "text": [
            "Iteration:      1,   Func. Count:      7,   Neg. LLF: 16182545.568924535\n",
            "Iteration:      2,   Func. Count:     19,   Neg. LLF: 14334.03277788548\n",
            "Iteration:      3,   Func. Count:     31,   Neg. LLF: 60746.37924745164\n",
            "Iteration:      4,   Func. Count:     42,   Neg. LLF: -1282.570478327586\n",
            "Optimization terminated successfully    (Exit mode 0)\n",
            "            Current function value: -1282.5704786727065\n",
            "            Iterations: 8\n",
            "            Function evaluations: 42\n",
            "            Gradient evaluations: 4\n"
          ]
        },
        {
          "output_type": "stream",
          "name": "stderr",
          "text": [
            "/usr/local/lib/python3.10/dist-packages/arch/univariate/base.py:310: DataScaleWarning: y is poorly scaled, which may affect convergence of the optimizer when\n",
            "estimating the model parameters. The scale of y is 0.0007764. Parameter\n",
            "estimation work better when this value is between 1 and 1000. The recommended\n",
            "rescaling is 100 * y.\n",
            "\n",
            "This warning can be disabled by either rescaling y before initializing the\n",
            "model or by setting rescale=False.\n",
            "\n",
            "  warnings.warn(\n"
          ]
        },
        {
          "output_type": "stream",
          "name": "stdout",
          "text": [
            "Iteration:      1,   Func. Count:      7,   Neg. LLF: 363891766216.84174\n",
            "Iteration:      2,   Func. Count:     19,   Neg. LLF: 24364759988.97442\n",
            "Iteration:      3,   Func. Count:     31,   Neg. LLF: 12150.792316078621\n",
            "Iteration:      4,   Func. Count:     43,   Neg. LLF: 1143406.349763041\n",
            "Optimization terminated successfully    (Exit mode 0)\n",
            "            Current function value: -1283.1785180056643\n",
            "            Iterations: 5\n",
            "            Function evaluations: 50\n",
            "            Gradient evaluations: 4\n"
          ]
        },
        {
          "output_type": "stream",
          "name": "stderr",
          "text": [
            "/usr/local/lib/python3.10/dist-packages/arch/univariate/base.py:310: DataScaleWarning: y is poorly scaled, which may affect convergence of the optimizer when\n",
            "estimating the model parameters. The scale of y is 0.000773. Parameter\n",
            "estimation work better when this value is between 1 and 1000. The recommended\n",
            "rescaling is 100 * y.\n",
            "\n",
            "This warning can be disabled by either rescaling y before initializing the\n",
            "model or by setting rescale=False.\n",
            "\n",
            "  warnings.warn(\n"
          ]
        },
        {
          "output_type": "stream",
          "name": "stdout",
          "text": [
            "Iteration:      1,   Func. Count:      7,   Neg. LLF: 53929297.20999247\n",
            "Iteration:      2,   Func. Count:     19,   Neg. LLF: 29453480815.67276\n",
            "Iteration:      3,   Func. Count:     31,   Neg. LLF: 7618.653971608068\n",
            "Iteration:      4,   Func. Count:     42,   Neg. LLF: 126590.94678385401\n",
            "Iteration:      5,   Func. Count:     54,   Neg. LLF: 668.0096128835585\n",
            "Iteration:      6,   Func. Count:     64,   Neg. LLF: 2172.7135382393085\n",
            "Iteration:      7,   Func. Count:     73,   Neg. LLF: -1228.3925801471596\n",
            "Iteration:      8,   Func. Count:     81,   Neg. LLF: -1255.6963237300836\n",
            "Iteration:      9,   Func. Count:     88,   Neg. LLF: -1260.0048033191579\n",
            "Iteration:     10,   Func. Count:     95,   Neg. LLF: -1285.2946195743068\n",
            "Iteration:     11,   Func. Count:    102,   Neg. LLF: -1282.5376209716544\n",
            "Iteration:     12,   Func. Count:    109,   Neg. LLF: -1285.171103762565\n",
            "Iteration:     13,   Func. Count:    116,   Neg. LLF: -1286.8563260869146\n",
            "Iteration:     14,   Func. Count:    122,   Neg. LLF: -1286.8683772629736\n",
            "Iteration:     15,   Func. Count:    128,   Neg. LLF: -1286.8712547391697\n",
            "Iteration:     16,   Func. Count:    134,   Neg. LLF: -1286.8714150426642\n",
            "Iteration:     17,   Func. Count:    140,   Neg. LLF: -1286.8714159694873\n",
            "Optimization terminated successfully    (Exit mode 0)\n",
            "            Current function value: -1286.8714159694873\n",
            "            Iterations: 18\n",
            "            Function evaluations: 140\n",
            "            Gradient evaluations: 17\n"
          ]
        },
        {
          "output_type": "stream",
          "name": "stderr",
          "text": [
            "/usr/local/lib/python3.10/dist-packages/arch/univariate/base.py:310: DataScaleWarning: y is poorly scaled, which may affect convergence of the optimizer when\n",
            "estimating the model parameters. The scale of y is 0.0007729. Parameter\n",
            "estimation work better when this value is between 1 and 1000. The recommended\n",
            "rescaling is 100 * y.\n",
            "\n",
            "This warning can be disabled by either rescaling y before initializing the\n",
            "model or by setting rescale=False.\n",
            "\n",
            "  warnings.warn(\n"
          ]
        },
        {
          "output_type": "stream",
          "name": "stdout",
          "text": [
            "Iteration:      1,   Func. Count:      7,   Neg. LLF: 374807841697.79193\n",
            "Iteration:      2,   Func. Count:     19,   Neg. LLF: 23793420704.133457\n",
            "Iteration:      3,   Func. Count:     31,   Neg. LLF: 7499.991423525842\n",
            "Iteration:      4,   Func. Count:     42,   Neg. LLF: -1285.4757307502932\n",
            "Optimization terminated successfully    (Exit mode 0)\n",
            "            Current function value: -1285.475730034511\n",
            "            Iterations: 8\n",
            "            Function evaluations: 42\n",
            "            Gradient evaluations: 4\n"
          ]
        },
        {
          "output_type": "stream",
          "name": "stderr",
          "text": [
            "/usr/local/lib/python3.10/dist-packages/arch/univariate/base.py:310: DataScaleWarning: y is poorly scaled, which may affect convergence of the optimizer when\n",
            "estimating the model parameters. The scale of y is 0.0007694. Parameter\n",
            "estimation work better when this value is between 1 and 1000. The recommended\n",
            "rescaling is 100 * y.\n",
            "\n",
            "This warning can be disabled by either rescaling y before initializing the\n",
            "model or by setting rescale=False.\n",
            "\n",
            "  warnings.warn(\n"
          ]
        },
        {
          "output_type": "stream",
          "name": "stdout",
          "text": [
            "Iteration:      1,   Func. Count:      7,   Neg. LLF: 445315817121.8228\n",
            "Iteration:      2,   Func. Count:     19,   Neg. LLF: 4730.597871339878\n",
            "Iteration:      3,   Func. Count:     29,   Neg. LLF: 3971161.2276281216\n",
            "Iteration:      4,   Func. Count:     41,   Neg. LLF: 1882.6474467313597\n",
            "Iteration:      5,   Func. Count:     51,   Neg. LLF: 2558.3276087683953\n",
            "Iteration:      6,   Func. Count:     61,   Neg. LLF: 105509181.1082315\n",
            "Iteration:      7,   Func. Count:     73,   Neg. LLF: 610.835176647348\n",
            "Iteration:      8,   Func. Count:     82,   Neg. LLF: 2099.2771794511423\n",
            "Iteration:      9,   Func. Count:     93,   Neg. LLF: -1235.1400546832674\n",
            "Iteration:     10,   Func. Count:    101,   Neg. LLF: -1269.2917521152895\n",
            "Iteration:     11,   Func. Count:    108,   Neg. LLF: -1287.8207116277981\n",
            "Iteration:     12,   Func. Count:    115,   Neg. LLF: -1281.0698598069325\n",
            "Iteration:     13,   Func. Count:    122,   Neg. LLF: -1289.4650873150104\n",
            "Iteration:     14,   Func. Count:    128,   Neg. LLF: -1289.441340049858\n",
            "Iteration:     15,   Func. Count:    135,   Neg. LLF: -1289.484524623525\n",
            "Iteration:     16,   Func. Count:    141,   Neg. LLF: -1289.4871326593918\n",
            "Iteration:     17,   Func. Count:    147,   Neg. LLF: -1289.4875787079761\n",
            "Iteration:     18,   Func. Count:    153,   Neg. LLF: -1289.4876031794054\n",
            "Iteration:     19,   Func. Count:    158,   Neg. LLF: -1289.4876031793358\n",
            "Optimization terminated successfully    (Exit mode 0)\n",
            "            Current function value: -1289.4876031794054\n",
            "            Iterations: 21\n",
            "            Function evaluations: 158\n",
            "            Gradient evaluations: 19\n"
          ]
        },
        {
          "output_type": "stream",
          "name": "stderr",
          "text": [
            "/usr/local/lib/python3.10/dist-packages/arch/univariate/base.py:310: DataScaleWarning: y is poorly scaled, which may affect convergence of the optimizer when\n",
            "estimating the model parameters. The scale of y is 0.0007667. Parameter\n",
            "estimation work better when this value is between 1 and 1000. The recommended\n",
            "rescaling is 100 * y.\n",
            "\n",
            "This warning can be disabled by either rescaling y before initializing the\n",
            "model or by setting rescale=False.\n",
            "\n",
            "  warnings.warn(\n"
          ]
        },
        {
          "output_type": "stream",
          "name": "stdout",
          "text": [
            "Iteration:      1,   Func. Count:      8,   Neg. LLF: 304542593945.5535\n",
            "Iteration:      2,   Func. Count:     21,   Neg. LLF: 65159.18534927681\n",
            "Iteration:      3,   Func. Count:     34,   Neg. LLF: -829.4259015108527\n",
            "Iteration:      4,   Func. Count:     44,   Neg. LLF: -41.378552250907134\n",
            "Iteration:      5,   Func. Count:     54,   Neg. LLF: -1201.9770919666544\n",
            "Iteration:      6,   Func. Count:     62,   Neg. LLF: -1278.4247619741461\n",
            "Iteration:      7,   Func. Count:     70,   Neg. LLF: -1199.4990660268436\n",
            "Iteration:      8,   Func. Count:     78,   Neg. LLF: -1278.8783042812886\n",
            "Iteration:      9,   Func. Count:     86,   Neg. LLF: -1284.696262689242\n",
            "Iteration:     10,   Func. Count:     94,   Neg. LLF: -1283.9322989088525\n",
            "Iteration:     11,   Func. Count:    102,   Neg. LLF: -1290.8132441169485\n",
            "Iteration:     12,   Func. Count:    110,   Neg. LLF: -1258.5795605701703\n",
            "Iteration:     13,   Func. Count:    119,   Neg. LLF: -1291.6288232599463\n",
            "Iteration:     14,   Func. Count:    126,   Neg. LLF: -1291.2752753054124\n",
            "Iteration:     15,   Func. Count:    135,   Neg. LLF: -1291.6307650278357\n",
            "Iteration:     16,   Func. Count:    142,   Neg. LLF: -1291.6308695724656\n",
            "Iteration:     17,   Func. Count:    149,   Neg. LLF: -1291.6309431814252\n",
            "Iteration:     18,   Func. Count:    155,   Neg. LLF: -1291.63094318163\n",
            "Optimization terminated successfully    (Exit mode 0)\n",
            "            Current function value: -1291.6309431814252\n",
            "            Iterations: 19\n",
            "            Function evaluations: 155\n",
            "            Gradient evaluations: 18\n"
          ]
        },
        {
          "output_type": "stream",
          "name": "stderr",
          "text": [
            "/usr/local/lib/python3.10/dist-packages/arch/univariate/base.py:310: DataScaleWarning: y is poorly scaled, which may affect convergence of the optimizer when\n",
            "estimating the model parameters. The scale of y is 0.0007731. Parameter\n",
            "estimation work better when this value is between 1 and 1000. The recommended\n",
            "rescaling is 100 * y.\n",
            "\n",
            "This warning can be disabled by either rescaling y before initializing the\n",
            "model or by setting rescale=False.\n",
            "\n",
            "  warnings.warn(\n"
          ]
        },
        {
          "output_type": "stream",
          "name": "stdout",
          "text": [
            "Iteration:      1,   Func. Count:      7,   Neg. LLF: 187852646.7698181\n",
            "Iteration:      2,   Func. Count:     19,   Neg. LLF: 13775.901538367434\n",
            "Iteration:      3,   Func. Count:     31,   Neg. LLF: 85309.11125628698\n",
            "Iteration:      4,   Func. Count:     43,   Neg. LLF: 93981.39159234197\n",
            "Iteration:      5,   Func. Count:     50,   Neg. LLF: 2299.990158292028\n",
            "Iteration:      6,   Func. Count:     58,   Neg. LLF: -1267.5202965228214\n",
            "Iteration:      7,   Func. Count:     66,   Neg. LLF: -1203.6734598328594\n",
            "Iteration:      8,   Func. Count:     74,   Neg. LLF: -1285.1920400644435\n",
            "Iteration:      9,   Func. Count:     81,   Neg. LLF: -1284.2697086440244\n",
            "Iteration:     10,   Func. Count:     88,   Neg. LLF: -1282.7499955311732\n",
            "Iteration:     11,   Func. Count:     96,   Neg. LLF: -1265.8029405522673\n",
            "Iteration:     12,   Func. Count:    104,   Neg. LLF: -1287.1164966358394\n",
            "Iteration:     13,   Func. Count:    111,   Neg. LLF: -1287.1262426109079\n",
            "Iteration:     14,   Func. Count:    117,   Neg. LLF: -1287.1262709451785\n",
            "Iteration:     15,   Func. Count:    122,   Neg. LLF: -1287.126270945265\n",
            "Optimization terminated successfully    (Exit mode 0)\n",
            "            Current function value: -1287.1262709451785\n",
            "            Iterations: 17\n",
            "            Function evaluations: 122\n",
            "            Gradient evaluations: 15\n"
          ]
        },
        {
          "output_type": "stream",
          "name": "stderr",
          "text": [
            "/usr/local/lib/python3.10/dist-packages/arch/univariate/base.py:310: DataScaleWarning: y is poorly scaled, which may affect convergence of the optimizer when\n",
            "estimating the model parameters. The scale of y is 0.000773. Parameter\n",
            "estimation work better when this value is between 1 and 1000. The recommended\n",
            "rescaling is 100 * y.\n",
            "\n",
            "This warning can be disabled by either rescaling y before initializing the\n",
            "model or by setting rescale=False.\n",
            "\n",
            "  warnings.warn(\n"
          ]
        },
        {
          "output_type": "stream",
          "name": "stdout",
          "text": [
            "Iteration:      1,   Func. Count:      7,   Neg. LLF: 14536420.285013748\n",
            "Iteration:      2,   Func. Count:     19,   Neg. LLF: 10840.745109739897\n",
            "Iteration:      3,   Func. Count:     30,   Neg. LLF: -1284.656720806288\n",
            "Optimization terminated successfully    (Exit mode 0)\n",
            "            Current function value: -1284.6567211224833\n",
            "            Iterations: 7\n",
            "            Function evaluations: 30\n",
            "            Gradient evaluations: 3\n"
          ]
        },
        {
          "output_type": "stream",
          "name": "stderr",
          "text": [
            "/usr/local/lib/python3.10/dist-packages/arch/univariate/base.py:310: DataScaleWarning: y is poorly scaled, which may affect convergence of the optimizer when\n",
            "estimating the model parameters. The scale of y is 0.0007692. Parameter\n",
            "estimation work better when this value is between 1 and 1000. The recommended\n",
            "rescaling is 100 * y.\n",
            "\n",
            "This warning can be disabled by either rescaling y before initializing the\n",
            "model or by setting rescale=False.\n",
            "\n",
            "  warnings.warn(\n"
          ]
        },
        {
          "output_type": "stream",
          "name": "stdout",
          "text": [
            "Iteration:      1,   Func. Count:      8,   Neg. LLF: 313990389316.8933\n",
            "Iteration:      2,   Func. Count:     21,   Neg. LLF: 2432240279.418197\n",
            "Iteration:      3,   Func. Count:     34,   Neg. LLF: 4118.029910093536\n",
            "Iteration:      4,   Func. Count:     46,   Neg. LLF: 16781268.179786984\n",
            "Iteration:      5,   Func. Count:     59,   Neg. LLF: 731.4415926056552\n",
            "Iteration:      6,   Func. Count:     71,   Neg. LLF: 32762259.59567444\n",
            "Iteration:      7,   Func. Count:     84,   Neg. LLF: 391.82856718601533\n",
            "Iteration:      8,   Func. Count:     94,   Neg. LLF: 2191.265337558931\n",
            "Iteration:      9,   Func. Count:    106,   Neg. LLF: -1236.263959335809\n",
            "Iteration:     10,   Func. Count:    115,   Neg. LLF: -1264.5550685034075\n",
            "Iteration:     11,   Func. Count:    123,   Neg. LLF: -1272.9029608566184\n",
            "Iteration:     12,   Func. Count:    131,   Neg. LLF: -1283.9071381607923\n",
            "Iteration:     13,   Func. Count:    139,   Neg. LLF: -1130.7555728218877\n",
            "Iteration:     14,   Func. Count:    148,   Neg. LLF: -1288.4245716132273\n",
            "Iteration:     15,   Func. Count:    156,   Neg. LLF: -1287.9300405097201\n",
            "Iteration:     16,   Func. Count:    164,   Neg. LLF: -1289.399125497982\n",
            "Iteration:     17,   Func. Count:    172,   Neg. LLF: -1289.4055846847593\n",
            "Iteration:     18,   Func. Count:    179,   Neg. LLF: -1289.4056463669936\n",
            "Iteration:     19,   Func. Count:    186,   Neg. LLF: -1289.4056520200736\n",
            "Iteration:     20,   Func. Count:    193,   Neg. LLF: -1289.4056546808629\n",
            "Iteration:     21,   Func. Count:    199,   Neg. LLF: -1289.4056546809957\n",
            "Optimization terminated successfully    (Exit mode 0)\n",
            "            Current function value: -1289.4056546808629\n",
            "            Iterations: 24\n",
            "            Function evaluations: 199\n",
            "            Gradient evaluations: 21\n"
          ]
        },
        {
          "output_type": "stream",
          "name": "stderr",
          "text": [
            "/usr/local/lib/python3.10/dist-packages/arch/univariate/base.py:310: DataScaleWarning: y is poorly scaled, which may affect convergence of the optimizer when\n",
            "estimating the model parameters. The scale of y is 0.0007724. Parameter\n",
            "estimation work better when this value is between 1 and 1000. The recommended\n",
            "rescaling is 100 * y.\n",
            "\n",
            "This warning can be disabled by either rescaling y before initializing the\n",
            "model or by setting rescale=False.\n",
            "\n",
            "  warnings.warn(\n"
          ]
        },
        {
          "output_type": "stream",
          "name": "stdout",
          "text": [
            "Iteration:      1,   Func. Count:      7,   Neg. LLF: 503947301.40788424\n",
            "Iteration:      2,   Func. Count:     19,   Neg. LLF: 417875.18716479285\n",
            "Iteration:      3,   Func. Count:     31,   Neg. LLF: -1110.5548215875992\n",
            "Iteration:      4,   Func. Count:     40,   Neg. LLF: 8156.765762299624\n",
            "Iteration:      5,   Func. Count:     51,   Neg. LLF: 269822.62729372963\n",
            "Iteration:      6,   Func. Count:     58,   Neg. LLF: 872.5967598210934\n",
            "Iteration:      7,   Func. Count:     66,   Neg. LLF: -729.0953298032298\n",
            "Iteration:      8,   Func. Count:     75,   Neg. LLF: -1249.4757341737445\n",
            "Iteration:      9,   Func. Count:     82,   Neg. LLF: -1279.6224512328185\n",
            "Iteration:     10,   Func. Count:     89,   Neg. LLF: -1278.1890052115114\n",
            "Iteration:     11,   Func. Count:     96,   Neg. LLF: -1285.5910508353452\n",
            "Iteration:     12,   Func. Count:    102,   Neg. LLF: -1285.6241852154515\n",
            "Iteration:     13,   Func. Count:    108,   Neg. LLF: -1285.6245403202001\n",
            "Iteration:     14,   Func. Count:    115,   Neg. LLF: -1285.6306558520396\n",
            "Iteration:     15,   Func. Count:    121,   Neg. LLF: -1285.631429437874\n",
            "Iteration:     16,   Func. Count:    127,   Neg. LLF: -1285.6314368689036\n",
            "Iteration:     17,   Func. Count:    132,   Neg. LLF: -1285.6314368689923\n",
            "Optimization terminated successfully    (Exit mode 0)\n",
            "            Current function value: -1285.6314368689036\n",
            "            Iterations: 19\n",
            "            Function evaluations: 132\n",
            "            Gradient evaluations: 17\n"
          ]
        },
        {
          "output_type": "stream",
          "name": "stderr",
          "text": [
            "/usr/local/lib/python3.10/dist-packages/arch/univariate/base.py:310: DataScaleWarning: y is poorly scaled, which may affect convergence of the optimizer when\n",
            "estimating the model parameters. The scale of y is 0.0007728. Parameter\n",
            "estimation work better when this value is between 1 and 1000. The recommended\n",
            "rescaling is 100 * y.\n",
            "\n",
            "This warning can be disabled by either rescaling y before initializing the\n",
            "model or by setting rescale=False.\n",
            "\n",
            "  warnings.warn(\n"
          ]
        },
        {
          "output_type": "stream",
          "name": "stdout",
          "text": [
            "Iteration:      1,   Func. Count:      7,   Neg. LLF: 14131887.073567366\n",
            "Iteration:      2,   Func. Count:     19,   Neg. LLF: 29994.92360667956\n",
            "Iteration:      3,   Func. Count:     26,   Neg. LLF: -1241.4075042829322\n",
            "Iteration:      4,   Func. Count:     34,   Neg. LLF: 527169137.8858279\n",
            "Iteration:      5,   Func. Count:     42,   Neg. LLF: -1273.0807203405795\n",
            "Iteration:      6,   Func. Count:     49,   Neg. LLF: -1275.4343748780489\n",
            "Iteration:      7,   Func. Count:     57,   Neg. LLF: -1285.1745095250953\n",
            "Iteration:      8,   Func. Count:     65,   Neg. LLF: -1198.8624463984456\n",
            "Iteration:      9,   Func. Count:     73,   Neg. LLF: -1287.252482992784\n",
            "Iteration:     10,   Func. Count:     79,   Neg. LLF: -1287.2446821253575\n",
            "Iteration:     11,   Func. Count:     86,   Neg. LLF: -1287.252525709516\n",
            "Iteration:     12,   Func. Count:     91,   Neg. LLF: -1287.252525709475\n",
            "Optimization terminated successfully    (Exit mode 0)\n",
            "            Current function value: -1287.252525709516\n",
            "            Iterations: 12\n",
            "            Function evaluations: 91\n",
            "            Gradient evaluations: 12\n"
          ]
        },
        {
          "output_type": "stream",
          "name": "stderr",
          "text": [
            "/usr/local/lib/python3.10/dist-packages/arch/univariate/base.py:310: DataScaleWarning: y is poorly scaled, which may affect convergence of the optimizer when\n",
            "estimating the model parameters. The scale of y is 0.0007726. Parameter\n",
            "estimation work better when this value is between 1 and 1000. The recommended\n",
            "rescaling is 100 * y.\n",
            "\n",
            "This warning can be disabled by either rescaling y before initializing the\n",
            "model or by setting rescale=False.\n",
            "\n",
            "  warnings.warn(\n"
          ]
        },
        {
          "output_type": "stream",
          "name": "stdout",
          "text": [
            "Iteration:      1,   Func. Count:      7,   Neg. LLF: 165928243.93340304\n",
            "Iteration:      2,   Func. Count:     18,   Neg. LLF: -1284.8521355792802\n",
            "Optimization terminated successfully    (Exit mode 0)\n",
            "            Current function value: -1284.852135905664\n",
            "            Iterations: 6\n",
            "            Function evaluations: 18\n",
            "            Gradient evaluations: 2\n"
          ]
        },
        {
          "output_type": "stream",
          "name": "stderr",
          "text": [
            "/usr/local/lib/python3.10/dist-packages/arch/univariate/base.py:310: DataScaleWarning: y is poorly scaled, which may affect convergence of the optimizer when\n",
            "estimating the model parameters. The scale of y is 0.0007716. Parameter\n",
            "estimation work better when this value is between 1 and 1000. The recommended\n",
            "rescaling is 100 * y.\n",
            "\n",
            "This warning can be disabled by either rescaling y before initializing the\n",
            "model or by setting rescale=False.\n",
            "\n",
            "  warnings.warn(\n"
          ]
        },
        {
          "output_type": "stream",
          "name": "stdout",
          "text": [
            "Iteration:      1,   Func. Count:      7,   Neg. LLF: 14721136.64869384\n",
            "Iteration:      2,   Func. Count:     19,   Neg. LLF: 158168.6820417463\n",
            "Iteration:      3,   Func. Count:     27,   Neg. LLF: 1988.4274724393083\n",
            "Iteration:      4,   Func. Count:     34,   Neg. LLF: 112973157.18580326\n",
            "Iteration:      5,   Func. Count:     41,   Neg. LLF: 2328.347920607456\n",
            "Iteration:      6,   Func. Count:     50,   Neg. LLF: -1048.7489873010672\n",
            "Iteration:      7,   Func. Count:     58,   Neg. LLF: -1276.202690944378\n",
            "Iteration:      8,   Func. Count:     65,   Neg. LLF: -1285.0298510056414\n",
            "Iteration:      9,   Func. Count:     72,   Neg. LLF: -1280.9129343691934\n",
            "Iteration:     10,   Func. Count:     79,   Neg. LLF: -1284.3428457245898\n",
            "Iteration:     11,   Func. Count:     87,   Neg. LLF: -1282.3130012318536\n",
            "Iteration:     12,   Func. Count:     95,   Neg. LLF: -1287.756490450381\n",
            "Iteration:     13,   Func. Count:    101,   Neg. LLF: -1287.75663113597\n",
            "Iteration:     14,   Func. Count:    107,   Neg. LLF: -1287.756649235123\n",
            "Iteration:     15,   Func. Count:    112,   Neg. LLF: -1287.756649235556\n",
            "Optimization terminated successfully    (Exit mode 0)\n",
            "            Current function value: -1287.756649235123\n",
            "            Iterations: 15\n",
            "            Function evaluations: 112\n",
            "            Gradient evaluations: 15\n"
          ]
        },
        {
          "output_type": "stream",
          "name": "stderr",
          "text": [
            "/usr/local/lib/python3.10/dist-packages/arch/univariate/base.py:310: DataScaleWarning: y is poorly scaled, which may affect convergence of the optimizer when\n",
            "estimating the model parameters. The scale of y is 0.0007895. Parameter\n",
            "estimation work better when this value is between 1 and 1000. The recommended\n",
            "rescaling is 100 * y.\n",
            "\n",
            "This warning can be disabled by either rescaling y before initializing the\n",
            "model or by setting rescale=False.\n",
            "\n",
            "  warnings.warn(\n"
          ]
        },
        {
          "output_type": "stream",
          "name": "stdout",
          "text": [
            "Iteration:      1,   Func. Count:      7,   Neg. LLF: 9192422.691069014\n",
            "Iteration:      2,   Func. Count:     18,   Neg. LLF: -1276.0296616525495\n",
            "Optimization terminated successfully    (Exit mode 0)\n",
            "            Current function value: -1276.0296618125158\n",
            "            Iterations: 6\n",
            "            Function evaluations: 18\n",
            "            Gradient evaluations: 2\n"
          ]
        },
        {
          "output_type": "stream",
          "name": "stderr",
          "text": [
            "/usr/local/lib/python3.10/dist-packages/arch/univariate/base.py:310: DataScaleWarning: y is poorly scaled, which may affect convergence of the optimizer when\n",
            "estimating the model parameters. The scale of y is 0.0007905. Parameter\n",
            "estimation work better when this value is between 1 and 1000. The recommended\n",
            "rescaling is 100 * y.\n",
            "\n",
            "This warning can be disabled by either rescaling y before initializing the\n",
            "model or by setting rescale=False.\n",
            "\n",
            "  warnings.warn(\n"
          ]
        },
        {
          "output_type": "stream",
          "name": "stdout",
          "text": [
            "Iteration:      1,   Func. Count:      7,   Neg. LLF: 7031521.204280401\n",
            "Iteration:      2,   Func. Count:     19,   Neg. LLF: 1769.0834661684212\n",
            "Iteration:      3,   Func. Count:     30,   Neg. LLF: 57480.717827454806\n",
            "Iteration:      4,   Func. Count:     42,   Neg. LLF: 692383.673502349\n",
            "Iteration:      5,   Func. Count:     49,   Neg. LLF: 2302.519908523688\n",
            "Iteration:      6,   Func. Count:     57,   Neg. LLF: -1219.9327767489197\n",
            "Iteration:      7,   Func. Count:     65,   Neg. LLF: -1253.3751721584551\n",
            "Iteration:      8,   Func. Count:     72,   Neg. LLF: -1264.7946678988433\n",
            "Iteration:      9,   Func. Count:     80,   Neg. LLF: -1273.8716371999194\n",
            "Iteration:     10,   Func. Count:     88,   Neg. LLF: -1236.3124458441825\n",
            "Iteration:     11,   Func. Count:     96,   Neg. LLF: -1277.1524107586156\n",
            "Iteration:     12,   Func. Count:    103,   Neg. LLF: -1277.0252306879613\n",
            "Iteration:     13,   Func. Count:    111,   Neg. LLF: -1277.1535099250582\n",
            "Iteration:     14,   Func. Count:    116,   Neg. LLF: -1277.1535099250968\n",
            "Optimization terminated successfully    (Exit mode 0)\n",
            "            Current function value: -1277.1535099250582\n",
            "            Iterations: 16\n",
            "            Function evaluations: 116\n",
            "            Gradient evaluations: 14\n"
          ]
        },
        {
          "output_type": "stream",
          "name": "stderr",
          "text": [
            "/usr/local/lib/python3.10/dist-packages/arch/univariate/base.py:310: DataScaleWarning: y is poorly scaled, which may affect convergence of the optimizer when\n",
            "estimating the model parameters. The scale of y is 0.000786. Parameter\n",
            "estimation work better when this value is between 1 and 1000. The recommended\n",
            "rescaling is 100 * y.\n",
            "\n",
            "This warning can be disabled by either rescaling y before initializing the\n",
            "model or by setting rescale=False.\n",
            "\n",
            "  warnings.warn(\n"
          ]
        },
        {
          "output_type": "stream",
          "name": "stdout",
          "text": [
            "Iteration:      1,   Func. Count:      7,   Neg. LLF: 7640647.638353225\n",
            "Iteration:      2,   Func. Count:     19,   Neg. LLF: 1906.1737378963728\n",
            "Iteration:      3,   Func. Count:     30,   Neg. LLF: 10520.96096115185\n",
            "Iteration:      4,   Func. Count:     37,   Neg. LLF: 2298.8422148077607\n",
            "Iteration:      5,   Func. Count:     45,   Neg. LLF: -1221.946239662946\n",
            "Iteration:      6,   Func. Count:     53,   Neg. LLF: -1247.6268743060705\n",
            "Iteration:      7,   Func. Count:     60,   Neg. LLF: -1266.0847061747913\n",
            "Iteration:      8,   Func. Count:     68,   Neg. LLF: -1235.9432535915723\n",
            "Iteration:      9,   Func. Count:     76,   Neg. LLF: -1272.0127609626052\n",
            "Iteration:     10,   Func. Count:     84,   Neg. LLF: -1279.0713220885732\n",
            "Iteration:     11,   Func. Count:     90,   Neg. LLF: -1279.0713571277684\n",
            "Iteration:     12,   Func. Count:     95,   Neg. LLF: -1279.0713571277724\n",
            "Optimization terminated successfully    (Exit mode 0)\n",
            "            Current function value: -1279.0713571277684\n",
            "            Iterations: 13\n",
            "            Function evaluations: 95\n",
            "            Gradient evaluations: 12\n"
          ]
        },
        {
          "output_type": "stream",
          "name": "stderr",
          "text": [
            "/usr/local/lib/python3.10/dist-packages/arch/univariate/base.py:310: DataScaleWarning: y is poorly scaled, which may affect convergence of the optimizer when\n",
            "estimating the model parameters. The scale of y is 0.0007862. Parameter\n",
            "estimation work better when this value is between 1 and 1000. The recommended\n",
            "rescaling is 100 * y.\n",
            "\n",
            "This warning can be disabled by either rescaling y before initializing the\n",
            "model or by setting rescale=False.\n",
            "\n",
            "  warnings.warn(\n"
          ]
        },
        {
          "output_type": "stream",
          "name": "stdout",
          "text": [
            "Iteration:      1,   Func. Count:      7,   Neg. LLF: 37296091.44462759\n",
            "Iteration:      2,   Func. Count:     19,   Neg. LLF: 3157.2785245914993\n",
            "Iteration:      3,   Func. Count:     30,   Neg. LLF: 13151.401165635649\n",
            "Iteration:      4,   Func. Count:     37,   Neg. LLF: 2299.8973960930152\n",
            "Iteration:      5,   Func. Count:     45,   Neg. LLF: -1219.8157772450786\n",
            "Iteration:      6,   Func. Count:     53,   Neg. LLF: -1250.4001606578654\n",
            "Iteration:      7,   Func. Count:     60,   Neg. LLF: -1258.5276317918942\n",
            "Iteration:      8,   Func. Count:     68,   Neg. LLF: -1275.2671763584553\n",
            "Iteration:      9,   Func. Count:     76,   Neg. LLF: -1271.1621307384628\n",
            "Iteration:     10,   Func. Count:     84,   Neg. LLF: -1275.2410569548388\n",
            "Iteration:     11,   Func. Count:     92,   Neg. LLF: -1278.5987873732875\n",
            "Iteration:     12,   Func. Count:     98,   Neg. LLF: -1278.598793583542\n",
            "Iteration:     13,   Func. Count:    103,   Neg. LLF: -1278.5987935835396\n",
            "Optimization terminated successfully    (Exit mode 0)\n",
            "            Current function value: -1278.598793583542\n",
            "            Iterations: 14\n",
            "            Function evaluations: 103\n",
            "            Gradient evaluations: 13\n"
          ]
        },
        {
          "output_type": "stream",
          "name": "stderr",
          "text": [
            "/usr/local/lib/python3.10/dist-packages/arch/univariate/base.py:310: DataScaleWarning: y is poorly scaled, which may affect convergence of the optimizer when\n",
            "estimating the model parameters. The scale of y is 0.0007863. Parameter\n",
            "estimation work better when this value is between 1 and 1000. The recommended\n",
            "rescaling is 100 * y.\n",
            "\n",
            "This warning can be disabled by either rescaling y before initializing the\n",
            "model or by setting rescale=False.\n",
            "\n",
            "  warnings.warn(\n"
          ]
        },
        {
          "output_type": "stream",
          "name": "stdout",
          "text": [
            "Iteration:      1,   Func. Count:      7,   Neg. LLF: 96936260.45563698\n",
            "Iteration:      2,   Func. Count:     18,   Neg. LLF: -1276.88150015054\n",
            "Optimization terminated successfully    (Exit mode 0)\n",
            "            Current function value: -1276.881500332719\n",
            "            Iterations: 6\n",
            "            Function evaluations: 18\n",
            "            Gradient evaluations: 2\n"
          ]
        },
        {
          "output_type": "stream",
          "name": "stderr",
          "text": [
            "/usr/local/lib/python3.10/dist-packages/arch/univariate/base.py:310: DataScaleWarning: y is poorly scaled, which may affect convergence of the optimizer when\n",
            "estimating the model parameters. The scale of y is 0.0007862. Parameter\n",
            "estimation work better when this value is between 1 and 1000. The recommended\n",
            "rescaling is 100 * y.\n",
            "\n",
            "This warning can be disabled by either rescaling y before initializing the\n",
            "model or by setting rescale=False.\n",
            "\n",
            "  warnings.warn(\n"
          ]
        },
        {
          "output_type": "stream",
          "name": "stdout",
          "text": [
            "Iteration:      1,   Func. Count:      7,   Neg. LLF: 93855375.78327325\n",
            "Iteration:      2,   Func. Count:     18,   Neg. LLF: -1276.9206077360236\n",
            "Optimization terminated successfully    (Exit mode 0)\n",
            "            Current function value: -1276.9206079391752\n",
            "            Iterations: 6\n",
            "            Function evaluations: 18\n",
            "            Gradient evaluations: 2\n"
          ]
        },
        {
          "output_type": "stream",
          "name": "stderr",
          "text": [
            "/usr/local/lib/python3.10/dist-packages/arch/univariate/base.py:310: DataScaleWarning: y is poorly scaled, which may affect convergence of the optimizer when\n",
            "estimating the model parameters. The scale of y is 0.0007847. Parameter\n",
            "estimation work better when this value is between 1 and 1000. The recommended\n",
            "rescaling is 100 * y.\n",
            "\n",
            "This warning can be disabled by either rescaling y before initializing the\n",
            "model or by setting rescale=False.\n",
            "\n",
            "  warnings.warn(\n"
          ]
        },
        {
          "output_type": "stream",
          "name": "stdout",
          "text": [
            "Iteration:      1,   Func. Count:      7,   Neg. LLF: 8913227.661386741\n",
            "Iteration:      2,   Func. Count:     18,   Neg. LLF: -1277.6571802383428\n",
            "Optimization terminated successfully    (Exit mode 0)\n",
            "            Current function value: -1277.657180446045\n",
            "            Iterations: 6\n",
            "            Function evaluations: 18\n",
            "            Gradient evaluations: 2\n"
          ]
        },
        {
          "output_type": "stream",
          "name": "stderr",
          "text": [
            "/usr/local/lib/python3.10/dist-packages/arch/univariate/base.py:310: DataScaleWarning: y is poorly scaled, which may affect convergence of the optimizer when\n",
            "estimating the model parameters. The scale of y is 0.0007843. Parameter\n",
            "estimation work better when this value is between 1 and 1000. The recommended\n",
            "rescaling is 100 * y.\n",
            "\n",
            "This warning can be disabled by either rescaling y before initializing the\n",
            "model or by setting rescale=False.\n",
            "\n",
            "  warnings.warn(\n"
          ]
        },
        {
          "output_type": "stream",
          "name": "stdout",
          "text": [
            "Iteration:      1,   Func. Count:      7,   Neg. LLF: 96078759.66772363\n",
            "Iteration:      2,   Func. Count:     18,   Neg. LLF: -1277.8008677123044\n",
            "Optimization terminated successfully    (Exit mode 0)\n",
            "            Current function value: -1277.8008679289305\n",
            "            Iterations: 6\n",
            "            Function evaluations: 18\n",
            "            Gradient evaluations: 2\n"
          ]
        },
        {
          "output_type": "stream",
          "name": "stderr",
          "text": [
            "/usr/local/lib/python3.10/dist-packages/arch/univariate/base.py:310: DataScaleWarning: y is poorly scaled, which may affect convergence of the optimizer when\n",
            "estimating the model parameters. The scale of y is 0.0007842. Parameter\n",
            "estimation work better when this value is between 1 and 1000. The recommended\n",
            "rescaling is 100 * y.\n",
            "\n",
            "This warning can be disabled by either rescaling y before initializing the\n",
            "model or by setting rescale=False.\n",
            "\n",
            "  warnings.warn(\n"
          ]
        },
        {
          "output_type": "stream",
          "name": "stdout",
          "text": [
            "Iteration:      1,   Func. Count:      7,   Neg. LLF: 92653163.58346206\n",
            "Iteration:      2,   Func. Count:     18,   Neg. LLF: -1278.005942965497\n",
            "Optimization terminated successfully    (Exit mode 0)\n",
            "            Current function value: -1278.005943198934\n",
            "            Iterations: 6\n",
            "            Function evaluations: 18\n",
            "            Gradient evaluations: 2\n"
          ]
        },
        {
          "output_type": "stream",
          "name": "stderr",
          "text": [
            "/usr/local/lib/python3.10/dist-packages/arch/univariate/base.py:310: DataScaleWarning: y is poorly scaled, which may affect convergence of the optimizer when\n",
            "estimating the model parameters. The scale of y is 0.0007846. Parameter\n",
            "estimation work better when this value is between 1 and 1000. The recommended\n",
            "rescaling is 100 * y.\n",
            "\n",
            "This warning can be disabled by either rescaling y before initializing the\n",
            "model or by setting rescale=False.\n",
            "\n",
            "  warnings.warn(\n"
          ]
        },
        {
          "output_type": "stream",
          "name": "stdout",
          "text": [
            "Iteration:      1,   Func. Count:      7,   Neg. LLF: 10158874.147364276\n",
            "Iteration:      2,   Func. Count:     19,   Neg. LLF: 826647.1415135916\n",
            "Iteration:      3,   Func. Count:     26,   Neg. LLF: -736.241202163222\n",
            "Iteration:      4,   Func. Count:     34,   Neg. LLF: 2304.670366877979\n",
            "Iteration:      5,   Func. Count:     42,   Neg. LLF: -1061.7180117728415\n",
            "Iteration:      6,   Func. Count:     50,   Neg. LLF: -1216.0060213271286\n",
            "Iteration:      7,   Func. Count:     58,   Neg. LLF: -1268.8530523426948\n",
            "Iteration:      8,   Func. Count:     65,   Neg. LLF: -1049.31431077025\n",
            "Iteration:      9,   Func. Count:     73,   Neg. LLF: -1275.6613097380032\n",
            "Iteration:     10,   Func. Count:     81,   Neg. LLF: -1239.7009618751963\n",
            "Iteration:     11,   Func. Count:     89,   Neg. LLF: -1271.8933338022694\n",
            "Iteration:     12,   Func. Count:     97,   Neg. LLF: -1279.5088526193736\n",
            "Iteration:     13,   Func. Count:    103,   Neg. LLF: -1279.5088584753983\n",
            "Iteration:     14,   Func. Count:    108,   Neg. LLF: -1279.5088584754344\n",
            "Optimization terminated successfully    (Exit mode 0)\n",
            "            Current function value: -1279.5088584753983\n",
            "            Iterations: 14\n",
            "            Function evaluations: 108\n",
            "            Gradient evaluations: 14\n"
          ]
        },
        {
          "output_type": "stream",
          "name": "stderr",
          "text": [
            "/usr/local/lib/python3.10/dist-packages/arch/univariate/base.py:310: DataScaleWarning: y is poorly scaled, which may affect convergence of the optimizer when\n",
            "estimating the model parameters. The scale of y is 0.0007849. Parameter\n",
            "estimation work better when this value is between 1 and 1000. The recommended\n",
            "rescaling is 100 * y.\n",
            "\n",
            "This warning can be disabled by either rescaling y before initializing the\n",
            "model or by setting rescale=False.\n",
            "\n",
            "  warnings.warn(\n"
          ]
        },
        {
          "output_type": "stream",
          "name": "stdout",
          "text": [
            "Iteration:      1,   Func. Count:      7,   Neg. LLF: 10996094.45797172\n",
            "Iteration:      2,   Func. Count:     19,   Neg. LLF: 98471.89080351761\n",
            "Iteration:      3,   Func. Count:     26,   Neg. LLF: -1229.9570543192867\n",
            "Iteration:      4,   Func. Count:     34,   Neg. LLF: -1219.054847762234\n",
            "Iteration:      5,   Func. Count:     42,   Neg. LLF: 3547.909461298048\n",
            "Iteration:      6,   Func. Count:     51,   Neg. LLF: 134847005.49081215\n",
            "Iteration:      7,   Func. Count:     58,   Neg. LLF: -1277.8241192272835\n",
            "Iteration:      8,   Func. Count:     66,   Neg. LLF: -1268.2080738686009\n",
            "Iteration:      9,   Func. Count:     74,   Neg. LLF: -1265.5985844249858\n",
            "Iteration:     10,   Func. Count:     82,   Neg. LLF: -1279.5019715499643\n",
            "Iteration:     11,   Func. Count:     89,   Neg. LLF: -1279.5032874855026\n",
            "Iteration:     12,   Func. Count:     95,   Neg. LLF: -1279.503289879252\n",
            "Iteration:     13,   Func. Count:    100,   Neg. LLF: -1279.5032898792485\n",
            "Optimization terminated successfully    (Exit mode 0)\n",
            "            Current function value: -1279.503289879252\n",
            "            Iterations: 13\n",
            "            Function evaluations: 100\n",
            "            Gradient evaluations: 13\n"
          ]
        },
        {
          "output_type": "stream",
          "name": "stderr",
          "text": [
            "/usr/local/lib/python3.10/dist-packages/arch/univariate/base.py:310: DataScaleWarning: y is poorly scaled, which may affect convergence of the optimizer when\n",
            "estimating the model parameters. The scale of y is 0.0007841. Parameter\n",
            "estimation work better when this value is between 1 and 1000. The recommended\n",
            "rescaling is 100 * y.\n",
            "\n",
            "This warning can be disabled by either rescaling y before initializing the\n",
            "model or by setting rescale=False.\n",
            "\n",
            "  warnings.warn(\n"
          ]
        },
        {
          "output_type": "stream",
          "name": "stdout",
          "text": [
            "Iteration:      1,   Func. Count:      7,   Neg. LLF: 42344289.39841169\n",
            "Iteration:      2,   Func. Count:     18,   Neg. LLF: -1278.5660539593405\n",
            "Optimization terminated successfully    (Exit mode 0)\n",
            "            Current function value: -1278.5660542292262\n",
            "            Iterations: 6\n",
            "            Function evaluations: 18\n",
            "            Gradient evaluations: 2\n"
          ]
        },
        {
          "output_type": "stream",
          "name": "stderr",
          "text": [
            "/usr/local/lib/python3.10/dist-packages/arch/univariate/base.py:310: DataScaleWarning: y is poorly scaled, which may affect convergence of the optimizer when\n",
            "estimating the model parameters. The scale of y is 0.00078. Parameter\n",
            "estimation work better when this value is between 1 and 1000. The recommended\n",
            "rescaling is 100 * y.\n",
            "\n",
            "This warning can be disabled by either rescaling y before initializing the\n",
            "model or by setting rescale=False.\n",
            "\n",
            "  warnings.warn(\n"
          ]
        },
        {
          "output_type": "stream",
          "name": "stdout",
          "text": [
            "Iteration:      1,   Func. Count:      7,   Neg. LLF: 14184131.22551364\n",
            "Iteration:      2,   Func. Count:     19,   Neg. LLF: 3727.552998141599\n",
            "Iteration:      3,   Func. Count:     30,   Neg. LLF: 172682.28728927753\n",
            "Iteration:      4,   Func. Count:     42,   Neg. LLF: 2854.328150268799\n",
            "Iteration:      5,   Func. Count:     52,   Neg. LLF: -1280.326812569715\n",
            "Optimization terminated successfully    (Exit mode 0)\n",
            "            Current function value: -1280.3268128335858\n",
            "            Iterations: 9\n",
            "            Function evaluations: 52\n",
            "            Gradient evaluations: 5\n"
          ]
        },
        {
          "output_type": "stream",
          "name": "stderr",
          "text": [
            "/usr/local/lib/python3.10/dist-packages/arch/univariate/base.py:310: DataScaleWarning: y is poorly scaled, which may affect convergence of the optimizer when\n",
            "estimating the model parameters. The scale of y is 0.0007799. Parameter\n",
            "estimation work better when this value is between 1 and 1000. The recommended\n",
            "rescaling is 100 * y.\n",
            "\n",
            "This warning can be disabled by either rescaling y before initializing the\n",
            "model or by setting rescale=False.\n",
            "\n",
            "  warnings.warn(\n"
          ]
        },
        {
          "output_type": "stream",
          "name": "stdout",
          "text": [
            "Iteration:      1,   Func. Count:      7,   Neg. LLF: 10275484.964887306\n",
            "Iteration:      2,   Func. Count:     19,   Neg. LLF: 604766.8232926341\n",
            "Iteration:      3,   Func. Count:     26,   Neg. LLF: -1242.217773428133\n",
            "Iteration:      4,   Func. Count:     33,   Neg. LLF: -1206.7747138573593\n",
            "Iteration:      5,   Func. Count:     41,   Neg. LLF: 216948983.08309373\n",
            "Iteration:      6,   Func. Count:     48,   Neg. LLF: -1250.5163554282922\n",
            "Iteration:      7,   Func. Count:     56,   Neg. LLF: -1275.7078067838981\n",
            "Iteration:      8,   Func. Count:     64,   Neg. LLF: -1165.7124393229165\n",
            "Iteration:      9,   Func. Count:     72,   Neg. LLF: -1282.3609388323734\n",
            "Iteration:     10,   Func. Count:     79,   Neg. LLF: -1282.3711296146832\n",
            "Iteration:     11,   Func. Count:     85,   Neg. LLF: -1282.3711372897706\n",
            "Iteration:     12,   Func. Count:     90,   Neg. LLF: -1282.3711372897606\n",
            "Optimization terminated successfully    (Exit mode 0)\n",
            "            Current function value: -1282.3711372897706\n",
            "            Iterations: 12\n",
            "            Function evaluations: 90\n",
            "            Gradient evaluations: 12\n"
          ]
        },
        {
          "output_type": "stream",
          "name": "stderr",
          "text": [
            "/usr/local/lib/python3.10/dist-packages/arch/univariate/base.py:310: DataScaleWarning: y is poorly scaled, which may affect convergence of the optimizer when\n",
            "estimating the model parameters. The scale of y is 0.0007814. Parameter\n",
            "estimation work better when this value is between 1 and 1000. The recommended\n",
            "rescaling is 100 * y.\n",
            "\n",
            "This warning can be disabled by either rescaling y before initializing the\n",
            "model or by setting rescale=False.\n",
            "\n",
            "  warnings.warn(\n"
          ]
        },
        {
          "output_type": "stream",
          "name": "stdout",
          "text": [
            "Iteration:      1,   Func. Count:      6,   Neg. LLF: 27323779.68285917\n",
            "Iteration:      2,   Func. Count:     16,   Neg. LLF: -1279.8894118022909\n",
            "Optimization terminated successfully    (Exit mode 0)\n",
            "            Current function value: -1279.889411920126\n",
            "            Iterations: 6\n",
            "            Function evaluations: 16\n",
            "            Gradient evaluations: 2\n"
          ]
        },
        {
          "output_type": "stream",
          "name": "stderr",
          "text": [
            "/usr/local/lib/python3.10/dist-packages/arch/univariate/base.py:310: DataScaleWarning: y is poorly scaled, which may affect convergence of the optimizer when\n",
            "estimating the model parameters. The scale of y is 0.0007787. Parameter\n",
            "estimation work better when this value is between 1 and 1000. The recommended\n",
            "rescaling is 100 * y.\n",
            "\n",
            "This warning can be disabled by either rescaling y before initializing the\n",
            "model or by setting rescale=False.\n",
            "\n",
            "  warnings.warn(\n"
          ]
        },
        {
          "output_type": "stream",
          "name": "stdout",
          "text": [
            "Iteration:      1,   Func. Count:      7,   Neg. LLF: 10673022.141539618\n",
            "Iteration:      2,   Func. Count:     18,   Neg. LLF: -1281.7983656563429\n",
            "Optimization terminated successfully    (Exit mode 0)\n",
            "            Current function value: -1281.7983659850784\n",
            "            Iterations: 6\n",
            "            Function evaluations: 18\n",
            "            Gradient evaluations: 2\n"
          ]
        },
        {
          "output_type": "stream",
          "name": "stderr",
          "text": [
            "/usr/local/lib/python3.10/dist-packages/arch/univariate/base.py:310: DataScaleWarning: y is poorly scaled, which may affect convergence of the optimizer when\n",
            "estimating the model parameters. The scale of y is 0.0007783. Parameter\n",
            "estimation work better when this value is between 1 and 1000. The recommended\n",
            "rescaling is 100 * y.\n",
            "\n",
            "This warning can be disabled by either rescaling y before initializing the\n",
            "model or by setting rescale=False.\n",
            "\n",
            "  warnings.warn(\n"
          ]
        },
        {
          "output_type": "stream",
          "name": "stdout",
          "text": [
            "Iteration:      1,   Func. Count:      7,   Neg. LLF: 84443517.928339\n",
            "Iteration:      2,   Func. Count:     18,   Neg. LLF: -1282.6253166423955\n",
            "Optimization terminated successfully    (Exit mode 0)\n",
            "            Current function value: -1282.6253170076702\n",
            "            Iterations: 6\n",
            "            Function evaluations: 18\n",
            "            Gradient evaluations: 2\n"
          ]
        },
        {
          "output_type": "stream",
          "name": "stderr",
          "text": [
            "/usr/local/lib/python3.10/dist-packages/arch/univariate/base.py:310: DataScaleWarning: y is poorly scaled, which may affect convergence of the optimizer when\n",
            "estimating the model parameters. The scale of y is 0.0007723. Parameter\n",
            "estimation work better when this value is between 1 and 1000. The recommended\n",
            "rescaling is 100 * y.\n",
            "\n",
            "This warning can be disabled by either rescaling y before initializing the\n",
            "model or by setting rescale=False.\n",
            "\n",
            "  warnings.warn(\n"
          ]
        },
        {
          "output_type": "stream",
          "name": "stdout",
          "text": [
            "Iteration:      1,   Func. Count:      7,   Neg. LLF: 10487051.2932617\n",
            "Iteration:      2,   Func. Count:     19,   Neg. LLF: 85280.44851692574\n",
            "Iteration:      3,   Func. Count:     27,   Neg. LLF: 189314549.93487662\n",
            "Iteration:      4,   Func. Count:     39,   Neg. LLF: 2547744.3645277442\n",
            "Iteration:      5,   Func. Count:     51,   Neg. LLF: -402.26379666688786\n",
            "Iteration:      6,   Func. Count:     60,   Neg. LLF: 661020.7045004634\n",
            "Iteration:      7,   Func. Count:     67,   Neg. LLF: 2304.5146073261203\n",
            "Iteration:      8,   Func. Count:     75,   Neg. LLF: -38.064696610027696\n",
            "Iteration:      9,   Func. Count:     84,   Neg. LLF: -1252.25779622149\n",
            "Iteration:     10,   Func. Count:     92,   Neg. LLF: -1273.791055404954\n",
            "Iteration:     11,   Func. Count:    100,   Neg. LLF: -1140.48987015322\n",
            "Iteration:     12,   Func. Count:    108,   Neg. LLF: -1284.664168471788\n",
            "Iteration:     13,   Func. Count:    116,   Neg. LLF: -1245.3092182561766\n",
            "Iteration:     14,   Func. Count:    125,   Neg. LLF: -1287.0309372964316\n",
            "Iteration:     15,   Func. Count:    130,   Neg. LLF: -1287.0309372963866\n",
            "Optimization terminated successfully    (Exit mode 0)\n",
            "            Current function value: -1287.0309372964316\n",
            "            Iterations: 18\n",
            "            Function evaluations: 130\n",
            "            Gradient evaluations: 15\n"
          ]
        },
        {
          "output_type": "stream",
          "name": "stderr",
          "text": [
            "/usr/local/lib/python3.10/dist-packages/arch/univariate/base.py:310: DataScaleWarning: y is poorly scaled, which may affect convergence of the optimizer when\n",
            "estimating the model parameters. The scale of y is 0.0007723. Parameter\n",
            "estimation work better when this value is between 1 and 1000. The recommended\n",
            "rescaling is 100 * y.\n",
            "\n",
            "This warning can be disabled by either rescaling y before initializing the\n",
            "model or by setting rescale=False.\n",
            "\n",
            "  warnings.warn(\n"
          ]
        },
        {
          "output_type": "stream",
          "name": "stdout",
          "text": [
            "Iteration:      1,   Func. Count:      7,   Neg. LLF: 10780142.202603202\n",
            "Iteration:      2,   Func. Count:     18,   Neg. LLF: -1284.8245826804775\n",
            "Optimization terminated successfully    (Exit mode 0)\n",
            "            Current function value: -1284.824582997925\n",
            "            Iterations: 6\n",
            "            Function evaluations: 18\n",
            "            Gradient evaluations: 2\n"
          ]
        },
        {
          "output_type": "stream",
          "name": "stderr",
          "text": [
            "/usr/local/lib/python3.10/dist-packages/arch/univariate/base.py:310: DataScaleWarning: y is poorly scaled, which may affect convergence of the optimizer when\n",
            "estimating the model parameters. The scale of y is 0.0007713. Parameter\n",
            "estimation work better when this value is between 1 and 1000. The recommended\n",
            "rescaling is 100 * y.\n",
            "\n",
            "This warning can be disabled by either rescaling y before initializing the\n",
            "model or by setting rescale=False.\n",
            "\n",
            "  warnings.warn(\n"
          ]
        },
        {
          "output_type": "stream",
          "name": "stdout",
          "text": [
            "Iteration:      1,   Func. Count:      7,   Neg. LLF: 104284215.30941087\n",
            "Iteration:      2,   Func. Count:     19,   Neg. LLF: 266304.5619473754\n",
            "Iteration:      3,   Func. Count:     26,   Neg. LLF: 2301.1770212473502\n",
            "Iteration:      4,   Func. Count:     34,   Neg. LLF: -1259.9314350523885\n",
            "Iteration:      5,   Func. Count:     41,   Neg. LLF: -1281.2524646047918\n",
            "Iteration:      6,   Func. Count:     48,   Neg. LLF: -1264.303336149734\n",
            "Iteration:      7,   Func. Count:     56,   Neg. LLF: -1285.4442677149843\n",
            "Iteration:      8,   Func. Count:     64,   Neg. LLF: -1280.0642199236902\n",
            "Iteration:      9,   Func. Count:     72,   Neg. LLF: -1287.565042277357\n",
            "Iteration:     10,   Func. Count:     78,   Neg. LLF: -1287.5650561166835\n",
            "Iteration:     11,   Func. Count:     83,   Neg. LLF: -1287.5650561167836\n",
            "Optimization terminated successfully    (Exit mode 0)\n",
            "            Current function value: -1287.5650561166835\n",
            "            Iterations: 11\n",
            "            Function evaluations: 83\n",
            "            Gradient evaluations: 11\n"
          ]
        },
        {
          "output_type": "stream",
          "name": "stderr",
          "text": [
            "/usr/local/lib/python3.10/dist-packages/arch/univariate/base.py:310: DataScaleWarning: y is poorly scaled, which may affect convergence of the optimizer when\n",
            "estimating the model parameters. The scale of y is 0.0007698. Parameter\n",
            "estimation work better when this value is between 1 and 1000. The recommended\n",
            "rescaling is 100 * y.\n",
            "\n",
            "This warning can be disabled by either rescaling y before initializing the\n",
            "model or by setting rescale=False.\n",
            "\n",
            "  warnings.warn(\n"
          ]
        },
        {
          "output_type": "stream",
          "name": "stdout",
          "text": [
            "Iteration:      1,   Func. Count:      7,   Neg. LLF: 11554190.311011974\n",
            "Iteration:      2,   Func. Count:     19,   Neg. LLF: 5324.008454378978\n",
            "Iteration:      3,   Func. Count:     30,   Neg. LLF: 34261.646962584186\n",
            "Iteration:      4,   Func. Count:     42,   Neg. LLF: -1286.021287276246\n",
            "Optimization terminated successfully    (Exit mode 0)\n",
            "            Current function value: -1286.0212875927878\n",
            "            Iterations: 8\n",
            "            Function evaluations: 42\n",
            "            Gradient evaluations: 4\n"
          ]
        },
        {
          "output_type": "stream",
          "name": "stderr",
          "text": [
            "/usr/local/lib/python3.10/dist-packages/arch/univariate/base.py:310: DataScaleWarning: y is poorly scaled, which may affect convergence of the optimizer when\n",
            "estimating the model parameters. The scale of y is 0.0007698. Parameter\n",
            "estimation work better when this value is between 1 and 1000. The recommended\n",
            "rescaling is 100 * y.\n",
            "\n",
            "This warning can be disabled by either rescaling y before initializing the\n",
            "model or by setting rescale=False.\n",
            "\n",
            "  warnings.warn(\n"
          ]
        },
        {
          "output_type": "stream",
          "name": "stdout",
          "text": [
            "Iteration:      1,   Func. Count:      7,   Neg. LLF: 11477746.614448154\n",
            "Iteration:      2,   Func. Count:     18,   Neg. LLF: -1286.0014483245886\n",
            "Optimization terminated successfully    (Exit mode 0)\n",
            "            Current function value: -1286.001448641604\n",
            "            Iterations: 6\n",
            "            Function evaluations: 18\n",
            "            Gradient evaluations: 2\n"
          ]
        },
        {
          "output_type": "stream",
          "name": "stderr",
          "text": [
            "/usr/local/lib/python3.10/dist-packages/arch/univariate/base.py:310: DataScaleWarning: y is poorly scaled, which may affect convergence of the optimizer when\n",
            "estimating the model parameters. The scale of y is 0.0007709. Parameter\n",
            "estimation work better when this value is between 1 and 1000. The recommended\n",
            "rescaling is 100 * y.\n",
            "\n",
            "This warning can be disabled by either rescaling y before initializing the\n",
            "model or by setting rescale=False.\n",
            "\n",
            "  warnings.warn(\n"
          ]
        },
        {
          "output_type": "stream",
          "name": "stdout",
          "text": [
            "Iteration:      1,   Func. Count:      7,   Neg. LLF: 88985584.5819774\n",
            "Iteration:      2,   Func. Count:     18,   Neg. LLF: -1285.4337953147456\n",
            "Optimization terminated successfully    (Exit mode 0)\n",
            "            Current function value: -1285.4337956308555\n",
            "            Iterations: 6\n",
            "            Function evaluations: 18\n",
            "            Gradient evaluations: 2\n"
          ]
        },
        {
          "output_type": "stream",
          "name": "stderr",
          "text": [
            "/usr/local/lib/python3.10/dist-packages/arch/univariate/base.py:310: DataScaleWarning: y is poorly scaled, which may affect convergence of the optimizer when\n",
            "estimating the model parameters. The scale of y is 0.0007781. Parameter\n",
            "estimation work better when this value is between 1 and 1000. The recommended\n",
            "rescaling is 100 * y.\n",
            "\n",
            "This warning can be disabled by either rescaling y before initializing the\n",
            "model or by setting rescale=False.\n",
            "\n",
            "  warnings.warn(\n"
          ]
        },
        {
          "output_type": "stream",
          "name": "stdout",
          "text": [
            "Iteration:      1,   Func. Count:      7,   Neg. LLF: 12771884.388158144\n",
            "Iteration:      2,   Func. Count:     19,   Neg. LLF: 6177.04406832138\n",
            "Iteration:      3,   Func. Count:     31,   Neg. LLF: 34495.04630868284\n",
            "Iteration:      4,   Func. Count:     38,   Neg. LLF: 2301.2887216170484\n",
            "Iteration:      5,   Func. Count:     46,   Neg. LLF: -1265.7950619271892\n",
            "Iteration:      6,   Func. Count:     53,   Neg. LLF: -1273.7837602280688\n",
            "Iteration:      7,   Func. Count:     60,   Neg. LLF: -1251.7920138805525\n",
            "Iteration:      8,   Func. Count:     68,   Neg. LLF: -1282.5256977420236\n",
            "Iteration:      9,   Func. Count:     75,   Neg. LLF: -1273.0987376672535\n",
            "Iteration:     10,   Func. Count:     83,   Neg. LLF: -1280.515124120315\n",
            "Iteration:     11,   Func. Count:     91,   Neg. LLF: -1284.5877319755123\n",
            "Iteration:     12,   Func. Count:     98,   Neg. LLF: -1284.7724512875366\n",
            "Iteration:     13,   Func. Count:    104,   Neg. LLF: -1284.772452920857\n",
            "Iteration:     14,   Func. Count:    109,   Neg. LLF: -1284.7724529208674\n",
            "Optimization terminated successfully    (Exit mode 0)\n",
            "            Current function value: -1284.772452920857\n",
            "            Iterations: 15\n",
            "            Function evaluations: 109\n",
            "            Gradient evaluations: 14\n"
          ]
        },
        {
          "output_type": "stream",
          "name": "stderr",
          "text": [
            "/usr/local/lib/python3.10/dist-packages/arch/univariate/base.py:310: DataScaleWarning: y is poorly scaled, which may affect convergence of the optimizer when\n",
            "estimating the model parameters. The scale of y is 0.0007799. Parameter\n",
            "estimation work better when this value is between 1 and 1000. The recommended\n",
            "rescaling is 100 * y.\n",
            "\n",
            "This warning can be disabled by either rescaling y before initializing the\n",
            "model or by setting rescale=False.\n",
            "\n",
            "  warnings.warn(\n"
          ]
        },
        {
          "output_type": "stream",
          "name": "stdout",
          "text": [
            "Iteration:      1,   Func. Count:      7,   Neg. LLF: 15400162.11828037\n",
            "Iteration:      2,   Func. Count:     19,   Neg. LLF: 11803.147646779538\n",
            "Iteration:      3,   Func. Count:     31,   Neg. LLF: 12334.325621715132\n",
            "Iteration:      4,   Func. Count:     38,   Neg. LLF: 2301.449965314346\n",
            "Iteration:      5,   Func. Count:     46,   Neg. LLF: -1270.7028763484523\n",
            "Iteration:      6,   Func. Count:     53,   Neg. LLF: -1120.1093662108083\n",
            "Iteration:      7,   Func. Count:     60,   Neg. LLF: -1276.3410773647847\n",
            "Iteration:      8,   Func. Count:     67,   Neg. LLF: -1227.7892147843436\n",
            "Iteration:      9,   Func. Count:     74,   Neg. LLF: -1213.948150527488\n",
            "Iteration:     10,   Func. Count:     82,   Neg. LLF: -1244.99344248954\n",
            "Iteration:     11,   Func. Count:     90,   Neg. LLF: -1280.3390504404592\n",
            "Iteration:     12,   Func. Count:     98,   Neg. LLF: -1284.3239526413595\n",
            "Iteration:     13,   Func. Count:    104,   Neg. LLF: -1284.3239667138052\n",
            "Iteration:     14,   Func. Count:    109,   Neg. LLF: -1284.3239667138528\n",
            "Optimization terminated successfully    (Exit mode 0)\n",
            "            Current function value: -1284.3239667138052\n",
            "            Iterations: 15\n",
            "            Function evaluations: 109\n",
            "            Gradient evaluations: 14\n"
          ]
        },
        {
          "output_type": "stream",
          "name": "stderr",
          "text": [
            "/usr/local/lib/python3.10/dist-packages/arch/univariate/base.py:310: DataScaleWarning: y is poorly scaled, which may affect convergence of the optimizer when\n",
            "estimating the model parameters. The scale of y is 0.0007794. Parameter\n",
            "estimation work better when this value is between 1 and 1000. The recommended\n",
            "rescaling is 100 * y.\n",
            "\n",
            "This warning can be disabled by either rescaling y before initializing the\n",
            "model or by setting rescale=False.\n",
            "\n",
            "  warnings.warn(\n"
          ]
        },
        {
          "output_type": "stream",
          "name": "stdout",
          "text": [
            "Iteration:      1,   Func. Count:      7,   Neg. LLF: 67539990.47786264\n",
            "Iteration:      2,   Func. Count:     18,   Neg. LLF: -1281.6096430802381\n",
            "Optimization terminated successfully    (Exit mode 0)\n",
            "            Current function value: -1281.6096433815337\n",
            "            Iterations: 6\n",
            "            Function evaluations: 18\n",
            "            Gradient evaluations: 2\n"
          ]
        },
        {
          "output_type": "stream",
          "name": "stderr",
          "text": [
            "/usr/local/lib/python3.10/dist-packages/arch/univariate/base.py:310: DataScaleWarning: y is poorly scaled, which may affect convergence of the optimizer when\n",
            "estimating the model parameters. The scale of y is 0.0007794. Parameter\n",
            "estimation work better when this value is between 1 and 1000. The recommended\n",
            "rescaling is 100 * y.\n",
            "\n",
            "This warning can be disabled by either rescaling y before initializing the\n",
            "model or by setting rescale=False.\n",
            "\n",
            "  warnings.warn(\n"
          ]
        },
        {
          "output_type": "stream",
          "name": "stdout",
          "text": [
            "Iteration:      1,   Func. Count:      7,   Neg. LLF: 90767213.59969269\n",
            "Iteration:      2,   Func. Count:     18,   Neg. LLF: -1281.5112279791624\n",
            "Optimization terminated successfully    (Exit mode 0)\n",
            "            Current function value: -1281.511228287745\n",
            "            Iterations: 6\n",
            "            Function evaluations: 18\n",
            "            Gradient evaluations: 2\n"
          ]
        },
        {
          "output_type": "stream",
          "name": "stderr",
          "text": [
            "/usr/local/lib/python3.10/dist-packages/arch/univariate/base.py:310: DataScaleWarning: y is poorly scaled, which may affect convergence of the optimizer when\n",
            "estimating the model parameters. The scale of y is 0.0007795. Parameter\n",
            "estimation work better when this value is between 1 and 1000. The recommended\n",
            "rescaling is 100 * y.\n",
            "\n",
            "This warning can be disabled by either rescaling y before initializing the\n",
            "model or by setting rescale=False.\n",
            "\n",
            "  warnings.warn(\n"
          ]
        },
        {
          "output_type": "stream",
          "name": "stdout",
          "text": [
            "Iteration:      1,   Func. Count:      7,   Neg. LLF: 105916882.75156662\n",
            "Iteration:      2,   Func. Count:     19,   Neg. LLF: 170869.30709571257\n",
            "Iteration:      3,   Func. Count:     26,   Neg. LLF: 2262.9658719591866\n",
            "Iteration:      4,   Func. Count:     34,   Neg. LLF: 2301.7505222363498\n",
            "Iteration:      5,   Func. Count:     43,   Neg. LLF: -1261.8915204217983\n",
            "Iteration:      6,   Func. Count:     51,   Neg. LLF: -1189.3343625745479\n",
            "Iteration:      7,   Func. Count:     58,   Neg. LLF: -1275.7373132946782\n",
            "Iteration:      8,   Func. Count:     65,   Neg. LLF: -1237.6078280135864\n",
            "Iteration:      9,   Func. Count:     72,   Neg. LLF: -1269.8311579253177\n",
            "Iteration:     10,   Func. Count:     80,   Neg. LLF: -1276.6626245902385\n",
            "Iteration:     11,   Func. Count:     87,   Neg. LLF: -1283.5756163331234\n",
            "Iteration:     12,   Func. Count:     94,   Neg. LLF: -1282.989228099382\n",
            "Iteration:     13,   Func. Count:    101,   Neg. LLF: -1283.8562892176192\n",
            "Iteration:     14,   Func. Count:    107,   Neg. LLF: -1283.858680872654\n",
            "Iteration:     15,   Func. Count:    113,   Neg. LLF: -1283.8586820318196\n",
            "Iteration:     16,   Func. Count:    118,   Neg. LLF: -1283.858682031892\n",
            "Optimization terminated successfully    (Exit mode 0)\n",
            "            Current function value: -1283.8586820318196\n",
            "            Iterations: 16\n",
            "            Function evaluations: 118\n",
            "            Gradient evaluations: 16\n"
          ]
        },
        {
          "output_type": "stream",
          "name": "stderr",
          "text": [
            "/usr/local/lib/python3.10/dist-packages/arch/univariate/base.py:310: DataScaleWarning: y is poorly scaled, which may affect convergence of the optimizer when\n",
            "estimating the model parameters. The scale of y is 0.0007788. Parameter\n",
            "estimation work better when this value is between 1 and 1000. The recommended\n",
            "rescaling is 100 * y.\n",
            "\n",
            "This warning can be disabled by either rescaling y before initializing the\n",
            "model or by setting rescale=False.\n",
            "\n",
            "  warnings.warn(\n"
          ]
        },
        {
          "output_type": "stream",
          "name": "stdout",
          "text": [
            "Iteration:      1,   Func. Count:      7,   Neg. LLF: 101654148.8810043\n",
            "Iteration:      2,   Func. Count:     19,   Neg. LLF: 13425.316102986655\n",
            "Iteration:      3,   Func. Count:     30,   Neg. LLF: -1281.8952041131427\n",
            "Optimization terminated successfully    (Exit mode 0)\n",
            "            Current function value: -1281.8952044337566\n",
            "            Iterations: 7\n",
            "            Function evaluations: 30\n",
            "            Gradient evaluations: 3\n"
          ]
        },
        {
          "output_type": "stream",
          "name": "stderr",
          "text": [
            "/usr/local/lib/python3.10/dist-packages/arch/univariate/base.py:310: DataScaleWarning: y is poorly scaled, which may affect convergence of the optimizer when\n",
            "estimating the model parameters. The scale of y is 0.0007825. Parameter\n",
            "estimation work better when this value is between 1 and 1000. The recommended\n",
            "rescaling is 100 * y.\n",
            "\n",
            "This warning can be disabled by either rescaling y before initializing the\n",
            "model or by setting rescale=False.\n",
            "\n",
            "  warnings.warn(\n"
          ]
        },
        {
          "output_type": "stream",
          "name": "stdout",
          "text": [
            "Iteration:      1,   Func. Count:      7,   Neg. LLF: 94813533.66150674\n",
            "Iteration:      2,   Func. Count:     18,   Neg. LLF: -1280.4784022961016\n",
            "Optimization terminated successfully    (Exit mode 0)\n",
            "            Current function value: -1280.4784025962695\n",
            "            Iterations: 6\n",
            "            Function evaluations: 18\n",
            "            Gradient evaluations: 2\n"
          ]
        },
        {
          "output_type": "stream",
          "name": "stderr",
          "text": [
            "/usr/local/lib/python3.10/dist-packages/arch/univariate/base.py:310: DataScaleWarning: y is poorly scaled, which may affect convergence of the optimizer when\n",
            "estimating the model parameters. The scale of y is 0.0007858. Parameter\n",
            "estimation work better when this value is between 1 and 1000. The recommended\n",
            "rescaling is 100 * y.\n",
            "\n",
            "This warning can be disabled by either rescaling y before initializing the\n",
            "model or by setting rescale=False.\n",
            "\n",
            "  warnings.warn(\n"
          ]
        },
        {
          "output_type": "stream",
          "name": "stdout",
          "text": [
            "Iteration:      1,   Func. Count:      7,   Neg. LLF: 83469092.02124114\n",
            "Iteration:      2,   Func. Count:     18,   Neg. LLF: -1279.7096984242105\n",
            "Optimization terminated successfully    (Exit mode 0)\n",
            "            Current function value: -1279.7096987529512\n",
            "            Iterations: 6\n",
            "            Function evaluations: 18\n",
            "            Gradient evaluations: 2\n"
          ]
        },
        {
          "output_type": "stream",
          "name": "stderr",
          "text": [
            "/usr/local/lib/python3.10/dist-packages/arch/univariate/base.py:310: DataScaleWarning: y is poorly scaled, which may affect convergence of the optimizer when\n",
            "estimating the model parameters. The scale of y is 0.000785. Parameter\n",
            "estimation work better when this value is between 1 and 1000. The recommended\n",
            "rescaling is 100 * y.\n",
            "\n",
            "This warning can be disabled by either rescaling y before initializing the\n",
            "model or by setting rescale=False.\n",
            "\n",
            "  warnings.warn(\n"
          ]
        },
        {
          "output_type": "stream",
          "name": "stdout",
          "text": [
            "Iteration:      1,   Func. Count:      7,   Neg. LLF: 16724425.066889068\n",
            "Iteration:      2,   Func. Count:     18,   Neg. LLF: -1280.1638278651062\n",
            "Optimization terminated successfully    (Exit mode 0)\n",
            "            Current function value: -1280.1638282091842\n",
            "            Iterations: 6\n",
            "            Function evaluations: 18\n",
            "            Gradient evaluations: 2\n"
          ]
        },
        {
          "output_type": "stream",
          "name": "stderr",
          "text": [
            "/usr/local/lib/python3.10/dist-packages/arch/univariate/base.py:310: DataScaleWarning: y is poorly scaled, which may affect convergence of the optimizer when\n",
            "estimating the model parameters. The scale of y is 0.0007792. Parameter\n",
            "estimation work better when this value is between 1 and 1000. The recommended\n",
            "rescaling is 100 * y.\n",
            "\n",
            "This warning can be disabled by either rescaling y before initializing the\n",
            "model or by setting rescale=False.\n",
            "\n",
            "  warnings.warn(\n"
          ]
        },
        {
          "output_type": "stream",
          "name": "stdout",
          "text": [
            "Iteration:      1,   Func. Count:      7,   Neg. LLF: 14734509.459436784\n",
            "Iteration:      2,   Func. Count:     19,   Neg. LLF: 9979.479442305363\n",
            "Iteration:      3,   Func. Count:     30,   Neg. LLF: -1281.8017456482175\n",
            "Optimization terminated successfully    (Exit mode 0)\n",
            "            Current function value: -1281.801745969813\n",
            "            Iterations: 7\n",
            "            Function evaluations: 30\n",
            "            Gradient evaluations: 3\n"
          ]
        },
        {
          "output_type": "stream",
          "name": "stderr",
          "text": [
            "/usr/local/lib/python3.10/dist-packages/arch/univariate/base.py:310: DataScaleWarning: y is poorly scaled, which may affect convergence of the optimizer when\n",
            "estimating the model parameters. The scale of y is 0.0007775. Parameter\n",
            "estimation work better when this value is between 1 and 1000. The recommended\n",
            "rescaling is 100 * y.\n",
            "\n",
            "This warning can be disabled by either rescaling y before initializing the\n",
            "model or by setting rescale=False.\n",
            "\n",
            "  warnings.warn(\n"
          ]
        },
        {
          "output_type": "stream",
          "name": "stdout",
          "text": [
            "Iteration:      1,   Func. Count:      7,   Neg. LLF: 16435690.21990868\n",
            "Iteration:      2,   Func. Count:     18,   Neg. LLF: -1282.4288800416632\n",
            "Optimization terminated successfully    (Exit mode 0)\n",
            "            Current function value: -1282.42888036718\n",
            "            Iterations: 6\n",
            "            Function evaluations: 18\n",
            "            Gradient evaluations: 2\n"
          ]
        },
        {
          "output_type": "stream",
          "name": "stderr",
          "text": [
            "/usr/local/lib/python3.10/dist-packages/arch/univariate/base.py:310: DataScaleWarning: y is poorly scaled, which may affect convergence of the optimizer when\n",
            "estimating the model parameters. The scale of y is 0.0007773. Parameter\n",
            "estimation work better when this value is between 1 and 1000. The recommended\n",
            "rescaling is 100 * y.\n",
            "\n",
            "This warning can be disabled by either rescaling y before initializing the\n",
            "model or by setting rescale=False.\n",
            "\n",
            "  warnings.warn(\n"
          ]
        },
        {
          "output_type": "stream",
          "name": "stdout",
          "text": [
            "Iteration:      1,   Func. Count:      7,   Neg. LLF: 98502090.61222439\n",
            "Iteration:      2,   Func. Count:     18,   Neg. LLF: -1282.7901382908287\n",
            "Optimization terminated successfully    (Exit mode 0)\n",
            "            Current function value: -1282.7901386262702\n",
            "            Iterations: 6\n",
            "            Function evaluations: 18\n",
            "            Gradient evaluations: 2\n"
          ]
        },
        {
          "output_type": "stream",
          "name": "stderr",
          "text": [
            "/usr/local/lib/python3.10/dist-packages/arch/univariate/base.py:310: DataScaleWarning: y is poorly scaled, which may affect convergence of the optimizer when\n",
            "estimating the model parameters. The scale of y is 0.0007757. Parameter\n",
            "estimation work better when this value is between 1 and 1000. The recommended\n",
            "rescaling is 100 * y.\n",
            "\n",
            "This warning can be disabled by either rescaling y before initializing the\n",
            "model or by setting rescale=False.\n",
            "\n",
            "  warnings.warn(\n"
          ]
        },
        {
          "output_type": "stream",
          "name": "stdout",
          "text": [
            "Iteration:      1,   Func. Count:      7,   Neg. LLF: 16068458.623519406\n",
            "Iteration:      2,   Func. Count:     18,   Neg. LLF: -1283.55765726846\n",
            "Optimization terminated successfully    (Exit mode 0)\n",
            "            Current function value: -1283.557657604298\n",
            "            Iterations: 6\n",
            "            Function evaluations: 18\n",
            "            Gradient evaluations: 2\n"
          ]
        },
        {
          "output_type": "stream",
          "name": "stderr",
          "text": [
            "/usr/local/lib/python3.10/dist-packages/arch/univariate/base.py:310: DataScaleWarning: y is poorly scaled, which may affect convergence of the optimizer when\n",
            "estimating the model parameters. The scale of y is 0.0007752. Parameter\n",
            "estimation work better when this value is between 1 and 1000. The recommended\n",
            "rescaling is 100 * y.\n",
            "\n",
            "This warning can be disabled by either rescaling y before initializing the\n",
            "model or by setting rescale=False.\n",
            "\n",
            "  warnings.warn(\n"
          ]
        },
        {
          "output_type": "stream",
          "name": "stdout",
          "text": [
            "Iteration:      1,   Func. Count:      7,   Neg. LLF: 44821554.83596381\n",
            "Iteration:      2,   Func. Count:     18,   Neg. LLF: -1284.08611412452\n",
            "Optimization terminated successfully    (Exit mode 0)\n",
            "            Current function value: -1284.0861144600262\n",
            "            Iterations: 6\n",
            "            Function evaluations: 18\n",
            "            Gradient evaluations: 2\n"
          ]
        },
        {
          "output_type": "stream",
          "name": "stderr",
          "text": [
            "/usr/local/lib/python3.10/dist-packages/arch/univariate/base.py:310: DataScaleWarning: y is poorly scaled, which may affect convergence of the optimizer when\n",
            "estimating the model parameters. The scale of y is 0.0007745. Parameter\n",
            "estimation work better when this value is between 1 and 1000. The recommended\n",
            "rescaling is 100 * y.\n",
            "\n",
            "This warning can be disabled by either rescaling y before initializing the\n",
            "model or by setting rescale=False.\n",
            "\n",
            "  warnings.warn(\n"
          ]
        },
        {
          "output_type": "stream",
          "name": "stdout",
          "text": [
            "Iteration:      1,   Func. Count:      7,   Neg. LLF: 16006947.313785966\n",
            "Iteration:      2,   Func. Count:     19,   Neg. LLF: 10701.944268650652\n",
            "Iteration:      3,   Func. Count:     30,   Neg. LLF: -1284.788821159492\n",
            "Optimization terminated successfully    (Exit mode 0)\n",
            "            Current function value: -1284.7888215013554\n",
            "            Iterations: 7\n",
            "            Function evaluations: 30\n",
            "            Gradient evaluations: 3\n"
          ]
        },
        {
          "output_type": "stream",
          "name": "stderr",
          "text": [
            "/usr/local/lib/python3.10/dist-packages/arch/univariate/base.py:310: DataScaleWarning: y is poorly scaled, which may affect convergence of the optimizer when\n",
            "estimating the model parameters. The scale of y is 0.001556. Parameter\n",
            "estimation work better when this value is between 1 and 1000. The recommended\n",
            "rescaling is 10 * y.\n",
            "\n",
            "This warning can be disabled by either rescaling y before initializing the\n",
            "model or by setting rescale=False.\n",
            "\n",
            "  warnings.warn(\n"
          ]
        },
        {
          "output_type": "stream",
          "name": "stdout",
          "text": [
            "Iteration:      1,   Func. Count:      8,   Neg. LLF: 15751455.378394999\n",
            "Iteration:      2,   Func. Count:     21,   Neg. LLF: -553.7815671726833\n",
            "Iteration:      3,   Func. Count:     32,   Neg. LLF: -898.4940578741147\n",
            "Iteration:      4,   Func. Count:     41,   Neg. LLF: -1050.2298971785522\n",
            "Iteration:      5,   Func. Count:     49,   Neg. LLF: -1076.0230914965668\n",
            "Iteration:      6,   Func. Count:     57,   Neg. LLF: -1079.685139993451\n",
            "Iteration:      7,   Func. Count:     65,   Neg. LLF: -1080.4157350926776\n",
            "Iteration:      8,   Func. Count:     73,   Neg. LLF: -1075.539599204918\n",
            "Iteration:      9,   Func. Count:     82,   Neg. LLF: -1080.4830489863364\n",
            "Iteration:     10,   Func. Count:     89,   Neg. LLF: -1080.4832021008192\n",
            "Iteration:     11,   Func. Count:     97,   Neg. LLF: -1080.4838820028708\n",
            "Iteration:     12,   Func. Count:    104,   Neg. LLF: -1080.4839091239046\n",
            "Iteration:     13,   Func. Count:    110,   Neg. LLF: -1080.4839091239503\n",
            "Optimization terminated successfully    (Exit mode 0)\n",
            "            Current function value: -1080.4839091239046\n",
            "            Iterations: 13\n",
            "            Function evaluations: 110\n",
            "            Gradient evaluations: 13\n"
          ]
        },
        {
          "output_type": "stream",
          "name": "stderr",
          "text": [
            "/usr/local/lib/python3.10/dist-packages/arch/univariate/base.py:310: DataScaleWarning: y is poorly scaled, which may affect convergence of the optimizer when\n",
            "estimating the model parameters. The scale of y is 0.001557. Parameter\n",
            "estimation work better when this value is between 1 and 1000. The recommended\n",
            "rescaling is 10 * y.\n",
            "\n",
            "This warning can be disabled by either rescaling y before initializing the\n",
            "model or by setting rescale=False.\n",
            "\n",
            "  warnings.warn(\n"
          ]
        },
        {
          "output_type": "stream",
          "name": "stdout",
          "text": [
            "Iteration:      1,   Func. Count:      7,   Neg. LLF: 22426992988.91414\n",
            "Iteration:      2,   Func. Count:     19,   Neg. LLF: -647.194899283628\n",
            "Iteration:      3,   Func. Count:     28,   Neg. LLF: 281265665.1111648\n",
            "Iteration:      4,   Func. Count:     40,   Neg. LLF: 1952.4115910860637\n",
            "Iteration:      5,   Func. Count:     51,   Neg. LLF: 353.0767186816013\n",
            "Iteration:      6,   Func. Count:     60,   Neg. LLF: -1023.7012391451572\n",
            "Iteration:      7,   Func. Count:     69,   Neg. LLF: -911.1060540054455\n",
            "Iteration:      8,   Func. Count:     77,   Neg. LLF: -1076.6130118608676\n",
            "Iteration:      9,   Func. Count:     83,   Neg. LLF: -1057.6308010878734\n",
            "Iteration:     10,   Func. Count:     90,   Neg. LLF: -1067.7896291053194\n",
            "Iteration:     11,   Func. Count:     97,   Neg. LLF: -1076.4219993655188\n",
            "Iteration:     12,   Func. Count:    104,   Neg. LLF: -1076.8449644293034\n",
            "Iteration:     13,   Func. Count:    110,   Neg. LLF: -1076.845296673997\n",
            "Iteration:     14,   Func. Count:    116,   Neg. LLF: -1076.8452965751878\n",
            "Optimization terminated successfully    (Exit mode 0)\n",
            "            Current function value: -1076.8452974768777\n",
            "            Iterations: 15\n",
            "            Function evaluations: 117\n",
            "            Gradient evaluations: 14\n"
          ]
        },
        {
          "output_type": "stream",
          "name": "stderr",
          "text": [
            "/usr/local/lib/python3.10/dist-packages/arch/univariate/base.py:310: DataScaleWarning: y is poorly scaled, which may affect convergence of the optimizer when\n",
            "estimating the model parameters. The scale of y is 0.001546. Parameter\n",
            "estimation work better when this value is between 1 and 1000. The recommended\n",
            "rescaling is 10 * y.\n",
            "\n",
            "This warning can be disabled by either rescaling y before initializing the\n",
            "model or by setting rescale=False.\n",
            "\n",
            "  warnings.warn(\n"
          ]
        },
        {
          "output_type": "stream",
          "name": "stdout",
          "text": [
            "Iteration:      1,   Func. Count:      8,   Neg. LLF: 18561358.813451193\n",
            "Iteration:      2,   Func. Count:     21,   Neg. LLF: -558.0014247248378\n",
            "Iteration:      3,   Func. Count:     32,   Neg. LLF: -909.7513817888973\n",
            "Iteration:      4,   Func. Count:     41,   Neg. LLF: -1053.5918394511623\n",
            "Iteration:      5,   Func. Count:     49,   Neg. LLF: -1078.0252133333795\n",
            "Iteration:      6,   Func. Count:     57,   Neg. LLF: -1081.5271024710141\n",
            "Iteration:      7,   Func. Count:     65,   Neg. LLF: -1081.7828537164146\n",
            "Iteration:      8,   Func. Count:     73,   Neg. LLF: -1080.7573451004805\n",
            "Iteration:      9,   Func. Count:     81,   Neg. LLF: -1082.2480190437204\n",
            "Iteration:     10,   Func. Count:     89,   Neg. LLF: -1082.2911699111505\n",
            "Iteration:     11,   Func. Count:     97,   Neg. LLF: -1082.292699069087\n",
            "Iteration:     12,   Func. Count:    105,   Neg. LLF: -1082.2942661896216\n",
            "Iteration:     13,   Func. Count:    112,   Neg. LLF: -1082.2942705242976\n",
            "Iteration:     14,   Func. Count:    118,   Neg. LLF: -1082.294270524573\n",
            "Optimization terminated successfully    (Exit mode 0)\n",
            "            Current function value: -1082.2942705242976\n",
            "            Iterations: 14\n",
            "            Function evaluations: 118\n",
            "            Gradient evaluations: 14\n"
          ]
        },
        {
          "output_type": "stream",
          "name": "stderr",
          "text": [
            "/usr/local/lib/python3.10/dist-packages/arch/univariate/base.py:310: DataScaleWarning: y is poorly scaled, which may affect convergence of the optimizer when\n",
            "estimating the model parameters. The scale of y is 0.001547. Parameter\n",
            "estimation work better when this value is between 1 and 1000. The recommended\n",
            "rescaling is 10 * y.\n",
            "\n",
            "This warning can be disabled by either rescaling y before initializing the\n",
            "model or by setting rescale=False.\n",
            "\n",
            "  warnings.warn(\n"
          ]
        },
        {
          "output_type": "stream",
          "name": "stdout",
          "text": [
            "Iteration:      1,   Func. Count:      8,   Neg. LLF: 15781332.733660202\n",
            "Iteration:      2,   Func. Count:     21,   Neg. LLF: -561.6520991911516\n",
            "Iteration:      3,   Func. Count:     32,   Neg. LLF: -901.3228807366179\n",
            "Iteration:      4,   Func. Count:     41,   Neg. LLF: -1052.9966377746557\n",
            "Iteration:      5,   Func. Count:     49,   Neg. LLF: -1078.9157026226308\n",
            "Iteration:      6,   Func. Count:     57,   Neg. LLF: -1082.584345094121\n",
            "Iteration:      7,   Func. Count:     65,   Neg. LLF: -1070.0830297779166\n",
            "Iteration:      8,   Func. Count:     73,   Neg. LLF: -1083.2070458466933\n",
            "Iteration:      9,   Func. Count:     81,   Neg. LLF: -1083.3704912656115\n",
            "Iteration:     10,   Func. Count:     88,   Neg. LLF: -1083.3703438966127\n",
            "Iteration:     11,   Func. Count:     96,   Neg. LLF: -1083.3711707473904\n",
            "Iteration:     12,   Func. Count:    103,   Neg. LLF: -1083.371200491098\n",
            "Iteration:     13,   Func. Count:    109,   Neg. LLF: -1083.3712004908632\n",
            "Optimization terminated successfully    (Exit mode 0)\n",
            "            Current function value: -1083.371200491098\n",
            "            Iterations: 13\n",
            "            Function evaluations: 109\n",
            "            Gradient evaluations: 13\n"
          ]
        },
        {
          "output_type": "stream",
          "name": "stderr",
          "text": [
            "/usr/local/lib/python3.10/dist-packages/arch/univariate/base.py:310: DataScaleWarning: y is poorly scaled, which may affect convergence of the optimizer when\n",
            "estimating the model parameters. The scale of y is 0.00155. Parameter\n",
            "estimation work better when this value is between 1 and 1000. The recommended\n",
            "rescaling is 10 * y.\n",
            "\n",
            "This warning can be disabled by either rescaling y before initializing the\n",
            "model or by setting rescale=False.\n",
            "\n",
            "  warnings.warn(\n"
          ]
        },
        {
          "output_type": "stream",
          "name": "stdout",
          "text": [
            "Iteration:      1,   Func. Count:      7,   Neg. LLF: 23824695054.88442\n",
            "Iteration:      2,   Func. Count:     19,   Neg. LLF: -1018.0135898725698\n",
            "Iteration:      3,   Func. Count:     27,   Neg. LLF: 2361369075.1779423\n",
            "Iteration:      4,   Func. Count:     39,   Neg. LLF: 4605.030511665373\n",
            "Iteration:      5,   Func. Count:     50,   Neg. LLF: 5548263.102955729\n",
            "Iteration:      6,   Func. Count:     62,   Neg. LLF: 680.6255519546032\n",
            "Iteration:      7,   Func. Count:     73,   Neg. LLF: 802.8863064909592\n",
            "Iteration:      8,   Func. Count:     83,   Neg. LLF: 217323.43308848017\n",
            "Iteration:      9,   Func. Count:     93,   Neg. LLF: -1012.5513869285173\n",
            "Iteration:     10,   Func. Count:    102,   Neg. LLF: -915.5640502625408\n",
            "Iteration:     11,   Func. Count:    110,   Neg. LLF: -1079.1065647482026\n",
            "Iteration:     12,   Func. Count:    116,   Neg. LLF: -1071.571412387134\n",
            "Iteration:     13,   Func. Count:    123,   Neg. LLF: -1070.936137604017\n",
            "Iteration:     14,   Func. Count:    130,   Neg. LLF: -1079.3464121953602\n",
            "Iteration:     15,   Func. Count:    136,   Neg. LLF: -1079.3503196628521\n",
            "Iteration:     16,   Func. Count:    142,   Neg. LLF: -1079.3506330466919\n",
            "Iteration:     17,   Func. Count:    148,   Neg. LLF: -1079.350657620129\n",
            "Iteration:     18,   Func. Count:    153,   Neg. LLF: -1079.350657618103\n",
            "Optimization terminated successfully    (Exit mode 0)\n",
            "            Current function value: -1079.350657620129\n",
            "            Iterations: 20\n",
            "            Function evaluations: 153\n",
            "            Gradient evaluations: 18\n"
          ]
        },
        {
          "output_type": "stream",
          "name": "stderr",
          "text": [
            "/usr/local/lib/python3.10/dist-packages/arch/univariate/base.py:310: DataScaleWarning: y is poorly scaled, which may affect convergence of the optimizer when\n",
            "estimating the model parameters. The scale of y is 0.001554. Parameter\n",
            "estimation work better when this value is between 1 and 1000. The recommended\n",
            "rescaling is 10 * y.\n",
            "\n",
            "This warning can be disabled by either rescaling y before initializing the\n",
            "model or by setting rescale=False.\n",
            "\n",
            "  warnings.warn(\n"
          ]
        },
        {
          "output_type": "stream",
          "name": "stdout",
          "text": [
            "Iteration:      1,   Func. Count:      7,   Neg. LLF: 27396818274.911697\n",
            "Iteration:      2,   Func. Count:     19,   Neg. LLF: -384.1364307924552\n",
            "Iteration:      3,   Func. Count:     28,   Neg. LLF: 165326397.93401378\n",
            "Iteration:      4,   Func. Count:     40,   Neg. LLF: 1460.2405850130094\n",
            "Iteration:      5,   Func. Count:     51,   Neg. LLF: 851.5221951891194\n",
            "Iteration:      6,   Func. Count:     61,   Neg. LLF: 17178.248123116704\n",
            "Iteration:      7,   Func. Count:     72,   Neg. LLF: -1024.1651280156598\n",
            "Iteration:      8,   Func. Count:     81,   Neg. LLF: -916.8756695058955\n",
            "Iteration:      9,   Func. Count:     89,   Neg. LLF: -1079.3916948778608\n",
            "Iteration:     10,   Func. Count:     95,   Neg. LLF: -1070.2145590352263\n",
            "Iteration:     11,   Func. Count:    102,   Neg. LLF: -1079.788338758579\n",
            "Iteration:     12,   Func. Count:    108,   Neg. LLF: -1079.8310548849777\n",
            "Iteration:     13,   Func. Count:    114,   Neg. LLF: -1079.833757521259\n",
            "Iteration:     14,   Func. Count:    120,   Neg. LLF: -1079.834243116866\n",
            "Iteration:     15,   Func. Count:    126,   Neg. LLF: -1079.8342499657142\n",
            "Iteration:     16,   Func. Count:    132,   Neg. LLF: -1079.8342505982912\n",
            "Optimization terminated successfully    (Exit mode 0)\n",
            "            Current function value: -1079.8342505982912\n",
            "            Iterations: 17\n",
            "            Function evaluations: 132\n",
            "            Gradient evaluations: 16\n"
          ]
        },
        {
          "output_type": "stream",
          "name": "stderr",
          "text": [
            "/usr/local/lib/python3.10/dist-packages/arch/univariate/base.py:310: DataScaleWarning: y is poorly scaled, which may affect convergence of the optimizer when\n",
            "estimating the model parameters. The scale of y is 0.001555. Parameter\n",
            "estimation work better when this value is between 1 and 1000. The recommended\n",
            "rescaling is 10 * y.\n",
            "\n",
            "This warning can be disabled by either rescaling y before initializing the\n",
            "model or by setting rescale=False.\n",
            "\n",
            "  warnings.warn(\n"
          ]
        },
        {
          "output_type": "stream",
          "name": "stdout",
          "text": [
            "Iteration:      1,   Func. Count:      7,   Neg. LLF: 116776396.32821245\n",
            "Iteration:      2,   Func. Count:     19,   Neg. LLF: -1026.1420317112363\n",
            "Iteration:      3,   Func. Count:     27,   Neg. LLF: 275271.78837914474\n",
            "Iteration:      4,   Func. Count:     39,   Neg. LLF: 43429036.003194064\n",
            "Iteration:      5,   Func. Count:     51,   Neg. LLF: 8218.491037544598\n",
            "Iteration:      6,   Func. Count:     62,   Neg. LLF: 468.0107434479514\n",
            "Iteration:      7,   Func. Count:     71,   Neg. LLF: -1024.1567801406172\n",
            "Iteration:      8,   Func. Count:     80,   Neg. LLF: -919.2772313843086\n",
            "Iteration:      9,   Func. Count:     88,   Neg. LLF: -1079.5086470472675\n",
            "Iteration:     10,   Func. Count:     94,   Neg. LLF: -1072.8682365870925\n",
            "Iteration:     11,   Func. Count:    101,   Neg. LLF: -1070.219936882981\n",
            "Iteration:     12,   Func. Count:    108,   Neg. LLF: -1079.59512981133\n",
            "Iteration:     13,   Func. Count:    115,   Neg. LLF: -1079.7743810104807\n",
            "Iteration:     14,   Func. Count:    121,   Neg. LLF: -1079.7775883991267\n",
            "Iteration:     15,   Func. Count:    127,   Neg. LLF: -1079.777619898677\n",
            "Iteration:     16,   Func. Count:    133,   Neg. LLF: -1079.7776222871844\n",
            "Iteration:     17,   Func. Count:    138,   Neg. LLF: -1079.7776222880775\n",
            "Optimization terminated successfully    (Exit mode 0)\n",
            "            Current function value: -1079.7776222871844\n",
            "            Iterations: 19\n",
            "            Function evaluations: 138\n",
            "            Gradient evaluations: 17\n"
          ]
        },
        {
          "output_type": "stream",
          "name": "stderr",
          "text": [
            "/usr/local/lib/python3.10/dist-packages/arch/univariate/base.py:310: DataScaleWarning: y is poorly scaled, which may affect convergence of the optimizer when\n",
            "estimating the model parameters. The scale of y is 0.001547. Parameter\n",
            "estimation work better when this value is between 1 and 1000. The recommended\n",
            "rescaling is 10 * y.\n",
            "\n",
            "This warning can be disabled by either rescaling y before initializing the\n",
            "model or by setting rescale=False.\n",
            "\n",
            "  warnings.warn(\n"
          ]
        },
        {
          "output_type": "stream",
          "name": "stdout",
          "text": [
            "Iteration:      1,   Func. Count:      8,   Neg. LLF: 16475120.402306285\n",
            "Iteration:      2,   Func. Count:     21,   Neg. LLF: -568.4605354273228\n",
            "Iteration:      3,   Func. Count:     32,   Neg. LLF: -901.4892628616725\n",
            "Iteration:      4,   Func. Count:     41,   Neg. LLF: -1053.952392349963\n",
            "Iteration:      5,   Func. Count:     49,   Neg. LLF: -1080.1567716240481\n",
            "Iteration:      6,   Func. Count:     57,   Neg. LLF: -1083.5144554564981\n",
            "Iteration:      7,   Func. Count:     65,   Neg. LLF: -1083.6885564848906\n",
            "Iteration:      8,   Func. Count:     73,   Neg. LLF: -1084.0958862169716\n",
            "Iteration:      9,   Func. Count:     81,   Neg. LLF: -1084.2741278500826\n",
            "Iteration:     10,   Func. Count:     88,   Neg. LLF: -1084.2766555023022\n",
            "Iteration:     11,   Func. Count:     95,   Neg. LLF: -1084.277862952176\n",
            "Iteration:     12,   Func. Count:    102,   Neg. LLF: -1084.277866955111\n",
            "Iteration:     13,   Func. Count:    109,   Neg. LLF: -1084.277868759905\n",
            "Iteration:     14,   Func. Count:    115,   Neg. LLF: -1084.2778687598893\n",
            "Optimization terminated successfully    (Exit mode 0)\n",
            "            Current function value: -1084.277868759905\n",
            "            Iterations: 14\n",
            "            Function evaluations: 115\n",
            "            Gradient evaluations: 14\n"
          ]
        },
        {
          "output_type": "stream",
          "name": "stderr",
          "text": [
            "/usr/local/lib/python3.10/dist-packages/arch/univariate/base.py:310: DataScaleWarning: y is poorly scaled, which may affect convergence of the optimizer when\n",
            "estimating the model parameters. The scale of y is 0.001535. Parameter\n",
            "estimation work better when this value is between 1 and 1000. The recommended\n",
            "rescaling is 10 * y.\n",
            "\n",
            "This warning can be disabled by either rescaling y before initializing the\n",
            "model or by setting rescale=False.\n",
            "\n",
            "  warnings.warn(\n"
          ]
        },
        {
          "output_type": "stream",
          "name": "stdout",
          "text": [
            "Iteration:      1,   Func. Count:      8,   Neg. LLF: 15864406.000665683\n",
            "Iteration:      2,   Func. Count:     21,   Neg. LLF: -574.3557221609676\n",
            "Iteration:      3,   Func. Count:     32,   Neg. LLF: -901.8974460363775\n",
            "Iteration:      4,   Func. Count:     41,   Neg. LLF: -1055.9097183943938\n",
            "Iteration:      5,   Func. Count:     49,   Neg. LLF: -1082.851682831355\n",
            "Iteration:      6,   Func. Count:     57,   Neg. LLF: -1086.6483482764133\n",
            "Iteration:      7,   Func. Count:     65,   Neg. LLF: -1076.6353364526085\n",
            "Iteration:      8,   Func. Count:     73,   Neg. LLF: -1087.1142494180817\n",
            "Iteration:      9,   Func. Count:     81,   Neg. LLF: -1087.1941827671785\n",
            "Iteration:     10,   Func. Count:     88,   Neg. LLF: -1087.1937607633097\n",
            "Iteration:     11,   Func. Count:     96,   Neg. LLF: -1087.1944900492017\n",
            "Iteration:     12,   Func. Count:    103,   Neg. LLF: -1087.1944934230487\n",
            "Iteration:     13,   Func. Count:    109,   Neg. LLF: -1087.1944934228986\n",
            "Optimization terminated successfully    (Exit mode 0)\n",
            "            Current function value: -1087.1944934230487\n",
            "            Iterations: 13\n",
            "            Function evaluations: 109\n",
            "            Gradient evaluations: 13\n"
          ]
        },
        {
          "output_type": "stream",
          "name": "stderr",
          "text": [
            "/usr/local/lib/python3.10/dist-packages/arch/univariate/base.py:310: DataScaleWarning: y is poorly scaled, which may affect convergence of the optimizer when\n",
            "estimating the model parameters. The scale of y is 0.001532. Parameter\n",
            "estimation work better when this value is between 1 and 1000. The recommended\n",
            "rescaling is 10 * y.\n",
            "\n",
            "This warning can be disabled by either rescaling y before initializing the\n",
            "model or by setting rescale=False.\n",
            "\n",
            "  warnings.warn(\n"
          ]
        },
        {
          "output_type": "stream",
          "name": "stdout",
          "text": [
            "Iteration:      1,   Func. Count:      8,   Neg. LLF: 15203828.063879117\n",
            "Iteration:      2,   Func. Count:     21,   Neg. LLF: -580.3747908871696\n",
            "Iteration:      3,   Func. Count:     32,   Neg. LLF: -909.9734248159389\n",
            "Iteration:      4,   Func. Count:     41,   Neg. LLF: -1058.5915591975936\n",
            "Iteration:      5,   Func. Count:     49,   Neg. LLF: -1082.7091830578886\n",
            "Iteration:      6,   Func. Count:     57,   Neg. LLF: -1085.8609908800631\n",
            "Iteration:      7,   Func. Count:     65,   Neg. LLF: -1082.9080447757087\n",
            "Iteration:      8,   Func. Count:     73,   Neg. LLF: -1086.6104676775765\n",
            "Iteration:      9,   Func. Count:     81,   Neg. LLF: -1086.7380088396144\n",
            "Iteration:     10,   Func. Count:     88,   Neg. LLF: -1086.7390607926227\n",
            "Iteration:     11,   Func. Count:     95,   Neg. LLF: -1086.739372002243\n",
            "Iteration:     12,   Func. Count:    102,   Neg. LLF: -1086.7394016535231\n",
            "Iteration:     13,   Func. Count:    109,   Neg. LLF: -1086.7394041555904\n",
            "Iteration:     14,   Func. Count:    115,   Neg. LLF: -1086.7394041556558\n",
            "Optimization terminated successfully    (Exit mode 0)\n",
            "            Current function value: -1086.7394041555904\n",
            "            Iterations: 14\n",
            "            Function evaluations: 115\n",
            "            Gradient evaluations: 14\n"
          ]
        },
        {
          "output_type": "stream",
          "name": "stderr",
          "text": [
            "/usr/local/lib/python3.10/dist-packages/arch/univariate/base.py:310: DataScaleWarning: y is poorly scaled, which may affect convergence of the optimizer when\n",
            "estimating the model parameters. The scale of y is 0.001528. Parameter\n",
            "estimation work better when this value is between 1 and 1000. The recommended\n",
            "rescaling is 10 * y.\n",
            "\n",
            "This warning can be disabled by either rescaling y before initializing the\n",
            "model or by setting rescale=False.\n",
            "\n",
            "  warnings.warn(\n"
          ]
        },
        {
          "output_type": "stream",
          "name": "stdout",
          "text": [
            "Iteration:      1,   Func. Count:      8,   Neg. LLF: 15689756.126260411\n",
            "Iteration:      2,   Func. Count:     21,   Neg. LLF: -578.8565204222482\n",
            "Iteration:      3,   Func. Count:     32,   Neg. LLF: -904.7045373607998\n",
            "Iteration:      4,   Func. Count:     41,   Neg. LLF: -1059.4842481169976\n",
            "Iteration:      5,   Func. Count:     49,   Neg. LLF: -1083.7270566423383\n",
            "Iteration:      6,   Func. Count:     57,   Neg. LLF: -1086.9912917533402\n",
            "Iteration:      7,   Func. Count:     65,   Neg. LLF: -1076.447328219176\n",
            "Iteration:      8,   Func. Count:     73,   Neg. LLF: -1087.6451016428464\n",
            "Iteration:      9,   Func. Count:     81,   Neg. LLF: -1087.6875697586172\n",
            "Iteration:     10,   Func. Count:     88,   Neg. LLF: -1087.6861324920167\n",
            "Iteration:     11,   Func. Count:     96,   Neg. LLF: -1087.6924132648646\n",
            "Iteration:     12,   Func. Count:    103,   Neg. LLF: -1087.7168624192361\n",
            "Iteration:     13,   Func. Count:    110,   Neg. LLF: -1087.744362627764\n",
            "Iteration:     14,   Func. Count:    117,   Neg. LLF: -1087.7446061161068\n",
            "Iteration:     15,   Func. Count:    124,   Neg. LLF: -1087.7446342912979\n",
            "Iteration:     16,   Func. Count:    131,   Neg. LLF: -1087.7446448154467\n",
            "Iteration:     17,   Func. Count:    138,   Neg. LLF: -1087.7446482338542\n",
            "Iteration:     18,   Func. Count:    144,   Neg. LLF: -1087.7446482333366\n",
            "Optimization terminated successfully    (Exit mode 0)\n",
            "            Current function value: -1087.7446482338542\n",
            "            Iterations: 18\n",
            "            Function evaluations: 144\n",
            "            Gradient evaluations: 18\n"
          ]
        },
        {
          "output_type": "stream",
          "name": "stderr",
          "text": [
            "/usr/local/lib/python3.10/dist-packages/arch/univariate/base.py:310: DataScaleWarning: y is poorly scaled, which may affect convergence of the optimizer when\n",
            "estimating the model parameters. The scale of y is 0.001528. Parameter\n",
            "estimation work better when this value is between 1 and 1000. The recommended\n",
            "rescaling is 10 * y.\n",
            "\n",
            "This warning can be disabled by either rescaling y before initializing the\n",
            "model or by setting rescale=False.\n",
            "\n",
            "  warnings.warn(\n"
          ]
        },
        {
          "output_type": "stream",
          "name": "stdout",
          "text": [
            "Iteration:      1,   Func. Count:      8,   Neg. LLF: 16140662.348479742\n",
            "Iteration:      2,   Func. Count:     21,   Neg. LLF: -574.3236211716354\n",
            "Iteration:      3,   Func. Count:     32,   Neg. LLF: -907.3060289156904\n",
            "Iteration:      4,   Func. Count:     41,   Neg. LLF: -1058.7973612850724\n",
            "Iteration:      5,   Func. Count:     49,   Neg. LLF: -1084.8347674618653\n",
            "Iteration:      6,   Func. Count:     57,   Neg. LLF: -1087.9305484432039\n",
            "Iteration:      7,   Func. Count:     65,   Neg. LLF: -1077.8029569325217\n",
            "Iteration:      8,   Func. Count:     73,   Neg. LLF: -1088.4757129452257\n",
            "Iteration:      9,   Func. Count:     81,   Neg. LLF: -1088.5124680185224\n",
            "Iteration:     10,   Func. Count:     89,   Neg. LLF: -1088.5155772524536\n",
            "Iteration:     11,   Func. Count:     97,   Neg. LLF: -1088.5252930298768\n",
            "Iteration:     12,   Func. Count:    104,   Neg. LLF: -1088.5673476352335\n",
            "Iteration:     13,   Func. Count:    111,   Neg. LLF: -1088.5686141659041\n",
            "Iteration:     14,   Func. Count:    118,   Neg. LLF: -1088.5687141976246\n",
            "Iteration:     15,   Func. Count:    125,   Neg. LLF: -1088.5687422551568\n",
            "Iteration:     16,   Func. Count:    132,   Neg. LLF: -1088.5687448326353\n",
            "Iteration:     17,   Func. Count:    138,   Neg. LLF: -1088.5687448324932\n",
            "Optimization terminated successfully    (Exit mode 0)\n",
            "            Current function value: -1088.5687448326353\n",
            "            Iterations: 17\n",
            "            Function evaluations: 138\n",
            "            Gradient evaluations: 17\n"
          ]
        },
        {
          "output_type": "stream",
          "name": "stderr",
          "text": [
            "/usr/local/lib/python3.10/dist-packages/arch/univariate/base.py:310: DataScaleWarning: y is poorly scaled, which may affect convergence of the optimizer when\n",
            "estimating the model parameters. The scale of y is 0.001532. Parameter\n",
            "estimation work better when this value is between 1 and 1000. The recommended\n",
            "rescaling is 10 * y.\n",
            "\n",
            "This warning can be disabled by either rescaling y before initializing the\n",
            "model or by setting rescale=False.\n",
            "\n",
            "  warnings.warn(\n"
          ]
        },
        {
          "output_type": "stream",
          "name": "stdout",
          "text": [
            "Iteration:      1,   Func. Count:      8,   Neg. LLF: 91396911.65829177\n",
            "Iteration:      2,   Func. Count:     21,   Neg. LLF: 712.9428682303371\n",
            "Iteration:      3,   Func. Count:     31,   Neg. LLF: 9656382.734184064\n",
            "Iteration:      4,   Func. Count:     39,   Neg. LLF: -1017.7626198241182\n",
            "Iteration:      5,   Func. Count:     47,   Neg. LLF: -1075.9829188041429\n",
            "Iteration:      6,   Func. Count:     55,   Neg. LLF: -1075.6153798625908\n",
            "Iteration:      7,   Func. Count:     63,   Neg. LLF: -1008.734572953902\n",
            "Iteration:      8,   Func. Count:     71,   Neg. LLF: -1077.3006175889118\n",
            "Iteration:      9,   Func. Count:     79,   Neg. LLF: -1086.4060036079236\n",
            "Iteration:     10,   Func. Count:     86,   Neg. LLF: -1086.3776342879946\n",
            "Iteration:     11,   Func. Count:     94,   Neg. LLF: -1086.4233690945834\n",
            "Iteration:     12,   Func. Count:    101,   Neg. LLF: -1086.4302235761643\n",
            "Iteration:     13,   Func. Count:    108,   Neg. LLF: -1086.4302398411212\n",
            "Iteration:     14,   Func. Count:    115,   Neg. LLF: -1086.4302424878479\n",
            "Iteration:     15,   Func. Count:    121,   Neg. LLF: -1086.4302424874454\n",
            "Optimization terminated successfully    (Exit mode 0)\n",
            "            Current function value: -1086.4302424878479\n",
            "            Iterations: 15\n",
            "            Function evaluations: 121\n",
            "            Gradient evaluations: 15\n"
          ]
        },
        {
          "output_type": "stream",
          "name": "stderr",
          "text": [
            "/usr/local/lib/python3.10/dist-packages/arch/univariate/base.py:310: DataScaleWarning: y is poorly scaled, which may affect convergence of the optimizer when\n",
            "estimating the model parameters. The scale of y is 0.001535. Parameter\n",
            "estimation work better when this value is between 1 and 1000. The recommended\n",
            "rescaling is 10 * y.\n",
            "\n",
            "This warning can be disabled by either rescaling y before initializing the\n",
            "model or by setting rescale=False.\n",
            "\n",
            "  warnings.warn(\n"
          ]
        },
        {
          "output_type": "stream",
          "name": "stdout",
          "text": [
            "Iteration:      1,   Func. Count:      8,   Neg. LLF: 241449873.99137345\n",
            "Iteration:      2,   Func. Count:     21,   Neg. LLF: -203.6749883776524\n",
            "Iteration:      3,   Func. Count:     32,   Neg. LLF: 674.5113694224053\n",
            "Iteration:      4,   Func. Count:     43,   Neg. LLF: -915.307998497254\n",
            "Iteration:      5,   Func. Count:     52,   Neg. LLF: -872.0357751114813\n",
            "Iteration:      6,   Func. Count:     61,   Neg. LLF: -1070.9785648384752\n",
            "Iteration:      7,   Func. Count:     69,   Neg. LLF: -1075.8881007213577\n",
            "Iteration:      8,   Func. Count:     77,   Neg. LLF: -1002.928299022581\n",
            "Iteration:      9,   Func. Count:     85,   Neg. LLF: -1084.673056770408\n",
            "Iteration:     10,   Func. Count:     92,   Neg. LLF: -1083.8804775153817\n",
            "Iteration:     11,   Func. Count:    100,   Neg. LLF: -1080.7350421353253\n",
            "Iteration:     12,   Func. Count:    108,   Neg. LLF: -1085.2338539884795\n",
            "Iteration:     13,   Func. Count:    115,   Neg. LLF: -1085.2545131363263\n",
            "Iteration:     14,   Func. Count:    122,   Neg. LLF: -1085.2558002114006\n",
            "Iteration:     15,   Func. Count:    129,   Neg. LLF: -1085.255902402863\n",
            "Iteration:     16,   Func. Count:    136,   Neg. LLF: -1085.255906396153\n",
            "Iteration:     17,   Func. Count:    142,   Neg. LLF: -1085.2559063955719\n",
            "Optimization terminated successfully    (Exit mode 0)\n",
            "            Current function value: -1085.255906396153\n",
            "            Iterations: 17\n",
            "            Function evaluations: 142\n",
            "            Gradient evaluations: 17\n"
          ]
        },
        {
          "output_type": "stream",
          "name": "stderr",
          "text": [
            "/usr/local/lib/python3.10/dist-packages/arch/univariate/base.py:310: DataScaleWarning: y is poorly scaled, which may affect convergence of the optimizer when\n",
            "estimating the model parameters. The scale of y is 0.001516. Parameter\n",
            "estimation work better when this value is between 1 and 1000. The recommended\n",
            "rescaling is 10 * y.\n",
            "\n",
            "This warning can be disabled by either rescaling y before initializing the\n",
            "model or by setting rescale=False.\n",
            "\n",
            "  warnings.warn(\n"
          ]
        },
        {
          "output_type": "stream",
          "name": "stdout",
          "text": [
            "Iteration:      1,   Func. Count:      9,   Neg. LLF: 15874427.842015507\n",
            "Iteration:      2,   Func. Count:     23,   Neg. LLF: -698.7373288341055\n",
            "Iteration:      3,   Func. Count:     35,   Neg. LLF: -867.9917192472167\n",
            "Iteration:      4,   Func. Count:     45,   Neg. LLF: -1025.8188552940032\n",
            "Iteration:      5,   Func. Count:     55,   Neg. LLF: -1064.4687161309284\n",
            "Iteration:      6,   Func. Count:     64,   Neg. LLF: -1082.4797495930445\n",
            "Iteration:      7,   Func. Count:     73,   Neg. LLF: -1088.7300564226323\n",
            "Iteration:      8,   Func. Count:     82,   Neg. LLF: -1091.8238273325776\n",
            "Iteration:      9,   Func. Count:     90,   Neg. LLF: -1088.8972591561123\n",
            "Iteration:     10,   Func. Count:     99,   Neg. LLF: -1078.6626992752658\n",
            "Iteration:     11,   Func. Count:    108,   Neg. LLF: -1092.213984570901\n",
            "Iteration:     12,   Func. Count:    116,   Neg. LLF: -1092.2470912418592\n",
            "Iteration:     13,   Func. Count:    124,   Neg. LLF: -1092.24766651847\n",
            "Iteration:     14,   Func. Count:    132,   Neg. LLF: -1092.247740839111\n",
            "Iteration:     15,   Func. Count:    140,   Neg. LLF: -1092.2477408384404\n",
            "Optimization terminated successfully    (Exit mode 0)\n",
            "            Current function value: -1092.247741474502\n",
            "            Iterations: 15\n",
            "            Function evaluations: 141\n",
            "            Gradient evaluations: 15\n"
          ]
        },
        {
          "output_type": "stream",
          "name": "stderr",
          "text": [
            "/usr/local/lib/python3.10/dist-packages/arch/univariate/base.py:310: DataScaleWarning: y is poorly scaled, which may affect convergence of the optimizer when\n",
            "estimating the model parameters. The scale of y is 0.001524. Parameter\n",
            "estimation work better when this value is between 1 and 1000. The recommended\n",
            "rescaling is 10 * y.\n",
            "\n",
            "This warning can be disabled by either rescaling y before initializing the\n",
            "model or by setting rescale=False.\n",
            "\n",
            "  warnings.warn(\n"
          ]
        },
        {
          "output_type": "stream",
          "name": "stdout",
          "text": [
            "Iteration:      1,   Func. Count:      8,   Neg. LLF: 102997766.92677936\n",
            "Iteration:      2,   Func. Count:     21,   Neg. LLF: 720.8923347980497\n",
            "Iteration:      3,   Func. Count:     31,   Neg. LLF: 527013.3375459587\n",
            "Iteration:      4,   Func. Count:     39,   Neg. LLF: -1017.0891720447802\n",
            "Iteration:      5,   Func. Count:     47,   Neg. LLF: -1048.4157848591412\n",
            "Iteration:      6,   Func. Count:     55,   Neg. LLF: -1084.7873507079994\n",
            "Iteration:      7,   Func. Count:     63,   Neg. LLF: -1044.1238914295632\n",
            "Iteration:      8,   Func. Count:     71,   Neg. LLF: -1089.0570709110648\n",
            "Iteration:      9,   Func. Count:     79,   Neg. LLF: -1089.5095020344484\n",
            "Iteration:     10,   Func. Count:     86,   Neg. LLF: -1088.4648296675823\n",
            "Iteration:     11,   Func. Count:     94,   Neg. LLF: -1089.5431097029295\n",
            "Iteration:     12,   Func. Count:    101,   Neg. LLF: -1089.5501548908892\n",
            "Iteration:     13,   Func. Count:    108,   Neg. LLF: -1089.550432752641\n",
            "Iteration:     14,   Func. Count:    115,   Neg. LLF: -1089.5504937924138\n",
            "Iteration:     15,   Func. Count:    122,   Neg. LLF: -1089.5504964131374\n",
            "Iteration:     16,   Func. Count:    128,   Neg. LLF: -1089.5504964126462\n",
            "Optimization terminated successfully    (Exit mode 0)\n",
            "            Current function value: -1089.5504964131374\n",
            "            Iterations: 16\n",
            "            Function evaluations: 128\n",
            "            Gradient evaluations: 16\n"
          ]
        },
        {
          "output_type": "stream",
          "name": "stderr",
          "text": [
            "/usr/local/lib/python3.10/dist-packages/arch/univariate/base.py:310: DataScaleWarning: y is poorly scaled, which may affect convergence of the optimizer when\n",
            "estimating the model parameters. The scale of y is 0.001523. Parameter\n",
            "estimation work better when this value is between 1 and 1000. The recommended\n",
            "rescaling is 10 * y.\n",
            "\n",
            "This warning can be disabled by either rescaling y before initializing the\n",
            "model or by setting rescale=False.\n",
            "\n",
            "  warnings.warn(\n"
          ]
        },
        {
          "output_type": "stream",
          "name": "stdout",
          "text": [
            "Iteration:      1,   Func. Count:      8,   Neg. LLF: 220675083.31760898\n",
            "Iteration:      2,   Func. Count:     21,   Neg. LLF: 837.3755746476998\n",
            "Iteration:      3,   Func. Count:     31,   Neg. LLF: 9958570.499664137\n",
            "Iteration:      4,   Func. Count:     39,   Neg. LLF: -1016.5420555256267\n",
            "Iteration:      5,   Func. Count:     47,   Neg. LLF: -1067.548272979006\n",
            "Iteration:      6,   Func. Count:     55,   Neg. LLF: -1085.2854757105977\n",
            "Iteration:      7,   Func. Count:     63,   Neg. LLF: -1037.900361393203\n",
            "Iteration:      8,   Func. Count:     71,   Neg. LLF: -1078.6676702089617\n",
            "Iteration:      9,   Func. Count:     79,   Neg. LLF: -1089.2338500406154\n",
            "Iteration:     10,   Func. Count:     87,   Neg. LLF: -1089.5388683896572\n",
            "Iteration:     11,   Func. Count:     94,   Neg. LLF: -1086.04573101859\n",
            "Iteration:     12,   Func. Count:    102,   Neg. LLF: -1089.5888475008826\n",
            "Iteration:     13,   Func. Count:    109,   Neg. LLF: -1089.588953511939\n",
            "Iteration:     14,   Func. Count:    116,   Neg. LLF: -1089.5889606131573\n",
            "Iteration:     15,   Func. Count:    123,   Neg. LLF: -1089.5889608761217\n",
            "Optimization terminated successfully    (Exit mode 0)\n",
            "            Current function value: -1089.5889608761217\n",
            "            Iterations: 15\n",
            "            Function evaluations: 123\n",
            "            Gradient evaluations: 15\n"
          ]
        },
        {
          "output_type": "stream",
          "name": "stderr",
          "text": [
            "/usr/local/lib/python3.10/dist-packages/arch/univariate/base.py:310: DataScaleWarning: y is poorly scaled, which may affect convergence of the optimizer when\n",
            "estimating the model parameters. The scale of y is 0.001519. Parameter\n",
            "estimation work better when this value is between 1 and 1000. The recommended\n",
            "rescaling is 10 * y.\n",
            "\n",
            "This warning can be disabled by either rescaling y before initializing the\n",
            "model or by setting rescale=False.\n",
            "\n",
            "  warnings.warn(\n"
          ]
        },
        {
          "output_type": "stream",
          "name": "stdout",
          "text": [
            "Iteration:      1,   Func. Count:      8,   Neg. LLF: 274225988.02522385\n",
            "Iteration:      2,   Func. Count:     21,   Neg. LLF: -319.8616400007362\n",
            "Iteration:      3,   Func. Count:     32,   Neg. LLF: -936.8422679500566\n",
            "Iteration:      4,   Func. Count:     41,   Neg. LLF: -1057.9426944677825\n",
            "Iteration:      5,   Func. Count:     49,   Neg. LLF: -1077.0556914838232\n",
            "Iteration:      6,   Func. Count:     57,   Neg. LLF: -1053.241864504412\n",
            "Iteration:      7,   Func. Count:     65,   Neg. LLF: -1087.9641531833952\n",
            "Iteration:      8,   Func. Count:     74,   Neg. LLF: -1065.4771335533947\n",
            "Iteration:      9,   Func. Count:     82,   Neg. LLF: -1090.6675274097229\n",
            "Iteration:     10,   Func. Count:     89,   Neg. LLF: -1090.697645707931\n",
            "Iteration:     11,   Func. Count:     96,   Neg. LLF: -1090.7006672859434\n",
            "Iteration:     12,   Func. Count:    103,   Neg. LLF: -1090.706343717432\n",
            "Iteration:     13,   Func. Count:    110,   Neg. LLF: -1090.7063779094906\n",
            "Iteration:     14,   Func. Count:    117,   Neg. LLF: -1090.70637912072\n",
            "Iteration:     15,   Func. Count:    123,   Neg. LLF: -1090.7063791206947\n",
            "Optimization terminated successfully    (Exit mode 0)\n",
            "            Current function value: -1090.70637912072\n",
            "            Iterations: 15\n",
            "            Function evaluations: 123\n",
            "            Gradient evaluations: 15\n"
          ]
        },
        {
          "output_type": "stream",
          "name": "stderr",
          "text": [
            "/usr/local/lib/python3.10/dist-packages/arch/univariate/base.py:310: DataScaleWarning: y is poorly scaled, which may affect convergence of the optimizer when\n",
            "estimating the model parameters. The scale of y is 0.001524. Parameter\n",
            "estimation work better when this value is between 1 and 1000. The recommended\n",
            "rescaling is 10 * y.\n",
            "\n",
            "This warning can be disabled by either rescaling y before initializing the\n",
            "model or by setting rescale=False.\n",
            "\n",
            "  warnings.warn(\n"
          ]
        },
        {
          "output_type": "stream",
          "name": "stdout",
          "text": [
            "Iteration:      1,   Func. Count:      8,   Neg. LLF: 132800862.4139355\n",
            "Iteration:      2,   Func. Count:     21,   Neg. LLF: 824.7950014174905\n",
            "Iteration:      3,   Func. Count:     31,   Neg. LLF: 2672916.9313016543\n",
            "Iteration:      4,   Func. Count:     39,   Neg. LLF: -1065.5144352107477\n",
            "Iteration:      5,   Func. Count:     47,   Neg. LLF: -1050.8209744724454\n",
            "Iteration:      6,   Func. Count:     55,   Neg. LLF: -1086.7836040100456\n",
            "Iteration:      7,   Func. Count:     63,   Neg. LLF: 153486642.6513574\n",
            "Iteration:      8,   Func. Count:     71,   Neg. LLF: -1089.5883622389954\n",
            "Iteration:      9,   Func. Count:     79,   Neg. LLF: -1089.8849757657986\n",
            "Iteration:     10,   Func. Count:     86,   Neg. LLF: -1089.7678766087088\n",
            "Iteration:     11,   Func. Count:     94,   Neg. LLF: -1089.9097921515458\n",
            "Iteration:     12,   Func. Count:    101,   Neg. LLF: -1089.9170076458854\n",
            "Iteration:     13,   Func. Count:    108,   Neg. LLF: -1089.9170263901458\n",
            "Iteration:     14,   Func. Count:    114,   Neg. LLF: -1089.9170263910328\n",
            "Optimization terminated successfully    (Exit mode 0)\n",
            "            Current function value: -1089.9170263901458\n",
            "            Iterations: 14\n",
            "            Function evaluations: 114\n",
            "            Gradient evaluations: 14\n"
          ]
        },
        {
          "output_type": "stream",
          "name": "stderr",
          "text": [
            "/usr/local/lib/python3.10/dist-packages/arch/univariate/base.py:310: DataScaleWarning: y is poorly scaled, which may affect convergence of the optimizer when\n",
            "estimating the model parameters. The scale of y is 0.001519. Parameter\n",
            "estimation work better when this value is between 1 and 1000. The recommended\n",
            "rescaling is 10 * y.\n",
            "\n",
            "This warning can be disabled by either rescaling y before initializing the\n",
            "model or by setting rescale=False.\n",
            "\n",
            "  warnings.warn(\n"
          ]
        },
        {
          "output_type": "stream",
          "name": "stdout",
          "text": [
            "Iteration:      1,   Func. Count:      8,   Neg. LLF: 21906663.732225582\n",
            "Iteration:      2,   Func. Count:     21,   Neg. LLF: -600.0422979467535\n",
            "Iteration:      3,   Func. Count:     32,   Neg. LLF: -922.9087939685251\n",
            "Iteration:      4,   Func. Count:     41,   Neg. LLF: -1061.5385801011155\n",
            "Iteration:      5,   Func. Count:     49,   Neg. LLF: -1085.5324357944023\n",
            "Iteration:      6,   Func. Count:     57,   Neg. LLF: -967.9974207864\n",
            "Iteration:      7,   Func. Count:     65,   Neg. LLF: -1086.4160149522304\n",
            "Iteration:      8,   Func. Count:     73,   Neg. LLF: -1089.7282842010386\n",
            "Iteration:      9,   Func. Count:     81,   Neg. LLF: -1087.7425596830558\n",
            "Iteration:     10,   Func. Count:     89,   Neg. LLF: -1089.8361339286723\n",
            "Iteration:     11,   Func. Count:     96,   Neg. LLF: -1089.875500500556\n",
            "Iteration:     12,   Func. Count:    103,   Neg. LLF: -1089.8809640533727\n",
            "Iteration:     13,   Func. Count:    110,   Neg. LLF: -1089.8840585323114\n",
            "Iteration:     14,   Func. Count:    117,   Neg. LLF: -1089.8868465471487\n",
            "Iteration:     15,   Func. Count:    124,   Neg. LLF: -1089.8874501243502\n",
            "Iteration:     16,   Func. Count:    131,   Neg. LLF: -1089.8875060089906\n",
            "Iteration:     17,   Func. Count:    137,   Neg. LLF: -1089.8875060088374\n",
            "Optimization terminated successfully    (Exit mode 0)\n",
            "            Current function value: -1089.8875060089906\n",
            "            Iterations: 17\n",
            "            Function evaluations: 137\n",
            "            Gradient evaluations: 17\n"
          ]
        },
        {
          "output_type": "stream",
          "name": "stderr",
          "text": [
            "/usr/local/lib/python3.10/dist-packages/arch/univariate/base.py:310: DataScaleWarning: y is poorly scaled, which may affect convergence of the optimizer when\n",
            "estimating the model parameters. The scale of y is 0.00152. Parameter\n",
            "estimation work better when this value is between 1 and 1000. The recommended\n",
            "rescaling is 10 * y.\n",
            "\n",
            "This warning can be disabled by either rescaling y before initializing the\n",
            "model or by setting rescale=False.\n",
            "\n",
            "  warnings.warn(\n"
          ]
        },
        {
          "output_type": "stream",
          "name": "stdout",
          "text": [
            "Iteration:      1,   Func. Count:      8,   Neg. LLF: 19677093.312486812\n",
            "Iteration:      2,   Func. Count:     21,   Neg. LLF: -530.3682544692683\n",
            "Iteration:      3,   Func. Count:     32,   Neg. LLF: -925.4751365399345\n",
            "Iteration:      4,   Func. Count:     41,   Neg. LLF: -1061.166974123968\n",
            "Iteration:      5,   Func. Count:     49,   Neg. LLF: -1087.5558079676348\n",
            "Iteration:      6,   Func. Count:     57,   Neg. LLF: -997.1468786349798\n",
            "Iteration:      7,   Func. Count:     65,   Neg. LLF: -1088.5143995687436\n",
            "Iteration:      8,   Func. Count:     73,   Neg. LLF: -1092.0432653840444\n",
            "Iteration:      9,   Func. Count:     81,   Neg. LLF: -1089.327539583393\n",
            "Iteration:     10,   Func. Count:     89,   Neg. LLF: -1092.1430847798756\n",
            "Iteration:     11,   Func. Count:     96,   Neg. LLF: -1092.1975142979234\n",
            "Iteration:     12,   Func. Count:    103,   Neg. LLF: -1092.1992518005686\n",
            "Iteration:     13,   Func. Count:    110,   Neg. LLF: -1092.2027043172434\n",
            "Iteration:     14,   Func. Count:    117,   Neg. LLF: -1092.202760415742\n",
            "Iteration:     15,   Func. Count:    124,   Neg. LLF: -1092.2027627178659\n",
            "Iteration:     16,   Func. Count:    130,   Neg. LLF: -1092.202762717564\n",
            "Optimization terminated successfully    (Exit mode 0)\n",
            "            Current function value: -1092.2027627178659\n",
            "            Iterations: 16\n",
            "            Function evaluations: 130\n",
            "            Gradient evaluations: 16\n"
          ]
        },
        {
          "output_type": "stream",
          "name": "stderr",
          "text": [
            "/usr/local/lib/python3.10/dist-packages/arch/univariate/base.py:310: DataScaleWarning: y is poorly scaled, which may affect convergence of the optimizer when\n",
            "estimating the model parameters. The scale of y is 0.001523. Parameter\n",
            "estimation work better when this value is between 1 and 1000. The recommended\n",
            "rescaling is 10 * y.\n",
            "\n",
            "This warning can be disabled by either rescaling y before initializing the\n",
            "model or by setting rescale=False.\n",
            "\n",
            "  warnings.warn(\n"
          ]
        },
        {
          "output_type": "stream",
          "name": "stdout",
          "text": [
            "Iteration:      1,   Func. Count:      8,   Neg. LLF: 6079694.11166639\n",
            "Iteration:      2,   Func. Count:     21,   Neg. LLF: -521.0664173785409\n",
            "Iteration:      3,   Func. Count:     33,   Neg. LLF: -1033.103999201943\n",
            "Iteration:      4,   Func. Count:     43,   Neg. LLF: -956.7616784428644\n",
            "Iteration:      5,   Func. Count:     51,   Neg. LLF: -1085.8421129874232\n",
            "Iteration:      6,   Func. Count:     59,   Neg. LLF: -1085.6678807639637\n",
            "Iteration:      7,   Func. Count:     67,   Neg. LLF: -1061.0604091716077\n",
            "Iteration:      8,   Func. Count:     75,   Neg. LLF: -1089.9927578678862\n",
            "Iteration:      9,   Func. Count:     82,   Neg. LLF: -1089.7307705012015\n",
            "Iteration:     10,   Func. Count:     90,   Neg. LLF: -1090.0905793012423\n",
            "Iteration:     11,   Func. Count:     97,   Neg. LLF: -1090.104668441798\n",
            "Iteration:     12,   Func. Count:    104,   Neg. LLF: -1090.1047244960564\n",
            "Iteration:     13,   Func. Count:    111,   Neg. LLF: -1090.1047445209294\n",
            "Iteration:     14,   Func. Count:    118,   Neg. LLF: -1090.1047479379133\n",
            "Iteration:     15,   Func. Count:    124,   Neg. LLF: -1090.1047479372442\n",
            "Optimization terminated successfully    (Exit mode 0)\n",
            "            Current function value: -1090.1047479379133\n",
            "            Iterations: 15\n",
            "            Function evaluations: 124\n",
            "            Gradient evaluations: 15\n"
          ]
        },
        {
          "output_type": "stream",
          "name": "stderr",
          "text": [
            "/usr/local/lib/python3.10/dist-packages/arch/univariate/base.py:310: DataScaleWarning: y is poorly scaled, which may affect convergence of the optimizer when\n",
            "estimating the model parameters. The scale of y is 0.001516. Parameter\n",
            "estimation work better when this value is between 1 and 1000. The recommended\n",
            "rescaling is 10 * y.\n",
            "\n",
            "This warning can be disabled by either rescaling y before initializing the\n",
            "model or by setting rescale=False.\n",
            "\n",
            "  warnings.warn(\n"
          ]
        },
        {
          "output_type": "stream",
          "name": "stdout",
          "text": [
            "Iteration:      1,   Func. Count:      8,   Neg. LLF: 281582881.8793344\n",
            "Iteration:      2,   Func. Count:     21,   Neg. LLF: -560.3762999680198\n",
            "Iteration:      3,   Func. Count:     32,   Neg. LLF: -928.2663090183561\n",
            "Iteration:      4,   Func. Count:     41,   Neg. LLF: -1062.3477196161466\n",
            "Iteration:      5,   Func. Count:     49,   Neg. LLF: -1087.1157601986542\n",
            "Iteration:      6,   Func. Count:     57,   Neg. LLF: -983.338174549943\n",
            "Iteration:      7,   Func. Count:     65,   Neg. LLF: -1086.8410715137297\n",
            "Iteration:      8,   Func. Count:     73,   Neg. LLF: -1090.9067624963525\n",
            "Iteration:      9,   Func. Count:     81,   Neg. LLF: -1090.9061239451898\n",
            "Iteration:     10,   Func. Count:     89,   Neg. LLF: -1091.089525490852\n",
            "Iteration:     11,   Func. Count:     97,   Neg. LLF: -1091.1799075718286\n",
            "Iteration:     12,   Func. Count:    104,   Neg. LLF: -1090.377229565383\n",
            "Iteration:     13,   Func. Count:    112,   Neg. LLF: -1091.2901849777834\n",
            "Iteration:     14,   Func. Count:    119,   Neg. LLF: -1091.3362166080415\n",
            "Iteration:     15,   Func. Count:    126,   Neg. LLF: -1091.3518237504748\n",
            "Iteration:     16,   Func. Count:    133,   Neg. LLF: -1091.3524207734129\n",
            "Iteration:     17,   Func. Count:    140,   Neg. LLF: -1091.3528235284466\n",
            "Iteration:     18,   Func. Count:    147,   Neg. LLF: -1091.3528287597107\n",
            "Iteration:     19,   Func. Count:    153,   Neg. LLF: -1091.3528287593144\n",
            "Optimization terminated successfully    (Exit mode 0)\n",
            "            Current function value: -1091.3528287597107\n",
            "            Iterations: 19\n",
            "            Function evaluations: 153\n",
            "            Gradient evaluations: 19\n"
          ]
        },
        {
          "output_type": "stream",
          "name": "stderr",
          "text": [
            "/usr/local/lib/python3.10/dist-packages/arch/univariate/base.py:310: DataScaleWarning: y is poorly scaled, which may affect convergence of the optimizer when\n",
            "estimating the model parameters. The scale of y is 0.001522. Parameter\n",
            "estimation work better when this value is between 1 and 1000. The recommended\n",
            "rescaling is 10 * y.\n",
            "\n",
            "This warning can be disabled by either rescaling y before initializing the\n",
            "model or by setting rescale=False.\n",
            "\n",
            "  warnings.warn(\n"
          ]
        },
        {
          "output_type": "stream",
          "name": "stdout",
          "text": [
            "Iteration:      1,   Func. Count:      8,   Neg. LLF: 5873591.899574584\n",
            "Iteration:      2,   Func. Count:     21,   Neg. LLF: -526.8065078055047\n",
            "Iteration:      3,   Func. Count:     33,   Neg. LLF: -1032.875827908857\n",
            "Iteration:      4,   Func. Count:     43,   Neg. LLF: -959.0187099765195\n",
            "Iteration:      5,   Func. Count:     51,   Neg. LLF: -1086.1550157647564\n",
            "Iteration:      6,   Func. Count:     59,   Neg. LLF: -1086.0552426298505\n",
            "Iteration:      7,   Func. Count:     67,   Neg. LLF: -1061.3843295877205\n",
            "Iteration:      8,   Func. Count:     75,   Neg. LLF: -1090.396974868726\n",
            "Iteration:      9,   Func. Count:     82,   Neg. LLF: -1090.1857144116148\n",
            "Iteration:     10,   Func. Count:     90,   Neg. LLF: -1090.5305690326988\n",
            "Iteration:     11,   Func. Count:     97,   Neg. LLF: -1090.5634151856088\n",
            "Iteration:     12,   Func. Count:    104,   Neg. LLF: -1090.5636420798926\n",
            "Iteration:     13,   Func. Count:    111,   Neg. LLF: -1090.5637175864574\n",
            "Iteration:     14,   Func. Count:    118,   Neg. LLF: -1090.5637399088534\n",
            "Iteration:     15,   Func. Count:    125,   Neg. LLF: -1090.5637411470768\n",
            "Iteration:     16,   Func. Count:    131,   Neg. LLF: -1090.5637411469606\n",
            "Optimization terminated successfully    (Exit mode 0)\n",
            "            Current function value: -1090.5637411470768\n",
            "            Iterations: 16\n",
            "            Function evaluations: 131\n",
            "            Gradient evaluations: 16\n"
          ]
        },
        {
          "output_type": "stream",
          "name": "stderr",
          "text": [
            "/usr/local/lib/python3.10/dist-packages/arch/univariate/base.py:310: DataScaleWarning: y is poorly scaled, which may affect convergence of the optimizer when\n",
            "estimating the model parameters. The scale of y is 0.001523. Parameter\n",
            "estimation work better when this value is between 1 and 1000. The recommended\n",
            "rescaling is 10 * y.\n",
            "\n",
            "This warning can be disabled by either rescaling y before initializing the\n",
            "model or by setting rescale=False.\n",
            "\n",
            "  warnings.warn(\n"
          ]
        },
        {
          "output_type": "stream",
          "name": "stdout",
          "text": [
            "Iteration:      1,   Func. Count:      8,   Neg. LLF: 209705981.16693428\n",
            "Iteration:      2,   Func. Count:     21,   Neg. LLF: 165071.76650734665\n",
            "Iteration:      3,   Func. Count:     30,   Neg. LLF: 1188.002488426348\n",
            "Iteration:      4,   Func. Count:     40,   Neg. LLF: 14152403.365547182\n",
            "Iteration:      5,   Func. Count:     53,   Neg. LLF: 2176.257621757671\n",
            "Iteration:      6,   Func. Count:     63,   Neg. LLF: 395.56767852098477\n",
            "Iteration:      7,   Func. Count:     74,   Neg. LLF: 56.553628936609485\n",
            "Iteration:      8,   Func. Count:     84,   Neg. LLF: -905.0596644367632\n",
            "Iteration:      9,   Func. Count:     93,   Neg. LLF: -1087.3000800006278\n",
            "Iteration:     10,   Func. Count:    100,   Neg. LLF: -1012.2438620166909\n",
            "Iteration:     11,   Func. Count:    108,   Neg. LLF: -1047.8930455538275\n",
            "Iteration:     12,   Func. Count:    117,   Neg. LLF: -1082.4140573301206\n",
            "Iteration:     13,   Func. Count:    126,   Neg. LLF: -1087.6188462418286\n",
            "Iteration:     14,   Func. Count:    134,   Neg. LLF: -1089.8838410329058\n",
            "Iteration:     15,   Func. Count:    141,   Neg. LLF: -1089.8863155360568\n",
            "Iteration:     16,   Func. Count:    148,   Neg. LLF: -1089.8866254175098\n",
            "Iteration:     17,   Func. Count:    155,   Neg. LLF: -1089.8866310318667\n",
            "Iteration:     18,   Func. Count:    161,   Neg. LLF: -1089.8866310314977\n",
            "Optimization terminated successfully    (Exit mode 0)\n",
            "            Current function value: -1089.8866310318667\n",
            "            Iterations: 19\n",
            "            Function evaluations: 161\n",
            "            Gradient evaluations: 18\n"
          ]
        },
        {
          "output_type": "stream",
          "name": "stderr",
          "text": [
            "/usr/local/lib/python3.10/dist-packages/arch/univariate/base.py:310: DataScaleWarning: y is poorly scaled, which may affect convergence of the optimizer when\n",
            "estimating the model parameters. The scale of y is 0.001522. Parameter\n",
            "estimation work better when this value is between 1 and 1000. The recommended\n",
            "rescaling is 10 * y.\n",
            "\n",
            "This warning can be disabled by either rescaling y before initializing the\n",
            "model or by setting rescale=False.\n",
            "\n",
            "  warnings.warn(\n"
          ]
        },
        {
          "output_type": "stream",
          "name": "stdout",
          "text": [
            "Iteration:      1,   Func. Count:      8,   Neg. LLF: 1017082487.1894753\n",
            "Iteration:      2,   Func. Count:     21,   Neg. LLF: -1021.4198877916583\n",
            "Iteration:      3,   Func. Count:     31,   Neg. LLF: 3113.172982978379\n",
            "Iteration:      4,   Func. Count:     40,   Neg. LLF: 2458.544528455095\n",
            "Iteration:      5,   Func. Count:     50,   Neg. LLF: -703.2622963541083\n",
            "Iteration:      6,   Func. Count:     61,   Neg. LLF: 1567695811.79711\n",
            "Iteration:      7,   Func. Count:     74,   Neg. LLF: 270186451.6333676\n",
            "Iteration:      8,   Func. Count:     84,   Neg. LLF: -1052.4002159805627\n",
            "Iteration:      9,   Func. Count:     94,   Neg. LLF: -945.3534646846639\n",
            "Iteration:     10,   Func. Count:    103,   Neg. LLF: -974.8085607827879\n",
            "Iteration:     11,   Func. Count:    112,   Neg. LLF: 105931980.47157398\n",
            "Iteration:     12,   Func. Count:    120,   Neg. LLF: -1087.7662035504516\n",
            "Iteration:     13,   Func. Count:    128,   Neg. LLF: -1082.1866502827133\n",
            "Iteration:     14,   Func. Count:    136,   Neg. LLF: -1090.885403500566\n",
            "Iteration:     15,   Func. Count:    144,   Neg. LLF: -1090.3151532337306\n",
            "Iteration:     16,   Func. Count:    152,   Neg. LLF: -1091.29172528667\n",
            "Iteration:     17,   Func. Count:    159,   Neg. LLF: -1091.3144791282848\n",
            "Iteration:     18,   Func. Count:    166,   Neg. LLF: -1091.3151728364703\n",
            "Iteration:     19,   Func. Count:    173,   Neg. LLF: -1091.315180678829\n",
            "Iteration:     20,   Func. Count:    179,   Neg. LLF: -1091.315180678241\n",
            "Optimization terminated successfully    (Exit mode 0)\n",
            "            Current function value: -1091.315180678829\n",
            "            Iterations: 21\n",
            "            Function evaluations: 179\n",
            "            Gradient evaluations: 20\n"
          ]
        },
        {
          "output_type": "stream",
          "name": "stderr",
          "text": [
            "/usr/local/lib/python3.10/dist-packages/arch/univariate/base.py:310: DataScaleWarning: y is poorly scaled, which may affect convergence of the optimizer when\n",
            "estimating the model parameters. The scale of y is 0.001522. Parameter\n",
            "estimation work better when this value is between 1 and 1000. The recommended\n",
            "rescaling is 10 * y.\n",
            "\n",
            "This warning can be disabled by either rescaling y before initializing the\n",
            "model or by setting rescale=False.\n",
            "\n",
            "  warnings.warn(\n"
          ]
        },
        {
          "output_type": "stream",
          "name": "stdout",
          "text": [
            "Iteration:      1,   Func. Count:      8,   Neg. LLF: 266170312.50513095\n",
            "Iteration:      2,   Func. Count:     21,   Neg. LLF: -1023.9784758918671\n",
            "Iteration:      3,   Func. Count:     31,   Neg. LLF: -1013.3565874938956\n",
            "Iteration:      4,   Func. Count:     39,   Neg. LLF: -1090.3947024113677\n",
            "Optimization terminated successfully    (Exit mode 0)\n",
            "            Current function value: -1090.3947039433988\n",
            "            Iterations: 8\n",
            "            Function evaluations: 39\n",
            "            Gradient evaluations: 4\n"
          ]
        },
        {
          "output_type": "stream",
          "name": "stderr",
          "text": [
            "/usr/local/lib/python3.10/dist-packages/arch/univariate/base.py:310: DataScaleWarning: y is poorly scaled, which may affect convergence of the optimizer when\n",
            "estimating the model parameters. The scale of y is 0.001515. Parameter\n",
            "estimation work better when this value is between 1 and 1000. The recommended\n",
            "rescaling is 10 * y.\n",
            "\n",
            "This warning can be disabled by either rescaling y before initializing the\n",
            "model or by setting rescale=False.\n",
            "\n",
            "  warnings.warn(\n"
          ]
        },
        {
          "output_type": "stream",
          "name": "stdout",
          "text": [
            "Iteration:      1,   Func. Count:      8,   Neg. LLF: 394889163.443048\n",
            "Iteration:      2,   Func. Count:     21,   Neg. LLF: 351256308.12342083\n",
            "Iteration:      3,   Func. Count:     31,   Neg. LLF: -1014.297915649456\n",
            "Iteration:      4,   Func. Count:     41,   Neg. LLF: -790.8842979742385\n",
            "Iteration:      5,   Func. Count:     50,   Neg. LLF: -820.6488719727495\n",
            "Iteration:      6,   Func. Count:     61,   Neg. LLF: -1027.7436466633176\n",
            "Iteration:      7,   Func. Count:     73,   Neg. LLF: -1056.8768945132242\n",
            "Iteration:      8,   Func. Count:     82,   Neg. LLF: -669.6083183698818\n",
            "Iteration:      9,   Func. Count:     92,   Neg. LLF: -774.9291325396616\n",
            "Iteration:     10,   Func. Count:    101,   Neg. LLF: 6965.336157822641\n",
            "Iteration:     11,   Func. Count:    111,   Neg. LLF: -921.3165403492442\n",
            "Iteration:     12,   Func. Count:    119,   Neg. LLF: -1089.2563404885784\n",
            "Iteration:     13,   Func. Count:    127,   Neg. LLF: -1089.0153178421342\n",
            "Iteration:     14,   Func. Count:    135,   Neg. LLF: -1091.8365411691182\n",
            "Iteration:     15,   Func. Count:    143,   Neg. LLF: -1093.321600998784\n",
            "Iteration:     16,   Func. Count:    151,   Neg. LLF: -1093.6358672252404\n",
            "Iteration:     17,   Func. Count:    158,   Neg. LLF: -1093.649133011555\n",
            "Iteration:     18,   Func. Count:    165,   Neg. LLF: -1093.6511693495831\n",
            "Iteration:     19,   Func. Count:    172,   Neg. LLF: -1093.6511858333104\n",
            "Iteration:     20,   Func. Count:    178,   Neg. LLF: -1093.6511858340189\n",
            "Optimization terminated successfully    (Exit mode 0)\n",
            "            Current function value: -1093.6511858333104\n",
            "            Iterations: 20\n",
            "            Function evaluations: 178\n",
            "            Gradient evaluations: 20\n"
          ]
        },
        {
          "output_type": "stream",
          "name": "stderr",
          "text": [
            "/usr/local/lib/python3.10/dist-packages/arch/univariate/base.py:310: DataScaleWarning: y is poorly scaled, which may affect convergence of the optimizer when\n",
            "estimating the model parameters. The scale of y is 0.001505. Parameter\n",
            "estimation work better when this value is between 1 and 1000. The recommended\n",
            "rescaling is 10 * y.\n",
            "\n",
            "This warning can be disabled by either rescaling y before initializing the\n",
            "model or by setting rescale=False.\n",
            "\n",
            "  warnings.warn(\n"
          ]
        },
        {
          "output_type": "stream",
          "name": "stdout",
          "text": [
            "Iteration:      1,   Func. Count:      9,   Neg. LLF: 13090894.929807043\n",
            "Iteration:      2,   Func. Count:     23,   Neg. LLF: -587.5423916735363\n",
            "Iteration:      3,   Func. Count:     35,   Neg. LLF: -886.2886890064392\n",
            "Iteration:      4,   Func. Count:     45,   Neg. LLF: -1032.8860562413724\n",
            "Iteration:      5,   Func. Count:     54,   Neg. LLF: -1093.3480551388707\n",
            "Iteration:      6,   Func. Count:     63,   Neg. LLF: -1077.3276052403296\n",
            "Iteration:      7,   Func. Count:     72,   Neg. LLF: -1080.9205555388335\n",
            "Iteration:      8,   Func. Count:     81,   Neg. LLF: -1081.5330599120666\n",
            "Iteration:      9,   Func. Count:     90,   Neg. LLF: -1093.0489451748642\n",
            "Iteration:     10,   Func. Count:     99,   Neg. LLF: -1097.5483528916075\n",
            "Iteration:     11,   Func. Count:    107,   Neg. LLF: -1097.5034577972087\n",
            "Iteration:     12,   Func. Count:    116,   Neg. LLF: -1097.615372836513\n",
            "Iteration:     13,   Func. Count:    124,   Neg. LLF: -1097.6181451555103\n",
            "Iteration:     14,   Func. Count:    132,   Neg. LLF: -1097.6184003554877\n",
            "Iteration:     15,   Func. Count:    140,   Neg. LLF: -1097.618417719821\n",
            "Iteration:     16,   Func. Count:    147,   Neg. LLF: -1097.6184177197822\n",
            "Optimization terminated successfully    (Exit mode 0)\n",
            "            Current function value: -1097.618417719821\n",
            "            Iterations: 16\n",
            "            Function evaluations: 147\n",
            "            Gradient evaluations: 16\n"
          ]
        },
        {
          "output_type": "stream",
          "name": "stderr",
          "text": [
            "/usr/local/lib/python3.10/dist-packages/arch/univariate/base.py:310: DataScaleWarning: y is poorly scaled, which may affect convergence of the optimizer when\n",
            "estimating the model parameters. The scale of y is 0.001512. Parameter\n",
            "estimation work better when this value is between 1 and 1000. The recommended\n",
            "rescaling is 10 * y.\n",
            "\n",
            "This warning can be disabled by either rescaling y before initializing the\n",
            "model or by setting rescale=False.\n",
            "\n",
            "  warnings.warn(\n"
          ]
        },
        {
          "output_type": "stream",
          "name": "stdout",
          "text": [
            "Iteration:      1,   Func. Count:      8,   Neg. LLF: 5.01211739820355e+16\n",
            "Iteration:      2,   Func. Count:     21,   Neg. LLF: 402679118.5324359\n",
            "Iteration:      3,   Func. Count:     31,   Neg. LLF: -764.7242324163734\n",
            "Iteration:      4,   Func. Count:     40,   Neg. LLF: -759.1000679958154\n",
            "Iteration:      5,   Func. Count:     50,   Neg. LLF: -1054.1514202647566\n",
            "Iteration:      6,   Func. Count:     61,   Neg. LLF: -833.292449086073\n",
            "Iteration:      7,   Func. Count:     71,   Neg. LLF: 6536351164.911413\n",
            "Iteration:      8,   Func. Count:     84,   Neg. LLF: 309684222.2683266\n",
            "Iteration:      9,   Func. Count:     94,   Neg. LLF: -1013.6141680836017\n",
            "Iteration:     10,   Func. Count:    104,   Neg. LLF: -1013.732691463514\n",
            "Iteration:     11,   Func. Count:    113,   Neg. LLF: -121.33421760650927\n",
            "Iteration:     12,   Func. Count:    122,   Neg. LLF: -1073.4267305631156\n",
            "Iteration:     13,   Func. Count:    130,   Neg. LLF: -1091.2178414563389\n",
            "Iteration:     14,   Func. Count:    138,   Neg. LLF: -1071.8228050795456\n",
            "Iteration:     15,   Func. Count:    146,   Neg. LLF: -1094.5493828851959\n",
            "Iteration:     16,   Func. Count:    153,   Neg. LLF: -1094.5302703451596\n",
            "Iteration:     17,   Func. Count:    161,   Neg. LLF: -1094.2934852178298\n",
            "Iteration:     18,   Func. Count:    169,   Neg. LLF: -1094.760495849935\n",
            "Iteration:     19,   Func. Count:    176,   Neg. LLF: -1094.7607101763672\n",
            "Iteration:     20,   Func. Count:    183,   Neg. LLF: -1094.7607107718172\n",
            "Optimization terminated successfully    (Exit mode 0)\n",
            "            Current function value: -1094.7607107718172\n",
            "            Iterations: 21\n",
            "            Function evaluations: 183\n",
            "            Gradient evaluations: 20\n"
          ]
        },
        {
          "output_type": "stream",
          "name": "stderr",
          "text": [
            "/usr/local/lib/python3.10/dist-packages/arch/univariate/base.py:310: DataScaleWarning: y is poorly scaled, which may affect convergence of the optimizer when\n",
            "estimating the model parameters. The scale of y is 0.001513. Parameter\n",
            "estimation work better when this value is between 1 and 1000. The recommended\n",
            "rescaling is 10 * y.\n",
            "\n",
            "This warning can be disabled by either rescaling y before initializing the\n",
            "model or by setting rescale=False.\n",
            "\n",
            "  warnings.warn(\n"
          ]
        },
        {
          "output_type": "stream",
          "name": "stdout",
          "text": [
            "Iteration:      1,   Func. Count:      8,   Neg. LLF: 103406149.82313499\n",
            "Iteration:      2,   Func. Count:     20,   Neg. LLF: -1094.7359184170302\n",
            "Optimization terminated successfully    (Exit mode 0)\n",
            "            Current function value: -1094.7359195524016\n",
            "            Iterations: 6\n",
            "            Function evaluations: 20\n",
            "            Gradient evaluations: 2\n"
          ]
        },
        {
          "output_type": "stream",
          "name": "stderr",
          "text": [
            "/usr/local/lib/python3.10/dist-packages/arch/univariate/base.py:310: DataScaleWarning: y is poorly scaled, which may affect convergence of the optimizer when\n",
            "estimating the model parameters. The scale of y is 0.001501. Parameter\n",
            "estimation work better when this value is between 1 and 1000. The recommended\n",
            "rescaling is 10 * y.\n",
            "\n",
            "This warning can be disabled by either rescaling y before initializing the\n",
            "model or by setting rescale=False.\n",
            "\n",
            "  warnings.warn(\n"
          ]
        },
        {
          "output_type": "stream",
          "name": "stdout",
          "text": [
            "Iteration:      1,   Func. Count:      9,   Neg. LLF: 130988818.99217013\n",
            "Iteration:      2,   Func. Count:     23,   Neg. LLF: 722009.299158459\n",
            "Iteration:      3,   Func. Count:     33,   Neg. LLF: -1050.4969441880492\n",
            "Iteration:      4,   Func. Count:     44,   Neg. LLF: -879.453960184466\n",
            "Iteration:      5,   Func. Count:     54,   Neg. LLF: -1066.3687187515288\n",
            "Iteration:      6,   Func. Count:     63,   Neg. LLF: -1095.0868740826545\n",
            "Iteration:      7,   Func. Count:     72,   Neg. LLF: -1093.3308044409782\n",
            "Iteration:      8,   Func. Count:     81,   Neg. LLF: -1078.1496361914913\n",
            "Iteration:      9,   Func. Count:     90,   Neg. LLF: -1093.1434693190226\n",
            "Iteration:     10,   Func. Count:     99,   Neg. LLF: -1099.7897219648237\n",
            "Iteration:     11,   Func. Count:    107,   Neg. LLF: -1081.1109105980222\n",
            "Iteration:     12,   Func. Count:    116,   Neg. LLF: -1095.847897948885\n",
            "Iteration:     13,   Func. Count:    125,   Neg. LLF: -1100.0936640698353\n",
            "Iteration:     14,   Func. Count:    133,   Neg. LLF: -1100.1255739464043\n",
            "Iteration:     15,   Func. Count:    141,   Neg. LLF: -1100.1269569135538\n",
            "Iteration:     16,   Func. Count:    149,   Neg. LLF: -1100.1270734801546\n",
            "Iteration:     17,   Func. Count:    157,   Neg. LLF: -1100.1270760922719\n",
            "Iteration:     18,   Func. Count:    164,   Neg. LLF: -1100.1270760922746\n",
            "Optimization terminated successfully    (Exit mode 0)\n",
            "            Current function value: -1100.1270760922719\n",
            "            Iterations: 18\n",
            "            Function evaluations: 164\n",
            "            Gradient evaluations: 18\n"
          ]
        },
        {
          "output_type": "stream",
          "name": "stderr",
          "text": [
            "/usr/local/lib/python3.10/dist-packages/arch/univariate/base.py:310: DataScaleWarning: y is poorly scaled, which may affect convergence of the optimizer when\n",
            "estimating the model parameters. The scale of y is 0.001511. Parameter\n",
            "estimation work better when this value is between 1 and 1000. The recommended\n",
            "rescaling is 10 * y.\n",
            "\n",
            "This warning can be disabled by either rescaling y before initializing the\n",
            "model or by setting rescale=False.\n",
            "\n",
            "  warnings.warn(\n"
          ]
        },
        {
          "output_type": "stream",
          "name": "stdout",
          "text": [
            "Iteration:      1,   Func. Count:      8,   Neg. LLF: 86975239.5569145\n",
            "Iteration:      2,   Func. Count:     21,   Neg. LLF: -257.62608294282865\n",
            "Iteration:      3,   Func. Count:     30,   Neg. LLF: -318.6342254817456\n",
            "Iteration:      4,   Func. Count:     42,   Neg. LLF: 977297595829366.0\n",
            "Iteration:      5,   Func. Count:     55,   Neg. LLF: -1040.0530569553646\n",
            "Iteration:      6,   Func. Count:     64,   Neg. LLF: -1095.313978099287\n",
            "Optimization terminated successfully    (Exit mode 0)\n",
            "            Current function value: -1095.3139789617514\n",
            "            Iterations: 10\n",
            "            Function evaluations: 64\n",
            "            Gradient evaluations: 6\n"
          ]
        },
        {
          "output_type": "stream",
          "name": "stderr",
          "text": [
            "/usr/local/lib/python3.10/dist-packages/arch/univariate/base.py:310: DataScaleWarning: y is poorly scaled, which may affect convergence of the optimizer when\n",
            "estimating the model parameters. The scale of y is 0.001504. Parameter\n",
            "estimation work better when this value is between 1 and 1000. The recommended\n",
            "rescaling is 10 * y.\n",
            "\n",
            "This warning can be disabled by either rescaling y before initializing the\n",
            "model or by setting rescale=False.\n",
            "\n",
            "  warnings.warn(\n"
          ]
        },
        {
          "output_type": "stream",
          "name": "stdout",
          "text": [
            "Iteration:      1,   Func. Count:      8,   Neg. LLF: 7899349.373492891\n",
            "Iteration:      2,   Func. Count:     20,   Neg. LLF: -1097.776807457375\n",
            "Optimization terminated successfully    (Exit mode 0)\n",
            "            Current function value: -1097.7768083028534\n",
            "            Iterations: 6\n",
            "            Function evaluations: 20\n",
            "            Gradient evaluations: 2\n"
          ]
        },
        {
          "output_type": "stream",
          "name": "stderr",
          "text": [
            "/usr/local/lib/python3.10/dist-packages/arch/univariate/base.py:310: DataScaleWarning: y is poorly scaled, which may affect convergence of the optimizer when\n",
            "estimating the model parameters. The scale of y is 0.001503. Parameter\n",
            "estimation work better when this value is between 1 and 1000. The recommended\n",
            "rescaling is 10 * y.\n",
            "\n",
            "This warning can be disabled by either rescaling y before initializing the\n",
            "model or by setting rescale=False.\n",
            "\n",
            "  warnings.warn(\n"
          ]
        },
        {
          "output_type": "stream",
          "name": "stdout",
          "text": [
            "Iteration:      1,   Func. Count:      8,   Neg. LLF: 9819714.790884329\n",
            "Iteration:      2,   Func. Count:     21,   Neg. LLF: 7075.613900431628\n",
            "Iteration:      3,   Func. Count:     32,   Neg. LLF: -1100.0684499311797\n",
            "Optimization terminated successfully    (Exit mode 0)\n",
            "            Current function value: -1100.068450967512\n",
            "            Iterations: 7\n",
            "            Function evaluations: 32\n",
            "            Gradient evaluations: 3\n"
          ]
        },
        {
          "output_type": "stream",
          "name": "stderr",
          "text": [
            "/usr/local/lib/python3.10/dist-packages/arch/univariate/base.py:310: DataScaleWarning: y is poorly scaled, which may affect convergence of the optimizer when\n",
            "estimating the model parameters. The scale of y is 0.001496. Parameter\n",
            "estimation work better when this value is between 1 and 1000. The recommended\n",
            "rescaling is 10 * y.\n",
            "\n",
            "This warning can be disabled by either rescaling y before initializing the\n",
            "model or by setting rescale=False.\n",
            "\n",
            "  warnings.warn(\n"
          ]
        },
        {
          "output_type": "stream",
          "name": "stdout",
          "text": [
            "Iteration:      1,   Func. Count:      8,   Neg. LLF: 8695509.869582817\n",
            "Iteration:      2,   Func. Count:     20,   Neg. LLF: -1100.9829507205013\n",
            "Optimization terminated successfully    (Exit mode 0)\n",
            "            Current function value: -1100.9829516220993\n",
            "            Iterations: 6\n",
            "            Function evaluations: 20\n",
            "            Gradient evaluations: 2\n"
          ]
        },
        {
          "output_type": "stream",
          "name": "stderr",
          "text": [
            "/usr/local/lib/python3.10/dist-packages/arch/univariate/base.py:310: DataScaleWarning: y is poorly scaled, which may affect convergence of the optimizer when\n",
            "estimating the model parameters. The scale of y is 0.001493. Parameter\n",
            "estimation work better when this value is between 1 and 1000. The recommended\n",
            "rescaling is 10 * y.\n",
            "\n",
            "This warning can be disabled by either rescaling y before initializing the\n",
            "model or by setting rescale=False.\n",
            "\n",
            "  warnings.warn(\n"
          ]
        },
        {
          "output_type": "stream",
          "name": "stdout",
          "text": [
            "Iteration:      1,   Func. Count:      8,   Neg. LLF: 66711505.72226666\n",
            "Iteration:      2,   Func. Count:     21,   Neg. LLF: 219228.7591816745\n",
            "Iteration:      3,   Func. Count:     30,   Neg. LLF: 2726.5830435998823\n",
            "Iteration:      4,   Func. Count:     41,   Neg. LLF: 843.1072227689308\n",
            "Iteration:      5,   Func. Count:     52,   Neg. LLF: 72666292.25754091\n",
            "Iteration:      6,   Func. Count:     65,   Neg. LLF: -1020.7460870780574\n",
            "Iteration:      7,   Func. Count:     73,   Neg. LLF: -1104.5785367239405\n",
            "Optimization terminated successfully    (Exit mode 0)\n",
            "            Current function value: -1104.57853683761\n",
            "            Iterations: 11\n",
            "            Function evaluations: 73\n",
            "            Gradient evaluations: 7\n"
          ]
        },
        {
          "output_type": "stream",
          "name": "stderr",
          "text": [
            "/usr/local/lib/python3.10/dist-packages/arch/univariate/base.py:310: DataScaleWarning: y is poorly scaled, which may affect convergence of the optimizer when\n",
            "estimating the model parameters. The scale of y is 0.001485. Parameter\n",
            "estimation work better when this value is between 1 and 1000. The recommended\n",
            "rescaling is 10 * y.\n",
            "\n",
            "This warning can be disabled by either rescaling y before initializing the\n",
            "model or by setting rescale=False.\n",
            "\n",
            "  warnings.warn(\n"
          ]
        },
        {
          "output_type": "stream",
          "name": "stdout",
          "text": [
            "Iteration:      1,   Func. Count:      8,   Neg. LLF: 6605423.213833322\n",
            "Iteration:      2,   Func. Count:     20,   Neg. LLF: -1104.2309697517153\n",
            "Optimization terminated successfully    (Exit mode 0)\n",
            "            Current function value: -1104.2309707443333\n",
            "            Iterations: 6\n",
            "            Function evaluations: 20\n",
            "            Gradient evaluations: 2\n"
          ]
        },
        {
          "output_type": "stream",
          "name": "stderr",
          "text": [
            "/usr/local/lib/python3.10/dist-packages/arch/univariate/base.py:310: DataScaleWarning: y is poorly scaled, which may affect convergence of the optimizer when\n",
            "estimating the model parameters. The scale of y is 0.001485. Parameter\n",
            "estimation work better when this value is between 1 and 1000. The recommended\n",
            "rescaling is 10 * y.\n",
            "\n",
            "This warning can be disabled by either rescaling y before initializing the\n",
            "model or by setting rescale=False.\n",
            "\n",
            "  warnings.warn(\n"
          ]
        },
        {
          "output_type": "stream",
          "name": "stdout",
          "text": [
            "Iteration:      1,   Func. Count:      8,   Neg. LLF: 6734437.34659327\n",
            "Iteration:      2,   Func. Count:     21,   Neg. LLF: 105.59158008376218\n",
            "Iteration:      3,   Func. Count:     30,   Neg. LLF: 104339804.14861852\n",
            "Iteration:      4,   Func. Count:     43,   Neg. LLF: 1623854.6297080566\n",
            "Iteration:      5,   Func. Count:     52,   Neg. LLF: -727.2123066897191\n",
            "Iteration:      6,   Func. Count:     64,   Neg. LLF: -1005.1470728271573\n",
            "Iteration:      7,   Func. Count:     75,   Neg. LLF: 569676745.8638449\n",
            "Iteration:      8,   Func. Count:     88,   Neg. LLF: 20648.316187957254\n",
            "Iteration:      9,   Func. Count:     98,   Neg. LLF: -922.7252288377915\n",
            "Iteration:     10,   Func. Count:    107,   Neg. LLF: 2457.030507135118\n",
            "Iteration:     11,   Func. Count:    117,   Neg. LLF: -1060.3138418482865\n",
            "Iteration:     12,   Func. Count:    126,   Neg. LLF: -1074.020448538994\n",
            "Iteration:     13,   Func. Count:    135,   Neg. LLF: -1047.4293287026085\n",
            "Iteration:     14,   Func. Count:    144,   Neg. LLF: -1102.33965251076\n",
            "Iteration:     15,   Func. Count:    152,   Neg. LLF: -1107.7527480561848\n",
            "Iteration:     16,   Func. Count:    159,   Neg. LLF: -1107.8247278372482\n",
            "Iteration:     17,   Func. Count:    166,   Neg. LLF: -1107.8394660911267\n",
            "Iteration:     18,   Func. Count:    173,   Neg. LLF: -1107.842475153695\n",
            "Iteration:     19,   Func. Count:    180,   Neg. LLF: -1107.8429480060695\n",
            "Iteration:     20,   Func. Count:    187,   Neg. LLF: -1107.843050418377\n",
            "Iteration:     21,   Func. Count:    194,   Neg. LLF: -1107.8430548565664\n",
            "Iteration:     22,   Func. Count:    200,   Neg. LLF: -1107.843054856609\n",
            "Optimization terminated successfully    (Exit mode 0)\n",
            "            Current function value: -1107.8430548565664\n",
            "            Iterations: 24\n",
            "            Function evaluations: 200\n",
            "            Gradient evaluations: 22\n"
          ]
        },
        {
          "output_type": "stream",
          "name": "stderr",
          "text": [
            "/usr/local/lib/python3.10/dist-packages/arch/univariate/base.py:310: DataScaleWarning: y is poorly scaled, which may affect convergence of the optimizer when\n",
            "estimating the model parameters. The scale of y is 0.001484. Parameter\n",
            "estimation work better when this value is between 1 and 1000. The recommended\n",
            "rescaling is 10 * y.\n",
            "\n",
            "This warning can be disabled by either rescaling y before initializing the\n",
            "model or by setting rescale=False.\n",
            "\n",
            "  warnings.warn(\n"
          ]
        },
        {
          "output_type": "stream",
          "name": "stdout",
          "text": [
            "Iteration:      1,   Func. Count:      8,   Neg. LLF: 9116064.929131461\n",
            "Iteration:      2,   Func. Count:     21,   Neg. LLF: 3941.6971780010945\n",
            "Iteration:      3,   Func. Count:     30,   Neg. LLF: -604.6312634390588\n",
            "Iteration:      4,   Func. Count:     39,   Neg. LLF: 7161915953422384.0\n",
            "Iteration:      5,   Func. Count:     52,   Neg. LLF: 180698778016.94974\n",
            "Iteration:      6,   Func. Count:     63,   Neg. LLF: 1702832.0178899453\n",
            "Iteration:      7,   Func. Count:     75,   Neg. LLF: -1108.9098696613664\n",
            "Optimization terminated successfully    (Exit mode 0)\n",
            "            Current function value: -1108.9098711304737\n",
            "            Iterations: 11\n",
            "            Function evaluations: 75\n",
            "            Gradient evaluations: 7\n"
          ]
        },
        {
          "output_type": "stream",
          "name": "stderr",
          "text": [
            "/usr/local/lib/python3.10/dist-packages/arch/univariate/base.py:310: DataScaleWarning: y is poorly scaled, which may affect convergence of the optimizer when\n",
            "estimating the model parameters. The scale of y is 0.001486. Parameter\n",
            "estimation work better when this value is between 1 and 1000. The recommended\n",
            "rescaling is 10 * y.\n",
            "\n",
            "This warning can be disabled by either rescaling y before initializing the\n",
            "model or by setting rescale=False.\n",
            "\n",
            "  warnings.warn(\n"
          ]
        },
        {
          "output_type": "stream",
          "name": "stdout",
          "text": [
            "Iteration:      1,   Func. Count:      8,   Neg. LLF: 51109309.093095146\n",
            "Iteration:      2,   Func. Count:     21,   Neg. LLF: 3699.361129023098\n",
            "Iteration:      3,   Func. Count:     32,   Neg. LLF: -1106.7456605510738\n",
            "Optimization terminated successfully    (Exit mode 0)\n",
            "            Current function value: -1106.7456619975192\n",
            "            Iterations: 7\n",
            "            Function evaluations: 32\n",
            "            Gradient evaluations: 3\n"
          ]
        },
        {
          "output_type": "stream",
          "name": "stderr",
          "text": [
            "/usr/local/lib/python3.10/dist-packages/arch/univariate/base.py:310: DataScaleWarning: y is poorly scaled, which may affect convergence of the optimizer when\n",
            "estimating the model parameters. The scale of y is 0.001479. Parameter\n",
            "estimation work better when this value is between 1 and 1000. The recommended\n",
            "rescaling is 10 * y.\n",
            "\n",
            "This warning can be disabled by either rescaling y before initializing the\n",
            "model or by setting rescale=False.\n",
            "\n",
            "  warnings.warn(\n"
          ]
        },
        {
          "output_type": "stream",
          "name": "stdout",
          "text": [
            "Iteration:      1,   Func. Count:      8,   Neg. LLF: 61971816.21610957\n",
            "Iteration:      2,   Func. Count:     20,   Neg. LLF: -1108.1956708282833\n",
            "Optimization terminated successfully    (Exit mode 0)\n",
            "            Current function value: -1108.195672245451\n",
            "            Iterations: 6\n",
            "            Function evaluations: 20\n",
            "            Gradient evaluations: 2\n"
          ]
        },
        {
          "output_type": "stream",
          "name": "stderr",
          "text": [
            "/usr/local/lib/python3.10/dist-packages/arch/univariate/base.py:310: DataScaleWarning: y is poorly scaled, which may affect convergence of the optimizer when\n",
            "estimating the model parameters. The scale of y is 0.001474. Parameter\n",
            "estimation work better when this value is between 1 and 1000. The recommended\n",
            "rescaling is 10 * y.\n",
            "\n",
            "This warning can be disabled by either rescaling y before initializing the\n",
            "model or by setting rescale=False.\n",
            "\n",
            "  warnings.warn(\n"
          ]
        },
        {
          "output_type": "stream",
          "name": "stdout",
          "text": [
            "Iteration:      1,   Func. Count:      8,   Neg. LLF: 8885424.734263705\n",
            "Iteration:      2,   Func. Count:     21,   Neg. LLF: 1013.0697279334585\n",
            "Iteration:      3,   Func. Count:     32,   Neg. LLF: 3404330.192376514\n",
            "Iteration:      4,   Func. Count:     45,   Neg. LLF: 1094.8242293572762\n",
            "Iteration:      5,   Func. Count:     56,   Neg. LLF: 4331.415284511996\n",
            "Iteration:      6,   Func. Count:     68,   Neg. LLF: 3867.6558989140667\n",
            "Iteration:      7,   Func. Count:     80,   Neg. LLF: 179586.62814651098\n",
            "Iteration:      8,   Func. Count:     93,   Neg. LLF: 5824.634912531334\n",
            "Iteration:      9,   Func. Count:    105,   Neg. LLF: 334.0190733748276\n",
            "Iteration:     10,   Func. Count:    115,   Neg. LLF: 2658.957527778889\n",
            "Iteration:     11,   Func. Count:    125,   Neg. LLF: -1110.6866768662462\n",
            "Optimization terminated successfully    (Exit mode 0)\n",
            "            Current function value: -1110.6866784530498\n",
            "            Iterations: 15\n",
            "            Function evaluations: 125\n",
            "            Gradient evaluations: 11\n"
          ]
        },
        {
          "output_type": "stream",
          "name": "stderr",
          "text": [
            "/usr/local/lib/python3.10/dist-packages/arch/univariate/base.py:310: DataScaleWarning: y is poorly scaled, which may affect convergence of the optimizer when\n",
            "estimating the model parameters. The scale of y is 0.001471. Parameter\n",
            "estimation work better when this value is between 1 and 1000. The recommended\n",
            "rescaling is 10 * y.\n",
            "\n",
            "This warning can be disabled by either rescaling y before initializing the\n",
            "model or by setting rescale=False.\n",
            "\n",
            "  warnings.warn(\n"
          ]
        },
        {
          "output_type": "stream",
          "name": "stdout",
          "text": [
            "Iteration:      1,   Func. Count:      8,   Neg. LLF: 89221812168.7365\n",
            "Iteration:      2,   Func. Count:     21,   Neg. LLF: 685.7112287658927\n",
            "Iteration:      3,   Func. Count:     33,   Neg. LLF: 35515.90404000257\n",
            "Iteration:      4,   Func. Count:     45,   Neg. LLF: -861.8783684924997\n",
            "Iteration:      5,   Func. Count:     54,   Neg. LLF: -1097.4074980809953\n",
            "Iteration:      6,   Func. Count:     62,   Neg. LLF: -833.1416839822724\n",
            "Iteration:      7,   Func. Count:     70,   Neg. LLF: -1109.2052716020853\n",
            "Iteration:      8,   Func. Count:     78,   Neg. LLF: -1108.79778625022\n",
            "Iteration:      9,   Func. Count:     86,   Neg. LLF: -1107.546735009823\n",
            "Iteration:     10,   Func. Count:     94,   Neg. LLF: -1114.4261938286938\n",
            "Iteration:     11,   Func. Count:    101,   Neg. LLF: -1114.444795156201\n",
            "Iteration:     12,   Func. Count:    108,   Neg. LLF: -1114.2748541676183\n",
            "Iteration:     13,   Func. Count:    117,   Neg. LLF: -1114.4498574751801\n",
            "Iteration:     14,   Func. Count:    124,   Neg. LLF: -1114.4515613760186\n",
            "Iteration:     15,   Func. Count:    131,   Neg. LLF: -1114.4787368656653\n",
            "Iteration:     16,   Func. Count:    138,   Neg. LLF: -1114.4794332387346\n",
            "Iteration:     17,   Func. Count:    145,   Neg. LLF: -1114.4794617167295\n",
            "Iteration:     18,   Func. Count:    151,   Neg. LLF: -1114.479461716759\n",
            "Optimization terminated successfully    (Exit mode 0)\n",
            "            Current function value: -1114.4794617167295\n",
            "            Iterations: 18\n",
            "            Function evaluations: 151\n",
            "            Gradient evaluations: 18\n"
          ]
        },
        {
          "output_type": "stream",
          "name": "stderr",
          "text": [
            "/usr/local/lib/python3.10/dist-packages/arch/univariate/base.py:310: DataScaleWarning: y is poorly scaled, which may affect convergence of the optimizer when\n",
            "estimating the model parameters. The scale of y is 0.00147. Parameter\n",
            "estimation work better when this value is between 1 and 1000. The recommended\n",
            "rescaling is 10 * y.\n",
            "\n",
            "This warning can be disabled by either rescaling y before initializing the\n",
            "model or by setting rescale=False.\n",
            "\n",
            "  warnings.warn(\n"
          ]
        },
        {
          "output_type": "stream",
          "name": "stdout",
          "text": [
            "Iteration:      1,   Func. Count:      8,   Neg. LLF: 91698566187.50003\n",
            "Iteration:      2,   Func. Count:     21,   Neg. LLF: 2247207.863110079\n",
            "Iteration:      3,   Func. Count:     33,   Neg. LLF: 2088445.57654013\n",
            "Iteration:      4,   Func. Count:     46,   Neg. LLF: 1645.1258349364543\n",
            "Iteration:      5,   Func. Count:     59,   Neg. LLF: 1013792.5198571819\n",
            "Iteration:      6,   Func. Count:     72,   Neg. LLF: -165.33872179142494\n",
            "Iteration:      7,   Func. Count:     82,   Neg. LLF: 4359.285315877178\n",
            "Iteration:      8,   Func. Count:     94,   Neg. LLF: 617709.8158869045\n",
            "Iteration:      9,   Func. Count:    106,   Neg. LLF: 19322.71811818282\n",
            "Iteration:     10,   Func. Count:    117,   Neg. LLF: 39122291939.05368\n",
            "Iteration:     11,   Func. Count:    130,   Neg. LLF: 838.8673496987947\n",
            "Iteration:     12,   Func. Count:    141,   Neg. LLF: 2876.6007274507665\n",
            "Iteration:     13,   Func. Count:    152,   Neg. LLF: -868.7134732624952\n",
            "Iteration:     14,   Func. Count:    161,   Neg. LLF: 2673.749960440575\n",
            "Iteration:     15,   Func. Count:    169,   Neg. LLF: -1096.5223256987524\n",
            "Iteration:     16,   Func. Count:    177,   Neg. LLF: -1100.708516749928\n",
            "Iteration:     17,   Func. Count:    185,   Neg. LLF: -1116.114796958735\n",
            "Iteration:     18,   Func. Count:    193,   Neg. LLF: -1097.8590561732296\n",
            "Iteration:     19,   Func. Count:    202,   Neg. LLF: -1116.5192363310643\n",
            "Iteration:     20,   Func. Count:    209,   Neg. LLF: -1116.5544807276856\n",
            "Iteration:     21,   Func. Count:    216,   Neg. LLF: -1116.5562516178877\n",
            "Iteration:     22,   Func. Count:    223,   Neg. LLF: -1116.5579188697802\n",
            "Iteration:     23,   Func. Count:    230,   Neg. LLF: -1116.558459215724\n",
            "Iteration:     24,   Func. Count:    237,   Neg. LLF: -1116.5584840888578\n",
            "Iteration:     25,   Func. Count:    244,   Neg. LLF: -1116.558485642532\n",
            "Iteration:     26,   Func. Count:    250,   Neg. LLF: -1116.558485641896\n",
            "Optimization terminated successfully    (Exit mode 0)\n",
            "            Current function value: -1116.558485642532\n",
            "            Iterations: 29\n",
            "            Function evaluations: 250\n",
            "            Gradient evaluations: 26\n"
          ]
        },
        {
          "output_type": "stream",
          "name": "stderr",
          "text": [
            "/usr/local/lib/python3.10/dist-packages/arch/univariate/base.py:310: DataScaleWarning: y is poorly scaled, which may affect convergence of the optimizer when\n",
            "estimating the model parameters. The scale of y is 0.001471. Parameter\n",
            "estimation work better when this value is between 1 and 1000. The recommended\n",
            "rescaling is 10 * y.\n",
            "\n",
            "This warning can be disabled by either rescaling y before initializing the\n",
            "model or by setting rescale=False.\n",
            "\n",
            "  warnings.warn(\n"
          ]
        },
        {
          "output_type": "stream",
          "name": "stdout",
          "text": [
            "Iteration:      1,   Func. Count:      8,   Neg. LLF: 85548422284.50829\n",
            "Iteration:      2,   Func. Count:     21,   Neg. LLF: 7152318.236963473\n",
            "Iteration:      3,   Func. Count:     33,   Neg. LLF: 1323.8500522207269\n",
            "Iteration:      4,   Func. Count:     44,   Neg. LLF: 2036.7036727276543\n",
            "Iteration:      5,   Func. Count:     55,   Neg. LLF: 293027.48103241564\n",
            "Iteration:      6,   Func. Count:     64,   Neg. LLF: -928.0632548262544\n",
            "Iteration:      7,   Func. Count:     73,   Neg. LLF: 17385901.097451195\n",
            "Iteration:      8,   Func. Count:     81,   Neg. LLF: -1095.353526692864\n",
            "Iteration:      9,   Func. Count:     89,   Neg. LLF: -1077.173565688734\n",
            "Iteration:     10,   Func. Count:     98,   Neg. LLF: -1116.4718909090439\n",
            "Iteration:     11,   Func. Count:    106,   Neg. LLF: -1091.6678277364017\n",
            "Iteration:     12,   Func. Count:    114,   Neg. LLF: -1116.4437180991395\n",
            "Iteration:     13,   Func. Count:    122,   Neg. LLF: -1116.6360934231593\n",
            "Iteration:     14,   Func. Count:    130,   Neg. LLF: -1116.461077470429\n",
            "Iteration:     15,   Func. Count:    139,   Neg. LLF: -1116.7455710244894\n",
            "Iteration:     16,   Func. Count:    147,   Neg. LLF: -1116.747831912103\n",
            "Iteration:     17,   Func. Count:    154,   Neg. LLF: -1116.7490018671551\n",
            "Iteration:     18,   Func. Count:    161,   Neg. LLF: -1116.749832936126\n",
            "Iteration:     19,   Func. Count:    168,   Neg. LLF: -1116.7544574060544\n",
            "Iteration:     20,   Func. Count:    175,   Neg. LLF: -1116.774340814808\n",
            "Iteration:     21,   Func. Count:    182,   Neg. LLF: -1116.7746197258234\n",
            "Iteration:     22,   Func. Count:    190,   Neg. LLF: -1116.7754332661038\n",
            "Iteration:     23,   Func. Count:    197,   Neg. LLF: -1116.7754846276957\n",
            "Iteration:     24,   Func. Count:    203,   Neg. LLF: -1116.7754846286493\n",
            "Optimization terminated successfully    (Exit mode 0)\n",
            "            Current function value: -1116.7754846276957\n",
            "            Iterations: 24\n",
            "            Function evaluations: 203\n",
            "            Gradient evaluations: 24\n"
          ]
        },
        {
          "output_type": "stream",
          "name": "stderr",
          "text": [
            "/usr/local/lib/python3.10/dist-packages/arch/univariate/base.py:310: DataScaleWarning: y is poorly scaled, which may affect convergence of the optimizer when\n",
            "estimating the model parameters. The scale of y is 0.00147. Parameter\n",
            "estimation work better when this value is between 1 and 1000. The recommended\n",
            "rescaling is 10 * y.\n",
            "\n",
            "This warning can be disabled by either rescaling y before initializing the\n",
            "model or by setting rescale=False.\n",
            "\n",
            "  warnings.warn(\n"
          ]
        },
        {
          "output_type": "stream",
          "name": "stdout",
          "text": [
            "Iteration:      1,   Func. Count:      8,   Neg. LLF: 12538036.372326205\n",
            "Iteration:      2,   Func. Count:     21,   Neg. LLF: 27894.536003800305\n",
            "Iteration:      3,   Func. Count:     33,   Neg. LLF: 308857.27625319036\n",
            "Iteration:      4,   Func. Count:     45,   Neg. LLF: 879.3666134191529\n",
            "Iteration:      5,   Func. Count:     57,   Neg. LLF: 553.2650367839096\n",
            "Iteration:      6,   Func. Count:     69,   Neg. LLF: -835.5339643522863\n",
            "Iteration:      7,   Func. Count:     78,   Neg. LLF: -1101.3173471230457\n",
            "Iteration:      8,   Func. Count:     86,   Neg. LLF: -916.5565115470862\n",
            "Iteration:      9,   Func. Count:     95,   Neg. LLF: -1115.547349527449\n",
            "Iteration:     10,   Func. Count:    103,   Neg. LLF: -1099.849520719497\n",
            "Iteration:     11,   Func. Count:    111,   Neg. LLF: -1119.016949059272\n",
            "Iteration:     12,   Func. Count:    119,   Neg. LLF: -1118.2103732040746\n",
            "Iteration:     13,   Func. Count:    127,   Neg. LLF: -1119.0318688033\n",
            "Iteration:     14,   Func. Count:    134,   Neg. LLF: -1119.0330059585897\n",
            "Iteration:     15,   Func. Count:    141,   Neg. LLF: -1119.0332425712934\n",
            "Iteration:     16,   Func. Count:    148,   Neg. LLF: -1119.0332527087967\n",
            "Iteration:     17,   Func. Count:    154,   Neg. LLF: -1119.0332527086448\n",
            "Optimization terminated successfully    (Exit mode 0)\n",
            "            Current function value: -1119.0332527087967\n",
            "            Iterations: 18\n",
            "            Function evaluations: 154\n",
            "            Gradient evaluations: 17\n"
          ]
        },
        {
          "output_type": "stream",
          "name": "stderr",
          "text": [
            "/usr/local/lib/python3.10/dist-packages/arch/univariate/base.py:310: DataScaleWarning: y is poorly scaled, which may affect convergence of the optimizer when\n",
            "estimating the model parameters. The scale of y is 0.001473. Parameter\n",
            "estimation work better when this value is between 1 and 1000. The recommended\n",
            "rescaling is 10 * y.\n",
            "\n",
            "This warning can be disabled by either rescaling y before initializing the\n",
            "model or by setting rescale=False.\n",
            "\n",
            "  warnings.warn(\n"
          ]
        },
        {
          "output_type": "stream",
          "name": "stdout",
          "text": [
            "Iteration:      1,   Func. Count:      9,   Neg. LLF: 15033394.055810425\n",
            "Iteration:      2,   Func. Count:     23,   Neg. LLF: 33611.90964471796\n",
            "Iteration:      3,   Func. Count:     37,   Neg. LLF: 4897.624868552535\n",
            "Iteration:      4,   Func. Count:     50,   Neg. LLF: 71568.74053723294\n",
            "Iteration:      5,   Func. Count:     63,   Neg. LLF: -1113.1097592258989\n",
            "Optimization terminated successfully    (Exit mode 0)\n",
            "            Current function value: -1113.109759856553\n",
            "            Iterations: 9\n",
            "            Function evaluations: 63\n",
            "            Gradient evaluations: 5\n"
          ]
        },
        {
          "output_type": "stream",
          "name": "stderr",
          "text": [
            "/usr/local/lib/python3.10/dist-packages/arch/univariate/base.py:310: DataScaleWarning: y is poorly scaled, which may affect convergence of the optimizer when\n",
            "estimating the model parameters. The scale of y is 0.001475. Parameter\n",
            "estimation work better when this value is between 1 and 1000. The recommended\n",
            "rescaling is 10 * y.\n",
            "\n",
            "This warning can be disabled by either rescaling y before initializing the\n",
            "model or by setting rescale=False.\n",
            "\n",
            "  warnings.warn(\n"
          ]
        },
        {
          "output_type": "stream",
          "name": "stdout",
          "text": [
            "Iteration:      1,   Func. Count:      8,   Neg. LLF: 95682535.49317712\n",
            "Iteration:      2,   Func. Count:     21,   Neg. LLF: 27943.498660644433\n",
            "Iteration:      3,   Func. Count:     34,   Neg. LLF: -1112.848238462754\n",
            "Optimization terminated successfully    (Exit mode 0)\n",
            "            Current function value: -1112.8482387056063\n",
            "            Iterations: 7\n",
            "            Function evaluations: 34\n",
            "            Gradient evaluations: 3\n"
          ]
        },
        {
          "output_type": "stream",
          "name": "stderr",
          "text": [
            "/usr/local/lib/python3.10/dist-packages/arch/univariate/base.py:310: DataScaleWarning: y is poorly scaled, which may affect convergence of the optimizer when\n",
            "estimating the model parameters. The scale of y is 0.001474. Parameter\n",
            "estimation work better when this value is between 1 and 1000. The recommended\n",
            "rescaling is 10 * y.\n",
            "\n",
            "This warning can be disabled by either rescaling y before initializing the\n",
            "model or by setting rescale=False.\n",
            "\n",
            "  warnings.warn(\n"
          ]
        },
        {
          "output_type": "stream",
          "name": "stdout",
          "text": [
            "Iteration:      1,   Func. Count:      8,   Neg. LLF: 13098666.986997444\n",
            "Iteration:      2,   Func. Count:     20,   Neg. LLF: -1113.8642320888016\n",
            "Optimization terminated successfully    (Exit mode 0)\n",
            "            Current function value: -1113.8642324185403\n",
            "            Iterations: 6\n",
            "            Function evaluations: 20\n",
            "            Gradient evaluations: 2\n"
          ]
        },
        {
          "output_type": "stream",
          "name": "stderr",
          "text": [
            "/usr/local/lib/python3.10/dist-packages/arch/univariate/base.py:310: DataScaleWarning: y is poorly scaled, which may affect convergence of the optimizer when\n",
            "estimating the model parameters. The scale of y is 0.001471. Parameter\n",
            "estimation work better when this value is between 1 and 1000. The recommended\n",
            "rescaling is 10 * y.\n",
            "\n",
            "This warning can be disabled by either rescaling y before initializing the\n",
            "model or by setting rescale=False.\n",
            "\n",
            "  warnings.warn(\n"
          ]
        },
        {
          "output_type": "stream",
          "name": "stdout",
          "text": [
            "Iteration:      1,   Func. Count:      8,   Neg. LLF: 11789229.560875706\n",
            "Iteration:      2,   Func. Count:     21,   Neg. LLF: 46066.18170510084\n",
            "Iteration:      3,   Func. Count:     34,   Neg. LLF: 19331.03077428029\n",
            "Iteration:      4,   Func. Count:     43,   Neg. LLF: -584.876033792475\n",
            "Iteration:      5,   Func. Count:     52,   Neg. LLF: -1089.0020982331876\n",
            "Iteration:      6,   Func. Count:     60,   Neg. LLF: -1101.1154399589605\n",
            "Iteration:      7,   Func. Count:     68,   Neg. LLF: -1089.2549540042614\n",
            "Iteration:      8,   Func. Count:     76,   Neg. LLF: -1101.9944107027225\n",
            "Iteration:      9,   Func. Count:     84,   Neg. LLF: -1076.8514220137818\n",
            "Iteration:     10,   Func. Count:     92,   Neg. LLF: -1073.699144234869\n",
            "Iteration:     11,   Func. Count:    100,   Neg. LLF: -1115.523742232916\n",
            "Iteration:     12,   Func. Count:    108,   Neg. LLF: -1115.6542565433472\n",
            "Iteration:     13,   Func. Count:    117,   Neg. LLF: -1113.053565624391\n",
            "Iteration:     14,   Func. Count:    126,   Neg. LLF: -1114.440183975596\n",
            "Iteration:     15,   Func. Count:    135,   Neg. LLF: -1116.1002804902068\n",
            "Iteration:     16,   Func. Count:    142,   Neg. LLF: -1116.1003706322592\n",
            "Iteration:     17,   Func. Count:    148,   Neg. LLF: -1116.1003706322958\n",
            "Optimization terminated successfully    (Exit mode 0)\n",
            "            Current function value: -1116.1003706322592\n",
            "            Iterations: 18\n",
            "            Function evaluations: 148\n",
            "            Gradient evaluations: 17\n"
          ]
        },
        {
          "output_type": "stream",
          "name": "stderr",
          "text": [
            "/usr/local/lib/python3.10/dist-packages/arch/univariate/base.py:310: DataScaleWarning: y is poorly scaled, which may affect convergence of the optimizer when\n",
            "estimating the model parameters. The scale of y is 0.001436. Parameter\n",
            "estimation work better when this value is between 1 and 1000. The recommended\n",
            "rescaling is 10 * y.\n",
            "\n",
            "This warning can be disabled by either rescaling y before initializing the\n",
            "model or by setting rescale=False.\n",
            "\n",
            "  warnings.warn(\n"
          ]
        },
        {
          "output_type": "stream",
          "name": "stdout",
          "text": [
            "Iteration:      1,   Func. Count:      8,   Neg. LLF: 10818226.6133253\n",
            "Iteration:      2,   Func. Count:     21,   Neg. LLF: 282785.1804657396\n",
            "Iteration:      3,   Func. Count:     30,   Neg. LLF: -743.0044329679146\n",
            "Iteration:      4,   Func. Count:     39,   Neg. LLF: -1054.2560938580848\n",
            "Iteration:      5,   Func. Count:     49,   Neg. LLF: 4098062.070569087\n",
            "Iteration:      6,   Func. Count:     62,   Neg. LLF: -941.0992248679142\n",
            "Iteration:      7,   Func. Count:     71,   Neg. LLF: 1466.1419715182944\n",
            "Iteration:      8,   Func. Count:     79,   Neg. LLF: -1121.5615878392236\n",
            "Optimization terminated successfully    (Exit mode 0)\n",
            "            Current function value: -1121.5615880795044\n",
            "            Iterations: 12\n",
            "            Function evaluations: 79\n",
            "            Gradient evaluations: 8\n"
          ]
        },
        {
          "output_type": "stream",
          "name": "stderr",
          "text": [
            "/usr/local/lib/python3.10/dist-packages/arch/univariate/base.py:310: DataScaleWarning: y is poorly scaled, which may affect convergence of the optimizer when\n",
            "estimating the model parameters. The scale of y is 0.001432. Parameter\n",
            "estimation work better when this value is between 1 and 1000. The recommended\n",
            "rescaling is 10 * y.\n",
            "\n",
            "This warning can be disabled by either rescaling y before initializing the\n",
            "model or by setting rescale=False.\n",
            "\n",
            "  warnings.warn(\n"
          ]
        },
        {
          "output_type": "stream",
          "name": "stdout",
          "text": [
            "Iteration:      1,   Func. Count:      8,   Neg. LLF: 105822564.49745797\n",
            "Iteration:      2,   Func. Count:     20,   Neg. LLF: -1122.2587560563575\n",
            "Optimization terminated successfully    (Exit mode 0)\n",
            "            Current function value: -1122.258756246014\n",
            "            Iterations: 6\n",
            "            Function evaluations: 20\n",
            "            Gradient evaluations: 2\n"
          ]
        },
        {
          "output_type": "stream",
          "name": "stderr",
          "text": [
            "/usr/local/lib/python3.10/dist-packages/arch/univariate/base.py:310: DataScaleWarning: y is poorly scaled, which may affect convergence of the optimizer when\n",
            "estimating the model parameters. The scale of y is 0.001428. Parameter\n",
            "estimation work better when this value is between 1 and 1000. The recommended\n",
            "rescaling is 10 * y.\n",
            "\n",
            "This warning can be disabled by either rescaling y before initializing the\n",
            "model or by setting rescale=False.\n",
            "\n",
            "  warnings.warn(\n"
          ]
        },
        {
          "output_type": "stream",
          "name": "stdout",
          "text": [
            "Iteration:      1,   Func. Count:      8,   Neg. LLF: 124063451.22815502\n",
            "Iteration:      2,   Func. Count:     20,   Neg. LLF: -1122.3803961440854\n",
            "Optimization terminated successfully    (Exit mode 0)\n",
            "            Current function value: -1122.3803962914478\n",
            "            Iterations: 6\n",
            "            Function evaluations: 20\n",
            "            Gradient evaluations: 2\n"
          ]
        },
        {
          "output_type": "stream",
          "name": "stderr",
          "text": [
            "/usr/local/lib/python3.10/dist-packages/arch/univariate/base.py:310: DataScaleWarning: y is poorly scaled, which may affect convergence of the optimizer when\n",
            "estimating the model parameters. The scale of y is 0.001426. Parameter\n",
            "estimation work better when this value is between 1 and 1000. The recommended\n",
            "rescaling is 10 * y.\n",
            "\n",
            "This warning can be disabled by either rescaling y before initializing the\n",
            "model or by setting rescale=False.\n",
            "\n",
            "  warnings.warn(\n"
          ]
        },
        {
          "output_type": "stream",
          "name": "stdout",
          "text": [
            "Iteration:      1,   Func. Count:      8,   Neg. LLF: 14234616.655420516\n",
            "Iteration:      2,   Func. Count:     21,   Neg. LLF: 10715.763027670146\n",
            "Iteration:      3,   Func. Count:     33,   Neg. LLF: -1123.6335673375854\n",
            "Optimization terminated successfully    (Exit mode 0)\n",
            "            Current function value: -1123.6335675194694\n",
            "            Iterations: 7\n",
            "            Function evaluations: 33\n",
            "            Gradient evaluations: 3\n"
          ]
        },
        {
          "output_type": "stream",
          "name": "stderr",
          "text": [
            "/usr/local/lib/python3.10/dist-packages/arch/univariate/base.py:310: DataScaleWarning: y is poorly scaled, which may affect convergence of the optimizer when\n",
            "estimating the model parameters. The scale of y is 0.001426. Parameter\n",
            "estimation work better when this value is between 1 and 1000. The recommended\n",
            "rescaling is 10 * y.\n",
            "\n",
            "This warning can be disabled by either rescaling y before initializing the\n",
            "model or by setting rescale=False.\n",
            "\n",
            "  warnings.warn(\n"
          ]
        },
        {
          "output_type": "stream",
          "name": "stdout",
          "text": [
            "Iteration:      1,   Func. Count:      8,   Neg. LLF: 33486269.695940416\n",
            "Iteration:      2,   Func. Count:     20,   Neg. LLF: -1123.910998050504\n",
            "Optimization terminated successfully    (Exit mode 0)\n",
            "            Current function value: -1123.9109982586497\n",
            "            Iterations: 6\n",
            "            Function evaluations: 20\n",
            "            Gradient evaluations: 2\n"
          ]
        },
        {
          "output_type": "stream",
          "name": "stderr",
          "text": [
            "/usr/local/lib/python3.10/dist-packages/arch/univariate/base.py:310: DataScaleWarning: y is poorly scaled, which may affect convergence of the optimizer when\n",
            "estimating the model parameters. The scale of y is 0.001427. Parameter\n",
            "estimation work better when this value is between 1 and 1000. The recommended\n",
            "rescaling is 10 * y.\n",
            "\n",
            "This warning can be disabled by either rescaling y before initializing the\n",
            "model or by setting rescale=False.\n",
            "\n",
            "  warnings.warn(\n"
          ]
        },
        {
          "output_type": "stream",
          "name": "stdout",
          "text": [
            "Iteration:      1,   Func. Count:      8,   Neg. LLF: 9254503.636830784\n",
            "Iteration:      2,   Func. Count:     21,   Neg. LLF: 6940.41823094749\n",
            "Iteration:      3,   Func. Count:     34,   Neg. LLF: 6155.959713783222\n",
            "Iteration:      4,   Func. Count:     43,   Neg. LLF: -1011.7355519072394\n",
            "Iteration:      5,   Func. Count:     51,   Neg. LLF: -1024.893349757579\n",
            "Iteration:      6,   Func. Count:     59,   Neg. LLF: 2094.4789521693606\n",
            "Iteration:      7,   Func. Count:     68,   Neg. LLF: -1110.3598937102556\n",
            "Iteration:      8,   Func. Count:     76,   Neg. LLF: -1080.8571245127587\n",
            "Iteration:      9,   Func. Count:     85,   Neg. LLF: -1090.6722612033745\n",
            "Iteration:     10,   Func. Count:     93,   Neg. LLF: -1099.0428333763598\n",
            "Iteration:     11,   Func. Count:    102,   Neg. LLF: -1099.3334052737712\n",
            "Iteration:     12,   Func. Count:    111,   Neg. LLF: -1125.760612837744\n",
            "Iteration:     13,   Func. Count:    120,   Neg. LLF: -1119.2400023486948\n",
            "Iteration:     14,   Func. Count:    129,   Neg. LLF: -1125.562257281324\n",
            "Iteration:     15,   Func. Count:    138,   Neg. LLF: -1123.0835136632993\n",
            "Iteration:     16,   Func. Count:    147,   Neg. LLF: -1126.4276411385572\n",
            "Iteration:     17,   Func. Count:    154,   Neg. LLF: -1126.4277053368282\n",
            "Iteration:     18,   Func. Count:    161,   Neg. LLF: -1126.4277099146534\n",
            "Iteration:     19,   Func. Count:    167,   Neg. LLF: -1126.4277099146998\n",
            "Optimization terminated successfully    (Exit mode 0)\n",
            "            Current function value: -1126.4277099146534\n",
            "            Iterations: 20\n",
            "            Function evaluations: 167\n",
            "            Gradient evaluations: 19\n"
          ]
        },
        {
          "output_type": "stream",
          "name": "stderr",
          "text": [
            "/usr/local/lib/python3.10/dist-packages/arch/univariate/base.py:310: DataScaleWarning: y is poorly scaled, which may affect convergence of the optimizer when\n",
            "estimating the model parameters. The scale of y is 0.001426. Parameter\n",
            "estimation work better when this value is between 1 and 1000. The recommended\n",
            "rescaling is 10 * y.\n",
            "\n",
            "This warning can be disabled by either rescaling y before initializing the\n",
            "model or by setting rescale=False.\n",
            "\n",
            "  warnings.warn(\n"
          ]
        },
        {
          "output_type": "stream",
          "name": "stdout",
          "text": [
            "Iteration:      1,   Func. Count:      8,   Neg. LLF: 8497330.368019206\n",
            "Iteration:      2,   Func. Count:     20,   Neg. LLF: -1124.8737312871233\n",
            "Optimization terminated successfully    (Exit mode 0)\n",
            "            Current function value: -1124.8737315744856\n",
            "            Iterations: 6\n",
            "            Function evaluations: 20\n",
            "            Gradient evaluations: 2\n"
          ]
        },
        {
          "output_type": "stream",
          "name": "stderr",
          "text": [
            "/usr/local/lib/python3.10/dist-packages/arch/univariate/base.py:310: DataScaleWarning: y is poorly scaled, which may affect convergence of the optimizer when\n",
            "estimating the model parameters. The scale of y is 0.001421. Parameter\n",
            "estimation work better when this value is between 1 and 1000. The recommended\n",
            "rescaling is 10 * y.\n",
            "\n",
            "This warning can be disabled by either rescaling y before initializing the\n",
            "model or by setting rescale=False.\n",
            "\n",
            "  warnings.warn(\n"
          ]
        },
        {
          "output_type": "stream",
          "name": "stdout",
          "text": [
            "Iteration:      1,   Func. Count:      8,   Neg. LLF: 37666897.82677798\n",
            "Iteration:      2,   Func. Count:     20,   Neg. LLF: -1123.8058702456733\n",
            "Optimization terminated successfully    (Exit mode 0)\n",
            "            Current function value: -1123.8058704476748\n",
            "            Iterations: 6\n",
            "            Function evaluations: 20\n",
            "            Gradient evaluations: 2\n"
          ]
        },
        {
          "output_type": "stream",
          "name": "stderr",
          "text": [
            "/usr/local/lib/python3.10/dist-packages/arch/univariate/base.py:310: DataScaleWarning: y is poorly scaled, which may affect convergence of the optimizer when\n",
            "estimating the model parameters. The scale of y is 0.001426. Parameter\n",
            "estimation work better when this value is between 1 and 1000. The recommended\n",
            "rescaling is 10 * y.\n",
            "\n",
            "This warning can be disabled by either rescaling y before initializing the\n",
            "model or by setting rescale=False.\n",
            "\n",
            "  warnings.warn(\n"
          ]
        },
        {
          "output_type": "stream",
          "name": "stdout",
          "text": [
            "Iteration:      1,   Func. Count:      8,   Neg. LLF: 10654104.51718481\n",
            "Iteration:      2,   Func. Count:     21,   Neg. LLF: 276799.9911855738\n",
            "Iteration:      3,   Func. Count:     30,   Neg. LLF: -1117.0497989135445\n",
            "Iteration:      4,   Func. Count:     38,   Neg. LLF: 7683566.888886824\n",
            "Iteration:      5,   Func. Count:     50,   Neg. LLF: -1126.454724956231\n",
            "Optimization terminated successfully    (Exit mode 0)\n",
            "            Current function value: -1126.454725363326\n",
            "            Iterations: 9\n",
            "            Function evaluations: 50\n",
            "            Gradient evaluations: 5\n"
          ]
        },
        {
          "output_type": "stream",
          "name": "stderr",
          "text": [
            "/usr/local/lib/python3.10/dist-packages/arch/univariate/base.py:310: DataScaleWarning: y is poorly scaled, which may affect convergence of the optimizer when\n",
            "estimating the model parameters. The scale of y is 0.001426. Parameter\n",
            "estimation work better when this value is between 1 and 1000. The recommended\n",
            "rescaling is 10 * y.\n",
            "\n",
            "This warning can be disabled by either rescaling y before initializing the\n",
            "model or by setting rescale=False.\n",
            "\n",
            "  warnings.warn(\n"
          ]
        },
        {
          "output_type": "stream",
          "name": "stdout",
          "text": [
            "Iteration:      1,   Func. Count:      8,   Neg. LLF: 10158174.787122713\n",
            "Iteration:      2,   Func. Count:     20,   Neg. LLF: -1125.6016810608462\n",
            "Optimization terminated successfully    (Exit mode 0)\n",
            "            Current function value: -1125.6016813776318\n",
            "            Iterations: 6\n",
            "            Function evaluations: 20\n",
            "            Gradient evaluations: 2\n"
          ]
        },
        {
          "output_type": "stream",
          "name": "stderr",
          "text": [
            "/usr/local/lib/python3.10/dist-packages/arch/univariate/base.py:310: DataScaleWarning: y is poorly scaled, which may affect convergence of the optimizer when\n",
            "estimating the model parameters. The scale of y is 0.001426. Parameter\n",
            "estimation work better when this value is between 1 and 1000. The recommended\n",
            "rescaling is 10 * y.\n",
            "\n",
            "This warning can be disabled by either rescaling y before initializing the\n",
            "model or by setting rescale=False.\n",
            "\n",
            "  warnings.warn(\n"
          ]
        },
        {
          "output_type": "stream",
          "name": "stdout",
          "text": [
            "Iteration:      1,   Func. Count:      8,   Neg. LLF: 10574767.163374588\n",
            "Iteration:      2,   Func. Count:     20,   Neg. LLF: -1125.630119513899\n",
            "Optimization terminated successfully    (Exit mode 0)\n",
            "            Current function value: -1125.6301198428387\n",
            "            Iterations: 6\n",
            "            Function evaluations: 20\n",
            "            Gradient evaluations: 2\n"
          ]
        },
        {
          "output_type": "stream",
          "name": "stderr",
          "text": [
            "/usr/local/lib/python3.10/dist-packages/arch/univariate/base.py:310: DataScaleWarning: y is poorly scaled, which may affect convergence of the optimizer when\n",
            "estimating the model parameters. The scale of y is 0.001424. Parameter\n",
            "estimation work better when this value is between 1 and 1000. The recommended\n",
            "rescaling is 10 * y.\n",
            "\n",
            "This warning can be disabled by either rescaling y before initializing the\n",
            "model or by setting rescale=False.\n",
            "\n",
            "  warnings.warn(\n"
          ]
        },
        {
          "output_type": "stream",
          "name": "stdout",
          "text": [
            "Iteration:      1,   Func. Count:      8,   Neg. LLF: 11332202.627084486\n",
            "Iteration:      2,   Func. Count:     21,   Neg. LLF: 20156.28641873009\n",
            "Iteration:      3,   Func. Count:     34,   Neg. LLF: 8220.238996841781\n",
            "Iteration:      4,   Func. Count:     43,   Neg. LLF: -281.0825762898554\n",
            "Iteration:      5,   Func. Count:     52,   Neg. LLF: -1103.6895139438848\n",
            "Iteration:      6,   Func. Count:     61,   Neg. LLF: 100397233.66630065\n",
            "Iteration:      7,   Func. Count:     73,   Neg. LLF: -1127.504182443764\n",
            "Optimization terminated successfully    (Exit mode 0)\n",
            "            Current function value: -1127.504182523554\n",
            "            Iterations: 11\n",
            "            Function evaluations: 73\n",
            "            Gradient evaluations: 7\n"
          ]
        },
        {
          "output_type": "stream",
          "name": "stderr",
          "text": [
            "/usr/local/lib/python3.10/dist-packages/arch/univariate/base.py:310: DataScaleWarning: y is poorly scaled, which may affect convergence of the optimizer when\n",
            "estimating the model parameters. The scale of y is 0.001423. Parameter\n",
            "estimation work better when this value is between 1 and 1000. The recommended\n",
            "rescaling is 10 * y.\n",
            "\n",
            "This warning can be disabled by either rescaling y before initializing the\n",
            "model or by setting rescale=False.\n",
            "\n",
            "  warnings.warn(\n"
          ]
        },
        {
          "output_type": "stream",
          "name": "stdout",
          "text": [
            "Iteration:      1,   Func. Count:      8,   Neg. LLF: 9558180.805154605\n",
            "Iteration:      2,   Func. Count:     20,   Neg. LLF: -1127.2832968380853\n",
            "Optimization terminated successfully    (Exit mode 0)\n",
            "            Current function value: -1127.2832972425267\n",
            "            Iterations: 6\n",
            "            Function evaluations: 20\n",
            "            Gradient evaluations: 2\n"
          ]
        },
        {
          "output_type": "stream",
          "name": "stderr",
          "text": [
            "/usr/local/lib/python3.10/dist-packages/arch/univariate/base.py:310: DataScaleWarning: y is poorly scaled, which may affect convergence of the optimizer when\n",
            "estimating the model parameters. The scale of y is 0.001424. Parameter\n",
            "estimation work better when this value is between 1 and 1000. The recommended\n",
            "rescaling is 10 * y.\n",
            "\n",
            "This warning can be disabled by either rescaling y before initializing the\n",
            "model or by setting rescale=False.\n",
            "\n",
            "  warnings.warn(\n"
          ]
        },
        {
          "output_type": "stream",
          "name": "stdout",
          "text": [
            "Iteration:      1,   Func. Count:      8,   Neg. LLF: 66173866.39487243\n",
            "Iteration:      2,   Func. Count:     20,   Neg. LLF: -1127.4773706089807\n",
            "Optimization terminated successfully    (Exit mode 0)\n",
            "            Current function value: -1127.4773710611107\n",
            "            Iterations: 6\n",
            "            Function evaluations: 20\n",
            "            Gradient evaluations: 2\n"
          ]
        },
        {
          "output_type": "stream",
          "name": "stderr",
          "text": [
            "/usr/local/lib/python3.10/dist-packages/arch/univariate/base.py:310: DataScaleWarning: y is poorly scaled, which may affect convergence of the optimizer when\n",
            "estimating the model parameters. The scale of y is 0.001396. Parameter\n",
            "estimation work better when this value is between 1 and 1000. The recommended\n",
            "rescaling is 10 * y.\n",
            "\n",
            "This warning can be disabled by either rescaling y before initializing the\n",
            "model or by setting rescale=False.\n",
            "\n",
            "  warnings.warn(\n"
          ]
        },
        {
          "output_type": "stream",
          "name": "stdout",
          "text": [
            "Iteration:      1,   Func. Count:      8,   Neg. LLF: 7767948.040625594\n",
            "Iteration:      2,   Func. Count:     21,   Neg. LLF: 38748.40880454265\n",
            "Iteration:      3,   Func. Count:     30,   Neg. LLF: -1083.4225908322574\n",
            "Iteration:      4,   Func. Count:     38,   Neg. LLF: -972.687343995847\n",
            "Iteration:      5,   Func. Count:     46,   Neg. LLF: 232.44923584218265\n",
            "Iteration:      6,   Func. Count:     56,   Neg. LLF: -1127.4777819372143\n",
            "Iteration:      7,   Func. Count:     64,   Neg. LLF: -1112.813263076992\n",
            "Iteration:      8,   Func. Count:     72,   Neg. LLF: -1132.0758605275191\n",
            "Iteration:      9,   Func. Count:     80,   Neg. LLF: -1127.779480108047\n",
            "Iteration:     10,   Func. Count:     89,   Neg. LLF: -1132.25051553356\n",
            "Iteration:     11,   Func. Count:     97,   Neg. LLF: -1132.180943032968\n",
            "Iteration:     12,   Func. Count:    106,   Neg. LLF: -1132.0446450527716\n",
            "Iteration:     13,   Func. Count:    114,   Neg. LLF: -1132.3808439770803\n",
            "Iteration:     14,   Func. Count:    121,   Neg. LLF: -1132.3808832006243\n",
            "Iteration:     15,   Func. Count:    127,   Neg. LLF: -1132.3808832007671\n",
            "Optimization terminated successfully    (Exit mode 0)\n",
            "            Current function value: -1132.3808832006243\n",
            "            Iterations: 15\n",
            "            Function evaluations: 127\n",
            "            Gradient evaluations: 15\n"
          ]
        },
        {
          "output_type": "stream",
          "name": "stderr",
          "text": [
            "/usr/local/lib/python3.10/dist-packages/arch/univariate/base.py:310: DataScaleWarning: y is poorly scaled, which may affect convergence of the optimizer when\n",
            "estimating the model parameters. The scale of y is 0.001397. Parameter\n",
            "estimation work better when this value is between 1 and 1000. The recommended\n",
            "rescaling is 10 * y.\n",
            "\n",
            "This warning can be disabled by either rescaling y before initializing the\n",
            "model or by setting rescale=False.\n",
            "\n",
            "  warnings.warn(\n"
          ]
        },
        {
          "output_type": "stream",
          "name": "stdout",
          "text": [
            "Iteration:      1,   Func. Count:      8,   Neg. LLF: 19277439.902515788\n",
            "Iteration:      2,   Func. Count:     21,   Neg. LLF: 20629.239423080573\n",
            "Iteration:      3,   Func. Count:     30,   Neg. LLF: -915.4887428291879\n",
            "Iteration:      4,   Func. Count:     38,   Neg. LLF: -1028.281767289878\n",
            "Iteration:      5,   Func. Count:     46,   Neg. LLF: -1119.7341167249253\n",
            "Iteration:      6,   Func. Count:     55,   Neg. LLF: 20325323.812978163\n",
            "Iteration:      7,   Func. Count:     67,   Neg. LLF: -1132.6442772102714\n",
            "Optimization terminated successfully    (Exit mode 0)\n",
            "            Current function value: -1132.6442777915406\n",
            "            Iterations: 11\n",
            "            Function evaluations: 67\n",
            "            Gradient evaluations: 7\n"
          ]
        },
        {
          "output_type": "stream",
          "name": "stderr",
          "text": [
            "/usr/local/lib/python3.10/dist-packages/arch/univariate/base.py:310: DataScaleWarning: y is poorly scaled, which may affect convergence of the optimizer when\n",
            "estimating the model parameters. The scale of y is 0.001399. Parameter\n",
            "estimation work better when this value is between 1 and 1000. The recommended\n",
            "rescaling is 10 * y.\n",
            "\n",
            "This warning can be disabled by either rescaling y before initializing the\n",
            "model or by setting rescale=False.\n",
            "\n",
            "  warnings.warn(\n"
          ]
        },
        {
          "output_type": "stream",
          "name": "stdout",
          "text": [
            "Iteration:      1,   Func. Count:      8,   Neg. LLF: 110864547.88381985\n",
            "Iteration:      2,   Func. Count:     21,   Neg. LLF: 139542.95879236492\n",
            "Iteration:      3,   Func. Count:     30,   Neg. LLF: 2348.629604402883\n",
            "Iteration:      4,   Func. Count:     40,   Neg. LLF: 81524.47738401768\n",
            "Iteration:      5,   Func. Count:     52,   Neg. LLF: -1134.2420567433048\n",
            "Optimization terminated successfully    (Exit mode 0)\n",
            "            Current function value: -1134.242057137016\n",
            "            Iterations: 9\n",
            "            Function evaluations: 52\n",
            "            Gradient evaluations: 5\n"
          ]
        },
        {
          "output_type": "stream",
          "name": "stderr",
          "text": [
            "/usr/local/lib/python3.10/dist-packages/arch/univariate/base.py:310: DataScaleWarning: y is poorly scaled, which may affect convergence of the optimizer when\n",
            "estimating the model parameters. The scale of y is 0.001394. Parameter\n",
            "estimation work better when this value is between 1 and 1000. The recommended\n",
            "rescaling is 10 * y.\n",
            "\n",
            "This warning can be disabled by either rescaling y before initializing the\n",
            "model or by setting rescale=False.\n",
            "\n",
            "  warnings.warn(\n"
          ]
        },
        {
          "output_type": "stream",
          "name": "stdout",
          "text": [
            "Iteration:      1,   Func. Count:      8,   Neg. LLF: 8340810.686404746\n",
            "Iteration:      2,   Func. Count:     20,   Neg. LLF: -1132.4639864394142\n",
            "Optimization terminated successfully    (Exit mode 0)\n",
            "            Current function value: -1132.46398679213\n",
            "            Iterations: 6\n",
            "            Function evaluations: 20\n",
            "            Gradient evaluations: 2\n"
          ]
        },
        {
          "output_type": "stream",
          "name": "stderr",
          "text": [
            "/usr/local/lib/python3.10/dist-packages/arch/univariate/base.py:310: DataScaleWarning: y is poorly scaled, which may affect convergence of the optimizer when\n",
            "estimating the model parameters. The scale of y is 0.001393. Parameter\n",
            "estimation work better when this value is between 1 and 1000. The recommended\n",
            "rescaling is 10 * y.\n",
            "\n",
            "This warning can be disabled by either rescaling y before initializing the\n",
            "model or by setting rescale=False.\n",
            "\n",
            "  warnings.warn(\n"
          ]
        },
        {
          "output_type": "stream",
          "name": "stdout",
          "text": [
            "Iteration:      1,   Func. Count:      9,   Neg. LLF: 5655914.808046464\n",
            "Iteration:      2,   Func. Count:     22,   Neg. LLF: -1129.8465751956605\n",
            "Optimization terminated successfully    (Exit mode 0)\n",
            "            Current function value: -1129.8465755683799\n",
            "            Iterations: 6\n",
            "            Function evaluations: 22\n",
            "            Gradient evaluations: 2\n"
          ]
        },
        {
          "output_type": "stream",
          "name": "stderr",
          "text": [
            "/usr/local/lib/python3.10/dist-packages/arch/univariate/base.py:310: DataScaleWarning: y is poorly scaled, which may affect convergence of the optimizer when\n",
            "estimating the model parameters. The scale of y is 0.001397. Parameter\n",
            "estimation work better when this value is between 1 and 1000. The recommended\n",
            "rescaling is 10 * y.\n",
            "\n",
            "This warning can be disabled by either rescaling y before initializing the\n",
            "model or by setting rescale=False.\n",
            "\n",
            "  warnings.warn(\n"
          ]
        },
        {
          "output_type": "stream",
          "name": "stdout",
          "text": [
            "Iteration:      1,   Func. Count:      8,   Neg. LLF: 12583129.52397834\n",
            "Iteration:      2,   Func. Count:     21,   Neg. LLF: -200.9857973649211\n",
            "Iteration:      3,   Func. Count:     31,   Neg. LLF: 39604227.889866464\n",
            "Iteration:      4,   Func. Count:     44,   Neg. LLF: 192909.02994386503\n",
            "Iteration:      5,   Func. Count:     53,   Neg. LLF: -955.774737226804\n",
            "Iteration:      6,   Func. Count:     63,   Neg. LLF: -951.7581976477124\n",
            "Iteration:      7,   Func. Count:     72,   Neg. LLF: -999.2924894681435\n",
            "Iteration:      8,   Func. Count:     80,   Neg. LLF: -922.3686446538003\n",
            "Iteration:      9,   Func. Count:     88,   Neg. LLF: -1076.347380364323\n",
            "Iteration:     10,   Func. Count:     96,   Neg. LLF: 148263085.9209541\n",
            "Iteration:     11,   Func. Count:    105,   Neg. LLF: -1128.9598977141256\n",
            "Iteration:     12,   Func. Count:    113,   Neg. LLF: -1138.4610263764932\n",
            "Iteration:     13,   Func. Count:    121,   Neg. LLF: -1129.9782173646288\n",
            "Iteration:     14,   Func. Count:    130,   Neg. LLF: -1137.50565222291\n",
            "Iteration:     15,   Func. Count:    139,   Neg. LLF: -1137.8899650733167\n",
            "Iteration:     16,   Func. Count:    148,   Neg. LLF: -1138.696499427208\n",
            "Iteration:     17,   Func. Count:    155,   Neg. LLF: -1138.696544556694\n",
            "Iteration:     18,   Func. Count:    161,   Neg. LLF: -1138.6965445566877\n",
            "Optimization terminated successfully    (Exit mode 0)\n",
            "            Current function value: -1138.696544556694\n",
            "            Iterations: 19\n",
            "            Function evaluations: 161\n",
            "            Gradient evaluations: 18\n"
          ]
        },
        {
          "output_type": "stream",
          "name": "stderr",
          "text": [
            "/usr/local/lib/python3.10/dist-packages/arch/univariate/base.py:310: DataScaleWarning: y is poorly scaled, which may affect convergence of the optimizer when\n",
            "estimating the model parameters. The scale of y is 0.001386. Parameter\n",
            "estimation work better when this value is between 1 and 1000. The recommended\n",
            "rescaling is 10 * y.\n",
            "\n",
            "This warning can be disabled by either rescaling y before initializing the\n",
            "model or by setting rescale=False.\n",
            "\n",
            "  warnings.warn(\n"
          ]
        },
        {
          "output_type": "stream",
          "name": "stdout",
          "text": [
            "Iteration:      1,   Func. Count:      9,   Neg. LLF: 5462468.883045415\n",
            "Iteration:      2,   Func. Count:     23,   Neg. LLF: 356452.40545690927\n",
            "Iteration:      3,   Func. Count:     32,   Neg. LLF: -896.0987080104622\n",
            "Iteration:      4,   Func. Count:     42,   Neg. LLF: -257.03609800459105\n",
            "Iteration:      5,   Func. Count:     52,   Neg. LLF: 15020473.874666452\n",
            "Iteration:      6,   Func. Count:     66,   Neg. LLF: 312134172.4530743\n",
            "Iteration:      7,   Func. Count:     76,   Neg. LLF: -1078.5103117096705\n",
            "Iteration:      8,   Func. Count:     85,   Neg. LLF: -1107.4733524844078\n",
            "Iteration:      9,   Func. Count:     94,   Neg. LLF: -919.1966299514977\n",
            "Iteration:     10,   Func. Count:    104,   Neg. LLF: -1124.819030063698\n",
            "Iteration:     11,   Func. Count:    113,   Neg. LLF: -1106.6955420915333\n",
            "Iteration:     12,   Func. Count:    122,   Neg. LLF: -1113.2912170426753\n",
            "Iteration:     13,   Func. Count:    132,   Neg. LLF: -1124.1450165358249\n",
            "Iteration:     14,   Func. Count:    141,   Neg. LLF: -1135.8443335557479\n",
            "Iteration:     15,   Func. Count:    150,   Neg. LLF: 75786.98919650026\n",
            "Iteration:     16,   Func. Count:    164,   Neg. LLF: -537.6881225245272\n",
            "Iteration:     17,   Func. Count:    176,   Neg. LLF: -1019.5812963263287\n",
            "Iteration:     18,   Func. Count:    187,   Neg. LLF: -975.0991205662215\n",
            "Iteration:     19,   Func. Count:    197,   Neg. LLF: -1086.07353674813\n",
            "Iteration:     20,   Func. Count:    207,   Neg. LLF: -1137.213443510345\n",
            "Iteration:     21,   Func. Count:    215,   Neg. LLF: -1135.5378361916692\n",
            "Iteration:     22,   Func. Count:    224,   Neg. LLF: -1137.245654405454\n",
            "Iteration:     23,   Func. Count:    232,   Neg. LLF: -1137.255885803885\n",
            "Iteration:     24,   Func. Count:    240,   Neg. LLF: -1137.256399540398\n",
            "Iteration:     25,   Func. Count:    249,   Neg. LLF: -1137.2629925609672\n",
            "Iteration:     26,   Func. Count:    258,   Neg. LLF: -1137.2765957340516\n",
            "Iteration:     27,   Func. Count:    266,   Neg. LLF: -1137.2779526603404\n",
            "Iteration:     28,   Func. Count:    274,   Neg. LLF: -1137.2779944453941\n",
            "Iteration:     29,   Func. Count:    281,   Neg. LLF: -1137.2779944452748\n",
            "Optimization terminated successfully    (Exit mode 0)\n",
            "            Current function value: -1137.2779944453941\n",
            "            Iterations: 31\n",
            "            Function evaluations: 281\n",
            "            Gradient evaluations: 29\n"
          ]
        },
        {
          "output_type": "stream",
          "name": "stderr",
          "text": [
            "/usr/local/lib/python3.10/dist-packages/arch/univariate/base.py:310: DataScaleWarning: y is poorly scaled, which may affect convergence of the optimizer when\n",
            "estimating the model parameters. The scale of y is 0.001392. Parameter\n",
            "estimation work better when this value is between 1 and 1000. The recommended\n",
            "rescaling is 10 * y.\n",
            "\n",
            "This warning can be disabled by either rescaling y before initializing the\n",
            "model or by setting rescale=False.\n",
            "\n",
            "  warnings.warn(\n"
          ]
        },
        {
          "output_type": "stream",
          "name": "stdout",
          "text": [
            "Iteration:      1,   Func. Count:      8,   Neg. LLF: 87511674.81564692\n",
            "Iteration:      2,   Func. Count:     20,   Neg. LLF: -1136.5711113300615\n",
            "Optimization terminated successfully    (Exit mode 0)\n",
            "            Current function value: -1136.571111783971\n",
            "            Iterations: 6\n",
            "            Function evaluations: 20\n",
            "            Gradient evaluations: 2\n"
          ]
        },
        {
          "output_type": "stream",
          "name": "stderr",
          "text": [
            "/usr/local/lib/python3.10/dist-packages/arch/univariate/base.py:310: DataScaleWarning: y is poorly scaled, which may affect convergence of the optimizer when\n",
            "estimating the model parameters. The scale of y is 0.001393. Parameter\n",
            "estimation work better when this value is between 1 and 1000. The recommended\n",
            "rescaling is 10 * y.\n",
            "\n",
            "This warning can be disabled by either rescaling y before initializing the\n",
            "model or by setting rescale=False.\n",
            "\n",
            "  warnings.warn(\n"
          ]
        },
        {
          "output_type": "stream",
          "name": "stdout",
          "text": [
            "Iteration:      1,   Func. Count:      8,   Neg. LLF: 82041877.75748466\n",
            "Iteration:      2,   Func. Count:     20,   Neg. LLF: -1136.669429760158\n",
            "Optimization terminated successfully    (Exit mode 0)\n",
            "            Current function value: -1136.669430260938\n",
            "            Iterations: 6\n",
            "            Function evaluations: 20\n",
            "            Gradient evaluations: 2\n"
          ]
        },
        {
          "output_type": "stream",
          "name": "stderr",
          "text": [
            "/usr/local/lib/python3.10/dist-packages/arch/univariate/base.py:310: DataScaleWarning: y is poorly scaled, which may affect convergence of the optimizer when\n",
            "estimating the model parameters. The scale of y is 0.001389. Parameter\n",
            "estimation work better when this value is between 1 and 1000. The recommended\n",
            "rescaling is 10 * y.\n",
            "\n",
            "This warning can be disabled by either rescaling y before initializing the\n",
            "model or by setting rescale=False.\n",
            "\n",
            "  warnings.warn(\n"
          ]
        },
        {
          "output_type": "stream",
          "name": "stdout",
          "text": [
            "Iteration:      1,   Func. Count:      9,   Neg. LLF: 4659065.684335187\n",
            "Iteration:      2,   Func. Count:     23,   Neg. LLF: 66597.78784934542\n",
            "Iteration:      3,   Func. Count:     33,   Neg. LLF: 1788.1730949875048\n",
            "Iteration:      4,   Func. Count:     43,   Neg. LLF: -1082.768865128214\n",
            "Iteration:      5,   Func. Count:     53,   Neg. LLF: 1036371.6937366894\n",
            "Iteration:      6,   Func. Count:     63,   Neg. LLF: -1094.1663272648711\n",
            "Iteration:      7,   Func. Count:     72,   Neg. LLF: -1055.9446799637494\n",
            "Iteration:      8,   Func. Count:     81,   Neg. LLF: -1043.9802455978572\n",
            "Iteration:      9,   Func. Count:     90,   Neg. LLF: -1118.3352596240225\n",
            "Iteration:     10,   Func. Count:     99,   Neg. LLF: -1132.5720380678624\n",
            "Iteration:     11,   Func. Count:    107,   Neg. LLF: -1137.0189857704295\n",
            "Optimization terminated successfully    (Exit mode 0)\n",
            "            Current function value: -1137.018986224512\n",
            "            Iterations: 15\n",
            "            Function evaluations: 107\n",
            "            Gradient evaluations: 11\n"
          ]
        },
        {
          "output_type": "stream",
          "name": "stderr",
          "text": [
            "/usr/local/lib/python3.10/dist-packages/arch/univariate/base.py:310: DataScaleWarning: y is poorly scaled, which may affect convergence of the optimizer when\n",
            "estimating the model parameters. The scale of y is 0.001392. Parameter\n",
            "estimation work better when this value is between 1 and 1000. The recommended\n",
            "rescaling is 10 * y.\n",
            "\n",
            "This warning can be disabled by either rescaling y before initializing the\n",
            "model or by setting rescale=False.\n",
            "\n",
            "  warnings.warn(\n"
          ]
        },
        {
          "output_type": "stream",
          "name": "stdout",
          "text": [
            "Iteration:      1,   Func. Count:      8,   Neg. LLF: 9263909.84924741\n",
            "Iteration:      2,   Func. Count:     21,   Neg. LLF: 109326.91693468826\n",
            "Iteration:      3,   Func. Count:     30,   Neg. LLF: 2531.6038656793207\n",
            "Iteration:      4,   Func. Count:     40,   Neg. LLF: 94848.9512287767\n",
            "Iteration:      5,   Func. Count:     52,   Neg. LLF: -1139.4635933157074\n",
            "Optimization terminated successfully    (Exit mode 0)\n",
            "            Current function value: -1139.4635937126159\n",
            "            Iterations: 9\n",
            "            Function evaluations: 52\n",
            "            Gradient evaluations: 5\n"
          ]
        },
        {
          "output_type": "stream",
          "name": "stderr",
          "text": [
            "/usr/local/lib/python3.10/dist-packages/arch/univariate/base.py:310: DataScaleWarning: y is poorly scaled, which may affect convergence of the optimizer when\n",
            "estimating the model parameters. The scale of y is 0.001373. Parameter\n",
            "estimation work better when this value is between 1 and 1000. The recommended\n",
            "rescaling is 10 * y.\n",
            "\n",
            "This warning can be disabled by either rescaling y before initializing the\n",
            "model or by setting rescale=False.\n",
            "\n",
            "  warnings.warn(\n"
          ]
        },
        {
          "output_type": "stream",
          "name": "stdout",
          "text": [
            "Iteration:      1,   Func. Count:      8,   Neg. LLF: 76847027.32075687\n",
            "Iteration:      2,   Func. Count:     20,   Neg. LLF: -1139.4214219278185\n",
            "Optimization terminated successfully    (Exit mode 0)\n",
            "            Current function value: -1139.42142234919\n",
            "            Iterations: 6\n",
            "            Function evaluations: 20\n",
            "            Gradient evaluations: 2\n"
          ]
        },
        {
          "output_type": "stream",
          "name": "stderr",
          "text": [
            "/usr/local/lib/python3.10/dist-packages/arch/univariate/base.py:310: DataScaleWarning: y is poorly scaled, which may affect convergence of the optimizer when\n",
            "estimating the model parameters. The scale of y is 0.001374. Parameter\n",
            "estimation work better when this value is between 1 and 1000. The recommended\n",
            "rescaling is 10 * y.\n",
            "\n",
            "This warning can be disabled by either rescaling y before initializing the\n",
            "model or by setting rescale=False.\n",
            "\n",
            "  warnings.warn(\n"
          ]
        },
        {
          "output_type": "stream",
          "name": "stdout",
          "text": [
            "Iteration:      1,   Func. Count:      8,   Neg. LLF: 8089644.015184741\n",
            "Iteration:      2,   Func. Count:     21,   Neg. LLF: 3085.888108357185\n",
            "Iteration:      3,   Func. Count:     33,   Neg. LLF: 878.7715952369144\n",
            "Iteration:      4,   Func. Count:     42,   Neg. LLF: 12593380.891128203\n",
            "Iteration:      5,   Func. Count:     54,   Neg. LLF: -1140.3641175515181\n",
            "Optimization terminated successfully    (Exit mode 0)\n",
            "            Current function value: -1140.3641176747415\n",
            "            Iterations: 9\n",
            "            Function evaluations: 54\n",
            "            Gradient evaluations: 5\n"
          ]
        },
        {
          "output_type": "stream",
          "name": "stderr",
          "text": [
            "/usr/local/lib/python3.10/dist-packages/arch/univariate/base.py:310: DataScaleWarning: y is poorly scaled, which may affect convergence of the optimizer when\n",
            "estimating the model parameters. The scale of y is 0.001365. Parameter\n",
            "estimation work better when this value is between 1 and 1000. The recommended\n",
            "rescaling is 10 * y.\n",
            "\n",
            "This warning can be disabled by either rescaling y before initializing the\n",
            "model or by setting rescale=False.\n",
            "\n",
            "  warnings.warn(\n"
          ]
        },
        {
          "output_type": "stream",
          "name": "stdout",
          "text": [
            "Iteration:      1,   Func. Count:      8,   Neg. LLF: 8191218.451183214\n",
            "Iteration:      2,   Func. Count:     20,   Neg. LLF: -1142.9620493188563\n",
            "Optimization terminated successfully    (Exit mode 0)\n",
            "            Current function value: -1142.962049774766\n",
            "            Iterations: 6\n",
            "            Function evaluations: 20\n",
            "            Gradient evaluations: 2\n"
          ]
        },
        {
          "output_type": "stream",
          "name": "stderr",
          "text": [
            "/usr/local/lib/python3.10/dist-packages/arch/univariate/base.py:310: DataScaleWarning: y is poorly scaled, which may affect convergence of the optimizer when\n",
            "estimating the model parameters. The scale of y is 0.001361. Parameter\n",
            "estimation work better when this value is between 1 and 1000. The recommended\n",
            "rescaling is 10 * y.\n",
            "\n",
            "This warning can be disabled by either rescaling y before initializing the\n",
            "model or by setting rescale=False.\n",
            "\n",
            "  warnings.warn(\n"
          ]
        },
        {
          "output_type": "stream",
          "name": "stdout",
          "text": [
            "Iteration:      1,   Func. Count:      8,   Neg. LLF: 6525127.83755441\n",
            "Iteration:      2,   Func. Count:     20,   Neg. LLF: -1142.4852821396032\n",
            "Optimization terminated successfully    (Exit mode 0)\n",
            "            Current function value: -1142.4852825534326\n",
            "            Iterations: 6\n",
            "            Function evaluations: 20\n",
            "            Gradient evaluations: 2\n"
          ]
        },
        {
          "output_type": "stream",
          "name": "stderr",
          "text": [
            "/usr/local/lib/python3.10/dist-packages/arch/univariate/base.py:310: DataScaleWarning: y is poorly scaled, which may affect convergence of the optimizer when\n",
            "estimating the model parameters. The scale of y is 0.001362. Parameter\n",
            "estimation work better when this value is between 1 and 1000. The recommended\n",
            "rescaling is 10 * y.\n",
            "\n",
            "This warning can be disabled by either rescaling y before initializing the\n",
            "model or by setting rescale=False.\n",
            "\n",
            "  warnings.warn(\n"
          ]
        },
        {
          "output_type": "stream",
          "name": "stdout",
          "text": [
            "Iteration:      1,   Func. Count:      8,   Neg. LLF: 6526758.445042823\n",
            "Iteration:      2,   Func. Count:     21,   Neg. LLF: 1381.952580543072\n",
            "Iteration:      3,   Func. Count:     33,   Neg. LLF: 521856.7287843453\n",
            "Iteration:      4,   Func. Count:     46,   Neg. LLF: 6459.157708925781\n",
            "Iteration:      5,   Func. Count:     55,   Neg. LLF: -467.0348671312145\n",
            "Iteration:      6,   Func. Count:     64,   Neg. LLF: 57401.26402870897\n",
            "Iteration:      7,   Func. Count:     77,   Neg. LLF: 50019.19358295783\n",
            "Iteration:      8,   Func. Count:     86,   Neg. LLF: -880.6619951838605\n",
            "Iteration:      9,   Func. Count:     96,   Neg. LLF: 139663.29852968152\n",
            "Iteration:     10,   Func. Count:    106,   Neg. LLF: -1085.820256821245\n",
            "Iteration:     11,   Func. Count:    114,   Neg. LLF: -1092.21100372417\n",
            "Iteration:     12,   Func. Count:    122,   Neg. LLF: -1132.9680360574437\n",
            "Iteration:     13,   Func. Count:    131,   Neg. LLF: -1128.1652216866482\n",
            "Iteration:     14,   Func. Count:    139,   Neg. LLF: -1125.5301223205674\n",
            "Iteration:     15,   Func. Count:    147,   Neg. LLF: -1145.2748289809888\n",
            "Iteration:     16,   Func. Count:    155,   Neg. LLF: -1145.5882624658134\n",
            "Iteration:     17,   Func. Count:    163,   Neg. LLF: -1145.7264554757307\n",
            "Iteration:     18,   Func. Count:    170,   Neg. LLF: -1145.58549656085\n",
            "Iteration:     19,   Func. Count:    178,   Neg. LLF: -1145.7601987931798\n",
            "Iteration:     20,   Func. Count:    185,   Neg. LLF: -1145.81167212057\n",
            "Iteration:     21,   Func. Count:    192,   Neg. LLF: -1145.8280489724116\n",
            "Iteration:     22,   Func. Count:    199,   Neg. LLF: -1145.8338624519274\n",
            "Iteration:     23,   Func. Count:    206,   Neg. LLF: 338912.66822083725\n",
            "Iteration:     24,   Func. Count:    219,   Neg. LLF: 12093.947054364338\n",
            "Iteration:     25,   Func. Count:    232,   Neg. LLF: -1015.1373990047871\n",
            "Iteration:     26,   Func. Count:    243,   Neg. LLF: -1036.184601209222\n",
            "Iteration:     27,   Func. Count:    253,   Neg. LLF: -1145.8293824599414\n",
            "Iteration:     28,   Func. Count:    261,   Neg. LLF: -1145.8341975861313\n",
            "Iteration:     29,   Func. Count:    267,   Neg. LLF: -1145.8341975861258\n",
            "Optimization terminated successfully    (Exit mode 0)\n",
            "            Current function value: -1145.8341975861313\n",
            "            Iterations: 33\n",
            "            Function evaluations: 267\n",
            "            Gradient evaluations: 29\n"
          ]
        },
        {
          "output_type": "stream",
          "name": "stderr",
          "text": [
            "/usr/local/lib/python3.10/dist-packages/arch/univariate/base.py:310: DataScaleWarning: y is poorly scaled, which may affect convergence of the optimizer when\n",
            "estimating the model parameters. The scale of y is 0.001355. Parameter\n",
            "estimation work better when this value is between 1 and 1000. The recommended\n",
            "rescaling is 10 * y.\n",
            "\n",
            "This warning can be disabled by either rescaling y before initializing the\n",
            "model or by setting rescale=False.\n",
            "\n",
            "  warnings.warn(\n"
          ]
        },
        {
          "output_type": "stream",
          "name": "stdout",
          "text": [
            "Iteration:      1,   Func. Count:      8,   Neg. LLF: 6214052.299799659\n",
            "Iteration:      2,   Func. Count:     21,   Neg. LLF: 95135.96539114724\n",
            "Iteration:      3,   Func. Count:     30,   Neg. LLF: -500.84589011593937\n",
            "Iteration:      4,   Func. Count:     39,   Neg. LLF: -1117.2094511831256\n",
            "Iteration:      5,   Func. Count:     47,   Neg. LLF: -1117.3914256929036\n",
            "Iteration:      6,   Func. Count:     56,   Neg. LLF: -1106.7258142687679\n",
            "Iteration:      7,   Func. Count:     65,   Neg. LLF: -1124.19674239086\n",
            "Iteration:      8,   Func. Count:     73,   Neg. LLF: -1085.0355570667239\n",
            "Iteration:      9,   Func. Count:     81,   Neg. LLF: -1134.2212358900993\n",
            "Iteration:     10,   Func. Count:     89,   Neg. LLF: -1145.304263674016\n",
            "Iteration:     11,   Func. Count:     97,   Neg. LLF: -1146.7554470395933\n",
            "Iteration:     12,   Func. Count:    105,   Neg. LLF: -1147.1439080359326\n",
            "Iteration:     13,   Func. Count:    113,   Neg. LLF: -1137.9802083449283\n",
            "Iteration:     14,   Func. Count:    122,   Neg. LLF: -1147.189661056526\n",
            "Iteration:     15,   Func. Count:    130,   Neg. LLF: -1147.2276855099524\n",
            "Iteration:     16,   Func. Count:    137,   Neg. LLF: -1147.2277161696825\n",
            "Iteration:     17,   Func. Count:    143,   Neg. LLF: -1147.227716169784\n",
            "Optimization terminated successfully    (Exit mode 0)\n",
            "            Current function value: -1147.2277161696825\n",
            "            Iterations: 17\n",
            "            Function evaluations: 143\n",
            "            Gradient evaluations: 17\n"
          ]
        },
        {
          "output_type": "stream",
          "name": "stderr",
          "text": [
            "/usr/local/lib/python3.10/dist-packages/arch/univariate/base.py:310: DataScaleWarning: y is poorly scaled, which may affect convergence of the optimizer when\n",
            "estimating the model parameters. The scale of y is 0.001358. Parameter\n",
            "estimation work better when this value is between 1 and 1000. The recommended\n",
            "rescaling is 10 * y.\n",
            "\n",
            "This warning can be disabled by either rescaling y before initializing the\n",
            "model or by setting rescale=False.\n",
            "\n",
            "  warnings.warn(\n"
          ]
        },
        {
          "output_type": "stream",
          "name": "stdout",
          "text": [
            "Iteration:      1,   Func. Count:      8,   Neg. LLF: 5205750.43847735\n",
            "Iteration:      2,   Func. Count:     21,   Neg. LLF: 28334.746584316337\n",
            "Iteration:      3,   Func. Count:     30,   Neg. LLF: 130030255.69585587\n",
            "Iteration:      4,   Func. Count:     42,   Neg. LLF: -1146.1306001342941\n",
            "Optimization terminated successfully    (Exit mode 0)\n",
            "            Current function value: -1146.1306001109276\n",
            "            Iterations: 8\n",
            "            Function evaluations: 42\n",
            "            Gradient evaluations: 4\n"
          ]
        },
        {
          "output_type": "stream",
          "name": "stderr",
          "text": [
            "/usr/local/lib/python3.10/dist-packages/arch/univariate/base.py:310: DataScaleWarning: y is poorly scaled, which may affect convergence of the optimizer when\n",
            "estimating the model parameters. The scale of y is 0.001355. Parameter\n",
            "estimation work better when this value is between 1 and 1000. The recommended\n",
            "rescaling is 10 * y.\n",
            "\n",
            "This warning can be disabled by either rescaling y before initializing the\n",
            "model or by setting rescale=False.\n",
            "\n",
            "  warnings.warn(\n"
          ]
        },
        {
          "output_type": "stream",
          "name": "stdout",
          "text": [
            "Iteration:      1,   Func. Count:      8,   Neg. LLF: 5422323.140192809\n",
            "Iteration:      2,   Func. Count:     20,   Neg. LLF: -1145.3474607505916\n",
            "Optimization terminated successfully    (Exit mode 0)\n",
            "            Current function value: -1145.3474612559576\n",
            "            Iterations: 6\n",
            "            Function evaluations: 20\n",
            "            Gradient evaluations: 2\n"
          ]
        },
        {
          "output_type": "stream",
          "name": "stderr",
          "text": [
            "/usr/local/lib/python3.10/dist-packages/arch/univariate/base.py:310: DataScaleWarning: y is poorly scaled, which may affect convergence of the optimizer when\n",
            "estimating the model parameters. The scale of y is 0.001356. Parameter\n",
            "estimation work better when this value is between 1 and 1000. The recommended\n",
            "rescaling is 10 * y.\n",
            "\n",
            "This warning can be disabled by either rescaling y before initializing the\n",
            "model or by setting rescale=False.\n",
            "\n",
            "  warnings.warn(\n"
          ]
        },
        {
          "output_type": "stream",
          "name": "stdout",
          "text": [
            "Iteration:      1,   Func. Count:      8,   Neg. LLF: 4910666.524867625\n",
            "Iteration:      2,   Func. Count:     21,   Neg. LLF: -223.1081140620509\n",
            "Iteration:      3,   Func. Count:     31,   Neg. LLF: 2679.3962514089817\n",
            "Iteration:      4,   Func. Count:     42,   Neg. LLF: 59415.91458768733\n",
            "Iteration:      5,   Func. Count:     55,   Neg. LLF: 356.53414970650624\n",
            "Iteration:      6,   Func. Count:     66,   Neg. LLF: 120.38378374243075\n",
            "Iteration:      7,   Func. Count:     76,   Neg. LLF: -151.53645046698284\n",
            "Iteration:      8,   Func. Count:     86,   Neg. LLF: 522436.20641561784\n",
            "Iteration:      9,   Func. Count:     98,   Neg. LLF: -1146.9055916589673\n",
            "Optimization terminated successfully    (Exit mode 0)\n",
            "            Current function value: -1146.9055921730198\n",
            "            Iterations: 13\n",
            "            Function evaluations: 98\n",
            "            Gradient evaluations: 9\n"
          ]
        },
        {
          "output_type": "stream",
          "name": "stderr",
          "text": [
            "/usr/local/lib/python3.10/dist-packages/arch/univariate/base.py:310: DataScaleWarning: y is poorly scaled, which may affect convergence of the optimizer when\n",
            "estimating the model parameters. The scale of y is 0.001361. Parameter\n",
            "estimation work better when this value is between 1 and 1000. The recommended\n",
            "rescaling is 10 * y.\n",
            "\n",
            "This warning can be disabled by either rescaling y before initializing the\n",
            "model or by setting rescale=False.\n",
            "\n",
            "  warnings.warn(\n"
          ]
        },
        {
          "output_type": "stream",
          "name": "stdout",
          "text": [
            "Iteration:      1,   Func. Count:      8,   Neg. LLF: 39121506.69137787\n",
            "Iteration:      2,   Func. Count:     20,   Neg. LLF: -1148.0567085720959\n",
            "Optimization terminated successfully    (Exit mode 0)\n",
            "            Current function value: -1148.0567092389133\n",
            "            Iterations: 6\n",
            "            Function evaluations: 20\n",
            "            Gradient evaluations: 2\n"
          ]
        },
        {
          "output_type": "stream",
          "name": "stderr",
          "text": [
            "/usr/local/lib/python3.10/dist-packages/arch/univariate/base.py:310: DataScaleWarning: y is poorly scaled, which may affect convergence of the optimizer when\n",
            "estimating the model parameters. The scale of y is 0.001356. Parameter\n",
            "estimation work better when this value is between 1 and 1000. The recommended\n",
            "rescaling is 10 * y.\n",
            "\n",
            "This warning can be disabled by either rescaling y before initializing the\n",
            "model or by setting rescale=False.\n",
            "\n",
            "  warnings.warn(\n"
          ]
        },
        {
          "output_type": "stream",
          "name": "stdout",
          "text": [
            "Iteration:      1,   Func. Count:      8,   Neg. LLF: 7928572.237363982\n",
            "Iteration:      2,   Func. Count:     20,   Neg. LLF: -1149.7094293898726\n",
            "Optimization terminated successfully    (Exit mode 0)\n",
            "            Current function value: -1149.709430096691\n",
            "            Iterations: 6\n",
            "            Function evaluations: 20\n",
            "            Gradient evaluations: 2\n"
          ]
        },
        {
          "output_type": "stream",
          "name": "stderr",
          "text": [
            "/usr/local/lib/python3.10/dist-packages/arch/univariate/base.py:310: DataScaleWarning: y is poorly scaled, which may affect convergence of the optimizer when\n",
            "estimating the model parameters. The scale of y is 0.001347. Parameter\n",
            "estimation work better when this value is between 1 and 1000. The recommended\n",
            "rescaling is 10 * y.\n",
            "\n",
            "This warning can be disabled by either rescaling y before initializing the\n",
            "model or by setting rescale=False.\n",
            "\n",
            "  warnings.warn(\n"
          ]
        },
        {
          "output_type": "stream",
          "name": "stdout",
          "text": [
            "Iteration:      1,   Func. Count:      8,   Neg. LLF: 45187486.37553713\n",
            "Iteration:      2,   Func. Count:     20,   Neg. LLF: -1149.3336432060482\n",
            "Optimization terminated successfully    (Exit mode 0)\n",
            "            Current function value: -1149.333643845317\n",
            "            Iterations: 6\n",
            "            Function evaluations: 20\n",
            "            Gradient evaluations: 2\n"
          ]
        },
        {
          "output_type": "stream",
          "name": "stderr",
          "text": [
            "/usr/local/lib/python3.10/dist-packages/arch/univariate/base.py:310: DataScaleWarning: y is poorly scaled, which may affect convergence of the optimizer when\n",
            "estimating the model parameters. The scale of y is 0.001342. Parameter\n",
            "estimation work better when this value is between 1 and 1000. The recommended\n",
            "rescaling is 10 * y.\n",
            "\n",
            "This warning can be disabled by either rescaling y before initializing the\n",
            "model or by setting rescale=False.\n",
            "\n",
            "  warnings.warn(\n"
          ]
        },
        {
          "output_type": "stream",
          "name": "stdout",
          "text": [
            "Iteration:      1,   Func. Count:      9,   Neg. LLF: 3671861.0859554075\n",
            "Iteration:      2,   Func. Count:     22,   Neg. LLF: -1147.7254136541737\n",
            "Optimization terminated successfully    (Exit mode 0)\n",
            "            Current function value: -1147.7254142304278\n",
            "            Iterations: 6\n",
            "            Function evaluations: 22\n",
            "            Gradient evaluations: 2\n"
          ]
        },
        {
          "output_type": "stream",
          "name": "stderr",
          "text": [
            "/usr/local/lib/python3.10/dist-packages/arch/univariate/base.py:310: DataScaleWarning: y is poorly scaled, which may affect convergence of the optimizer when\n",
            "estimating the model parameters. The scale of y is 0.001324. Parameter\n",
            "estimation work better when this value is between 1 and 1000. The recommended\n",
            "rescaling is 10 * y.\n",
            "\n",
            "This warning can be disabled by either rescaling y before initializing the\n",
            "model or by setting rescale=False.\n",
            "\n",
            "  warnings.warn(\n"
          ]
        },
        {
          "output_type": "stream",
          "name": "stdout",
          "text": [
            "Iteration:      1,   Func. Count:      8,   Neg. LLF: 6785708.995588949\n",
            "Iteration:      2,   Func. Count:     21,   Neg. LLF: 43702.19678632491\n",
            "Iteration:      3,   Func. Count:     30,   Neg. LLF: 32918611.982353933\n",
            "Iteration:      4,   Func. Count:     42,   Neg. LLF: -1154.4201727712593\n",
            "Optimization terminated successfully    (Exit mode 0)\n",
            "            Current function value: -1154.4201725367095\n",
            "            Iterations: 8\n",
            "            Function evaluations: 42\n",
            "            Gradient evaluations: 4\n"
          ]
        },
        {
          "output_type": "stream",
          "name": "stderr",
          "text": [
            "/usr/local/lib/python3.10/dist-packages/arch/univariate/base.py:310: DataScaleWarning: y is poorly scaled, which may affect convergence of the optimizer when\n",
            "estimating the model parameters. The scale of y is 0.001324. Parameter\n",
            "estimation work better when this value is between 1 and 1000. The recommended\n",
            "rescaling is 10 * y.\n",
            "\n",
            "This warning can be disabled by either rescaling y before initializing the\n",
            "model or by setting rescale=False.\n",
            "\n",
            "  warnings.warn(\n"
          ]
        },
        {
          "output_type": "stream",
          "name": "stdout",
          "text": [
            "Iteration:      1,   Func. Count:      8,   Neg. LLF: 12816698.186608642\n",
            "Iteration:      2,   Func. Count:     21,   Neg. LLF: 5453.324139708171\n",
            "Iteration:      3,   Func. Count:     32,   Neg. LLF: -1154.868421920586\n",
            "Optimization terminated successfully    (Exit mode 0)\n",
            "            Current function value: -1154.8684223751372\n",
            "            Iterations: 7\n",
            "            Function evaluations: 32\n",
            "            Gradient evaluations: 3\n"
          ]
        },
        {
          "output_type": "stream",
          "name": "stderr",
          "text": [
            "/usr/local/lib/python3.10/dist-packages/arch/univariate/base.py:310: DataScaleWarning: y is poorly scaled, which may affect convergence of the optimizer when\n",
            "estimating the model parameters. The scale of y is 0.001322. Parameter\n",
            "estimation work better when this value is between 1 and 1000. The recommended\n",
            "rescaling is 10 * y.\n",
            "\n",
            "This warning can be disabled by either rescaling y before initializing the\n",
            "model or by setting rescale=False.\n",
            "\n",
            "  warnings.warn(\n"
          ]
        },
        {
          "output_type": "stream",
          "name": "stdout",
          "text": [
            "Iteration:      1,   Func. Count:     10,   Neg. LLF: 41832617.4043382\n",
            "Iteration:      2,   Func. Count:     24,   Neg. LLF: -1151.4828737515281\n",
            "Optimization terminated successfully    (Exit mode 0)\n",
            "            Current function value: -1151.4828745064274\n",
            "            Iterations: 6\n",
            "            Function evaluations: 24\n",
            "            Gradient evaluations: 2\n"
          ]
        },
        {
          "output_type": "stream",
          "name": "stderr",
          "text": [
            "/usr/local/lib/python3.10/dist-packages/arch/univariate/base.py:310: DataScaleWarning: y is poorly scaled, which may affect convergence of the optimizer when\n",
            "estimating the model parameters. The scale of y is 0.00132. Parameter\n",
            "estimation work better when this value is between 1 and 1000. The recommended\n",
            "rescaling is 10 * y.\n",
            "\n",
            "This warning can be disabled by either rescaling y before initializing the\n",
            "model or by setting rescale=False.\n",
            "\n",
            "  warnings.warn(\n"
          ]
        },
        {
          "output_type": "stream",
          "name": "stdout",
          "text": [
            "Iteration:      1,   Func. Count:      8,   Neg. LLF: 86113882.89744617\n",
            "Iteration:      2,   Func. Count:     21,   Neg. LLF: 14932.944850300635\n",
            "Iteration:      3,   Func. Count:     30,   Neg. LLF: 1681.211103320235\n",
            "Iteration:      4,   Func. Count:     39,   Neg. LLF: 15911961.249674179\n",
            "Iteration:      5,   Func. Count:     51,   Neg. LLF: -1156.2194380711708\n",
            "Optimization terminated successfully    (Exit mode 0)\n",
            "            Current function value: -1156.2194382284993\n",
            "            Iterations: 9\n",
            "            Function evaluations: 51\n",
            "            Gradient evaluations: 5\n"
          ]
        },
        {
          "output_type": "stream",
          "name": "stderr",
          "text": [
            "/usr/local/lib/python3.10/dist-packages/arch/univariate/base.py:310: DataScaleWarning: y is poorly scaled, which may affect convergence of the optimizer when\n",
            "estimating the model parameters. The scale of y is 0.001317. Parameter\n",
            "estimation work better when this value is between 1 and 1000. The recommended\n",
            "rescaling is 10 * y.\n",
            "\n",
            "This warning can be disabled by either rescaling y before initializing the\n",
            "model or by setting rescale=False.\n",
            "\n",
            "  warnings.warn(\n"
          ]
        },
        {
          "output_type": "stream",
          "name": "stdout",
          "text": [
            "Iteration:      1,   Func. Count:      8,   Neg. LLF: 91645044.50341648\n",
            "Iteration:      2,   Func. Count:     20,   Neg. LLF: -1156.7173488901767\n",
            "Optimization terminated successfully    (Exit mode 0)\n",
            "            Current function value: -1156.717349282007\n",
            "            Iterations: 6\n",
            "            Function evaluations: 20\n",
            "            Gradient evaluations: 2\n"
          ]
        },
        {
          "output_type": "stream",
          "name": "stderr",
          "text": [
            "/usr/local/lib/python3.10/dist-packages/arch/univariate/base.py:310: DataScaleWarning: y is poorly scaled, which may affect convergence of the optimizer when\n",
            "estimating the model parameters. The scale of y is 0.001317. Parameter\n",
            "estimation work better when this value is between 1 and 1000. The recommended\n",
            "rescaling is 10 * y.\n",
            "\n",
            "This warning can be disabled by either rescaling y before initializing the\n",
            "model or by setting rescale=False.\n",
            "\n",
            "  warnings.warn(\n"
          ]
        },
        {
          "output_type": "stream",
          "name": "stdout",
          "text": [
            "Iteration:      1,   Func. Count:      8,   Neg. LLF: 101158235.67698127\n",
            "Iteration:      2,   Func. Count:     20,   Neg. LLF: -1157.93230505462\n",
            "Optimization terminated successfully    (Exit mode 0)\n",
            "            Current function value: -1157.9323055327366\n",
            "            Iterations: 6\n",
            "            Function evaluations: 20\n",
            "            Gradient evaluations: 2\n"
          ]
        },
        {
          "output_type": "stream",
          "name": "stderr",
          "text": [
            "/usr/local/lib/python3.10/dist-packages/arch/univariate/base.py:310: DataScaleWarning: y is poorly scaled, which may affect convergence of the optimizer when\n",
            "estimating the model parameters. The scale of y is 0.001311. Parameter\n",
            "estimation work better when this value is between 1 and 1000. The recommended\n",
            "rescaling is 10 * y.\n",
            "\n",
            "This warning can be disabled by either rescaling y before initializing the\n",
            "model or by setting rescale=False.\n",
            "\n",
            "  warnings.warn(\n"
          ]
        },
        {
          "output_type": "stream",
          "name": "stdout",
          "text": [
            "Iteration:      1,   Func. Count:      8,   Neg. LLF: 6839682.094776954\n",
            "Iteration:      2,   Func. Count:     20,   Neg. LLF: -1158.3482693585113\n",
            "Optimization terminated successfully    (Exit mode 0)\n",
            "            Current function value: -1158.348269746093\n",
            "            Iterations: 6\n",
            "            Function evaluations: 20\n",
            "            Gradient evaluations: 2\n"
          ]
        },
        {
          "output_type": "stream",
          "name": "stderr",
          "text": [
            "/usr/local/lib/python3.10/dist-packages/arch/univariate/base.py:310: DataScaleWarning: y is poorly scaled, which may affect convergence of the optimizer when\n",
            "estimating the model parameters. The scale of y is 0.001314. Parameter\n",
            "estimation work better when this value is between 1 and 1000. The recommended\n",
            "rescaling is 10 * y.\n",
            "\n",
            "This warning can be disabled by either rescaling y before initializing the\n",
            "model or by setting rescale=False.\n",
            "\n",
            "  warnings.warn(\n"
          ]
        },
        {
          "output_type": "stream",
          "name": "stdout",
          "text": [
            "Iteration:      1,   Func. Count:      8,   Neg. LLF: 7004847.980458563\n",
            "Iteration:      2,   Func. Count:     21,   Neg. LLF: 8186920.306303912\n",
            "Iteration:      3,   Func. Count:     30,   Neg. LLF: -1018.043970767739\n",
            "Iteration:      4,   Func. Count:     39,   Neg. LLF: 210036474.40097237\n",
            "Iteration:      5,   Func. Count:     52,   Neg. LLF: 395647143213.254\n",
            "Iteration:      6,   Func. Count:     64,   Neg. LLF: 17674.72950154827\n",
            "Iteration:      7,   Func. Count:     74,   Neg. LLF: 2509.4769788956487\n",
            "Iteration:      8,   Func. Count:     85,   Neg. LLF: 52514499314864.125\n",
            "Iteration:      9,   Func. Count:     98,   Neg. LLF: 249853390343.5819\n",
            "Iteration:     10,   Func. Count:    109,   Neg. LLF: -1160.9375170853614\n",
            "Optimization terminated successfully    (Exit mode 0)\n",
            "            Current function value: -1160.9375171470888\n",
            "            Iterations: 14\n",
            "            Function evaluations: 109\n",
            "            Gradient evaluations: 10\n"
          ]
        },
        {
          "output_type": "stream",
          "name": "stderr",
          "text": [
            "/usr/local/lib/python3.10/dist-packages/arch/univariate/base.py:310: DataScaleWarning: y is poorly scaled, which may affect convergence of the optimizer when\n",
            "estimating the model parameters. The scale of y is 0.001305. Parameter\n",
            "estimation work better when this value is between 1 and 1000. The recommended\n",
            "rescaling is 10 * y.\n",
            "\n",
            "This warning can be disabled by either rescaling y before initializing the\n",
            "model or by setting rescale=False.\n",
            "\n",
            "  warnings.warn(\n"
          ]
        },
        {
          "output_type": "stream",
          "name": "stdout",
          "text": [
            "Iteration:      1,   Func. Count:      9,   Neg. LLF: 5825170.339188995\n",
            "Iteration:      2,   Func. Count:     22,   Neg. LLF: -1160.3876796873747\n",
            "Optimization terminated successfully    (Exit mode 0)\n",
            "            Current function value: -1160.3876805256943\n",
            "            Iterations: 6\n",
            "            Function evaluations: 22\n",
            "            Gradient evaluations: 2\n"
          ]
        },
        {
          "output_type": "stream",
          "name": "stderr",
          "text": [
            "/usr/local/lib/python3.10/dist-packages/arch/univariate/base.py:310: DataScaleWarning: y is poorly scaled, which may affect convergence of the optimizer when\n",
            "estimating the model parameters. The scale of y is 0.001304. Parameter\n",
            "estimation work better when this value is between 1 and 1000. The recommended\n",
            "rescaling is 10 * y.\n",
            "\n",
            "This warning can be disabled by either rescaling y before initializing the\n",
            "model or by setting rescale=False.\n",
            "\n",
            "  warnings.warn(\n"
          ]
        },
        {
          "output_type": "stream",
          "name": "stdout",
          "text": [
            "Iteration:      1,   Func. Count:      8,   Neg. LLF: 7939418.967591193\n",
            "Iteration:      2,   Func. Count:     20,   Neg. LLF: -1162.3918900319322\n",
            "Optimization terminated successfully    (Exit mode 0)\n",
            "            Current function value: -1162.3918905190667\n",
            "            Iterations: 6\n",
            "            Function evaluations: 20\n",
            "            Gradient evaluations: 2\n"
          ]
        },
        {
          "output_type": "stream",
          "name": "stderr",
          "text": [
            "/usr/local/lib/python3.10/dist-packages/arch/univariate/base.py:310: DataScaleWarning: y is poorly scaled, which may affect convergence of the optimizer when\n",
            "estimating the model parameters. The scale of y is 0.001302. Parameter\n",
            "estimation work better when this value is between 1 and 1000. The recommended\n",
            "rescaling is 10 * y.\n",
            "\n",
            "This warning can be disabled by either rescaling y before initializing the\n",
            "model or by setting rescale=False.\n",
            "\n",
            "  warnings.warn(\n"
          ]
        },
        {
          "output_type": "stream",
          "name": "stdout",
          "text": [
            "Iteration:      1,   Func. Count:      8,   Neg. LLF: 7505767.596768316\n",
            "Iteration:      2,   Func. Count:     20,   Neg. LLF: -1162.979256752922\n",
            "Optimization terminated successfully    (Exit mode 0)\n",
            "            Current function value: -1162.979257203364\n",
            "            Iterations: 6\n",
            "            Function evaluations: 20\n",
            "            Gradient evaluations: 2\n"
          ]
        },
        {
          "output_type": "stream",
          "name": "stderr",
          "text": [
            "/usr/local/lib/python3.10/dist-packages/arch/univariate/base.py:310: DataScaleWarning: y is poorly scaled, which may affect convergence of the optimizer when\n",
            "estimating the model parameters. The scale of y is 0.0013. Parameter\n",
            "estimation work better when this value is between 1 and 1000. The recommended\n",
            "rescaling is 10 * y.\n",
            "\n",
            "This warning can be disabled by either rescaling y before initializing the\n",
            "model or by setting rescale=False.\n",
            "\n",
            "  warnings.warn(\n"
          ]
        },
        {
          "output_type": "stream",
          "name": "stdout",
          "text": [
            "Iteration:      1,   Func. Count:     10,   Neg. LLF: 3863970.085947577\n",
            "Iteration:      2,   Func. Count:     25,   Neg. LLF: 2977.895471882485\n",
            "Iteration:      3,   Func. Count:     36,   Neg. LLF: 2694.011680883936\n",
            "Iteration:      4,   Func. Count:     48,   Neg. LLF: 711305.6555980629\n",
            "Iteration:      5,   Func. Count:     63,   Neg. LLF: 60.831220089909706\n",
            "Iteration:      6,   Func. Count:     75,   Neg. LLF: 2666.8852815983855\n",
            "Iteration:      7,   Func. Count:     88,   Neg. LLF: 7649080.1340317\n",
            "Iteration:      8,   Func. Count:    103,   Neg. LLF: 1352.4102226167329\n",
            "Iteration:      9,   Func. Count:    115,   Neg. LLF: -625.8098006755254\n",
            "Iteration:     10,   Func. Count:    126,   Neg. LLF: 5300266.155442443\n",
            "Iteration:     11,   Func. Count:    140,   Neg. LLF: -1163.0625335340187\n",
            "Optimization terminated successfully    (Exit mode 0)\n",
            "            Current function value: -1163.0625339180901\n",
            "            Iterations: 15\n",
            "            Function evaluations: 140\n",
            "            Gradient evaluations: 11\n"
          ]
        },
        {
          "output_type": "stream",
          "name": "stderr",
          "text": [
            "/usr/local/lib/python3.10/dist-packages/arch/univariate/base.py:310: DataScaleWarning: y is poorly scaled, which may affect convergence of the optimizer when\n",
            "estimating the model parameters. The scale of y is 0.001299. Parameter\n",
            "estimation work better when this value is between 1 and 1000. The recommended\n",
            "rescaling is 10 * y.\n",
            "\n",
            "This warning can be disabled by either rescaling y before initializing the\n",
            "model or by setting rescale=False.\n",
            "\n",
            "  warnings.warn(\n"
          ]
        },
        {
          "output_type": "stream",
          "name": "stdout",
          "text": [
            "Iteration:      1,   Func. Count:      9,   Neg. LLF: 5503634.64035375\n",
            "Iteration:      2,   Func. Count:     22,   Neg. LLF: -1163.305229821574\n",
            "Optimization terminated successfully    (Exit mode 0)\n",
            "            Current function value: -1163.3052306574607\n",
            "            Iterations: 6\n",
            "            Function evaluations: 22\n",
            "            Gradient evaluations: 2\n"
          ]
        },
        {
          "output_type": "stream",
          "name": "stderr",
          "text": [
            "/usr/local/lib/python3.10/dist-packages/arch/univariate/base.py:310: DataScaleWarning: y is poorly scaled, which may affect convergence of the optimizer when\n",
            "estimating the model parameters. The scale of y is 0.0013. Parameter\n",
            "estimation work better when this value is between 1 and 1000. The recommended\n",
            "rescaling is 10 * y.\n",
            "\n",
            "This warning can be disabled by either rescaling y before initializing the\n",
            "model or by setting rescale=False.\n",
            "\n",
            "  warnings.warn(\n"
          ]
        },
        {
          "output_type": "stream",
          "name": "stdout",
          "text": [
            "Iteration:      1,   Func. Count:     10,   Neg. LLF: 3291219.759365699\n",
            "Iteration:      2,   Func. Count:     24,   Neg. LLF: -1161.2085673232427\n",
            "Optimization terminated successfully    (Exit mode 0)\n",
            "            Current function value: -1161.2085681231922\n",
            "            Iterations: 6\n",
            "            Function evaluations: 24\n",
            "            Gradient evaluations: 2\n"
          ]
        },
        {
          "output_type": "stream",
          "name": "stderr",
          "text": [
            "/usr/local/lib/python3.10/dist-packages/arch/univariate/base.py:310: DataScaleWarning: y is poorly scaled, which may affect convergence of the optimizer when\n",
            "estimating the model parameters. The scale of y is 0.001297. Parameter\n",
            "estimation work better when this value is between 1 and 1000. The recommended\n",
            "rescaling is 10 * y.\n",
            "\n",
            "This warning can be disabled by either rescaling y before initializing the\n",
            "model or by setting rescale=False.\n",
            "\n",
            "  warnings.warn(\n"
          ]
        },
        {
          "output_type": "stream",
          "name": "stdout",
          "text": [
            "Iteration:      1,   Func. Count:      8,   Neg. LLF: 7276628.29312584\n",
            "Iteration:      2,   Func. Count:     20,   Neg. LLF: -1162.9215934044546\n",
            "Optimization terminated successfully    (Exit mode 0)\n",
            "            Current function value: -1162.9215943370714\n",
            "            Iterations: 6\n",
            "            Function evaluations: 20\n",
            "            Gradient evaluations: 2\n"
          ]
        },
        {
          "output_type": "stream",
          "name": "stderr",
          "text": [
            "/usr/local/lib/python3.10/dist-packages/arch/univariate/base.py:310: DataScaleWarning: y is poorly scaled, which may affect convergence of the optimizer when\n",
            "estimating the model parameters. The scale of y is 0.001301. Parameter\n",
            "estimation work better when this value is between 1 and 1000. The recommended\n",
            "rescaling is 10 * y.\n",
            "\n",
            "This warning can be disabled by either rescaling y before initializing the\n",
            "model or by setting rescale=False.\n",
            "\n",
            "  warnings.warn(\n"
          ]
        },
        {
          "output_type": "stream",
          "name": "stdout",
          "text": [
            "Iteration:      1,   Func. Count:      8,   Neg. LLF: 586042.460047272\n",
            "Iteration:      2,   Func. Count:     21,   Neg. LLF: 25412.831387348397\n",
            "Iteration:      3,   Func. Count:     33,   Neg. LLF: -1164.1272807919906\n",
            "Optimization terminated successfully    (Exit mode 0)\n",
            "            Current function value: -1164.127281968834\n",
            "            Iterations: 7\n",
            "            Function evaluations: 33\n",
            "            Gradient evaluations: 3\n"
          ]
        },
        {
          "output_type": "stream",
          "name": "stderr",
          "text": [
            "/usr/local/lib/python3.10/dist-packages/arch/univariate/base.py:310: DataScaleWarning: y is poorly scaled, which may affect convergence of the optimizer when\n",
            "estimating the model parameters. The scale of y is 0.001294. Parameter\n",
            "estimation work better when this value is between 1 and 1000. The recommended\n",
            "rescaling is 10 * y.\n",
            "\n",
            "This warning can be disabled by either rescaling y before initializing the\n",
            "model or by setting rescale=False.\n",
            "\n",
            "  warnings.warn(\n"
          ]
        },
        {
          "output_type": "stream",
          "name": "stdout",
          "text": [
            "Iteration:      1,   Func. Count:     10,   Neg. LLF: 3004815.5247736103\n",
            "Iteration:      2,   Func. Count:     25,   Neg. LLF: 290.2894300924156\n",
            "Iteration:      3,   Func. Count:     36,   Neg. LLF: 2511.6513314606136\n",
            "Iteration:      4,   Func. Count:     48,   Neg. LLF: 3344349.1516193133\n",
            "Iteration:      5,   Func. Count:     63,   Neg. LLF: 7076.241323136319\n",
            "Iteration:      6,   Func. Count:     74,   Neg. LLF: 2830.1455698259233\n",
            "Iteration:      7,   Func. Count:     86,   Neg. LLF: 1112743.262313958\n",
            "Iteration:      8,   Func. Count:    100,   Neg. LLF: -1166.3970102985418\n",
            "Optimization terminated successfully    (Exit mode 0)\n",
            "            Current function value: -1166.3970109952174\n",
            "            Iterations: 12\n",
            "            Function evaluations: 100\n",
            "            Gradient evaluations: 8\n"
          ]
        },
        {
          "output_type": "stream",
          "name": "stderr",
          "text": [
            "/usr/local/lib/python3.10/dist-packages/arch/univariate/base.py:310: DataScaleWarning: y is poorly scaled, which may affect convergence of the optimizer when\n",
            "estimating the model parameters. The scale of y is 0.001293. Parameter\n",
            "estimation work better when this value is between 1 and 1000. The recommended\n",
            "rescaling is 10 * y.\n",
            "\n",
            "This warning can be disabled by either rescaling y before initializing the\n",
            "model or by setting rescale=False.\n",
            "\n",
            "  warnings.warn(\n"
          ]
        },
        {
          "output_type": "stream",
          "name": "stdout",
          "text": [
            "Iteration:      1,   Func. Count:     10,   Neg. LLF: 2851863.2245616857\n",
            "Iteration:      2,   Func. Count:     25,   Neg. LLF: 989.023081908331\n",
            "Iteration:      3,   Func. Count:     38,   Neg. LLF: -781.7725650677353\n",
            "Iteration:      4,   Func. Count:     49,   Neg. LLF: 50963881.72644564\n",
            "Iteration:      5,   Func. Count:     64,   Neg. LLF: 20508422.349790838\n",
            "Iteration:      6,   Func. Count:     78,   Neg. LLF: -1166.1666762829527\n",
            "Optimization terminated successfully    (Exit mode 0)\n",
            "            Current function value: -1166.1666766744338\n",
            "            Iterations: 10\n",
            "            Function evaluations: 78\n",
            "            Gradient evaluations: 6\n"
          ]
        },
        {
          "output_type": "stream",
          "name": "stderr",
          "text": [
            "/usr/local/lib/python3.10/dist-packages/arch/univariate/base.py:310: DataScaleWarning: y is poorly scaled, which may affect convergence of the optimizer when\n",
            "estimating the model parameters. The scale of y is 0.00129. Parameter\n",
            "estimation work better when this value is between 1 and 1000. The recommended\n",
            "rescaling is 10 * y.\n",
            "\n",
            "This warning can be disabled by either rescaling y before initializing the\n",
            "model or by setting rescale=False.\n",
            "\n",
            "  warnings.warn(\n"
          ]
        },
        {
          "output_type": "stream",
          "name": "stdout",
          "text": [
            "Iteration:      1,   Func. Count:      8,   Neg. LLF: 1043531.0588795559\n",
            "Iteration:      2,   Func. Count:     20,   Neg. LLF: -1166.7987224482365\n",
            "Optimization terminated successfully    (Exit mode 0)\n",
            "            Current function value: -1166.7987233059325\n",
            "            Iterations: 6\n",
            "            Function evaluations: 20\n",
            "            Gradient evaluations: 2\n"
          ]
        },
        {
          "output_type": "stream",
          "name": "stderr",
          "text": [
            "/usr/local/lib/python3.10/dist-packages/arch/univariate/base.py:310: DataScaleWarning: y is poorly scaled, which may affect convergence of the optimizer when\n",
            "estimating the model parameters. The scale of y is 0.001287. Parameter\n",
            "estimation work better when this value is between 1 and 1000. The recommended\n",
            "rescaling is 10 * y.\n",
            "\n",
            "This warning can be disabled by either rescaling y before initializing the\n",
            "model or by setting rescale=False.\n",
            "\n",
            "  warnings.warn(\n"
          ]
        },
        {
          "output_type": "stream",
          "name": "stdout",
          "text": [
            "Iteration:      1,   Func. Count:      8,   Neg. LLF: 12861077.48442571\n",
            "Iteration:      2,   Func. Count:     20,   Neg. LLF: -1166.8237149774277\n",
            "Optimization terminated successfully    (Exit mode 0)\n",
            "            Current function value: -1166.8237159171438\n",
            "            Iterations: 6\n",
            "            Function evaluations: 20\n",
            "            Gradient evaluations: 2\n"
          ]
        },
        {
          "output_type": "stream",
          "name": "stderr",
          "text": [
            "/usr/local/lib/python3.10/dist-packages/arch/univariate/base.py:310: DataScaleWarning: y is poorly scaled, which may affect convergence of the optimizer when\n",
            "estimating the model parameters. The scale of y is 0.00129. Parameter\n",
            "estimation work better when this value is between 1 and 1000. The recommended\n",
            "rescaling is 10 * y.\n",
            "\n",
            "This warning can be disabled by either rescaling y before initializing the\n",
            "model or by setting rescale=False.\n",
            "\n",
            "  warnings.warn(\n"
          ]
        },
        {
          "output_type": "stream",
          "name": "stdout",
          "text": [
            "Iteration:      1,   Func. Count:      9,   Neg. LLF: 29437897659.693123\n",
            "Iteration:      2,   Func. Count:     23,   Neg. LLF: 4974.767465568683\n",
            "Iteration:      3,   Func. Count:     36,   Neg. LLF: 112373766618.08694\n",
            "Iteration:      4,   Func. Count:     50,   Neg. LLF: 4376.445382697609\n",
            "Iteration:      5,   Func. Count:     63,   Neg. LLF: 25550.044624098187\n",
            "Iteration:      6,   Func. Count:     76,   Neg. LLF: 10003110407.85309\n",
            "Iteration:      7,   Func. Count:     90,   Neg. LLF: 42150.96890238521\n",
            "Optimization terminated successfully    (Exit mode 0)\n",
            "            Current function value: -1170.0464061520988\n",
            "            Iterations: 9\n",
            "            Function evaluations: 97\n",
            "            Gradient evaluations: 7\n"
          ]
        },
        {
          "output_type": "stream",
          "name": "stderr",
          "text": [
            "/usr/local/lib/python3.10/dist-packages/arch/univariate/base.py:310: DataScaleWarning: y is poorly scaled, which may affect convergence of the optimizer when\n",
            "estimating the model parameters. The scale of y is 0.0013. Parameter\n",
            "estimation work better when this value is between 1 and 1000. The recommended\n",
            "rescaling is 10 * y.\n",
            "\n",
            "This warning can be disabled by either rescaling y before initializing the\n",
            "model or by setting rescale=False.\n",
            "\n",
            "  warnings.warn(\n"
          ]
        },
        {
          "output_type": "stream",
          "name": "stdout",
          "text": [
            "Iteration:      1,   Func. Count:      8,   Neg. LLF: 958848.930099674\n",
            "Iteration:      2,   Func. Count:     20,   Neg. LLF: -1168.0096198935985\n",
            "Optimization terminated successfully    (Exit mode 0)\n",
            "            Current function value: -1168.009621263793\n",
            "            Iterations: 6\n",
            "            Function evaluations: 20\n",
            "            Gradient evaluations: 2\n"
          ]
        },
        {
          "output_type": "stream",
          "name": "stderr",
          "text": [
            "/usr/local/lib/python3.10/dist-packages/arch/univariate/base.py:310: DataScaleWarning: y is poorly scaled, which may affect convergence of the optimizer when\n",
            "estimating the model parameters. The scale of y is 0.001291. Parameter\n",
            "estimation work better when this value is between 1 and 1000. The recommended\n",
            "rescaling is 10 * y.\n",
            "\n",
            "This warning can be disabled by either rescaling y before initializing the\n",
            "model or by setting rescale=False.\n",
            "\n",
            "  warnings.warn(\n"
          ]
        },
        {
          "output_type": "stream",
          "name": "stdout",
          "text": [
            "Iteration:      1,   Func. Count:      8,   Neg. LLF: 19483328.320774347\n",
            "Iteration:      2,   Func. Count:     21,   Neg. LLF: 1751.8893169337705\n",
            "Iteration:      3,   Func. Count:     32,   Neg. LLF: -8.687172262311837\n",
            "Iteration:      4,   Func. Count:     42,   Neg. LLF: 11122823.425562898\n",
            "Iteration:      5,   Func. Count:     54,   Neg. LLF: -1168.9876459945797\n",
            "Optimization terminated successfully    (Exit mode 0)\n",
            "            Current function value: -1168.9876471510395\n",
            "            Iterations: 9\n",
            "            Function evaluations: 54\n",
            "            Gradient evaluations: 5\n"
          ]
        },
        {
          "output_type": "stream",
          "name": "stderr",
          "text": [
            "/usr/local/lib/python3.10/dist-packages/arch/univariate/base.py:310: DataScaleWarning: y is poorly scaled, which may affect convergence of the optimizer when\n",
            "estimating the model parameters. The scale of y is 0.001285. Parameter\n",
            "estimation work better when this value is between 1 and 1000. The recommended\n",
            "rescaling is 10 * y.\n",
            "\n",
            "This warning can be disabled by either rescaling y before initializing the\n",
            "model or by setting rescale=False.\n",
            "\n",
            "  warnings.warn(\n"
          ]
        },
        {
          "output_type": "stream",
          "name": "stdout",
          "text": [
            "Iteration:      1,   Func. Count:      8,   Neg. LLF: 1298899.0408773478\n",
            "Iteration:      2,   Func. Count:     21,   Neg. LLF: 120.08825989400381\n",
            "Iteration:      3,   Func. Count:     31,   Neg. LLF: 4356713.665629417\n",
            "Iteration:      4,   Func. Count:     44,   Neg. LLF: 19187.19115285784\n",
            "Iteration:      5,   Func. Count:     53,   Neg. LLF: 40512.90544583595\n",
            "Iteration:      6,   Func. Count:     64,   Neg. LLF: 2568.4897392977236\n",
            "Iteration:      7,   Func. Count:     75,   Neg. LLF: 1608.0709365866335\n",
            "Iteration:      8,   Func. Count:     86,   Neg. LLF: 3774277.2641672473\n",
            "Iteration:      9,   Func. Count:     99,   Neg. LLF: -1105.2478003429633\n",
            "Iteration:     10,   Func. Count:    108,   Neg. LLF: -1170.2645293130709\n",
            "Optimization terminated successfully    (Exit mode 0)\n",
            "            Current function value: -1170.2645311547853\n",
            "            Iterations: 14\n",
            "            Function evaluations: 108\n",
            "            Gradient evaluations: 10\n"
          ]
        },
        {
          "output_type": "stream",
          "name": "stderr",
          "text": [
            "/usr/local/lib/python3.10/dist-packages/arch/univariate/base.py:310: DataScaleWarning: y is poorly scaled, which may affect convergence of the optimizer when\n",
            "estimating the model parameters. The scale of y is 0.001285. Parameter\n",
            "estimation work better when this value is between 1 and 1000. The recommended\n",
            "rescaling is 10 * y.\n",
            "\n",
            "This warning can be disabled by either rescaling y before initializing the\n",
            "model or by setting rescale=False.\n",
            "\n",
            "  warnings.warn(\n"
          ]
        },
        {
          "output_type": "stream",
          "name": "stdout",
          "text": [
            "Iteration:      1,   Func. Count:      8,   Neg. LLF: 25827626.51701917\n",
            "Iteration:      2,   Func. Count:     21,   Neg. LLF: 1041.6539182351778\n",
            "Iteration:      3,   Func. Count:     32,   Neg. LLF: 2740.2000789625986\n",
            "Iteration:      4,   Func. Count:     43,   Neg. LLF: -372.46528933664\n",
            "Iteration:      5,   Func. Count:     52,   Neg. LLF: 3716.9709539423293\n",
            "Iteration:      6,   Func. Count:     63,   Neg. LLF: -648.1188273801187\n",
            "Iteration:      7,   Func. Count:     72,   Neg. LLF: 8737.111561767597\n",
            "Iteration:      8,   Func. Count:     83,   Neg. LLF: 2587.288734862019\n",
            "Iteration:      9,   Func. Count:     94,   Neg. LLF: 168385.6359560348\n",
            "Iteration:     10,   Func. Count:    107,   Neg. LLF: 445451.2088613699\n",
            "Iteration:     11,   Func. Count:    120,   Neg. LLF: 974.5881665101543\n",
            "Iteration:     12,   Func. Count:    133,   Neg. LLF: 19604.277208695064\n",
            "Iteration:     13,   Func. Count:    146,   Neg. LLF: 2721.16947385275\n",
            "Iteration:     14,   Func. Count:    157,   Neg. LLF: 115420.46897275501\n",
            "Iteration:     15,   Func. Count:    170,   Neg. LLF: 2764.2391891036787\n",
            "Iteration:     16,   Func. Count:    182,   Neg. LLF: 8118.6850532654935\n",
            "Iteration:     17,   Func. Count:    194,   Neg. LLF: 323.7473656385996\n",
            "Iteration:     18,   Func. Count:    205,   Neg. LLF: -982.5244935623844\n",
            "Iteration:     19,   Func. Count:    214,   Neg. LLF: -988.056369124538\n",
            "Iteration:     20,   Func. Count:    222,   Neg. LLF: -1035.4074656580476\n",
            "Iteration:     21,   Func. Count:    231,   Neg. LLF: -1169.8787923347058\n",
            "Iteration:     22,   Func. Count:    239,   Neg. LLF: -1051.1912570470834\n",
            "Iteration:     23,   Func. Count:    248,   Neg. LLF: -1172.0749268231712\n",
            "Iteration:     24,   Func. Count:    255,   Neg. LLF: -1172.1450963026564\n",
            "Iteration:     25,   Func. Count:    262,   Neg. LLF: -1172.1714675355129\n",
            "Iteration:     26,   Func. Count:    269,   Neg. LLF: -1172.172203212403\n",
            "Iteration:     27,   Func. Count:    276,   Neg. LLF: -1172.1724454157497\n",
            "Iteration:     28,   Func. Count:    283,   Neg. LLF: -1172.1724609521902\n",
            "Iteration:     29,   Func. Count:    290,   Neg. LLF: -1172.1724581690642\n",
            "Optimization terminated successfully    (Exit mode 0)\n",
            "            Current function value: -1172.1724609521816\n",
            "            Iterations: 31\n",
            "            Function evaluations: 300\n",
            "            Gradient evaluations: 29\n"
          ]
        },
        {
          "output_type": "stream",
          "name": "stderr",
          "text": [
            "/usr/local/lib/python3.10/dist-packages/arch/univariate/base.py:310: DataScaleWarning: y is poorly scaled, which may affect convergence of the optimizer when\n",
            "estimating the model parameters. The scale of y is 0.001293. Parameter\n",
            "estimation work better when this value is between 1 and 1000. The recommended\n",
            "rescaling is 10 * y.\n",
            "\n",
            "This warning can be disabled by either rescaling y before initializing the\n",
            "model or by setting rescale=False.\n",
            "\n",
            "  warnings.warn(\n"
          ]
        },
        {
          "output_type": "stream",
          "name": "stdout",
          "text": [
            "Iteration:      1,   Func. Count:      8,   Neg. LLF: 5353404.800800813\n",
            "Iteration:      2,   Func. Count:     20,   Neg. LLF: -1165.504199984935\n",
            "Optimization terminated successfully    (Exit mode 0)\n",
            "            Current function value: -1165.504200438207\n",
            "            Iterations: 6\n",
            "            Function evaluations: 20\n",
            "            Gradient evaluations: 2\n"
          ]
        },
        {
          "output_type": "stream",
          "name": "stderr",
          "text": [
            "/usr/local/lib/python3.10/dist-packages/arch/univariate/base.py:310: DataScaleWarning: y is poorly scaled, which may affect convergence of the optimizer when\n",
            "estimating the model parameters. The scale of y is 0.001294. Parameter\n",
            "estimation work better when this value is between 1 and 1000. The recommended\n",
            "rescaling is 10 * y.\n",
            "\n",
            "This warning can be disabled by either rescaling y before initializing the\n",
            "model or by setting rescale=False.\n",
            "\n",
            "  warnings.warn(\n"
          ]
        },
        {
          "output_type": "stream",
          "name": "stdout",
          "text": [
            "Iteration:      1,   Func. Count:      8,   Neg. LLF: 6264908.931563235\n",
            "Iteration:      2,   Func. Count:     21,   Neg. LLF: 43066.94990353961\n",
            "Iteration:      3,   Func. Count:     30,   Neg. LLF: -1002.0695433174998\n",
            "Iteration:      4,   Func. Count:     40,   Neg. LLF: 1370.8826172969539\n",
            "Iteration:      5,   Func. Count:     49,   Neg. LLF: -855.5826395484221\n",
            "Iteration:      6,   Func. Count:     57,   Neg. LLF: -1112.930852856614\n",
            "Iteration:      7,   Func. Count:     65,   Neg. LLF: -1144.0516264492583\n",
            "Iteration:      8,   Func. Count:     73,   Neg. LLF: -1148.6281708698393\n",
            "Iteration:      9,   Func. Count:     81,   Neg. LLF: -1160.0624695642205\n",
            "Iteration:     10,   Func. Count:     89,   Neg. LLF: -1142.0679897984646\n",
            "Iteration:     11,   Func. Count:     97,   Neg. LLF: -1140.8827426758846\n",
            "Iteration:     12,   Func. Count:    105,   Neg. LLF: -1169.1924152761262\n",
            "Iteration:     13,   Func. Count:    115,   Neg. LLF: -1167.7258571268214\n",
            "Iteration:     14,   Func. Count:    123,   Neg. LLF: -1169.1422723795913\n",
            "Iteration:     15,   Func. Count:    131,   Neg. LLF: -1166.5001280955707\n",
            "Iteration:     16,   Func. Count:    140,   Neg. LLF: -1169.1176406058548\n",
            "Iteration:     17,   Func. Count:    148,   Neg. LLF: -1169.222038013641\n",
            "Iteration:     18,   Func. Count:    155,   Neg. LLF: -1169.2221331361563\n",
            "Iteration:     19,   Func. Count:    162,   Neg. LLF: -1169.2221547472573\n",
            "Iteration:     20,   Func. Count:    168,   Neg. LLF: -1169.2221547477834\n",
            "Optimization terminated successfully    (Exit mode 0)\n",
            "            Current function value: -1169.2221547472573\n",
            "            Iterations: 20\n",
            "            Function evaluations: 168\n",
            "            Gradient evaluations: 20\n"
          ]
        },
        {
          "output_type": "stream",
          "name": "stderr",
          "text": [
            "/usr/local/lib/python3.10/dist-packages/arch/univariate/base.py:310: DataScaleWarning: y is poorly scaled, which may affect convergence of the optimizer when\n",
            "estimating the model parameters. The scale of y is 0.001293. Parameter\n",
            "estimation work better when this value is between 1 and 1000. The recommended\n",
            "rescaling is 10 * y.\n",
            "\n",
            "This warning can be disabled by either rescaling y before initializing the\n",
            "model or by setting rescale=False.\n",
            "\n",
            "  warnings.warn(\n"
          ]
        },
        {
          "output_type": "stream",
          "name": "stdout",
          "text": [
            "Iteration:      1,   Func. Count:      8,   Neg. LLF: 7237172.220173942\n",
            "Iteration:      2,   Func. Count:     21,   Neg. LLF: 1892.7987893400416\n",
            "Iteration:      3,   Func. Count:     33,   Neg. LLF: 127537.98003534669\n",
            "Iteration:      4,   Func. Count:     42,   Neg. LLF: 2474.6430150161827\n",
            "Iteration:      5,   Func. Count:     52,   Neg. LLF: 2597.4062409923945\n",
            "Iteration:      6,   Func. Count:     62,   Neg. LLF: -1168.8233471496728\n",
            "Optimization terminated successfully    (Exit mode 0)\n",
            "            Current function value: -1168.8233474536196\n",
            "            Iterations: 10\n",
            "            Function evaluations: 62\n",
            "            Gradient evaluations: 6\n"
          ]
        },
        {
          "output_type": "stream",
          "name": "stderr",
          "text": [
            "/usr/local/lib/python3.10/dist-packages/arch/univariate/base.py:310: DataScaleWarning: y is poorly scaled, which may affect convergence of the optimizer when\n",
            "estimating the model parameters. The scale of y is 0.001294. Parameter\n",
            "estimation work better when this value is between 1 and 1000. The recommended\n",
            "rescaling is 10 * y.\n",
            "\n",
            "This warning can be disabled by either rescaling y before initializing the\n",
            "model or by setting rescale=False.\n",
            "\n",
            "  warnings.warn(\n"
          ]
        },
        {
          "output_type": "stream",
          "name": "stdout",
          "text": [
            "Iteration:      1,   Func. Count:      8,   Neg. LLF: 35711433.7078633\n",
            "Iteration:      2,   Func. Count:     21,   Neg. LLF: -1079.526433037824\n",
            "Iteration:      3,   Func. Count:     32,   Neg. LLF: -1104.5272443906294\n",
            "Iteration:      4,   Func. Count:     42,   Neg. LLF: -1104.5388385293043\n",
            "Iteration:      5,   Func. Count:     52,   Neg. LLF: -1165.896192888319\n",
            "Optimization terminated successfully    (Exit mode 0)\n",
            "            Current function value: -1165.8961949297834\n",
            "            Iterations: 9\n",
            "            Function evaluations: 52\n",
            "            Gradient evaluations: 5\n"
          ]
        },
        {
          "output_type": "stream",
          "name": "stderr",
          "text": [
            "/usr/local/lib/python3.10/dist-packages/arch/univariate/base.py:310: DataScaleWarning: y is poorly scaled, which may affect convergence of the optimizer when\n",
            "estimating the model parameters. The scale of y is 0.001289. Parameter\n",
            "estimation work better when this value is between 1 and 1000. The recommended\n",
            "rescaling is 10 * y.\n",
            "\n",
            "This warning can be disabled by either rescaling y before initializing the\n",
            "model or by setting rescale=False.\n",
            "\n",
            "  warnings.warn(\n"
          ]
        },
        {
          "output_type": "stream",
          "name": "stdout",
          "text": [
            "Iteration:      1,   Func. Count:      9,   Neg. LLF: 8220647.245933836\n",
            "Iteration:      2,   Func. Count:     23,   Neg. LLF: 1248.7610847397536\n",
            "Iteration:      3,   Func. Count:     35,   Neg. LLF: 411395.8515704581\n",
            "Iteration:      4,   Func. Count:     48,   Neg. LLF: -1163.64344266618\n",
            "Optimization terminated successfully    (Exit mode 0)\n",
            "            Current function value: -1163.6434432542926\n",
            "            Iterations: 8\n",
            "            Function evaluations: 48\n",
            "            Gradient evaluations: 4\n"
          ]
        },
        {
          "output_type": "stream",
          "name": "stderr",
          "text": [
            "/usr/local/lib/python3.10/dist-packages/arch/univariate/base.py:310: DataScaleWarning: y is poorly scaled, which may affect convergence of the optimizer when\n",
            "estimating the model parameters. The scale of y is 0.001289. Parameter\n",
            "estimation work better when this value is between 1 and 1000. The recommended\n",
            "rescaling is 10 * y.\n",
            "\n",
            "This warning can be disabled by either rescaling y before initializing the\n",
            "model or by setting rescale=False.\n",
            "\n",
            "  warnings.warn(\n"
          ]
        },
        {
          "output_type": "stream",
          "name": "stdout",
          "text": [
            "Iteration:      1,   Func. Count:      8,   Neg. LLF: 3420291.741804075\n",
            "Iteration:      2,   Func. Count:     20,   Neg. LLF: -1167.1783651392625\n",
            "Optimization terminated successfully    (Exit mode 0)\n",
            "            Current function value: -1167.1783661292911\n",
            "            Iterations: 6\n",
            "            Function evaluations: 20\n",
            "            Gradient evaluations: 2\n"
          ]
        },
        {
          "output_type": "stream",
          "name": "stderr",
          "text": [
            "/usr/local/lib/python3.10/dist-packages/arch/univariate/base.py:310: DataScaleWarning: y is poorly scaled, which may affect convergence of the optimizer when\n",
            "estimating the model parameters. The scale of y is 0.001298. Parameter\n",
            "estimation work better when this value is between 1 and 1000. The recommended\n",
            "rescaling is 10 * y.\n",
            "\n",
            "This warning can be disabled by either rescaling y before initializing the\n",
            "model or by setting rescale=False.\n",
            "\n",
            "  warnings.warn(\n"
          ]
        },
        {
          "output_type": "stream",
          "name": "stdout",
          "text": [
            "Iteration:      1,   Func. Count:      8,   Neg. LLF: 4178613.346455278\n",
            "Iteration:      2,   Func. Count:     21,   Neg. LLF: 1208.3753434908451\n",
            "Iteration:      3,   Func. Count:     32,   Neg. LLF: 3504.4549834733516\n",
            "Iteration:      4,   Func. Count:     43,   Neg. LLF: 17808.21356416671\n",
            "Iteration:      5,   Func. Count:     55,   Neg. LLF: -1168.017302658683\n",
            "Optimization terminated successfully    (Exit mode 0)\n",
            "            Current function value: -1168.0173040305106\n",
            "            Iterations: 9\n",
            "            Function evaluations: 55\n",
            "            Gradient evaluations: 5\n"
          ]
        },
        {
          "output_type": "stream",
          "name": "stderr",
          "text": [
            "/usr/local/lib/python3.10/dist-packages/arch/univariate/base.py:310: DataScaleWarning: y is poorly scaled, which may affect convergence of the optimizer when\n",
            "estimating the model parameters. The scale of y is 0.001288. Parameter\n",
            "estimation work better when this value is between 1 and 1000. The recommended\n",
            "rescaling is 10 * y.\n",
            "\n",
            "This warning can be disabled by either rescaling y before initializing the\n",
            "model or by setting rescale=False.\n",
            "\n",
            "  warnings.warn(\n"
          ]
        },
        {
          "output_type": "stream",
          "name": "stdout",
          "text": [
            "Iteration:      1,   Func. Count:      8,   Neg. LLF: 4765975.633569228\n",
            "Iteration:      2,   Func. Count:     20,   Neg. LLF: -1170.0636527835723\n",
            "Optimization terminated successfully    (Exit mode 0)\n",
            "            Current function value: -1170.0636539488141\n",
            "            Iterations: 6\n",
            "            Function evaluations: 20\n",
            "            Gradient evaluations: 2\n"
          ]
        },
        {
          "output_type": "stream",
          "name": "stderr",
          "text": [
            "/usr/local/lib/python3.10/dist-packages/arch/univariate/base.py:310: DataScaleWarning: y is poorly scaled, which may affect convergence of the optimizer when\n",
            "estimating the model parameters. The scale of y is 0.001283. Parameter\n",
            "estimation work better when this value is between 1 and 1000. The recommended\n",
            "rescaling is 10 * y.\n",
            "\n",
            "This warning can be disabled by either rescaling y before initializing the\n",
            "model or by setting rescale=False.\n",
            "\n",
            "  warnings.warn(\n"
          ]
        },
        {
          "output_type": "stream",
          "name": "stdout",
          "text": [
            "Iteration:      1,   Func. Count:      8,   Neg. LLF: 55344267.66710493\n",
            "Iteration:      2,   Func. Count:     21,   Neg. LLF: 3925.526638448479\n",
            "Iteration:      3,   Func. Count:     33,   Neg. LLF: 52074.59973320061\n",
            "Iteration:      4,   Func. Count:     47,   Neg. LLF: 241126.1030110353\n",
            "Iteration:      5,   Func. Count:     60,   Neg. LLF: 9508.835122770426\n",
            "Iteration:      6,   Func. Count:     69,   Neg. LLF: 219164865.36077878\n",
            "Iteration:      7,   Func. Count:     82,   Neg. LLF: -646.5967541933574\n",
            "Iteration:      8,   Func. Count:     94,   Neg. LLF: -976.1396206080115\n",
            "Iteration:      9,   Func. Count:    103,   Neg. LLF: -890.347483095203\n",
            "Iteration:     10,   Func. Count:    112,   Neg. LLF: -369.73452793243644\n",
            "Iteration:     11,   Func. Count:    121,   Neg. LLF: -1171.139289670358\n",
            "Iteration:     12,   Func. Count:    129,   Neg. LLF: -1172.878372961211\n",
            "Iteration:     13,   Func. Count:    137,   Neg. LLF: -1161.726495765111\n",
            "Iteration:     14,   Func. Count:    146,   Neg. LLF: -1173.3844093528935\n",
            "Iteration:     15,   Func. Count:    153,   Neg. LLF: -1172.1823004238322\n",
            "Iteration:     16,   Func. Count:    161,   Neg. LLF: -1173.4090687474295\n",
            "Iteration:     17,   Func. Count:    168,   Neg. LLF: -1173.4240083829338\n",
            "Iteration:     18,   Func. Count:    175,   Neg. LLF: -1173.42643672195\n",
            "Iteration:     19,   Func. Count:    182,   Neg. LLF: -1173.4266157140175\n",
            "Iteration:     20,   Func. Count:    189,   Neg. LLF: -1173.426614275794\n",
            "Optimization terminated successfully    (Exit mode 0)\n",
            "            Current function value: -1173.4266164300439\n",
            "            Iterations: 24\n",
            "            Function evaluations: 190\n",
            "            Gradient evaluations: 20\n"
          ]
        },
        {
          "output_type": "stream",
          "name": "stderr",
          "text": [
            "/usr/local/lib/python3.10/dist-packages/arch/univariate/base.py:310: DataScaleWarning: y is poorly scaled, which may affect convergence of the optimizer when\n",
            "estimating the model parameters. The scale of y is 0.001285. Parameter\n",
            "estimation work better when this value is between 1 and 1000. The recommended\n",
            "rescaling is 10 * y.\n",
            "\n",
            "This warning can be disabled by either rescaling y before initializing the\n",
            "model or by setting rescale=False.\n",
            "\n",
            "  warnings.warn(\n"
          ]
        },
        {
          "output_type": "stream",
          "name": "stdout",
          "text": [
            "Iteration:      1,   Func. Count:      9,   Neg. LLF: 9884866.327276085\n",
            "Iteration:      2,   Func. Count:     23,   Neg. LLF: 42868528.003592305\n",
            "Iteration:      3,   Func. Count:     37,   Neg. LLF: 8923719.599110026\n",
            "Iteration:      4,   Func. Count:     53,   Neg. LLF: 3896981.9022479067\n",
            "Iteration:      5,   Func. Count:     67,   Neg. LLF: 45455.69725633804\n",
            "Iteration:      6,   Func. Count:     81,   Neg. LLF: 13913.174345067851\n",
            "Iteration:      7,   Func. Count:     94,   Neg. LLF: 3220328.6144860857\n",
            "Iteration:      8,   Func. Count:    108,   Neg. LLF: 10159.972444544635\n",
            "Iteration:      9,   Func. Count:    121,   Neg. LLF: 3735291.351311477\n",
            "Iteration:     10,   Func. Count:    135,   Neg. LLF: 42277620.235929854\n",
            "Iteration:     11,   Func. Count:    149,   Neg. LLF: 141105.70205594445\n",
            "Optimization terminated successfully    (Exit mode 0)\n",
            "            Current function value: -1171.7950087147296\n",
            "            Iterations: 15\n",
            "            Function evaluations: 156\n",
            "            Gradient evaluations: 11\n"
          ]
        },
        {
          "output_type": "stream",
          "name": "stderr",
          "text": [
            "/usr/local/lib/python3.10/dist-packages/arch/univariate/base.py:310: DataScaleWarning: y is poorly scaled, which may affect convergence of the optimizer when\n",
            "estimating the model parameters. The scale of y is 0.001287. Parameter\n",
            "estimation work better when this value is between 1 and 1000. The recommended\n",
            "rescaling is 10 * y.\n",
            "\n",
            "This warning can be disabled by either rescaling y before initializing the\n",
            "model or by setting rescale=False.\n",
            "\n",
            "  warnings.warn(\n"
          ]
        },
        {
          "output_type": "stream",
          "name": "stdout",
          "text": [
            "Iteration:      1,   Func. Count:      8,   Neg. LLF: 5731893.5895346925\n",
            "Iteration:      2,   Func. Count:     21,   Neg. LLF: 424371.0335502031\n",
            "Iteration:      3,   Func. Count:     30,   Neg. LLF: -485.60813504609246\n",
            "Iteration:      4,   Func. Count:     39,   Neg. LLF: 164002.6867910694\n",
            "Iteration:      5,   Func. Count:     51,   Neg. LLF: 71431.77708107691\n",
            "Iteration:      6,   Func. Count:     64,   Neg. LLF: 594137.0522028898\n",
            "Iteration:      7,   Func. Count:     77,   Neg. LLF: -291.00028084519636\n",
            "Iteration:      8,   Func. Count:     89,   Neg. LLF: 66789.68255167422\n",
            "Iteration:      9,   Func. Count:    100,   Neg. LLF: -882.2597810943686\n",
            "Iteration:     10,   Func. Count:    109,   Neg. LLF: -985.5472577404465\n",
            "Iteration:     11,   Func. Count:    117,   Neg. LLF: -1079.5631713949924\n",
            "Iteration:     12,   Func. Count:    126,   Neg. LLF: -1171.4033696520391\n",
            "Iteration:     13,   Func. Count:    134,   Neg. LLF: -1067.5556640913321\n",
            "Iteration:     14,   Func. Count:    143,   Neg. LLF: -1173.6671590351348\n",
            "Iteration:     15,   Func. Count:    150,   Neg. LLF: -1173.7163333184521\n",
            "Iteration:     16,   Func. Count:    157,   Neg. LLF: -1173.721242552882\n",
            "Iteration:     17,   Func. Count:    164,   Neg. LLF: -1173.722685131806\n",
            "Iteration:     18,   Func. Count:    171,   Neg. LLF: -1173.7240976664739\n",
            "Iteration:     19,   Func. Count:    178,   Neg. LLF: -1173.7241068691833\n",
            "Iteration:     20,   Func. Count:    184,   Neg. LLF: -1173.7241068694175\n",
            "Optimization terminated successfully    (Exit mode 0)\n",
            "            Current function value: -1173.7241068691833\n",
            "            Iterations: 22\n",
            "            Function evaluations: 184\n",
            "            Gradient evaluations: 20\n"
          ]
        },
        {
          "output_type": "stream",
          "name": "stderr",
          "text": [
            "/usr/local/lib/python3.10/dist-packages/arch/univariate/base.py:310: DataScaleWarning: y is poorly scaled, which may affect convergence of the optimizer when\n",
            "estimating the model parameters. The scale of y is 0.00128. Parameter\n",
            "estimation work better when this value is between 1 and 1000. The recommended\n",
            "rescaling is 10 * y.\n",
            "\n",
            "This warning can be disabled by either rescaling y before initializing the\n",
            "model or by setting rescale=False.\n",
            "\n",
            "  warnings.warn(\n"
          ]
        },
        {
          "output_type": "stream",
          "name": "stdout",
          "text": [
            "Iteration:      1,   Func. Count:      8,   Neg. LLF: 5822661.781340166\n",
            "Iteration:      2,   Func. Count:     20,   Neg. LLF: -1170.7850417381717\n",
            "Optimization terminated successfully    (Exit mode 0)\n",
            "            Current function value: -1170.7850430399467\n",
            "            Iterations: 6\n",
            "            Function evaluations: 20\n",
            "            Gradient evaluations: 2\n"
          ]
        },
        {
          "output_type": "stream",
          "name": "stderr",
          "text": [
            "/usr/local/lib/python3.10/dist-packages/arch/univariate/base.py:310: DataScaleWarning: y is poorly scaled, which may affect convergence of the optimizer when\n",
            "estimating the model parameters. The scale of y is 0.00128. Parameter\n",
            "estimation work better when this value is between 1 and 1000. The recommended\n",
            "rescaling is 10 * y.\n",
            "\n",
            "This warning can be disabled by either rescaling y before initializing the\n",
            "model or by setting rescale=False.\n",
            "\n",
            "  warnings.warn(\n"
          ]
        },
        {
          "output_type": "stream",
          "name": "stdout",
          "text": [
            "Iteration:      1,   Func. Count:      8,   Neg. LLF: 73527988.91071223\n",
            "Iteration:      2,   Func. Count:     20,   Neg. LLF: -1174.3629987601475\n",
            "Optimization terminated successfully    (Exit mode 0)\n",
            "            Current function value: -1174.3630001860727\n",
            "            Iterations: 6\n",
            "            Function evaluations: 20\n",
            "            Gradient evaluations: 2\n"
          ]
        },
        {
          "output_type": "stream",
          "name": "stderr",
          "text": [
            "/usr/local/lib/python3.10/dist-packages/arch/univariate/base.py:310: DataScaleWarning: y is poorly scaled, which may affect convergence of the optimizer when\n",
            "estimating the model parameters. The scale of y is 0.001272. Parameter\n",
            "estimation work better when this value is between 1 and 1000. The recommended\n",
            "rescaling is 10 * y.\n",
            "\n",
            "This warning can be disabled by either rescaling y before initializing the\n",
            "model or by setting rescale=False.\n",
            "\n",
            "  warnings.warn(\n"
          ]
        },
        {
          "output_type": "stream",
          "name": "stdout",
          "text": [
            "Iteration:      1,   Func. Count:      8,   Neg. LLF: 5837823.801053762\n",
            "Iteration:      2,   Func. Count:     20,   Neg. LLF: -1173.7463201552432\n",
            "Optimization terminated successfully    (Exit mode 0)\n",
            "            Current function value: -1173.7463213492583\n",
            "            Iterations: 6\n",
            "            Function evaluations: 20\n",
            "            Gradient evaluations: 2\n"
          ]
        },
        {
          "output_type": "stream",
          "name": "stderr",
          "text": [
            "/usr/local/lib/python3.10/dist-packages/arch/univariate/base.py:310: DataScaleWarning: y is poorly scaled, which may affect convergence of the optimizer when\n",
            "estimating the model parameters. The scale of y is 0.001273. Parameter\n",
            "estimation work better when this value is between 1 and 1000. The recommended\n",
            "rescaling is 10 * y.\n",
            "\n",
            "This warning can be disabled by either rescaling y before initializing the\n",
            "model or by setting rescale=False.\n",
            "\n",
            "  warnings.warn(\n"
          ]
        },
        {
          "output_type": "stream",
          "name": "stdout",
          "text": [
            "Iteration:      1,   Func. Count:      8,   Neg. LLF: 6622894.327651456\n",
            "Iteration:      2,   Func. Count:     20,   Neg. LLF: -1174.230068949447\n",
            "Optimization terminated successfully    (Exit mode 0)\n",
            "            Current function value: -1174.2300702689843\n",
            "            Iterations: 6\n",
            "            Function evaluations: 20\n",
            "            Gradient evaluations: 2\n"
          ]
        },
        {
          "output_type": "stream",
          "name": "stderr",
          "text": [
            "/usr/local/lib/python3.10/dist-packages/arch/univariate/base.py:310: DataScaleWarning: y is poorly scaled, which may affect convergence of the optimizer when\n",
            "estimating the model parameters. The scale of y is 0.001272. Parameter\n",
            "estimation work better when this value is between 1 and 1000. The recommended\n",
            "rescaling is 10 * y.\n",
            "\n",
            "This warning can be disabled by either rescaling y before initializing the\n",
            "model or by setting rescale=False.\n",
            "\n",
            "  warnings.warn(\n"
          ]
        },
        {
          "output_type": "stream",
          "name": "stdout",
          "text": [
            "Iteration:      1,   Func. Count:      8,   Neg. LLF: 7086984.7817988265\n",
            "Iteration:      2,   Func. Count:     20,   Neg. LLF: -1174.7840047784641\n",
            "Optimization terminated successfully    (Exit mode 0)\n",
            "            Current function value: -1174.7840061514664\n",
            "            Iterations: 6\n",
            "            Function evaluations: 20\n",
            "            Gradient evaluations: 2\n"
          ]
        },
        {
          "output_type": "stream",
          "name": "stderr",
          "text": [
            "/usr/local/lib/python3.10/dist-packages/arch/univariate/base.py:310: DataScaleWarning: y is poorly scaled, which may affect convergence of the optimizer when\n",
            "estimating the model parameters. The scale of y is 0.001279. Parameter\n",
            "estimation work better when this value is between 1 and 1000. The recommended\n",
            "rescaling is 10 * y.\n",
            "\n",
            "This warning can be disabled by either rescaling y before initializing the\n",
            "model or by setting rescale=False.\n",
            "\n",
            "  warnings.warn(\n"
          ]
        },
        {
          "output_type": "stream",
          "name": "stdout",
          "text": [
            "Iteration:      1,   Func. Count:      8,   Neg. LLF: 8310100.711404342\n",
            "Iteration:      2,   Func. Count:     20,   Neg. LLF: -1174.2797443399388\n",
            "Optimization terminated successfully    (Exit mode 0)\n",
            "            Current function value: -1174.279746036549\n",
            "            Iterations: 6\n",
            "            Function evaluations: 20\n",
            "            Gradient evaluations: 2\n"
          ]
        },
        {
          "output_type": "stream",
          "name": "stderr",
          "text": [
            "/usr/local/lib/python3.10/dist-packages/arch/univariate/base.py:310: DataScaleWarning: y is poorly scaled, which may affect convergence of the optimizer when\n",
            "estimating the model parameters. The scale of y is 0.00129. Parameter\n",
            "estimation work better when this value is between 1 and 1000. The recommended\n",
            "rescaling is 10 * y.\n",
            "\n",
            "This warning can be disabled by either rescaling y before initializing the\n",
            "model or by setting rescale=False.\n",
            "\n",
            "  warnings.warn(\n"
          ]
        },
        {
          "output_type": "stream",
          "name": "stdout",
          "text": [
            "Iteration:      1,   Func. Count:      8,   Neg. LLF: 14125123.689763993\n",
            "Iteration:      2,   Func. Count:     20,   Neg. LLF: -1163.9774077969919\n",
            "Optimization terminated successfully    (Exit mode 0)\n",
            "            Current function value: -1163.9774078581804\n",
            "            Iterations: 6\n",
            "            Function evaluations: 20\n",
            "            Gradient evaluations: 2\n"
          ]
        },
        {
          "output_type": "stream",
          "name": "stderr",
          "text": [
            "/usr/local/lib/python3.10/dist-packages/arch/univariate/base.py:310: DataScaleWarning: y is poorly scaled, which may affect convergence of the optimizer when\n",
            "estimating the model parameters. The scale of y is 0.001294. Parameter\n",
            "estimation work better when this value is between 1 and 1000. The recommended\n",
            "rescaling is 10 * y.\n",
            "\n",
            "This warning can be disabled by either rescaling y before initializing the\n",
            "model or by setting rescale=False.\n",
            "\n",
            "  warnings.warn(\n"
          ]
        },
        {
          "output_type": "stream",
          "name": "stdout",
          "text": [
            "Iteration:      1,   Func. Count:      8,   Neg. LLF: 116857410.14644487\n",
            "Iteration:      2,   Func. Count:     20,   Neg. LLF: -1163.2589107833335\n",
            "Optimization terminated successfully    (Exit mode 0)\n",
            "            Current function value: -1163.258910860468\n",
            "            Iterations: 6\n",
            "            Function evaluations: 20\n",
            "            Gradient evaluations: 2\n"
          ]
        },
        {
          "output_type": "stream",
          "name": "stderr",
          "text": [
            "/usr/local/lib/python3.10/dist-packages/arch/univariate/base.py:310: DataScaleWarning: y is poorly scaled, which may affect convergence of the optimizer when\n",
            "estimating the model parameters. The scale of y is 0.001294. Parameter\n",
            "estimation work better when this value is between 1 and 1000. The recommended\n",
            "rescaling is 10 * y.\n",
            "\n",
            "This warning can be disabled by either rescaling y before initializing the\n",
            "model or by setting rescale=False.\n",
            "\n",
            "  warnings.warn(\n"
          ]
        },
        {
          "output_type": "stream",
          "name": "stdout",
          "text": [
            "Iteration:      1,   Func. Count:      9,   Neg. LLF: 8964349.558878828\n",
            "Iteration:      2,   Func. Count:     22,   Neg. LLF: -1163.6704830481963\n",
            "Optimization terminated successfully    (Exit mode 0)\n",
            "            Current function value: -1163.670483498797\n",
            "            Iterations: 6\n",
            "            Function evaluations: 22\n",
            "            Gradient evaluations: 2\n"
          ]
        },
        {
          "output_type": "stream",
          "name": "stderr",
          "text": [
            "/usr/local/lib/python3.10/dist-packages/arch/univariate/base.py:310: DataScaleWarning: y is poorly scaled, which may affect convergence of the optimizer when\n",
            "estimating the model parameters. The scale of y is 0.001288. Parameter\n",
            "estimation work better when this value is between 1 and 1000. The recommended\n",
            "rescaling is 10 * y.\n",
            "\n",
            "This warning can be disabled by either rescaling y before initializing the\n",
            "model or by setting rescale=False.\n",
            "\n",
            "  warnings.warn(\n"
          ]
        },
        {
          "output_type": "stream",
          "name": "stdout",
          "text": [
            "Iteration:      1,   Func. Count:      8,   Neg. LLF: 54075070.21986224\n",
            "Iteration:      2,   Func. Count:     20,   Neg. LLF: -1163.0105662230058\n",
            "Optimization terminated successfully    (Exit mode 0)\n",
            "            Current function value: -1163.0105662438586\n",
            "            Iterations: 6\n",
            "            Function evaluations: 20\n",
            "            Gradient evaluations: 2\n"
          ]
        },
        {
          "output_type": "stream",
          "name": "stderr",
          "text": [
            "/usr/local/lib/python3.10/dist-packages/arch/univariate/base.py:310: DataScaleWarning: y is poorly scaled, which may affect convergence of the optimizer when\n",
            "estimating the model parameters. The scale of y is 0.001304. Parameter\n",
            "estimation work better when this value is between 1 and 1000. The recommended\n",
            "rescaling is 10 * y.\n",
            "\n",
            "This warning can be disabled by either rescaling y before initializing the\n",
            "model or by setting rescale=False.\n",
            "\n",
            "  warnings.warn(\n"
          ]
        },
        {
          "output_type": "stream",
          "name": "stdout",
          "text": [
            "Iteration:      1,   Func. Count:      8,   Neg. LLF: 495344697729.45636\n",
            "Iteration:      2,   Func. Count:     21,   Neg. LLF: 38686455.47111536\n",
            "Iteration:      3,   Func. Count:     31,   Neg. LLF: 3171.0088017591193\n",
            "Iteration:      4,   Func. Count:     43,   Neg. LLF: -692.2723905368707\n",
            "Iteration:      5,   Func. Count:     55,   Neg. LLF: 55522331.05823196\n",
            "Iteration:      6,   Func. Count:     68,   Neg. LLF: -799.8996756559089\n",
            "Iteration:      7,   Func. Count:     77,   Neg. LLF: 2461.0515596293762\n",
            "Iteration:      8,   Func. Count:     87,   Neg. LLF: 2447.874468043166\n",
            "Iteration:      9,   Func. Count:     98,   Neg. LLF: 675664.3611833609\n",
            "Iteration:     10,   Func. Count:    111,   Neg. LLF: -671.4711500531845\n",
            "Iteration:     11,   Func. Count:    123,   Neg. LLF: -932.4439871500198\n",
            "Iteration:     12,   Func. Count:    132,   Neg. LLF: -1071.349642257046\n",
            "Iteration:     13,   Func. Count:    141,   Neg. LLF: -1152.8362824544708\n",
            "Iteration:     14,   Func. Count:    149,   Neg. LLF: -1161.8135662759375\n",
            "Iteration:     15,   Func. Count:    157,   Neg. LLF: -1161.2787322359081\n",
            "Iteration:     16,   Func. Count:    165,   Neg. LLF: -1162.423905933465\n",
            "Iteration:     17,   Func. Count:    172,   Neg. LLF: -1162.4748592467108\n",
            "Iteration:     18,   Func. Count:    179,   Neg. LLF: -1162.4899466808843\n",
            "Iteration:     19,   Func. Count:    186,   Neg. LLF: -1162.4923975670617\n",
            "Iteration:     20,   Func. Count:    193,   Neg. LLF: -1162.4924648475499\n",
            "Iteration:     21,   Func. Count:    200,   Neg. LLF: -1162.492468658281\n",
            "Iteration:     22,   Func. Count:    206,   Neg. LLF: -1162.4924686585919\n",
            "Optimization terminated successfully    (Exit mode 0)\n",
            "            Current function value: -1162.492468658281\n",
            "            Iterations: 24\n",
            "            Function evaluations: 206\n",
            "            Gradient evaluations: 22\n"
          ]
        },
        {
          "output_type": "stream",
          "name": "stderr",
          "text": [
            "/usr/local/lib/python3.10/dist-packages/arch/univariate/base.py:310: DataScaleWarning: y is poorly scaled, which may affect convergence of the optimizer when\n",
            "estimating the model parameters. The scale of y is 0.001308. Parameter\n",
            "estimation work better when this value is between 1 and 1000. The recommended\n",
            "rescaling is 10 * y.\n",
            "\n",
            "This warning can be disabled by either rescaling y before initializing the\n",
            "model or by setting rescale=False.\n",
            "\n",
            "  warnings.warn(\n"
          ]
        },
        {
          "output_type": "stream",
          "name": "stdout",
          "text": [
            "Iteration:      1,   Func. Count:      8,   Neg. LLF: 12871778.702807246\n",
            "Iteration:      2,   Func. Count:     21,   Neg. LLF: 22143.966140677152\n",
            "Iteration:      3,   Func. Count:     33,   Neg. LLF: -1161.2540962025907\n",
            "Optimization terminated successfully    (Exit mode 0)\n",
            "            Current function value: -1161.254096394378\n",
            "            Iterations: 7\n",
            "            Function evaluations: 33\n",
            "            Gradient evaluations: 3\n"
          ]
        },
        {
          "output_type": "stream",
          "name": "stderr",
          "text": [
            "/usr/local/lib/python3.10/dist-packages/arch/univariate/base.py:310: DataScaleWarning: y is poorly scaled, which may affect convergence of the optimizer when\n",
            "estimating the model parameters. The scale of y is 0.001296. Parameter\n",
            "estimation work better when this value is between 1 and 1000. The recommended\n",
            "rescaling is 10 * y.\n",
            "\n",
            "This warning can be disabled by either rescaling y before initializing the\n",
            "model or by setting rescale=False.\n",
            "\n",
            "  warnings.warn(\n"
          ]
        },
        {
          "output_type": "stream",
          "name": "stdout",
          "text": [
            "Iteration:      1,   Func. Count:      8,   Neg. LLF: 22651678.28557854\n",
            "Iteration:      2,   Func. Count:     21,   Neg. LLF: 10175.896314455187\n",
            "Iteration:      3,   Func. Count:     34,   Neg. LLF: 223669.59875561146\n",
            "Iteration:      4,   Func. Count:     43,   Neg. LLF: -1145.059696765129\n",
            "Iteration:      5,   Func. Count:     51,   Neg. LLF: -1119.1901444556565\n",
            "Iteration:      6,   Func. Count:     61,   Neg. LLF: -1096.9162216436753\n",
            "Iteration:      7,   Func. Count:     69,   Neg. LLF: -1110.776120106071\n",
            "Iteration:      8,   Func. Count:     77,   Neg. LLF: -1158.7850160650362\n",
            "Iteration:      9,   Func. Count:     85,   Neg. LLF: -1079.036489060243\n",
            "Iteration:     10,   Func. Count:     93,   Neg. LLF: -1160.9626790024208\n",
            "Iteration:     11,   Func. Count:    101,   Neg. LLF: -1160.918477139602\n",
            "Iteration:     12,   Func. Count:    109,   Neg. LLF: -1160.8618158329211\n",
            "Iteration:     13,   Func. Count:    117,   Neg. LLF: -1161.0922221688938\n",
            "Iteration:     14,   Func. Count:    125,   Neg. LLF: -1160.875908115623\n",
            "Iteration:     15,   Func. Count:    133,   Neg. LLF: -1161.182505253215\n",
            "Iteration:     16,   Func. Count:    140,   Neg. LLF: -1161.1835100550447\n",
            "Iteration:     17,   Func. Count:    147,   Neg. LLF: -1161.1875648008863\n",
            "Iteration:     18,   Func. Count:    154,   Neg. LLF: -1161.1893364804037\n",
            "Iteration:     19,   Func. Count:    161,   Neg. LLF: -1161.1893470148561\n",
            "Iteration:     20,   Func. Count:    167,   Neg. LLF: -1161.189347014782\n",
            "Optimization terminated successfully    (Exit mode 0)\n",
            "            Current function value: -1161.1893470148561\n",
            "            Iterations: 21\n",
            "            Function evaluations: 167\n",
            "            Gradient evaluations: 20\n"
          ]
        },
        {
          "output_type": "stream",
          "name": "stderr",
          "text": [
            "/usr/local/lib/python3.10/dist-packages/arch/univariate/base.py:310: DataScaleWarning: y is poorly scaled, which may affect convergence of the optimizer when\n",
            "estimating the model parameters. The scale of y is 0.001304. Parameter\n",
            "estimation work better when this value is between 1 and 1000. The recommended\n",
            "rescaling is 10 * y.\n",
            "\n",
            "This warning can be disabled by either rescaling y before initializing the\n",
            "model or by setting rescale=False.\n",
            "\n",
            "  warnings.warn(\n"
          ]
        },
        {
          "output_type": "stream",
          "name": "stdout",
          "text": [
            "Iteration:      1,   Func. Count:      8,   Neg. LLF: 123691996.19012171\n",
            "Iteration:      2,   Func. Count:     20,   Neg. LLF: -1161.5162857472276\n",
            "Optimization terminated successfully    (Exit mode 0)\n",
            "            Current function value: -1161.51628593232\n",
            "            Iterations: 6\n",
            "            Function evaluations: 20\n",
            "            Gradient evaluations: 2\n"
          ]
        },
        {
          "output_type": "stream",
          "name": "stderr",
          "text": [
            "/usr/local/lib/python3.10/dist-packages/arch/univariate/base.py:310: DataScaleWarning: y is poorly scaled, which may affect convergence of the optimizer when\n",
            "estimating the model parameters. The scale of y is 0.001295. Parameter\n",
            "estimation work better when this value is between 1 and 1000. The recommended\n",
            "rescaling is 10 * y.\n",
            "\n",
            "This warning can be disabled by either rescaling y before initializing the\n",
            "model or by setting rescale=False.\n",
            "\n",
            "  warnings.warn(\n"
          ]
        },
        {
          "output_type": "stream",
          "name": "stdout",
          "text": [
            "Iteration:      1,   Func. Count:      8,   Neg. LLF: 101824445.7884309\n",
            "Iteration:      2,   Func. Count:     21,   Neg. LLF: 16980.88083994714\n",
            "Iteration:      3,   Func. Count:     34,   Neg. LLF: 61638.17289662019\n",
            "Iteration:      4,   Func. Count:     43,   Neg. LLF: -1127.121812895054\n",
            "Iteration:      5,   Func. Count:     51,   Neg. LLF: -1093.8690796994879\n",
            "Iteration:      6,   Func. Count:     59,   Neg. LLF: -1157.347359425681\n",
            "Iteration:      7,   Func. Count:     67,   Neg. LLF: -1133.8236405642417\n",
            "Iteration:      8,   Func. Count:     75,   Neg. LLF: -1128.6292134528824\n",
            "Iteration:      9,   Func. Count:     83,   Neg. LLF: -1094.230033553437\n",
            "Iteration:     10,   Func. Count:     92,   Neg. LLF: -1161.158826268701\n",
            "Iteration:     11,   Func. Count:    100,   Neg. LLF: -1121.7756756284844\n",
            "Iteration:     12,   Func. Count:    109,   Neg. LLF: -1161.229189110617\n",
            "Iteration:     13,   Func. Count:    117,   Neg. LLF: -1136.7776031619017\n",
            "Iteration:     14,   Func. Count:    126,   Neg. LLF: -1161.3245198340487\n",
            "Iteration:     15,   Func. Count:    133,   Neg. LLF: -1161.325813728588\n",
            "Iteration:     16,   Func. Count:    140,   Neg. LLF: -1161.3258844894062\n",
            "Iteration:     17,   Func. Count:    147,   Neg. LLF: -1161.3258857556616\n",
            "Iteration:     18,   Func. Count:    153,   Neg. LLF: -1161.3258857556593\n",
            "Optimization terminated successfully    (Exit mode 0)\n",
            "            Current function value: -1161.3258857556616\n",
            "            Iterations: 19\n",
            "            Function evaluations: 153\n",
            "            Gradient evaluations: 18\n"
          ]
        },
        {
          "output_type": "stream",
          "name": "stderr",
          "text": [
            "/usr/local/lib/python3.10/dist-packages/arch/univariate/base.py:310: DataScaleWarning: y is poorly scaled, which may affect convergence of the optimizer when\n",
            "estimating the model parameters. The scale of y is 0.001298. Parameter\n",
            "estimation work better when this value is between 1 and 1000. The recommended\n",
            "rescaling is 10 * y.\n",
            "\n",
            "This warning can be disabled by either rescaling y before initializing the\n",
            "model or by setting rescale=False.\n",
            "\n",
            "  warnings.warn(\n"
          ]
        },
        {
          "output_type": "stream",
          "name": "stdout",
          "text": [
            "Iteration:      1,   Func. Count:      8,   Neg. LLF: 13663422.204252128\n",
            "Iteration:      2,   Func. Count:     21,   Neg. LLF: 35378.71644719581\n",
            "Iteration:      3,   Func. Count:     34,   Neg. LLF: 3139.3553550546203\n",
            "Iteration:      4,   Func. Count:     45,   Neg. LLF: -1161.082835193684\n",
            "Optimization terminated successfully    (Exit mode 0)\n",
            "            Current function value: -1161.0828353560566\n",
            "            Iterations: 8\n",
            "            Function evaluations: 45\n",
            "            Gradient evaluations: 4\n"
          ]
        },
        {
          "output_type": "stream",
          "name": "stderr",
          "text": [
            "/usr/local/lib/python3.10/dist-packages/arch/univariate/base.py:310: DataScaleWarning: y is poorly scaled, which may affect convergence of the optimizer when\n",
            "estimating the model parameters. The scale of y is 0.001297. Parameter\n",
            "estimation work better when this value is between 1 and 1000. The recommended\n",
            "rescaling is 10 * y.\n",
            "\n",
            "This warning can be disabled by either rescaling y before initializing the\n",
            "model or by setting rescale=False.\n",
            "\n",
            "  warnings.warn(\n"
          ]
        },
        {
          "output_type": "stream",
          "name": "stdout",
          "text": [
            "Iteration:      1,   Func. Count:      8,   Neg. LLF: 11865490.341948757\n",
            "Iteration:      2,   Func. Count:     21,   Neg. LLF: 150168.49577015112\n",
            "Iteration:      3,   Func. Count:     30,   Neg. LLF: -1125.536185267133\n",
            "Iteration:      4,   Func. Count:     38,   Neg. LLF: -960.8888156102785\n",
            "Iteration:      5,   Func. Count:     47,   Neg. LLF: -1082.6285173243186\n",
            "Iteration:      6,   Func. Count:     55,   Neg. LLF: -1072.8149849885945\n",
            "Iteration:      7,   Func. Count:     64,   Neg. LLF: 3087668.449274447\n",
            "Iteration:      8,   Func. Count:     76,   Neg. LLF: -1160.9779394189713\n",
            "Optimization terminated successfully    (Exit mode 0)\n",
            "            Current function value: -1160.9779401958144\n",
            "            Iterations: 12\n",
            "            Function evaluations: 76\n",
            "            Gradient evaluations: 8\n"
          ]
        },
        {
          "output_type": "stream",
          "name": "stderr",
          "text": [
            "/usr/local/lib/python3.10/dist-packages/arch/univariate/base.py:310: DataScaleWarning: y is poorly scaled, which may affect convergence of the optimizer when\n",
            "estimating the model parameters. The scale of y is 0.001296. Parameter\n",
            "estimation work better when this value is between 1 and 1000. The recommended\n",
            "rescaling is 10 * y.\n",
            "\n",
            "This warning can be disabled by either rescaling y before initializing the\n",
            "model or by setting rescale=False.\n",
            "\n",
            "  warnings.warn(\n"
          ]
        },
        {
          "output_type": "stream",
          "name": "stdout",
          "text": [
            "Iteration:      1,   Func. Count:      8,   Neg. LLF: 81680215.97663502\n",
            "Iteration:      2,   Func. Count:     21,   Neg. LLF: 866662.3951380511\n",
            "Iteration:      3,   Func. Count:     30,   Neg. LLF: -1093.3579454683031\n",
            "Iteration:      4,   Func. Count:     39,   Neg. LLF: -1142.1376599649182\n",
            "Iteration:      5,   Func. Count:     47,   Neg. LLF: -312.9776215006334\n",
            "Iteration:      6,   Func. Count:     56,   Neg. LLF: 80180657.68076652\n",
            "Iteration:      7,   Func. Count:     68,   Neg. LLF: -1161.2623923326562\n",
            "Optimization terminated successfully    (Exit mode 0)\n",
            "            Current function value: -1161.2623924957607\n",
            "            Iterations: 11\n",
            "            Function evaluations: 68\n",
            "            Gradient evaluations: 7\n"
          ]
        },
        {
          "output_type": "stream",
          "name": "stderr",
          "text": [
            "/usr/local/lib/python3.10/dist-packages/arch/univariate/base.py:310: DataScaleWarning: y is poorly scaled, which may affect convergence of the optimizer when\n",
            "estimating the model parameters. The scale of y is 0.001305. Parameter\n",
            "estimation work better when this value is between 1 and 1000. The recommended\n",
            "rescaling is 10 * y.\n",
            "\n",
            "This warning can be disabled by either rescaling y before initializing the\n",
            "model or by setting rescale=False.\n",
            "\n",
            "  warnings.warn(\n"
          ]
        },
        {
          "output_type": "stream",
          "name": "stdout",
          "text": [
            "Iteration:      1,   Func. Count:      8,   Neg. LLF: 13203751.23517403\n",
            "Iteration:      2,   Func. Count:     20,   Neg. LLF: -1160.9497270965333\n",
            "Optimization terminated successfully    (Exit mode 0)\n",
            "            Current function value: -1160.949727346697\n",
            "            Iterations: 6\n",
            "            Function evaluations: 20\n",
            "            Gradient evaluations: 2\n"
          ]
        },
        {
          "output_type": "stream",
          "name": "stderr",
          "text": [
            "/usr/local/lib/python3.10/dist-packages/arch/univariate/base.py:310: DataScaleWarning: y is poorly scaled, which may affect convergence of the optimizer when\n",
            "estimating the model parameters. The scale of y is 0.001314. Parameter\n",
            "estimation work better when this value is between 1 and 1000. The recommended\n",
            "rescaling is 10 * y.\n",
            "\n",
            "This warning can be disabled by either rescaling y before initializing the\n",
            "model or by setting rescale=False.\n",
            "\n",
            "  warnings.warn(\n"
          ]
        },
        {
          "output_type": "stream",
          "name": "stdout",
          "text": [
            "Iteration:      1,   Func. Count:      8,   Neg. LLF: 87103812.60031357\n",
            "Iteration:      2,   Func. Count:     20,   Neg. LLF: -1158.9136875151278\n",
            "Optimization terminated successfully    (Exit mode 0)\n",
            "            Current function value: -1158.913687750892\n",
            "            Iterations: 6\n",
            "            Function evaluations: 20\n",
            "            Gradient evaluations: 2\n"
          ]
        },
        {
          "output_type": "stream",
          "name": "stderr",
          "text": [
            "/usr/local/lib/python3.10/dist-packages/arch/univariate/base.py:310: DataScaleWarning: y is poorly scaled, which may affect convergence of the optimizer when\n",
            "estimating the model parameters. The scale of y is 0.001307. Parameter\n",
            "estimation work better when this value is between 1 and 1000. The recommended\n",
            "rescaling is 10 * y.\n",
            "\n",
            "This warning can be disabled by either rescaling y before initializing the\n",
            "model or by setting rescale=False.\n",
            "\n",
            "  warnings.warn(\n"
          ]
        },
        {
          "output_type": "stream",
          "name": "stdout",
          "text": [
            "Iteration:      1,   Func. Count:      8,   Neg. LLF: 76429868.812003\n",
            "Iteration:      2,   Func. Count:     21,   Neg. LLF: 31756.319315217876\n",
            "Iteration:      3,   Func. Count:     33,   Neg. LLF: -1157.978194219556\n",
            "Optimization terminated successfully    (Exit mode 0)\n",
            "            Current function value: -1157.9781943656228\n",
            "            Iterations: 7\n",
            "            Function evaluations: 33\n",
            "            Gradient evaluations: 3\n"
          ]
        },
        {
          "output_type": "stream",
          "name": "stderr",
          "text": [
            "/usr/local/lib/python3.10/dist-packages/arch/univariate/base.py:310: DataScaleWarning: y is poorly scaled, which may affect convergence of the optimizer when\n",
            "estimating the model parameters. The scale of y is 0.001309. Parameter\n",
            "estimation work better when this value is between 1 and 1000. The recommended\n",
            "rescaling is 10 * y.\n",
            "\n",
            "This warning can be disabled by either rescaling y before initializing the\n",
            "model or by setting rescale=False.\n",
            "\n",
            "  warnings.warn(\n"
          ]
        },
        {
          "output_type": "stream",
          "name": "stdout",
          "text": [
            "Iteration:      1,   Func. Count:      8,   Neg. LLF: 19549480.234813184\n",
            "Iteration:      2,   Func. Count:     21,   Neg. LLF: 4236.552068364868\n",
            "Iteration:      3,   Func. Count:     34,   Neg. LLF: 870.6162019137125\n",
            "Iteration:      4,   Func. Count:     45,   Neg. LLF: 8841.585671841094\n",
            "Iteration:      5,   Func. Count:     57,   Neg. LLF: -1002.8374365129289\n",
            "Iteration:      6,   Func. Count:     67,   Neg. LLF: -1005.7363234933023\n",
            "Iteration:      7,   Func. Count:     75,   Neg. LLF: -1139.8617685542295\n",
            "Iteration:      8,   Func. Count:     84,   Neg. LLF: -1144.3736253433497\n",
            "Iteration:      9,   Func. Count:     92,   Neg. LLF: -1155.1190375767007\n",
            "Iteration:     10,   Func. Count:    100,   Neg. LLF: -1161.2840823044635\n",
            "Iteration:     11,   Func. Count:    107,   Neg. LLF: -1161.2291881673218\n",
            "Iteration:     12,   Func. Count:    115,   Neg. LLF: -1161.329308694847\n",
            "Iteration:     13,   Func. Count:    123,   Neg. LLF: -1161.3426946287477\n",
            "Iteration:     14,   Func. Count:    130,   Neg. LLF: -1161.3429600183265\n",
            "Iteration:     15,   Func. Count:    137,   Neg. LLF: -1161.342969251907\n",
            "Iteration:     16,   Func. Count:    144,   Neg. LLF: -1161.342963597523\n",
            "Optimization terminated successfully    (Exit mode 0)\n",
            "            Current function value: -1161.3429692519057\n",
            "            Iterations: 16\n",
            "            Function evaluations: 154\n",
            "            Gradient evaluations: 16\n"
          ]
        },
        {
          "output_type": "stream",
          "name": "stderr",
          "text": [
            "/usr/local/lib/python3.10/dist-packages/arch/univariate/base.py:310: DataScaleWarning: y is poorly scaled, which may affect convergence of the optimizer when\n",
            "estimating the model parameters. The scale of y is 0.001299. Parameter\n",
            "estimation work better when this value is between 1 and 1000. The recommended\n",
            "rescaling is 10 * y.\n",
            "\n",
            "This warning can be disabled by either rescaling y before initializing the\n",
            "model or by setting rescale=False.\n",
            "\n",
            "  warnings.warn(\n"
          ]
        },
        {
          "output_type": "stream",
          "name": "stdout",
          "text": [
            "Iteration:      1,   Func. Count:      8,   Neg. LLF: 11605475.2169662\n",
            "Iteration:      2,   Func. Count:     20,   Neg. LLF: -1159.394423391994\n",
            "Optimization terminated successfully    (Exit mode 0)\n",
            "            Current function value: -1159.3944235441222\n",
            "            Iterations: 6\n",
            "            Function evaluations: 20\n",
            "            Gradient evaluations: 2\n"
          ]
        },
        {
          "output_type": "stream",
          "name": "stderr",
          "text": [
            "/usr/local/lib/python3.10/dist-packages/arch/univariate/base.py:310: DataScaleWarning: y is poorly scaled, which may affect convergence of the optimizer when\n",
            "estimating the model parameters. The scale of y is 0.001311. Parameter\n",
            "estimation work better when this value is between 1 and 1000. The recommended\n",
            "rescaling is 10 * y.\n",
            "\n",
            "This warning can be disabled by either rescaling y before initializing the\n",
            "model or by setting rescale=False.\n",
            "\n",
            "  warnings.warn(\n"
          ]
        },
        {
          "output_type": "stream",
          "name": "stdout",
          "text": [
            "Iteration:      1,   Func. Count:      8,   Neg. LLF: 40323276.41298486\n",
            "Iteration:      2,   Func. Count:     21,   Neg. LLF: -1080.0239124857449\n",
            "Iteration:      3,   Func. Count:     30,   Neg. LLF: -1162.0585744956047\n",
            "Optimization terminated successfully    (Exit mode 0)\n",
            "            Current function value: -1162.0585760344147\n",
            "            Iterations: 7\n",
            "            Function evaluations: 30\n",
            "            Gradient evaluations: 3\n"
          ]
        },
        {
          "output_type": "stream",
          "name": "stderr",
          "text": [
            "/usr/local/lib/python3.10/dist-packages/arch/univariate/base.py:310: DataScaleWarning: y is poorly scaled, which may affect convergence of the optimizer when\n",
            "estimating the model parameters. The scale of y is 0.001307. Parameter\n",
            "estimation work better when this value is between 1 and 1000. The recommended\n",
            "rescaling is 10 * y.\n",
            "\n",
            "This warning can be disabled by either rescaling y before initializing the\n",
            "model or by setting rescale=False.\n",
            "\n",
            "  warnings.warn(\n"
          ]
        },
        {
          "output_type": "stream",
          "name": "stdout",
          "text": [
            "Iteration:      1,   Func. Count:      9,   Neg. LLF: 11906696.102843434\n",
            "Iteration:      2,   Func. Count:     23,   Neg. LLF: 1127.1525059971616\n",
            "Iteration:      3,   Func. Count:     34,   Neg. LLF: 21367364.559723306\n",
            "Iteration:      4,   Func. Count:     48,   Neg. LLF: 11690.009309768886\n",
            "Iteration:      5,   Func. Count:     62,   Neg. LLF: 4451.864290438242\n",
            "Iteration:      6,   Func. Count:     76,   Neg. LLF: 6581.905846772372\n",
            "Iteration:      7,   Func. Count:     89,   Neg. LLF: 45533.040866140684\n",
            "Iteration:      8,   Func. Count:    102,   Neg. LLF: 69120.48843241773\n",
            "Iteration:      9,   Func. Count:    115,   Neg. LLF: 3948.807451646308\n",
            "Iteration:     10,   Func. Count:    128,   Neg. LLF: 4948133.119507006\n",
            "Iteration:     11,   Func. Count:    142,   Neg. LLF: 3470.8774994062296\n",
            "Iteration:     12,   Func. Count:    155,   Neg. LLF: 1277.5424244807227\n",
            "Iteration:     13,   Func. Count:    168,   Neg. LLF: -703.0517784012322\n",
            "Iteration:     14,   Func. Count:    181,   Neg. LLF: -930.3805124876908\n",
            "Iteration:     15,   Func. Count:    191,   Neg. LLF: -1000.7760331889189\n",
            "Iteration:     16,   Func. Count:    201,   Neg. LLF: -643.2257754781195\n",
            "Iteration:     17,   Func. Count:    211,   Neg. LLF: -1038.5968795172946\n",
            "Iteration:     18,   Func. Count:    221,   Neg. LLF: -1158.7721465153618\n",
            "Iteration:     19,   Func. Count:    230,   Neg. LLF: -1162.6873412887257\n",
            "Iteration:     20,   Func. Count:    238,   Neg. LLF: -1160.9154667379241\n",
            "Iteration:     21,   Func. Count:    247,   Neg. LLF: -1161.6554994551457\n",
            "Iteration:     22,   Func. Count:    256,   Neg. LLF: -1163.4466821796432\n",
            "Iteration:     23,   Func. Count:    264,   Neg. LLF: -1163.454378680272\n",
            "Iteration:     24,   Func. Count:    272,   Neg. LLF: -1163.4552545204099\n",
            "Iteration:     25,   Func. Count:    280,   Neg. LLF: -1163.4563414875845\n",
            "Iteration:     26,   Func. Count:    288,   Neg. LLF: -1163.4580806551144\n",
            "Iteration:     27,   Func. Count:    296,   Neg. LLF: -1163.4606092138547\n",
            "Iteration:     28,   Func. Count:    304,   Neg. LLF: -1163.4631062504768\n",
            "Iteration:     29,   Func. Count:    312,   Neg. LLF: -1163.466741782042\n",
            "Iteration:     30,   Func. Count:    320,   Neg. LLF: -1163.467085413045\n",
            "Iteration:     31,   Func. Count:    328,   Neg. LLF: -1163.4671661818702\n",
            "Iteration:     32,   Func. Count:    336,   Neg. LLF: -1163.467181781541\n",
            "Iteration:     33,   Func. Count:    344,   Neg. LLF: -1163.4671799813725\n",
            "Optimization terminated successfully    (Exit mode 0)\n",
            "            Current function value: -1163.4671817817543\n",
            "            Iterations: 36\n",
            "            Function evaluations: 354\n",
            "            Gradient evaluations: 33\n"
          ]
        },
        {
          "output_type": "stream",
          "name": "stderr",
          "text": [
            "/usr/local/lib/python3.10/dist-packages/arch/univariate/base.py:310: DataScaleWarning: y is poorly scaled, which may affect convergence of the optimizer when\n",
            "estimating the model parameters. The scale of y is 0.001297. Parameter\n",
            "estimation work better when this value is between 1 and 1000. The recommended\n",
            "rescaling is 10 * y.\n",
            "\n",
            "This warning can be disabled by either rescaling y before initializing the\n",
            "model or by setting rescale=False.\n",
            "\n",
            "  warnings.warn(\n"
          ]
        },
        {
          "output_type": "stream",
          "name": "stdout",
          "text": [
            "Iteration:      1,   Func. Count:      8,   Neg. LLF: 45146768.521223806\n",
            "Iteration:      2,   Func. Count:     21,   Neg. LLF: 23173.03448111989\n",
            "Iteration:      3,   Func. Count:     30,   Neg. LLF: 324793701.2505245\n",
            "Iteration:      4,   Func. Count:     43,   Neg. LLF: -1042.803086803467\n",
            "Iteration:      5,   Func. Count:     51,   Neg. LLF: 40519.86602985785\n",
            "Iteration:      6,   Func. Count:     63,   Neg. LLF: -1162.7784508796149\n",
            "Optimization terminated successfully    (Exit mode 0)\n",
            "            Current function value: -1162.778451065985\n",
            "            Iterations: 10\n",
            "            Function evaluations: 63\n",
            "            Gradient evaluations: 6\n",
            "Iteration:      1,   Func. Count:      8,   Neg. LLF: 13694318.815386917\n",
            "Iteration:      2,   Func. Count:     20,   Neg. LLF: -1163.9225922446858\n",
            "Optimization terminated successfully    (Exit mode 0)\n",
            "            Current function value: -1163.9225926696688\n",
            "            Iterations: 6\n",
            "            Function evaluations: 20\n",
            "            Gradient evaluations: 2\n"
          ]
        },
        {
          "output_type": "stream",
          "name": "stderr",
          "text": [
            "/usr/local/lib/python3.10/dist-packages/arch/univariate/base.py:310: DataScaleWarning: y is poorly scaled, which may affect convergence of the optimizer when\n",
            "estimating the model parameters. The scale of y is 0.001301. Parameter\n",
            "estimation work better when this value is between 1 and 1000. The recommended\n",
            "rescaling is 10 * y.\n",
            "\n",
            "This warning can be disabled by either rescaling y before initializing the\n",
            "model or by setting rescale=False.\n",
            "\n",
            "  warnings.warn(\n"
          ]
        }
      ]
    },
    {
      "cell_type": "code",
      "source": [
        "signals = []\n",
        "for i in range(len(means)):\n",
        "  signals.append([])\n",
        "  for j in range(len(means[i])):\n",
        "    if means[i][j][0] > 0:\n",
        "      signals[i].append(1)\n",
        "    elif means[i][j][0] < 0:\n",
        "      signals[i].append(-1)\n",
        "    else:\n",
        "      signals[i].append(0)\n",
        "len(signals[0])"
      ],
      "metadata": {
        "id": "vmiidSIF-J2M",
        "colab": {
          "base_uri": "https://localhost:8080/"
        },
        "outputId": "c59b4265-3f5a-45f0-e480-404cbf814462"
      },
      "execution_count": 26,
      "outputs": [
        {
          "output_type": "execute_result",
          "data": {
            "text/plain": [
              "152"
            ]
          },
          "metadata": {},
          "execution_count": 26
        }
      ]
    },
    {
      "cell_type": "code",
      "source": [
        "with open('output.csv', 'w', newline='') as file:\n",
        "    writer = csv.writer(file)\n",
        "    for item in signals:\n",
        "        writer.writerow(item)"
      ],
      "metadata": {
        "id": "UMbdrOru_dl1"
      },
      "execution_count": 40,
      "outputs": []
    },
    {
      "cell_type": "code",
      "source": [
        "train_res = pd.read_csv('output.csv')"
      ],
      "metadata": {
        "id": "CxxLOrCCbQ45"
      },
      "execution_count": 41,
      "outputs": []
    },
    {
      "cell_type": "markdown",
      "source": [
        "# **Backtest**"
      ],
      "metadata": {
        "id": "OlBBzjcw_MfH"
      }
    },
    {
      "cell_type": "code",
      "source": [
        "start_val = 100\n",
        "history_BTC = {'Crypto' : 'BTC', 'Position' : [], 'Total' : [],'Balance' : []}\n",
        "history_ETH = {'Crypto' : 'ETH', 'Position' : [], 'Total' : [],'Balance' : []}\n",
        "total = 0\n",
        "for i in range(len(train_data_price)):\n",
        "  for j in range(len(means[i])):\n",
        "      if signals[i][j] == 1:\n",
        "        number_of_shares_consider_money = start_val / test_data_price[i][j]\n",
        "        number_of_buy_share = number_of_shares_consider_money / 2\n",
        "        total += number_of_buy_share\n",
        "        start_val -= number_of_buy_share * test_data_price[i][j]\n",
        "        if i == 0:\n",
        "          history_BTC['Position'].append('BUY')\n",
        "          history_BTC['Total'].append(total)\n",
        "          history_BTC['Balance'].append(start_val)\n",
        "        else:\n",
        "          # print(start_val)\n",
        "          history_ETH['Position'].append('BUY')\n",
        "          history_ETH['Total'].append(total)\n",
        "          history_ETH['Balance'].append(start_val)\n",
        "\n",
        "      elif signals[i][j] == -1:\n",
        "        start_val += total * test_data_price[i][j]\n",
        "        total = 0\n",
        "        if i == 0:\n",
        "          # print(start_val)\n",
        "          history_BTC['Position'].append('SELL')\n",
        "          history_BTC['Total'].append(total)\n",
        "          history_BTC['Balance'].append(start_val)\n",
        "        else:\n",
        "          history_ETH['Position'].append('SELL')\n",
        "          history_ETH['Total'].append(total)\n",
        "          history_ETH['Balance'].append(start_val)\n",
        "      else:\n",
        "          pass\n",
        "  start_val = 100\n",
        "\n",
        "\n",
        "# for key, value in history_BTC.items():\n",
        "#   print(f\"{key}: {value}\")\n",
        "print(pd.DataFrame(history_ETH))\n",
        "print(pd.DataFrame(history_BTC))"
      ],
      "metadata": {
        "colab": {
          "base_uri": "https://localhost:8080/"
        },
        "id": "8BCm8vqB_Oqw",
        "outputId": "7541b395-264b-473a-e04e-d3a980d60a08"
      },
      "execution_count": 61,
      "outputs": [
        {
          "output_type": "stream",
          "name": "stdout",
          "text": [
            "    Crypto Position         Total    Balance\n",
            "0      ETH      BUY  56382.599596  50.000000\n",
            "1      ETH      BUY  59080.860598  25.000000\n",
            "2      ETH      BUY  57777.658106  12.500000\n",
            "3      ETH      BUY  57312.935038   6.250000\n",
            "4      ETH      BUY  57216.559908   3.125000\n",
            "..     ...      ...           ...        ...\n",
            "147    ETH      BUY  55160.949952   0.020005\n",
            "148    ETH      BUY  55160.374583   0.010002\n",
            "149    ETH      BUY  55160.837135   0.005001\n",
            "150    ETH      BUY  55160.573104   0.002501\n",
            "151    ETH      BUY  55160.685272   0.001250\n",
            "\n",
            "[152 rows x 4 columns]\n",
            "    Crypto Position         Total       Balance\n",
            "0      BTC      BUY  49834.924271  5.000000e+01\n",
            "1      BTC      BUY  51264.011862  2.500000e+01\n",
            "2      BTC      BUY  50236.038090  1.250000e+01\n",
            "3      BTC      BUY  49505.786791  6.250000e+00\n",
            "4      BTC      BUY  49348.127507  3.125000e+00\n",
            "..     ...      ...           ...           ...\n",
            "147    BTC      BUY  48907.068781  2.802597e-43\n",
            "148    BTC      BUY  48907.068781  1.401298e-43\n",
            "149    BTC      BUY  48907.068781  7.006492e-44\n",
            "150    BTC      BUY  48907.068781  3.503246e-44\n",
            "151    BTC      BUY  48907.068781  1.751623e-44\n",
            "\n",
            "[152 rows x 4 columns]\n"
          ]
        }
      ]
    },
    {
      "cell_type": "markdown",
      "source": [
        "# **Implement Sharpe Ratio**"
      ],
      "metadata": {
        "id": "MLK9EwH__tab"
      }
    },
    {
      "cell_type": "code",
      "source": [
        "def sharpe_ratio_func(history):\n",
        "  risk_free_rate = 0.02\n",
        "  excess_returns = pd.DataFrame(history['Balance']).pct_change().dropna()\n",
        "  annualized_std = excess_returns.std() * np.sqrt(365)\n",
        "  sharpe_ratio = (excess_returns.mean() - risk_free_rate) / annualized_std\n",
        "  return sharpe_ratio[0]\n",
        "\n",
        "print(\"BTC Sharpe Ratio:\", sharpe_ratio_func(history_BTC))\n",
        "print(\"ETH Sharpe Ratio:\", sharpe_ratio_func(history_ETH))"
      ],
      "metadata": {
        "colab": {
          "base_uri": "https://localhost:8080/"
        },
        "id": "GhnH2NmRv8mC",
        "outputId": "f46287e9-4bf6-43db-f1a1-7a0b6c9df9a5"
      },
      "execution_count": 66,
      "outputs": [
        {
          "output_type": "stream",
          "name": "stdout",
          "text": [
            "BTC Sharpe Ratio: -1061566775349615.4\n",
            "ETH Sharpe Ratio: 0.004259563472486445\n"
          ]
        }
      ]
    },
    {
      "cell_type": "markdown",
      "source": [
        "# **Buy and Hold**"
      ],
      "metadata": {
        "id": "zDyjzog4_xub"
      }
    },
    {
      "cell_type": "code",
      "source": [
        "balance = 100\n",
        "balance_res = []\n",
        "\n",
        "for i in range(len(test_data_price)):\n",
        "  cumulative_returns = test_data_price[i].add(1).cumprod()\n",
        "  balance *= cumulative_returns\n",
        "  balance_res.append(balance)\n",
        "  balance = 100\n",
        "\n",
        "# print(balance_res)\n",
        "backtest_BTC = balance_res[0].reset_index()\n",
        "backtest_BTC.columns = ['Date', 'Balance']\n",
        "\n",
        "backtest_ETH = balance_res[1].reset_index()\n",
        "backtest_ETH.columns = ['Date', 'Balance']\n",
        "\n",
        "print(backtest_BTC)\n",
        "print(backtest_ETH)"
      ],
      "metadata": {
        "colab": {
          "base_uri": "https://localhost:8080/"
        },
        "id": "toO8MfImKCz2",
        "outputId": "940f9f49-bf87-42c7-db5b-6097d5980b21"
      },
      "execution_count": 63,
      "outputs": [
        {
          "output_type": "stream",
          "name": "stdout",
          "text": [
            "                         Date     Balance\n",
            "0   2023-07-02 00:00:00+00:00  100.100331\n",
            "1   2023-07-03 00:00:00+00:00  101.851454\n",
            "2   2023-07-04 00:00:00+00:00  100.612957\n",
            "3   2023-07-05 00:00:00+00:00   99.751841\n",
            "4   2023-07-06 00:00:00+00:00   97.774637\n",
            "..                        ...         ...\n",
            "147 2023-11-26 00:00:00+00:00  122.520514\n",
            "148 2023-11-27 00:00:00+00:00  121.785135\n",
            "149 2023-11-28 00:00:00+00:00  123.671099\n",
            "150 2023-11-29 00:00:00+00:00  123.760691\n",
            "151 2023-11-30 00:00:00+00:00  123.284242\n",
            "\n",
            "[152 rows x 2 columns]\n",
            "                         Date     Balance\n",
            "0   2023-07-02 00:00:00+00:00  100.668849\n",
            "1   2023-07-03 00:00:00+00:00  101.601569\n",
            "2   2023-07-04 00:00:00+00:00  100.627031\n",
            "3   2023-07-05 00:00:00+00:00   99.273711\n",
            "4   2023-07-06 00:00:00+00:00   96.054724\n",
            "..                        ...         ...\n",
            "147 2023-11-26 00:00:00+00:00  107.207870\n",
            "148 2023-11-27 00:00:00+00:00  105.344137\n",
            "149 2023-11-28 00:00:00+00:00  106.483136\n",
            "150 2023-11-29 00:00:00+00:00  105.474652\n",
            "151 2023-11-30 00:00:00+00:00  106.650343\n",
            "\n",
            "[152 rows x 2 columns]\n"
          ]
        }
      ]
    },
    {
      "cell_type": "markdown",
      "source": [
        "# **Equity Function**"
      ],
      "metadata": {
        "id": "8pbVmt_m_0_M"
      }
    },
    {
      "cell_type": "code",
      "source": [
        "def equity_computation(backtest, start_val):\n",
        "    equity = [start_val]\n",
        "    for i in range(1, len(backtest)):\n",
        "        equity.append(backtest['Balance'].iloc[i])\n",
        "    return equity"
      ],
      "metadata": {
        "id": "ZTF5ya45L3c9"
      },
      "execution_count": 64,
      "outputs": []
    },
    {
      "cell_type": "code",
      "source": [
        "equity_values_arima_BTC = equity_computation(pd.DataFrame(history_BTC), 100)\n",
        "equity_values_arima_ETH = equity_computation(pd.DataFrame(history_ETH), 100)\n",
        "\n",
        "buy_and_hold_equity_values_BTC = equity_computation(backtest_BTC, 100)\n",
        "buy_and_hold_equity_values_ETH = equity_computation(backtest_ETH, 100)"
      ],
      "metadata": {
        "id": "MXuvRNrkL-1I"
      },
      "execution_count": 65,
      "outputs": []
    },
    {
      "cell_type": "markdown",
      "source": [
        "# **Diagrams**"
      ],
      "metadata": {
        "id": "nEYCdEG4_-So"
      }
    },
    {
      "cell_type": "code",
      "source": [
        "plt.figure(figsize=(12, 6))\n",
        "plt.plot(equity_values_arima_BTC, label='Equity', color='blue')\n",
        "plt.title('ARIMA Backtest-BTC')\n",
        "plt.xlabel('Date')\n",
        "plt.ylabel('Equity Value')\n",
        "plt.grid(True)\n",
        "plt.legend()\n",
        "plt.show()"
      ],
      "metadata": {
        "colab": {
          "base_uri": "https://localhost:8080/",
          "height": 564
        },
        "id": "iJ-9xBFj3DHO",
        "outputId": "e68f4b8e-cb3b-47ba-effd-c60a9693e554"
      },
      "execution_count": 71,
      "outputs": [
        {
          "output_type": "display_data",
          "data": {
            "text/plain": [
              "<Figure size 1200x600 with 1 Axes>"
            ],
            "image/png": "[encoded data removed]"
          },
          "metadata": {}
        }
      ]
    },
    {
      "cell_type": "code",
      "source": [
        "plt.figure(figsize=(12, 6))\n",
        "plt.plot(equity_values_arima_ETH, label='Equity', color='blue')\n",
        "plt.title('ARIMA Backtest-ETH')\n",
        "plt.xlabel('Date')\n",
        "plt.ylabel('Equity Value')\n",
        "plt.grid(True)\n",
        "plt.legend()\n",
        "plt.show()"
      ],
      "metadata": {
        "colab": {
          "base_uri": "https://localhost:8080/",
          "height": 564
        },
        "id": "0wFi2V78MAL1",
        "outputId": "bca24e21-8220-461b-fa52-4ed9dee078e5"
      },
      "execution_count": 72,
      "outputs": [
        {
          "output_type": "display_data",
          "data": {
            "text/plain": [
              "<Figure size 1200x600 with 1 Axes>"
            ],
            "image/png": "[encoded data removed]"
          },
          "metadata": {}
        }
      ]
    },
    {
      "cell_type": "code",
      "source": [
        "plt.figure(figsize=(12, 6))\n",
        "plt.plot(buy_and_hold_equity_values_BTC, label='Equity', color='blue')\n",
        "plt.title('Buy & Hold Backtest-BTC')\n",
        "plt.xlabel('Date')\n",
        "plt.ylabel('Equity Val')\n",
        "plt.grid(True)\n",
        "plt.legend()\n",
        "plt.show()"
      ],
      "metadata": {
        "colab": {
          "base_uri": "https://localhost:8080/",
          "height": 564
        },
        "id": "N9I0DGLqMDbQ",
        "outputId": "450dd270-a578-4587-814b-07476f9351ec"
      },
      "execution_count": 69,
      "outputs": [
        {
          "output_type": "display_data",
          "data": {
            "text/plain": [
              "<Figure size 1200x600 with 1 Axes>"
            ],
            "image/png": "[encoded data removed]"
          },
          "metadata": {}
        }
      ]
    },
    {
      "cell_type": "code",
      "source": [
        "plt.figure(figsize=(12, 6))\n",
        "plt.plot(buy_and_hold_equity_values_ETH, label='Equity', color='blue')\n",
        "plt.title('Buy & Hold Backtest-ETH')\n",
        "plt.xlabel('Date')\n",
        "plt.ylabel('Equity Val')\n",
        "plt.grid(True)\n",
        "plt.legend()\n",
        "plt.show()"
      ],
      "metadata": {
        "colab": {
          "base_uri": "https://localhost:8080/",
          "height": 564
        },
        "id": "CppTCoDr3vrG",
        "outputId": "268077bb-513b-4f39-c217-7789cfaf8b1d"
      },
      "execution_count": 70,
      "outputs": [
        {
          "output_type": "display_data",
          "data": {
            "text/plain": [
              "<Figure size 1200x600 with 1 Axes>"
            ],
            "image/png": "[encoded data removed]"
          },
          "metadata": {}
        }
      ]
    }
  ]
}